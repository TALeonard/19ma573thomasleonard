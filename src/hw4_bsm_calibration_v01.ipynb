{
  "nbformat": 4,
  "nbformat_minor": 0,
  "metadata": {
    "colab": {
      "name": "hw4_bsm_calibration_v01.ipynb",
      "version": "0.3.2",
      "provenance": [],
      "include_colab_link": true
    },
    "kernelspec": {
      "name": "python3",
      "display_name": "Python 3"
    }
  },
  "cells": [
    {
      "cell_type": "markdown",
      "metadata": {
        "id": "view-in-github",
        "colab_type": "text"
      },
      "source": [
        "<a href=\"https://colab.research.google.com/github/TALeonard/19ma573thomasleonard/blob/master/src/hw4_bsm_calibration_v01.ipynb\" target=\"_parent\"><img src=\"https://colab.research.google.com/assets/colab-badge.svg\" alt=\"Open In Colab\"/></a>"
      ]
    },
    {
      "metadata": {
        "id": "GYopTtD4tOr6",
        "colab_type": "text"
      },
      "cell_type": "markdown",
      "source": [
        "First, we need to import information from GitHub, as well as any modules we intend to use."
      ]
    },
    {
      "metadata": {
        "id": "wSKuP-rps1OM",
        "colab_type": "code",
        "colab": {
          "base_uri": "https://localhost:8080/",
          "height": 134
        },
        "outputId": "44c704c2-f349-4dfc-bf2f-d640c4eb3200"
      },
      "cell_type": "code",
      "source": [
        "#!git clone https://github.com/TALeonard/19ma573thomasleonard.git #Only run once!"
      ],
      "execution_count": 1,
      "outputs": [
        {
          "output_type": "stream",
          "text": [
            "Cloning into '19ma573thomasleonard'...\n",
            "remote: Enumerating objects: 111, done.\u001b[K\n",
            "remote: Counting objects: 100% (111/111), done.\u001b[K\n",
            "remote: Compressing objects: 100% (109/109), done.\u001b[K\n",
            "remote: Total 111 (delta 34), reused 0 (delta 0), pack-reused 0\u001b[K\n",
            "Receiving objects: 100% (111/111), 332.63 KiB | 10.39 MiB/s, done.\n",
            "Resolving deltas: 100% (34/34), done.\n"
          ],
          "name": "stdout"
        }
      ]
    },
    {
      "metadata": {
        "id": "cxZD68Tute74",
        "colab_type": "code",
        "colab": {
          "base_uri": "https://localhost:8080/",
          "height": 34
        },
        "outputId": "34371141-08ba-4e9f-f45e-eb80088d1485"
      },
      "cell_type": "code",
      "source": [
        "cd /content/19ma573thomasleonard/src/"
      ],
      "execution_count": 2,
      "outputs": [
        {
          "output_type": "stream",
          "text": [
            "/content/19ma573thomasleonard/src\n"
          ],
          "name": "stdout"
        }
      ]
    },
    {
      "metadata": {
        "id": "F9VHMvaNvHt8",
        "colab_type": "code",
        "colab": {}
      },
      "cell_type": "code",
      "source": [
        "import numpy as np\n",
        "import matplotlib.pyplot as plt\n",
        "import scipy.optimize as so\n",
        "from european_options_class import VanillaOption\n",
        "from gbm_1d_class_v02 import Gbm"
      ],
      "execution_count": 0,
      "outputs": []
    },
    {
      "metadata": {
        "id": "jM8RgcVDvSw0",
        "colab_type": "text"
      },
      "cell_type": "markdown",
      "source": [
        "Now, import the data. I am using the optiondata1.txt file found in my /src directory. This data is based on options on AAPL as observed Monday, February 4. I realize the assignment likely mentioned \"Today\" in the context of the day the assignment went live, but this is what I have. That and the values don't end up really mattering in that sense of \"we need this data at this time\" since I believe this is more meant as a \"demonstrate we can do what the assignment wants, i.e. working with implied volatility and calibration.\""
      ]
    },
    {
      "metadata": {
        "id": "e_nGqFTEvqqV",
        "colab_type": "code",
        "colab": {
          "base_uri": "https://localhost:8080/",
          "height": 168
        },
        "outputId": "236bc2d5-1145-4e9d-e7fa-9ae6a679fcad"
      },
      "cell_type": "code",
      "source": [
        "\n",
        "'''======\n",
        "Read data\n",
        "========='''\n",
        "#Read four-column data\n",
        "#columns are otype, maturity, strike, option_price\n",
        "np_option_data1 = np.loadtxt('optiondata1.txt', comments='#', delimiter=',')\n",
        "\n",
        "print('>>>>>>otype, maturity, strike, option_price')\n",
        "print(np_option_data1)"
      ],
      "execution_count": 4,
      "outputs": [
        {
          "output_type": "stream",
          "text": [
            ">>>>>>otype, maturity, strike, option_price\n",
            "[[  1.           0.37260274 155.          20.49      ]\n",
            " [  1.           0.37260274 160.          17.05      ]\n",
            " [  1.           0.37260274 165.          13.84      ]\n",
            " [  1.           0.37260274 170.          11.        ]\n",
            " [  1.           0.37260274 175.           8.6       ]\n",
            " [  1.           0.37260274 180.           6.5       ]\n",
            " [  1.           0.37260274 185.           4.8       ]\n",
            " [  1.           0.37260274 190.           3.48      ]]\n"
          ],
          "name": "stdout"
        }
      ]
    },
    {
      "metadata": {
        "id": "VchnlZNkvzpw",
        "colab_type": "text"
      },
      "cell_type": "markdown",
      "source": [
        "The price of AAPL as of when this was taken (after end-of-day Monday, February 4) was $172.86 (the listed opening price on Yahoo Finance for Tuesday, February 5). The LIBOR rate for February 4, 2019 is 2.73438%. Supply these as our initial state."
      ]
    },
    {
      "metadata": {
        "id": "8WS0AUtSvx2g",
        "colab_type": "code",
        "colab": {}
      },
      "cell_type": "code",
      "source": [
        "'''==============\n",
        "below are from the market data for underlying process\n",
        "================='''\n",
        "gbm1 = Gbm(\n",
        "    init_state = 172.86, #market data\n",
        "    drift_ratio = .0273438, #market data\n",
        "    vol_ratio = .1 #initial guess\n",
        ")"
      ],
      "execution_count": 0,
      "outputs": []
    },
    {
      "metadata": {
        "id": "o-gVl3G7w90V",
        "colab_type": "code",
        "colab": {}
      },
      "cell_type": "code",
      "source": [
        "'''====================\n",
        "create option_list from the data\n",
        "======================='''\n",
        "\n",
        "num_row = np_option_data1.shape[0]\n",
        "option_list = []\n",
        "\n",
        "for i in range(num_row):\n",
        "  option1 = VanillaOption(\n",
        "      otype = np_option_data1[i,0],\n",
        "      strike = np_option_data1[i,2],\n",
        "      maturity = np_option_data1[i,1],\n",
        "      market_price = np_option_data1[i,3]\n",
        "  )\n",
        "      \n",
        "  option_list.append(option1)"
      ],
      "execution_count": 0,
      "outputs": []
    },
    {
      "metadata": {
        "id": "oLh4aFusxAUH",
        "colab_type": "code",
        "colab": {}
      },
      "cell_type": "code",
      "source": [
        "#expand one column for vol\n",
        "np_option_data2 = np.append(np_option_data1, np.zeros([num_row,1]), axis = 1)"
      ],
      "execution_count": 0,
      "outputs": []
    },
    {
      "metadata": {
        "id": "22l6FBfpxDnG",
        "colab_type": "code",
        "colab": {}
      },
      "cell_type": "code",
      "source": [
        "'''================\n",
        "define an error function\n",
        "===================='''\n",
        "def error_function(vol, gbm, option):\n",
        "  gbm.vol_ratio = vol\n",
        "  return np.abs(option.market_price - gbm.bsm_price(option))\n",
        "\n",
        "'''==========\n",
        "define a method to seek for an implied volatility\n",
        "============'''\n",
        "\n",
        "def implied_volatility(gbm, option):\n",
        "  init_vol = .1 #initial guess\n",
        "  return so.fmin(error_function, init_vol, args = (gbm, option), disp = 0)[0]"
      ],
      "execution_count": 0,
      "outputs": []
    },
    {
      "metadata": {
        "id": "XXE8R0s_xGUw",
        "colab_type": "code",
        "colab": {
          "base_uri": "https://localhost:8080/",
          "height": 302
        },
        "outputId": "ed5bdc13-2100-4fff-a50d-6043b1a6beca"
      },
      "cell_type": "code",
      "source": [
        "#compute implied vols and add them into the last column\n",
        "for i in range(num_row):\n",
        "  np_option_data2[i,4] = implied_volatility(gbm1, option_list[i])\n",
        "  \n",
        "print('>>>>>>otype, maturity, strike, option_price, implied vol')\n",
        "print(np_option_data2)"
      ],
      "execution_count": 9,
      "outputs": [
        {
          "output_type": "stream",
          "text": [
            ">>>>>>otype, maturity, strike, option_price, implied vol\n",
            "[[1.00000000e+00 3.72602740e-01 1.55000000e+02 2.04900000e+01\n",
            "  1.70390625e-01]\n",
            " [1.00000000e+00 3.72602740e-01 1.60000000e+02 1.70500000e+01\n",
            "  1.92402344e-01]\n",
            " [1.00000000e+00 3.72602740e-01 1.65000000e+02 1.38400000e+01\n",
            "  2.00703125e-01]\n",
            " [1.00000000e+00 3.72602740e-01 1.70000000e+02 1.10000000e+01\n",
            "  2.05087891e-01]\n",
            " [1.00000000e+00 3.72602740e-01 1.75000000e+02 8.60000000e+00\n",
            "  2.08544922e-01]\n",
            " [1.00000000e+00 3.72602740e-01 1.80000000e+02 6.50000000e+00\n",
            "  2.08515625e-01]\n",
            " [1.00000000e+00 3.72602740e-01 1.85000000e+02 4.80000000e+00\n",
            "  2.08261719e-01]\n",
            " [1.00000000e+00 3.72602740e-01 1.90000000e+02 3.48000000e+00\n",
            "  2.08320313e-01]]\n"
          ],
          "name": "stdout"
        }
      ]
    },
    {
      "metadata": {
        "id": "geyYKCghxJI-",
        "colab_type": "text"
      },
      "cell_type": "markdown",
      "source": [
        "For visibility, print the last column only. Jus so we can see what sort of range we're looking at in a way that isn't marred by scientific notation and clumped in with other numbers we already knew."
      ]
    },
    {
      "metadata": {
        "id": "ZShSqMq1xMQp",
        "colab_type": "code",
        "colab": {
          "base_uri": "https://localhost:8080/",
          "height": 50
        },
        "outputId": "b0dbb29f-6f08-4b04-bcac-0f457219d921"
      },
      "cell_type": "code",
      "source": [
        "print(np_option_data2[:,4])"
      ],
      "execution_count": 10,
      "outputs": [
        {
          "output_type": "stream",
          "text": [
            "[0.17039063 0.19240234 0.20070313 0.20508789 0.20854492 0.20851563\n",
            " 0.20826172 0.20832031]\n"
          ],
          "name": "stdout"
        }
      ]
    },
    {
      "metadata": {
        "id": "jlG50S0HzNga",
        "colab_type": "text"
      },
      "cell_type": "markdown",
      "source": [
        "Now, produce a graph of the volatility smile. Or what we hope will be a smile."
      ]
    },
    {
      "metadata": {
        "id": "DNNWzCIezNMA",
        "colab_type": "code",
        "colab": {
          "base_uri": "https://localhost:8080/",
          "height": 362
        },
        "outputId": "42ae4973-b2e4-4d21-d9cf-0fa9f30c378d"
      },
      "cell_type": "code",
      "source": [
        "plt.plot(np_option_data2[:,2], np_option_data2[:,4], label = 'Maturity June 21, 2019')\n",
        "plt.ylabel('implied vol')\n",
        "plt.xlabel('strike')\n",
        "plt.legend();"
      ],
      "execution_count": 11,
      "outputs": [
        {
          "output_type": "display_data",
          "data": {
            "image/png": "[encoded data removed]",
            "text/plain": [
              "<Figure size 576x396 with 1 Axes>"
            ]
          },
          "metadata": {
            "tags": []
          }
        }
      ]
    },
    {
      "metadata": {
        "id": "4PbNvanCzgi2",
        "colab_type": "text"
      },
      "cell_type": "markdown",
      "source": [
        "We don't see a smile, it turns out. In fact, we see a frown if anything. \n",
        "\n",
        "Interesting results aside, now we shall calibrate the BSM volatility for the option prices, $\\hat \\sigma$. First, we define a \"new\" error function which will be better suited to this than the first was."
      ]
    },
    {
      "metadata": {
        "id": "xbN5v5TZz-TZ",
        "colab_type": "code",
        "colab": {}
      },
      "cell_type": "code",
      "source": [
        "'''==========\n",
        "define a method for error function\n",
        "============'''\n",
        "\n",
        "def error_function(vol, gbm, option_list):\n",
        "  gbm.vol_ratio = vol\n",
        "  err1 = 0\n",
        "  for i in np.arange(len(option_list)):\n",
        "    err1 = err1 + ((option_list[i]).market_price - gbm.bsm_price(option_list[i]))**2    \n",
        "  return err1"
      ],
      "execution_count": 0,
      "outputs": []
    },
    {
      "metadata": {
        "id": "jC_lqfLs0XTW",
        "colab_type": "code",
        "colab": {}
      },
      "cell_type": "code",
      "source": [
        "'''==========\n",
        "define a method to seek for a calibrated volatility\n",
        "============'''\n",
        "\n",
        "def bsm_calibration(gbm, option_list):\n",
        "  init_vol = .1 #initial guess\n",
        "  return so.fmin(error_function, init_vol, args = (gbm, option_list), disp = 0)[0]"
      ],
      "execution_count": 0,
      "outputs": []
    },
    {
      "metadata": {
        "id": "Vv2IXQwk0cLR",
        "colab_type": "code",
        "colab": {
          "base_uri": "https://localhost:8080/",
          "height": 34
        },
        "outputId": "dc5c0d7c-8bc3-4fb6-c97e-d12305b12ec6"
      },
      "cell_type": "code",
      "source": [
        "calibrated_volatility1 = bsm_calibration(gbm1, option_list)\n",
        "print('>>>>>>>> calibrated_volatility is ' + str(calibrated_volatility1))\n",
        "gbm1.vol_ratio = calibrated_volatility1"
      ],
      "execution_count": 14,
      "outputs": [
        {
          "output_type": "stream",
          "text": [
            ">>>>>>>> calibrated_volatility is 0.20351562500000037\n"
          ],
          "name": "stdout"
        }
      ]
    },
    {
      "metadata": {
        "id": "Vao_OHWc1YZQ",
        "colab_type": "code",
        "colab": {
          "base_uri": "https://localhost:8080/",
          "height": 168
        },
        "outputId": "443a9a18-e6e1-4704-a30b-5f2c0e75d78e"
      },
      "cell_type": "code",
      "source": [
        "#find calibrated option price\n",
        "optiondata1_calibrated_price = [gbm1.bsm_price(option_list[i]) for i in range(len(option_list))]\n",
        "print('>>>>>>>>> this is option price calculated from calibrated vol')\n",
        "optiondata1_calibrated_price"
      ],
      "execution_count": 15,
      "outputs": [
        {
          "output_type": "stream",
          "text": [
            ">>>>>>>>> this is option price calculated from calibrated vol\n"
          ],
          "name": "stdout"
        },
        {
          "output_type": "execute_result",
          "data": {
            "text/plain": [
              "[21.247299778928905,\n",
              " 17.394126421827792,\n",
              " 13.943402551454753,\n",
              " 10.936149097744021,\n",
              " 8.388690817984582,\n",
              " 6.292073198517244,\n",
              " 4.61544039323266,\n",
              " 3.31205376939824]"
            ]
          },
          "metadata": {
            "tags": []
          },
          "execution_count": 15
        }
      ]
    },
    {
      "metadata": {
        "id": "SusgPRy31iTG",
        "colab_type": "code",
        "colab": {
          "base_uri": "https://localhost:8080/",
          "height": 361
        },
        "outputId": "68b87413-7445-4f47-b0e6-74950eb38d0a"
      },
      "cell_type": "code",
      "source": [
        "x_co = [option_list[i].strike for i in range(len(option_list))]\n",
        "y_co = [option_list[i].market_price for i in range(len(option_list))]\n",
        "plt.plot(x_co, y_co, 'o', label='market price')\n",
        "\n",
        "y_co = optiondata1_calibrated_price\n",
        "plt.plot(x_co, y_co, label = 'calib price')\n",
        "\n",
        "plt.ylabel('option price')\n",
        "plt.xlabel('strike with maturity June 21')\n",
        "plt.legend();"
      ],
      "execution_count": 16,
      "outputs": [
        {
          "output_type": "display_data",
          "data": {
            "image/png": "[encoded data removed]",
            "text/plain": [
              "<Figure size 576x396 with 1 Axes>"
            ]
          },
          "metadata": {
            "tags": []
          }
        }
      ]
    },
    {
      "metadata": {
        "id": "xq6wh4y91yWP",
        "colab_type": "text"
      },
      "cell_type": "markdown",
      "source": [
        "The calibration appears to be working quite well. It's not perfect, but the values are quite accurate and I am satisfied with this result. Compare differences."
      ]
    },
    {
      "metadata": {
        "id": "4BlorRm91-ZA",
        "colab_type": "code",
        "colab": {}
      },
      "cell_type": "code",
      "source": [
        "#create list of differences between real price and calibrated price.\n",
        "pricedelta = [option_list[i].market_price - optiondata1_calibrated_price[i] for i in range(len(option_list))]"
      ],
      "execution_count": 0,
      "outputs": []
    },
    {
      "metadata": {
        "id": "PHLJaLKs2gJC",
        "colab_type": "code",
        "colab": {}
      },
      "cell_type": "code",
      "source": [
        "deltalist = [] #empty vector to store the price deltas in, for display purposes.\n",
        "for i in range(num_row):\n",
        "  delta = [np_option_data1[i,2], pricedelta[i]]\n",
        "  deltalist.append(delta)"
      ],
      "execution_count": 0,
      "outputs": []
    },
    {
      "metadata": {
        "id": "Kjh_oF-v2lGl",
        "colab_type": "code",
        "colab": {
          "base_uri": "https://localhost:8080/",
          "height": 151
        },
        "outputId": "6d454d34-91d6-477b-b2ef-712a8f86775d"
      },
      "cell_type": "code",
      "source": [
        "displaytable = np.array(deltalist)\n",
        "print(displaytable)"
      ],
      "execution_count": 19,
      "outputs": [
        {
          "output_type": "stream",
          "text": [
            "[[ 1.55000000e+02 -7.57299779e-01]\n",
            " [ 1.60000000e+02 -3.44126422e-01]\n",
            " [ 1.65000000e+02 -1.03402551e-01]\n",
            " [ 1.70000000e+02  6.38509023e-02]\n",
            " [ 1.75000000e+02  2.11309182e-01]\n",
            " [ 1.80000000e+02  2.07926801e-01]\n",
            " [ 1.85000000e+02  1.84559607e-01]\n",
            " [ 1.90000000e+02  1.67946231e-01]]\n"
          ],
          "name": "stdout"
        }
      ]
    }
  ]
}