{
  "nbformat": 4,
  "nbformat_minor": 0,
  "metadata": {
    "colab": {
      "name": "hw2_ex_fd_v01.ipynb",
      "version": "0.3.2",
      "provenance": [],
      "include_colab_link": true
    },
    "kernelspec": {
      "name": "python3",
      "display_name": "Python 3"
    }
  },
  "cells": [
    {
      "cell_type": "markdown",
      "metadata": {
        "id": "view-in-github",
        "colab_type": "text"
      },
      "source": [
        "<a href=\"https://colab.research.google.com/github/TALeonard/19ma573thomasleonard/blob/master/src/hw2_ex_fd_v01.ipynb\" target=\"_parent\"><img src=\"https://colab.research.google.com/assets/colab-badge.svg\" alt=\"Open In Colab\"/></a>"
      ]
    },
    {
      "metadata": {
        "id": "It7Ue9Ot4Pvh",
        "colab_type": "text"
      },
      "cell_type": "markdown",
      "source": [
        "# Ex.\n",
        "\n",
        "Suppose that we wish to approximate the first derivative $u'(x)$ of a very smooth function with an error of only $O(h)^4$, where $h$ is the step size. Which difference approximation could we use?"
      ]
    },
    {
      "metadata": {
        "id": "JzCZ2xhY4RO3",
        "colab_type": "text"
      },
      "cell_type": "markdown",
      "source": [
        "Based on research, we can consider this central difference:\n",
        "\n",
        "$$\\frac{f(x-2h)-8f(x-h)+8f(x+h)-f(x+2h)}{12h} \\simeq f'(x)$$\n",
        "\n",
        "__Prop__\n",
        "\n",
        "The central finite difference for the second order has convergence order $4$.\n",
        "\n",
        "__Proof__ \n",
        "\n",
        "First, we will consider the Taylor Series expansions for each of these 4 terms: $f(x-2h)$, $f(x-h)$, $f(x+h)$, and $f(x+2h)$. Each will be truncated at $O(h^{5})$.\n",
        "\n",
        "$$f(x+h) = f(x)+f'(x)h+\\frac{f''(x)(h^{2})}{2}+\\frac{f'''(x)(h^{3})}{3!}+\\frac{f^{(4)}(x)(h^{4})}{4!}+O(h^{5})$$\n",
        "\n",
        "$$f(x-h) = f(x)+f'(x)(-h)+\\frac{f''(x)(h^{2})}{2}+\\frac{f'''(x)(-h^{3})}{3!}+\\frac{f^{(4)}(x)(h^{4})}{4!}+O(h^{5})$$\n",
        "\n",
        "$$f(x)+2h) = f(x)+f'(x)(2h)+\\frac{f''(x)(4h^{2})}{2}+\\frac{f'''(x)(8h^{3})}{3!}+\\frac{f^{(4)}(x)(16h^{4})}{4!}+O(h^{5})$$\n",
        "\n",
        "$$f(x-2h) = f(x)+f'(x)(-2h)+\\frac{f''(x)(4h^{2})}{2}+\\frac{f'''(x)(-8h^{3})}{3!}+\\frac{f^{(4)}(x)(16h^{4})}{4!}+O(h^{5})$$\n",
        "\n",
        "Now, consider combining these 4 expansions in the combination depicted in the numerator of the approximation, i.e. $f(x-2h)-8f(x-h)+8f(x+h)-f(x+2h)$. :\n",
        "\n",
        "$$f(x-2h)-8f(x-h)+8f(x+h)-f(x+2h) = f(x)+f'(x)(-2h)+\\frac{f''(x)(4h^{2})}{2}+\\frac{f'''(x)(-8h^{3})}{3!}+\\frac{f^{(4)}(x)(16h^{4})}{4!}+O(h^{5})$$\n",
        "$$- 8*(f(x)+f'(x)(-h)+\\frac{f''(x)(h^{2})}{2}+\\frac{f'''(x)(-h^{3})}{3!}+\\frac{f^{(4)}(x)(h^{4})}{4!}+O(h^{5})$$\n",
        "$$+ 8*(f(x)+f'(x)h+\\frac{f''(x)(h^{2})}{2}+\\frac{f'''(x)(h^{3})}{3!}+\\frac{f^{(4)}(x)(h^{4})}{4!}+O(h^{5}))$$\n",
        "$$- (f(x)+f'(x)(2h)+\\frac{f''(x)(4h^{2})}{2}+\\frac{f'''(x)(8h^{3})}{3!}+\\frac{f^{(4)}(x)(16h^{4})}{4!}+O(h^{5}))$$\n",
        "\n",
        "Next, re-organize and combine:\n",
        "$$f(x-2h)-8f(x-h)+8f(x+h)-f(x+2h) = f(x) - 8f(x) + 8f(x) - f(x) $$\n",
        "$$-2hf'(x)+8hf'(x)+8hf'(x)-2hf'(x)$$\n",
        "$$+ 2h^{2}f''(x) - 4h^{2}f''(x)+4h^{2}f''(x)-2h^{2}f''(x)$$\n",
        "$$- \\frac{4h^{3}f^{(3)}(x)}{3}+\\frac{4h^{3}f^{(3)}(x)}{3}+\\frac{4h^{3}f^{(3)}(x)}{3}-\\frac{4h^{3}f^{(3)}(x)}{3}$$\n",
        "$$+\\frac{2h^{4}f^{(4)}(x)}{3}-\\frac{h^{4}f^{(4)}(x)}{3}+\\frac{h^{4}f^{(4)}(x)}{3}-\\frac{2h^{4}f^{(4)}(x)}{3}+O(h^{5})$$\n",
        "\n",
        "The $f(x)$, $f''(x)$, $f^{(3)}(x)$, and $f^{(4)}(x)$ terms all cancel each other out. Thus, we are left with\n",
        "$$f(x-2h)-8f(x-h)+8f(x+h)-f(x+2h) =12hf'(x)+O(h^{5})$$\n",
        "\n",
        "Now, we divide by 12h on both sides.\n",
        "$$\\frac{f(x-2h)-8f(x-h)+8f(x+h)-f(x+2h)}{12h} = f'(x) + \\frac{O(h^{5})}{12h}$$\n",
        "\n",
        "We can observe that $\\frac{O(h^{5})}{12h} = O(h^{4})$, thus this simplifies to\n",
        "$$\\frac{f(x-2h)-8f(x-h)+8f(x+h)-f(x+2h)}{12h} = f'(x) + O(h^{4})$$\n",
        "\n",
        "As the left-hand side is meant to approximate $f'(x)$ on the right-hand side, this means that the $O(h^{4})$ is our error. Thus, the convergence rate of this approximation is $4$. $\\square$"
      ]
    }
  ]
}