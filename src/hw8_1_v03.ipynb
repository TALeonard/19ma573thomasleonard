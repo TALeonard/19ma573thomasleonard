{
  "nbformat": 4,
  "nbformat_minor": 0,
  "metadata": {
    "colab": {
      "name": "hw8_1_v02.ipynb",
      "version": "0.3.2",
      "provenance": [],
      "include_colab_link": true
    },
    "kernelspec": {
      "name": "python3",
      "display_name": "Python 3"
    }
  },
  "cells": [
    {
      "cell_type": "markdown",
      "metadata": {
        "id": "view-in-github",
        "colab_type": "text"
      },
      "source": [
        "<a href=\"https://colab.research.google.com/github/TALeonard/19ma573thomasleonard/blob/master/src/hw8_1_v03.ipynb\" target=\"_parent\"><img src=\"https://colab.research.google.com/assets/colab-badge.svg\" alt=\"Open In Colab\"/></a>"
      ]
    },
    {
      "metadata": {
        "id": "78_XgOaCQaUn",
        "colab_type": "text"
      },
      "cell_type": "markdown",
      "source": [
        "#Part 1: Finding the Characteristic Function of a Brownian Motion\n",
        "\n",
        "Find the characteristic function of $W_{t}$ by deriving\n",
        "\n",
        "$$\\phi_{t}(u) = E[e^{iuW_{t}}]$$\n",
        "\n",
        "First, observe that as $W_{t}$ is a Brownian motion, it follows $W_{t} \\sim N(0,t)$. Denote $W_{t} = X$ for simplicity. Thus:\n",
        "\n",
        "$$E[e^{iuX}] = \\int_{-\\infty}^{\\infty} e^{iux} \\frac{1}{\\sqrt{2\\pi t^{2}}} e^{-\\frac{x^{2}}{2t^{2}}}dx$$\n",
        "\n",
        "$$ = \\int_{0}^{\\infty} e^{iux} \\frac{1}{\\sqrt{2\\pi t^{2}}} e^{-\\frac{x^{2}}{2t^{2}}}dx + \\int_{-\\infty}^{0} e^{iux} \\frac{1}{\\sqrt{2\\pi t^{2}}} e^{-\\frac{x^{2}}{2t^{2}}}dx$$\n",
        "\n",
        "For the second term, observe that we can multiply the integral by -1 to flip the order of the bounds.\n",
        "\n",
        "$$ = \\int_{0}^{\\infty} e^{iux} \\frac{1}{\\sqrt{2\\pi t^{2}}} e^{-\\frac{x^{2}}{2t^{2}}}dx - \\int_{0}^{-\\infty} e^{iux} \\frac{1}{\\sqrt{2\\pi t^{2}}} e^{-\\frac{x^{2}}{2t^{2}}}dx$$\n",
        "\n",
        "Now, in the second integral we can perform a u-substitution where $y = -x$ and $dy = -dx$. When $x = -\\infty$, $y = \\infty$:\n",
        "\n",
        "$$ = \\int_{0}^{\\infty} e^{iux} \\frac{1}{\\sqrt{2\\pi t^{2}}} e^{-\\frac{x^{2}}{2t^{2}}}dx + \\int_{0}^{\\infty} e^{iu(-y)} \\frac{1}{\\sqrt{2\\pi t^{2}}} e^{-\\frac{(-y)^{2}}{2t^{2}}}dx$$\n",
        "\n",
        "$$ = \\int_{0}^{\\infty} e^{iux} \\frac{1}{\\sqrt{2\\pi t^{2}}} e^{-\\frac{x^{2}}{2t^{2}}}dx + \\int_{0}^{\\infty} e^{-iuy} \\frac{1}{\\sqrt{2\\pi t^{2}}} e^{-\\frac{y^{2}}{2t^{2}}}dx$$\n",
        "\n",
        "Now, recall Euler's formula: $e^{ix} = \\cos(x) + i\\sin(x)$. Here, apply that with $x_{1} = ux$ (for the first integral) and $x_{2} = -ux$ (for the second). Note that we only need to observe the real part of the result (since the remainder will always be imaginary, since the $i$ coefficient can come outside the integral and won't be undone by any of the remaining calculus):\n",
        "\n",
        "$$ = \\int_{0}^{\\infty} \\cos(ux) \\frac{1}{\\sqrt{2\\pi t^{2}}} e^{-\\frac{x^{2}}{2t^{2}}}dx + \\int_{0}^{\\infty} \\cos(-uy) \\frac{1}{\\sqrt{2\\pi t^{2}}} e^{-\\frac{y^{2}}{2t^{2}}}dx$$\n",
        "\n",
        "Recall from the properties of the trig functions that $\\cos(x) = \\cos(-x)$, so the two functions will be equal (except for one technically being $x$ and the other being $y$). Thus, we can combine them into one integral:\n",
        "\n",
        "$$ = 2\\int_{0}^{\\infty} \\cos(ux) \\frac{1}{\\sqrt{2\\pi t^{2}}} e^{-\\frac{x^{2}}{2t^{2}}}dx$$\n",
        "\n",
        "Now, let us take the derivative $\\phi'_{t}(u)$.\n",
        "\n",
        "$$\\phi'_{t}(u) = -\\frac{2}{t\\sqrt{2\\pi}} \\int_{0}^{\\infty} x\\sin(ux) e^{-\\frac{x^{2}}{2t^{2}}}dx$$\n",
        "\n",
        "Observe that\n",
        "\n",
        "$$\\frac{d}{dx} e^{-\\frac{x^{2}}{2t^{2}}} = \\frac{-2x}{2t^{2}} e^{-\\frac{x^{2}}{2t^{2}}} = \\frac{-x}{t^{2}}e^{-\\frac{x^{2}}{2t^{2}}} $$\n",
        "\n",
        "If we multiply the outside coefficient by $\\frac{t}{t}$ we can pull the necessary components into the integral:\n",
        "\n",
        "$$ \\rightarrow  -\\frac{2t}{t^{2}\\sqrt{2\\pi}} \\int_{0}^{\\infty} x\\sin(ux) e^{-\\frac{x^{2}}{2t^{2}}}dx$$\n",
        "\n",
        "$$ = \\frac{2t}{\\sqrt{2\\pi}} \\int_{0}^{\\infty} \\sin(ux) (\\frac{-x}{t^{2}})e^{-\\frac{x^{2}}{2t^{2}}}dx$$\n",
        "\n",
        "This is now an integration by parts problem, with $f(x) = \\sin(ux)$ and $g'(x) = (\\frac{-x}{t^{2}})e^{-\\frac{x^{2}}{2t^{2}}}$.\n",
        "\n",
        "Thus, we can compute and identify $f'(x) = u\\cos(ux)$ and $g(x) = e^{-\\frac{x^{2}}{2t^{2}}}$. Thus, by integration by parts:\n",
        "\n",
        "$$ = \\frac{2t}{\\sqrt{2\\pi}} e^{-\\frac{x^{2}}{2t^{2}}} \\sin(ux)\\bigg\\rvert_{0}^{\\infty} - \\frac{2t}{\\sqrt{2\\pi}} \\int_{0}^{\\infty}  e^{-\\frac{x^{2}}{2t^{2}}} u\\cos(ux) dx$$\n",
        "\n",
        "First, we consider the first term. At $x = 0$, $\\sin(ux) = sin(0) = 0$. At $x = \\infty$, while we do not know the exact value of $\\sin(ux)$, we know it is bounded between $-1$ and $1$. However, $e^{-\\frac{x^{2}}{2t^{2}}} = e^{-\\frac{\\infty}{2t^{2}}} = e^{-\\infty} \\approx 0$. Thus, the first term goes away entirely. Therefore,\n",
        "\n",
        "$$\\phi'_{t}(u) = - \\frac{2t}{\\sqrt{2\\pi}} \\int_{0}^{\\infty}  e^{-\\frac{x^{2}}{2t^{2}}} u\\cos(ux) dx$$\n",
        "\n",
        "$$ = -tu  \\int_{0}^{\\infty} \\frac{2}{\\sqrt{2\\pi}} e^{-\\frac{x^{2}}{2t^{2}}} \\cos(ux) dx$$\n",
        "\n",
        "$$ = -ut^{2}  \\int_{0}^{\\infty} \\frac{2}{t\\sqrt{2\\pi}} e^{-\\frac{x^{2}}{2t^{2}}} \\cos(ux) dx$$\n",
        "\n",
        "$$ = -2ut^{2}  \\int_{0}^{\\infty}\\cos(ux) \\frac{1}{\\sqrt{2\\pi t^{2}}} e^{-\\frac{x^{2}}{2t^{2}}}  dx$$\n",
        "\n",
        "$$ = -ut^{2} * \\phi_{t}(u)$$\n",
        "\n",
        "Thus, we now have an ODE with $\\phi'_{t}(u) = -ut^{2} * \\phi_{t}(u)$. So we need to solve this ODE for $\\phi_{t}(u)$. This is a rudimentary ODE, whose solution is $ce^{-\\frac{u^{2}t^{2}}{2}}$ for some constant $c$. Thus we need some initial condition. Note that $\\phi_{t}(0) = 1$, as when $u = 0$, we are simply left with an integral of the pdf of a Normal random variable, which should integrate to one. Thus:\n",
        "\n",
        "$$\\phi_{t}(0) = 1 = ce^{-\\frac{0^{2}t^{2}}{2}} = ce^{0} = c$$\n",
        "\n",
        "So, $c = 1$ and we have that $\\phi_{t}(u) = e^{-\\frac{u^{2}t^{2}}{2}}$. This also matches what we would expect a $N(0,t)$ random variable to have as its characteristic function. $\\square$"
      ]
    },
    {
      "metadata": {
        "id": "dOqsE8PnXuE2",
        "colab_type": "text"
      },
      "cell_type": "markdown",
      "source": [
        "#Part 2: Computations of BSM Call Price\n",
        "\n",
        "First, need to use the explicit formula to find BSM price. Import modules and define paramters."
      ]
    },
    {
      "metadata": {
        "id": "asmLPxRmXtir",
        "colab_type": "code",
        "colab": {}
      },
      "cell_type": "code",
      "source": [
        "#!git clone https://github.com/TALeonard/19ma573thomasleonard.git #Only run once!"
      ],
      "execution_count": 0,
      "outputs": []
    },
    {
      "metadata": {
        "id": "jOvdWYOIXzuT",
        "colab_type": "code",
        "outputId": "53bab56f-bfdf-49eb-a943-abef3a6ed609",
        "colab": {
          "base_uri": "https://localhost:8080/",
          "height": 34
        }
      },
      "cell_type": "code",
      "source": [
        "cd /content/19ma573thomasleonard/src/"
      ],
      "execution_count": 47,
      "outputs": [
        {
          "output_type": "stream",
          "text": [
            "/content/19ma573thomasleonard/src\n"
          ],
          "name": "stdout"
        }
      ]
    },
    {
      "metadata": {
        "id": "lgqcpw9nYNwH",
        "colab_type": "code",
        "colab": {}
      },
      "cell_type": "code",
      "source": [
        "import numpy as np\n",
        "import scipy as sp\n",
        "from european_options_class import VanillaOption\n",
        "from sde_1d_v02 import Sde_1d, Gbm_1d"
      ],
      "execution_count": 0,
      "outputs": []
    },
    {
      "metadata": {
        "id": "KNRvEfyxYb2W",
        "colab_type": "code",
        "colab": {}
      },
      "cell_type": "code",
      "source": [
        "'''==========\n",
        "paras\n",
        "=========='''\n",
        "s0 = 100\n",
        "r = 0.0475\n",
        "sigma = 0.2\n",
        "otype = 1\n",
        "K = 110\n",
        "T = 1"
      ],
      "execution_count": 0,
      "outputs": []
    },
    {
      "metadata": {
        "id": "XcZQbROJYqqR",
        "colab_type": "code",
        "outputId": "ae547ca7-098d-4d29-9200-3364b1473b1c",
        "colab": {
          "base_uri": "https://localhost:8080/",
          "height": 34
        }
      },
      "cell_type": "code",
      "source": [
        "gbm_8_1 = Gbm_1d(init_state=s0,drift_ratio=r,vol_ratio=sigma)\n",
        "van_op = VanillaOption(otype=otype,strike=K,maturity=T,market_price=10)\n",
        "\n",
        "exp_price = gbm_8_1.bsm_price(van_op)\n",
        "\n",
        "print(\"Explicit Formula computation of BSM price is \"+str(exp_price))"
      ],
      "execution_count": 50,
      "outputs": [
        {
          "output_type": "stream",
          "text": [
            "Explicit Formula computation of BSM price is 5.943273183452838\n"
          ],
          "name": "stdout"
        }
      ]
    },
    {
      "metadata": {
        "id": "0xbXQW59ZdqV",
        "colab_type": "text"
      },
      "cell_type": "markdown",
      "source": [
        "Now, we want to use the Fourier Transform to find this price. From the lecture, we know that the price C can be computed as\n",
        "\n",
        "$$C = S_{0}I_{1} - Ke^{-rT}I_{2}$$\n",
        "\n",
        "where\n",
        "\n",
        "$$I_{1}(\\phi,\\ln(K)) = \\frac{1}{2} + \\frac{1}{\\pi}\\int_{0}^{\\infty}Re(\\frac{e^{-iu\\ln(\\frac{K}{S_{0}})}\\phi(u-i)}{iu\\phi(-i)})du$$\n",
        "\n",
        "and\n",
        "$$I_{2}(\\phi,\\ln(K)) = \\frac{1}{2} + \\frac{1}{\\pi}\\int_{0}^{\\infty}Re(\\frac{e^{-iu\\ln(\\frac{K}{S_{0}})}\\phi(u)}{iu})du.$$\n",
        "\n",
        "With $\\phi$ as the characteristic function of $\\ln(S_{T})$, and $Re(\\cdot)$ the real portion of whatever its argument is.\n",
        "\n",
        "Based on the reference PDF by Chiu, we know that \n",
        "\n",
        "$$\\ln(\\frac{S_{T}}{S_{0}}) = (r-\\frac{\\sigma^{2}}{2})T + \\sigma W_{T} \\sim N((r-\\frac{\\sigma^{2}}{2})T,\\sigma^{2}T)$$\n",
        "\n",
        "And a normal random variable with mean $\\mu$ and variance $\\sigma^{2}$ has characteristic function\n",
        "\n",
        "$$\\phi(u) = e^{iu\\mu - \\frac{1}{2}u^{2}\\sigma^{2}}$$\n",
        "\n",
        "Thus, the above log would have characteristic function\n",
        "\n",
        "$$\\phi_{T}(u) = e^{i(r-\\frac{\\sigma^{2}}{2})Tu - \\frac{\\sigma^{2}T}{2}u^{2}}$$\n",
        "\n",
        "From here, we could work through the problem as Chiu has but since he has done all the derivations for us, we can skip directly to the results: based on his work, we can define\n",
        "\n",
        "$$I_{2} = \\frac{1}{2} + \\frac{1}{\\pi} \\int_{0}^{\\infty}\\frac{\\sin (d_{2}t)}{t}e^{-\\frac{t^{2}}{2}}dt$$\n",
        "\n",
        "where\n",
        "\n",
        "$$d_{2} = \\frac{\\ln(\\frac{S_0}{K})+(r-\\frac{\\sigma^{2}}{2})T}{\\sigma \\sqrt{T}}$$\n",
        "\n",
        "This can now be calculated directly. Similarly, we can define $I_{1}$ as\n",
        "\n",
        "$$I_{1} = \\frac{1}{2} + \\frac{1}{\\pi} \\int_{0}^{\\infty} \\frac{\\sin(d_{1}t)}{t}e^{-\\frac{t^{2}}{2}}dt$$\n",
        "\n",
        "where\n",
        "\n",
        "$$d_{1} = \\frac{\\ln(\\frac{S_{0}}{K}) + (r + \\frac{\\sigma^{2}}{2})T}{\\sigma\\sqrt{T}}$$\n",
        "\n",
        "Note that while Chiu's work is not based on $\\ln(S_{T})$ as ours is, the result is the same - in other words, we do not need to worry about making special accomodations for the denominator $S_{0}$ term. Thus,use these equations to compute the Fourier Transform computation."
      ]
    },
    {
      "metadata": {
        "id": "fyGN3OzGIc9q",
        "colab_type": "code",
        "outputId": "eddc5363-5119-4841-bab5-5634ae3f75fe",
        "colab": {
          "base_uri": "https://localhost:8080/",
          "height": 34
        }
      },
      "cell_type": "code",
      "source": [
        "d1 = (np.log((s0)/K) + ((r + ((sigma**2)/2))*T))/(sigma*np.sqrt(T))\n",
        "d2 = (np.log((s0)/K) + ((r - ((sigma**2)/2))*T))/(sigma*np.sqrt(T))\n",
        "\n",
        "f1 = lambda t: ((np.sin(d1 * t))/t)*np.exp(-1 * (t**2) / 2)\n",
        "f2 = lambda t: ((np.sin(d2 * t))/t)*np.exp(-1 * (t**2) / 2)\n",
        "\n",
        "int_1 = sp.integrate.quad(f1,0,np.inf)\n",
        "int_2 = sp.integrate.quad(f2,0,np.inf)\n",
        "\n",
        "I1 = 0.5 + (1/np.pi) * int_1[0]\n",
        "I2 = 0.5 + (1/np.pi) * int_2[0]\n",
        "\n",
        "C = (s0 * I1) - (K*(np.exp(-1*r*T))*I2)\n",
        "\n",
        "print(\"Fourier Transform computation of BSM price is \"+str(C))"
      ],
      "execution_count": 51,
      "outputs": [
        {
          "output_type": "stream",
          "text": [
            "Fourier Transform computation of BSM price is 5.943273183452845\n"
          ],
          "name": "stdout"
        }
      ]
    },
    {
      "metadata": {
        "id": "P0MWj0CeQMhp",
        "colab_type": "text"
      },
      "cell_type": "markdown",
      "source": [
        "We can observe that both computations yield the same result, as we would expect."
      ]
    },
    {
      "metadata": {
        "id": "5b212zKjsv3H",
        "colab_type": "text"
      },
      "cell_type": "markdown",
      "source": [
        "Brief test: Verifying a theory that I can work with the integral directly using complex numbers and the `.real` aspect in Python.\n",
        "\n",
        "In Python, the imaginary number coefficient $i$ is denoted instead as $j$ (a holdover from electrical engineering, according on research I was doing while trying to figure this part out). Thus, we can directly create a function representing our characteristic function $\\phi(u)$ and plug this into an integral. Applying `.real` to the end of a \"number\" representation will yield the real portion, which is essentially what the $Re(\\cdot)$ is doing in the integral anyways. The following code builds functions for the characteristic function and the integral itself, complete with a pricing output. If the code is built properly, our results should match the above."
      ]
    },
    {
      "metadata": {
        "id": "TokPhl0qfaSt",
        "colab_type": "code",
        "colab": {}
      },
      "cell_type": "code",
      "source": [
        "# Define phi function for this variable.\n",
        "\n",
        "def phi(u, r, sigma, T):\n",
        "  return np.exp((1j*T*u*(r - ((sigma**2)/2))) - ((u**2)*((T * (sigma**2))/2)))\n",
        "\n",
        "# Now, define the integral itself.\n",
        "\n",
        "def price_by_integral(s0, K, r, sigma, T):\n",
        "  f1 = lambda u: (np.exp(-1j * u * np.log(K/s0)) * phi(u-1j, r, sigma, T) / (1j*u*phi(-1j, r, sigma, T))).real\n",
        "  f2 = lambda u: (np.exp(-1j * u * np.log(K/s0)) * phi(u, r, sigma, T) / (1j*u)).real\n",
        "  int_f_1 = f1\n",
        "  int_f_2 = f2\n",
        "  int_1 = sp.integrate.quad(int_f_1,0,np.inf)\n",
        "  int_2 = sp.integrate.quad(int_f_2,0,np.inf)\n",
        "  \n",
        "  I1 = 0.5 + (1/np.pi) * int_1[0]\n",
        "  I2 = 0.5 + (1/np.pi) * int_2[0]\n",
        "  \n",
        "  C = (s0 * I1) - (K*(np.exp(-1*r*T))*I2)\n",
        "  \n",
        "  print(\"Fourier Transform computation of BSM price is \"+str(C))"
      ],
      "execution_count": 0,
      "outputs": []
    },
    {
      "metadata": {
        "id": "Ljdj47echPWs",
        "colab_type": "code",
        "colab": {
          "base_uri": "https://localhost:8080/",
          "height": 34
        },
        "outputId": "00aa9496-6aff-4aa8-8343-70c89648f3fd"
      },
      "cell_type": "code",
      "source": [
        "price_by_integral(s0, K, r, sigma, T)"
      ],
      "execution_count": 53,
      "outputs": [
        {
          "output_type": "stream",
          "text": [
            "Fourier Transform computation of BSM price is 5.943273183452845\n"
          ],
          "name": "stdout"
        }
      ]
    },
    {
      "metadata": {
        "id": "p25y5LeptgOd",
        "colab_type": "text"
      },
      "cell_type": "markdown",
      "source": [
        "The price by this method equals the price by the BSM formula, as well as the price using the integral after all the computations had been done to identify the real portion. Thus, this method should also work (and may be useful in 8-2 since that characteristic equation looks infinitely more nasty)."
      ]
    }
  ]
}