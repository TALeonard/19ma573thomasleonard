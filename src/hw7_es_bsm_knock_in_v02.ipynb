{
  "nbformat": 4,
  "nbformat_minor": 0,
  "metadata": {
    "colab": {
      "name": "hw7_es_bsm_knock_in_v02.ipynb",
      "version": "0.3.2",
      "provenance": [],
      "collapsed_sections": [],
      "include_colab_link": true
    },
    "kernelspec": {
      "name": "python3",
      "display_name": "Python 3"
    }
  },
  "cells": [
    {
      "cell_type": "markdown",
      "metadata": {
        "id": "view-in-github",
        "colab_type": "text"
      },
      "source": [
        "<a href=\"https://colab.research.google.com/github/TALeonard/19ma573thomasleonard/blob/master/src/hw7_es_bsm_knock_in_v02.ipynb\" target=\"_parent\"><img src=\"https://colab.research.google.com/assets/colab-badge.svg\" alt=\"Open In Colab\"/></a>"
      ]
    },
    {
      "metadata": {
        "id": "sFieMuX1bwRf",
        "colab_type": "text"
      },
      "cell_type": "markdown",
      "source": [
        "First, import modules and supply parameters."
      ]
    },
    {
      "metadata": {
        "id": "gpRAS2ZYcPXc",
        "colab_type": "code",
        "colab": {}
      },
      "cell_type": "code",
      "source": [
        "import numpy as np\n",
        "import scipy.stats as ss"
      ],
      "execution_count": 0,
      "outputs": []
    },
    {
      "metadata": {
        "id": "ebXmWbqNbydN",
        "colab_type": "code",
        "colab": {}
      },
      "cell_type": "code",
      "source": [
        "'''=======\n",
        "Parameters\n",
        "======='''\n",
        "\n",
        "T = 0.25\n",
        "r = 0.05\n",
        "sigma = 0.15\n",
        "S0 = 95.0\n",
        "K = 96.0\n",
        "H = 85.0\n",
        "num_step = 50\n",
        "num_paths = 1000\n",
        "num_trials = 1000 #this is small k, to prevent me from accidentally mistyping."
      ],
      "execution_count": 0,
      "outputs": []
    },
    {
      "metadata": {
        "id": "ZPGDMdLwcgUX",
        "colab_type": "text"
      },
      "cell_type": "markdown",
      "source": [
        "Now, define the Brownian Motion. Use same code as before."
      ]
    },
    {
      "metadata": {
        "id": "E1SUwxoEcoTm",
        "colab_type": "code",
        "colab": {}
      },
      "cell_type": "code",
      "source": [
        "def BM_gen(T1, T2, n): #para: start time, end time, mesh numbr\n",
        "  t = np.linspace(T1, T2, num = n+1)\n",
        "  W = np.zeros(n+1)\n",
        "  #Run (3.2)\n",
        "  for i in range(n):\n",
        "    W[i+1] = W[i] + 1./np.sqrt(n) * np.random.normal()\n",
        "    \n",
        "  return t, W"
      ],
      "execution_count": 0,
      "outputs": []
    },
    {
      "metadata": {
        "id": "8a3lUEH7coa4",
        "colab_type": "text"
      },
      "cell_type": "markdown",
      "source": [
        "Now define the Monte Carlo simulation code."
      ]
    },
    {
      "metadata": {
        "id": "gKsNC874cpbK",
        "colab_type": "code",
        "colab": {}
      },
      "cell_type": "code",
      "source": [
        "def knock_in_gbm_exact_sample(num_step,num_paths,s0,strike,r,sigma,maturity,H):\n",
        "  \n",
        "  m = num_step;\n",
        "  n = num_paths;\n",
        "  \n",
        "  #Set up stock history array.\n",
        "  stock_history = np.zeros((n,m+1))\n",
        "  stock_history[:,0] = s0;\n",
        "  \n",
        "  #Set up array of payoffs.\n",
        "  payoff = np.zeros(n)\n",
        "  \n",
        "  #Set up Indicator Vector for barrier option.\n",
        "  min_indic = np.zeros(n)\n",
        "  \n",
        "  #Generate GBM paths and compute payoffs.\n",
        "  \n",
        "  for i in range(n):\n",
        "    [t,W] = BM_gen(0,maturity,m)\n",
        "    for j in range(m):\n",
        "      stock_history[i,j+1] = s0 * np.exp((r-(0.5*(sigma**2)))*t[j+1] + sigma*W[j+1])\n",
        "      if stock_history[i,j+1] < H:\n",
        "        min_indic[i] = 1\n",
        "      else:\n",
        "        pass;\n",
        "    if stock_history[i,m-1] - strike > 0:\n",
        "      payoff[i] = 1000 * min_indic[i] #This will be 1000 if barrier is reached, 0 otherwise\n",
        "    else:\n",
        "      payoff[i] = 0\n",
        "  \n",
        "  return payoff.mean() * np.exp(-1*r*maturity)"
      ],
      "execution_count": 0,
      "outputs": []
    },
    {
      "metadata": {
        "id": "kUHIoRT7cpim",
        "colab_type": "text"
      },
      "cell_type": "markdown",
      "source": [
        "Now, run k = 1000 trials (num_trials) and find the mean, MSE and CI.\n",
        "\n",
        "For MSE, I will opt to consider the \"true\" value to be the mean of these 1,000 trials. Each of these trials is itself an average of 1,000 actual data points, thus the overall mean is based on 1 million data points. By this point the law of large numbers has almost surely kicked in. Resupply the RMSE code from previous assignments:"
      ]
    },
    {
      "metadata": {
        "id": "vj17R3QjSjU0",
        "colab_type": "code",
        "colab": {}
      },
      "cell_type": "code",
      "source": [
        "def mse_of_vector(predictions, act_vals):\n",
        "  # Default check: make sure both vectors are same length.\n",
        "  if len(predictions) == len(act_vals):\n",
        "    pass\n",
        "  else:\n",
        "    return(\"Inputs are not the same length.\")\n",
        "  # Produce difference between estimates and target values (actual value)\n",
        "  diff_vector = [predictions[i]-act_vals[i] for i in range(len(predictions))]\n",
        "  \n",
        "  # Take square of above values\n",
        "  diff_square = [diff_vector[i]**2 for i in range(len(diff_vector))]\n",
        "  \n",
        "  # Convert to array, find mean.\n",
        "  diff_array = np.asarray(diff_square)\n",
        "  diff_mean = diff_array.mean()\n",
        "  \n",
        "  # MSE is the above mean value.\n",
        "  return diff_mean"
      ],
      "execution_count": 0,
      "outputs": []
    },
    {
      "metadata": {
        "id": "RevsH_13cyQY",
        "colab_type": "code",
        "colab": {}
      },
      "cell_type": "code",
      "source": [
        "#Create array to store means in.\n",
        "payoff_means = np.zeros(num_trials)\n",
        "\n",
        "for i in range(num_trials):\n",
        "  payoff_means[i] = knock_in_gbm_exact_sample(num_step,num_paths,S0,K,r,sigma,T,H)\n",
        "\n",
        "overall_mean = payoff_means.mean()\n",
        "\n",
        "# Computing MSE: We require the \"true\" value of the price for this computation.\n",
        "# As explained above, using overall mean computed here as \"true\" value.\n",
        "\n",
        "target_vector = []\n",
        "for i in range(num_trials):\n",
        "  target_vector.append(overall_mean)\n",
        "\n",
        "overall_mse = mse_of_vector(payoff_means,target_vector)\n",
        "\n",
        "\n",
        "# Computing CI: Need the variance of the set. We can assume normality due to LLN.\n",
        "\n",
        "overall_variance = payoff_means.var()\n",
        "overall_sd = overall_variance ** 0.5\n",
        "\n",
        "# Not told to use any specific CI, opting to use 95% confidence.\n",
        "# For 95% CI, the Z-score is 1.96\n",
        "\n",
        "z_score = 1.96\n",
        "interval_range = z_score * overall_sd / np.sqrt(num_trials)\n",
        "lower_interval = overall_mean - interval_range\n",
        "upper_interval = overall_mean + interval_range"
      ],
      "execution_count": 0,
      "outputs": []
    },
    {
      "metadata": {
        "id": "DCz5lfl2nKoN",
        "colab_type": "code",
        "outputId": "42d01a93-9758-44ee-d4d0-3c72f99c38c5",
        "colab": {
          "base_uri": "https://localhost:8080/",
          "height": 67
        }
      },
      "cell_type": "code",
      "source": [
        "# Printed outputs are in another code window so that it doesn't have to run the thousands of iterations the above requires in order to print properly.\n",
        "\n",
        "print(\"Mean using \" + str(num_trials) + \" MC outputs is \" + str(overall_mean))\n",
        "print(\"MSE using \" + str(num_trials) + \" MC outputs is \")\n",
        "print(\"Confidence interval using \" + str(num_trials) + \" MC outputs is (\" + str(lower_interval) + \", \" + str(upper_interval) + \")\")"
      ],
      "execution_count": 7,
      "outputs": [
        {
          "output_type": "stream",
          "text": [
            "Mean using 1000 MC outputs is 42.186360903697135\n",
            "MSE using 1000 MC outputs is \n",
            "Confidence interval using 1000 MC outputs is (41.7950386469864, 42.57768316040787)\n"
          ],
          "name": "stdout"
        }
      ]
    }
  ]
}