{
  "nbformat": 4,
  "nbformat_minor": 0,
  "metadata": {
    "colab": {
      "name": "hw11_crr_v01.ipynb",
      "version": "0.3.2",
      "provenance": [],
      "include_colab_link": true
    },
    "kernelspec": {
      "name": "python3",
      "display_name": "Python 3"
    }
  },
  "cells": [
    {
      "cell_type": "markdown",
      "metadata": {
        "id": "view-in-github",
        "colab_type": "text"
      },
      "source": [
        "<a href=\"https://colab.research.google.com/github/TALeonard/19ma573thomasleonard/blob/master/src/hw11_crr_v01.ipynb\" target=\"_parent\"><img src=\"https://colab.research.google.com/assets/colab-badge.svg\" alt=\"Open In Colab\"/></a>"
      ]
    },
    {
      "metadata": {
        "id": "h3kINAZSJj29",
        "colab_type": "text"
      },
      "cell_type": "markdown",
      "source": [
        "First, import modules and import our options class."
      ]
    },
    {
      "metadata": {
        "id": "uvwLYMPiJvfF",
        "colab_type": "code",
        "outputId": "4dc6b857-cd3a-429e-c576-6f34a7ce423d",
        "colab": {
          "base_uri": "https://localhost:8080/",
          "height": 101
        }
      },
      "cell_type": "code",
      "source": [
        "#!git clone https://github.com/TALeonard/18ma573pub.git #Only run once!"
      ],
      "execution_count": 0,
      "outputs": [
        {
          "output_type": "stream",
          "text": [
            "Cloning into '18ma573pub'...\n",
            "remote: Enumerating objects: 763, done.\u001b[K\n",
            "remote: Total 763 (delta 0), reused 0 (delta 0), pack-reused 763\u001b[K\n",
            "Receiving objects: 100% (763/763), 2.47 MiB | 5.81 MiB/s, done.\n",
            "Resolving deltas: 100% (449/449), done.\n"
          ],
          "name": "stdout"
        }
      ]
    },
    {
      "metadata": {
        "id": "Dtw6CjaYJv5H",
        "colab_type": "code",
        "outputId": "b8dcb34d-d882-4855-e6ae-9fcd12eb0b4f",
        "colab": {
          "base_uri": "https://localhost:8080/",
          "height": 34
        }
      },
      "cell_type": "code",
      "source": [
        "cd /content/18ma573pub/src/"
      ],
      "execution_count": 0,
      "outputs": [
        {
          "output_type": "stream",
          "text": [
            "/content/18ma573pub/src\n"
          ],
          "name": "stdout"
        }
      ]
    },
    {
      "metadata": {
        "id": "_96u9tJCI2vR",
        "colab_type": "code",
        "colab": {}
      },
      "cell_type": "code",
      "source": [
        "import numpy as np\n",
        "import matplotlib.pyplot as plt\n",
        "from contract_v01 import VanillaOption\n",
        "from sde_1d_v01 import Sde_1d, Gbm_1d"
      ],
      "execution_count": 0,
      "outputs": []
    },
    {
      "metadata": {
        "id": "WqW5oBNYJwIX",
        "colab_type": "text"
      },
      "cell_type": "markdown",
      "source": [
        "We were given:\n",
        "\n",
        "* Call (Otype = 1)\n",
        "* Matuirty T = 1\n",
        "* Strike K = 100\n",
        "* Spot $S_{0}$ = 100\n",
        "* Volatility $\\sigma$ = 0.2\n",
        "* Interest rate r = 0.05\n",
        "\n",
        "First, directly compute the BSM call value."
      ]
    },
    {
      "metadata": {
        "id": "OHVpQpdwKTqY",
        "colab_type": "code",
        "outputId": "9acef47f-3313-421f-c158-2e59124a7752",
        "colab": {
          "base_uri": "https://localhost:8080/",
          "height": 34
        }
      },
      "cell_type": "code",
      "source": [
        "otype = 1\n",
        "T = 1\n",
        "K = 100\n",
        "s0 = 100\n",
        "sigma = 0.2\n",
        "r = 0.05\n",
        "\n",
        "gbm_true = Gbm_1d(init_state=s0, drift_ratio = r, vol_ratio = sigma)\n",
        "call_price = gbm_true.bsm_price(VanillaOption(otype,K,T))\n",
        "\n",
        "print(\"True BSM Call Value is \" + str(call_price))"
      ],
      "execution_count": 0,
      "outputs": [
        {
          "output_type": "stream",
          "text": [
            "True BSM Call Value is 10.450583572185565\n"
          ],
          "name": "stdout"
        }
      ]
    },
    {
      "metadata": {
        "id": "LD03qs8yK5le",
        "colab_type": "text"
      },
      "cell_type": "markdown",
      "source": [
        "The CRR(N) model is equal to FTCS with a grid\n",
        "\n",
        "$$\\Delta x = \\sigma \\sqrt{\\Delta t}, \\Delta t = T/N$$\n",
        "\n",
        "With $N$ steps on $[0, T]$. We want the value of CRR(N = 2000).\n",
        "\n",
        "We define, based on lecture notes, that\n",
        "\n",
        "$$u_{j}^{n-1} = pu_{j+1}^{n} + (1-p)u_{j-1}^{n}$$\n",
        "\n",
        "with\n",
        "\n",
        "$$p  =\\frac{1 + \\hat r \\sqrt{\\Delta t}}{2\\sigma}$$\n",
        "\n",
        "and\n",
        "\n",
        "$$\\hat r = r - \\frac{1}{2}\\sigma^{2}$$"
      ]
    },
    {
      "metadata": {
        "id": "B5EN6JCQL5kZ",
        "colab_type": "code",
        "colab": {}
      },
      "cell_type": "code",
      "source": [
        "def CRR(r,sigma,S,T,N):\n",
        "  #Define deltas.\n",
        "  dt = T / N\n",
        "  dx = sigma * np.sqrt(dt)\n",
        "  r_hat = r - 0.5*(sigma**2)\n",
        "  p=(sigma + (r_hat*np.sqrt(dt)))/(2*sigma)\n",
        "  \n",
        "  u = np.exp(dx)\n",
        "  d = 1/(u)\n",
        "  \n",
        "  V_prev = np.zeros(N+1)\n",
        "  V_current = np.zeros(N+1)\n",
        "    \n",
        "  for j in range(0,N+1):\n",
        "      V_prev[j] = max(S*(u**j)*(d**(N-j))-K,0)\n",
        "    \n",
        "  i=N\n",
        "  while i>0:        \n",
        "      for j in range(0,i):\n",
        "          V_current[j] = np.exp(-r*dt)*((1-p)*V_prev[j]+p*V_prev[j+1])\n",
        "      i=i-1\n",
        "      V_prev = V_current\n",
        "        \n",
        "  return V_prev[0]"
      ],
      "execution_count": 0,
      "outputs": []
    },
    {
      "metadata": {
        "id": "nUJBHrrJOJHG",
        "colab_type": "code",
        "outputId": "3ac874f4-69cc-4bef-d3f4-031482b813bd",
        "colab": {
          "base_uri": "https://localhost:8080/",
          "height": 50
        }
      },
      "cell_type": "code",
      "source": [
        "o1 = CRR(r,sigma,s0,T,2000)\n",
        "print(\"CRR(N = 2000) is \" + str(o1))"
      ],
      "execution_count": 0,
      "outputs": [
        {
          "output_type": "stream",
          "text": [
            "My CRR is 10.44955246588764\n",
            "Other CRR is 10.449583775457942\n"
          ],
          "name": "stdout"
        }
      ]
    },
    {
      "metadata": {
        "id": "zVr66Lc_UiCw",
        "colab_type": "text"
      },
      "cell_type": "markdown",
      "source": [
        "If this is right then I simply run a couple of for loops which populate based on CRR(10+20k) and CRR(10 + 25k) for $k \\in range(50)$. Ask professor tomorrow during his OH."
      ]
    },
    {
      "metadata": {
        "id": "WYHfT9QPkZ1t",
        "colab_type": "code",
        "colab": {}
      },
      "cell_type": "code",
      "source": [
        "CRR_20 = np.zeros(50)\n",
        "N_20_vec = np.zeros(50)\n",
        "CRR_25 = np.zeros(50)\n",
        "N_25_vec = np.zeros(50)\n",
        "BSM_price = np.zeros(50)\n",
        "\n",
        "for k in range(50):\n",
        "  CRR_20[k] = CRR(r, sigma, s0, T, 10 + (20*k))\n",
        "  N_20_vec[k] = 10 + (20*k)\n",
        "  CRR_25[k] = CRR(r, sigma, s0, T, 10 + (25*k))\n",
        "  N_25_vec[k] = 10 + (25*k)\n",
        "  BSM_price[k] = call_price"
      ],
      "execution_count": 0,
      "outputs": []
    },
    {
      "metadata": {
        "id": "W8iIu14fooM9",
        "colab_type": "code",
        "outputId": "021b2ba0-bf33-4760-b091-2f2cccf4a5ca",
        "colab": {
          "base_uri": "https://localhost:8080/",
          "height": 393
        }
      },
      "cell_type": "code",
      "source": [
        "plt.figure()\n",
        "plt.plot(N_20_vec,CRR_20,'b',N_25_vec,CRR_25,'g',N_25_vec,BSM_price,'r')\n",
        "plt.xlabel(\"N\")\n",
        "plt.ylabel(\"Value\")\n",
        "plt.title(\"CRR Convergence\")\n",
        "plt.legend([\"10 + 20k\", \"10 + 25k\", \"Actual BSM Price\"])"
      ],
      "execution_count": 0,
      "outputs": [
        {
          "output_type": "execute_result",
          "data": {
            "text/plain": [
              "<matplotlib.legend.Legend at 0x7ff233c8eba8>"
            ]
          },
          "metadata": {
            "tags": []
          },
          "execution_count": 16
        },
        {
          "output_type": "display_data",
          "data": {
            "image/png": "[encoded data removed]",
            "text/plain": [
              "<Figure size 576x396 with 1 Axes>"
            ]
          },
          "metadata": {
            "tags": []
          }
        }
      ]
    },
    {
      "metadata": {
        "id": "yAmIoKBzpE0B",
        "colab_type": "text"
      },
      "cell_type": "markdown",
      "source": [
        "The 10+20k vector converges very smoothly, but the 10+25k vector converges in a decreasing amplitude, zigzagging back and forth across the line representing the true BSM price but still approaching it as N increases."
      ]
    }
  ]
}