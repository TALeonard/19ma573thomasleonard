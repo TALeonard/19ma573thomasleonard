{
  "nbformat": 4,
  "nbformat_minor": 0,
  "metadata": {
    "colab": {
      "name": "hw7_correlations_to_aac_v01.ipynb",
      "version": "0.3.2",
      "provenance": [],
      "collapsed_sections": [],
      "include_colab_link": true
    },
    "kernelspec": {
      "name": "python3",
      "display_name": "Python 3"
    }
  },
  "cells": [
    {
      "cell_type": "markdown",
      "metadata": {
        "id": "view-in-github",
        "colab_type": "text"
      },
      "source": [
        "<a href=\"https://colab.research.google.com/github/TALeonard/19ma573thomasleonard/blob/master/src/hw7_correlations_to_aac_v01.ipynb\" target=\"_parent\"><img src=\"https://colab.research.google.com/assets/colab-badge.svg\" alt=\"Open In Colab\"/></a>"
      ]
    },
    {
      "metadata": {
        "id": "T-zOLAuhblMN",
        "colab_type": "text"
      },
      "cell_type": "markdown",
      "source": [
        "First, we import modules:"
      ]
    },
    {
      "metadata": {
        "id": "i9E96OSnbnHG",
        "colab_type": "code",
        "colab": {}
      },
      "cell_type": "code",
      "source": [
        "import numpy as np\n",
        "import matplotlib.pyplot as plt"
      ],
      "execution_count": 0,
      "outputs": []
    },
    {
      "metadata": {
        "id": "d30fxFWWbqUZ",
        "colab_type": "text"
      },
      "cell_type": "markdown",
      "source": [
        "Note that we are not importing contract_v01 or sde_1d_v01 since we are computing *all* option prices via exact sampling. Next, we supply parameters as defined in the assignment:"
      ]
    },
    {
      "metadata": {
        "id": "ub8qMI50bQYX",
        "colab_type": "code",
        "colab": {}
      },
      "cell_type": "code",
      "source": [
        "#paras are given here\n",
        "S0 = 100.0\n",
        "K = 110.0\n",
        "r = 0.0475\n",
        "sigma = 0.20\n",
        "T = 1.\n",
        "num_step = 4\n",
        "num_paths = 100"
      ],
      "execution_count": 0,
      "outputs": []
    },
    {
      "metadata": {
        "id": "PgJYp-wUbREC",
        "colab_type": "text"
      },
      "cell_type": "markdown",
      "source": [
        "With parameters in place, produce the code to match up to pseudocode. First, we make the code to produce a BM path, and the code to run a Geometric Mean (for the exact sampling of the Geometric Option) since there is no numpy equivalent for this (i.e. there is nothing like np.geomean or something).\n",
        "\n",
        "def geo_mean(iterable):\n",
        "    a = np.array(iterable)\n",
        "    return a.prod()**(1.0/len(a))"
      ]
    },
    {
      "metadata": {
        "id": "UnY2gBbvcGC8",
        "colab_type": "code",
        "colab": {}
      },
      "cell_type": "code",
      "source": [
        "def BM_gen(T1, T2, n): #para: start time, end time, mesh numbr\n",
        "  t = np.linspace(T1, T2, num = n+1)\n",
        "  W = np.zeros(n+1)\n",
        "  #Run (3.2)\n",
        "  for i in range(n):\n",
        "    W[i+1] = W[i] + 1./np.sqrt(n) * np.random.normal()\n",
        "    \n",
        "  return t, W\n",
        "\n"
      ],
      "execution_count": 0,
      "outputs": []
    },
    {
      "metadata": {
        "id": "04a7lhlbcHmb",
        "colab_type": "text"
      },
      "cell_type": "markdown",
      "source": [
        "Now, make the bsm_option_payoff_generators code."
      ]
    },
    {
      "metadata": {
        "id": "V3xkltcwb27n",
        "colab_type": "code",
        "colab": {}
      },
      "cell_type": "code",
      "source": [
        "def bsm_option_payoff_generators(num_step,num_paths,s0,strike,r,sigma,maturity):\n",
        "  \n",
        "  n = num_step;\n",
        "  m = num_paths;\n",
        "  \n",
        "  #Step 1: Make matrices to store hisory and other results.\n",
        "  stock_history = np.zeros((m,n+1))\n",
        "  stock_history[:,0] = s0;\n",
        "  \n",
        "  #Arrays for Arithmetic\n",
        "  A = np.zeros(m)\n",
        "  AAC = np.zeros(m)\n",
        "  \n",
        "  #Array for European\n",
        "  EC = np.zeros(m)\n",
        "  \n",
        "  #Arrays for Geometric\n",
        "  G_container = np.zeros(m)\n",
        "  GAC = np.zeros(m)\n",
        "  \n",
        "  #Array for stock payoff\n",
        "  STK = np.zeros(m)\n",
        "  \n",
        "  # Generate (num_paths) many GBM paths by exact sampling.\n",
        "  \n",
        "  for i in range(m):\n",
        "    [t,W] = BM_gen(0,maturity,n)\n",
        "    for j in range(n):\n",
        "      stock_history[i,j+1] = s0 * np.exp((r-(0.5*(sigma**2)))*t[j+1] + sigma*W[j+1])\n",
        "      #The above code is the same as 6-3, since it's the same process\n",
        "    \n",
        "    #Compute discounted(?) payoff of the Arithmetic option.\n",
        "    A[i] = np.mean(stock_history[i,:])\n",
        "    if A[i] - strike > 0:\n",
        "      AAC[i] = np.exp(-1*r*maturity) * (A[i]-strike)\n",
        "      #AAC[i] = (A[i]-strike)\n",
        "    else:\n",
        "      AAC[i] = 0\n",
        "    \n",
        "    #Compute discounted(?) payoff of European option.\n",
        "    if stock_history[i, n-1] - strike > 0:\n",
        "      EC[i] = np.exp(-1*r*maturity) * (stock_history[i, n-1] - strike)\n",
        "      #EC[i] = (stock_history[i, n-1] - strike)\n",
        "    else:\n",
        "      EC[i] = 0\n",
        "      \n",
        "    #Compute discounted(?) payoff of Geometric option.\n",
        "    G_container[i] = (stock_history[i,:].prod())**(1.0/len(stock_history[i,:]))\n",
        "    if G_container[i] - strike > 0:\n",
        "      GAC[i] = np.exp(-1*r*maturity) * (G_container[i] - strike)\n",
        "      #GAC[i] = (G_container[i] - strike)\n",
        "    else:\n",
        "      GAC[i] = 0\n",
        "    \n",
        "    #Compute payoff of the stock itself.\n",
        "    STK[i] = np.exp(-1*r*maturity) * (stock_history[i,n-1] - s0)\n",
        "    #STK[i] = stock_history[i,n-1] - s0\n",
        "  \n",
        "  #plot figures.\n",
        "  plt.figure()\n",
        "  plt.plot(AAC,STK,'ro')\n",
        "  plt.xlabel(\"AAC Payoff\")\n",
        "  plt.ylabel(\"Stock Payoff\")\n",
        "  plt.title(\"AAC vs. Stock\")\n",
        "\n",
        "  plt.figure()\n",
        "  plt.plot(AAC,EC,'ro')\n",
        "  plt.xlabel(\"AAC Payoff\")\n",
        "  plt.ylabel(\"EC Payoff\")\n",
        "  plt.title(\"AAC vs. EC\")\n",
        "  \n",
        "  plt.figure()\n",
        "  plt.plot(AAC,GAC,'ro')\n",
        "  plt.xlabel(\"AAC Payoff\")\n",
        "  plt.ylabel(\"GAC Payoff\")\n",
        "  plt.title(\"AAC vs. GAC\")  \n",
        "    "
      ],
      "execution_count": 0,
      "outputs": []
    },
    {
      "metadata": {
        "id": "SPOEpTaiisie",
        "colab_type": "code",
        "colab": {
          "base_uri": "https://localhost:8080/",
          "height": 1094
        },
        "outputId": "abb016b1-1c60-401d-93aa-c679a8101934"
      },
      "cell_type": "code",
      "source": [
        "bsm_option_payoff_generators(num_step,num_paths,S0,K,r,sigma,T)"
      ],
      "execution_count": 12,
      "outputs": [
        {
          "output_type": "display_data",
          "data": {
            "image/png": "[encoded data removed]",
            "text/plain": [
              "<Figure size 576x396 with 1 Axes>"
            ]
          },
          "metadata": {
            "tags": []
          }
        },
        {
          "output_type": "display_data",
          "data": {
            "image/png": "[encoded data removed]",
            "text/plain": [
              "<Figure size 576x396 with 1 Axes>"
            ]
          },
          "metadata": {
            "tags": []
          }
        },
        {
          "output_type": "display_data",
          "data": {
            "image/png": "[encoded data removed]",
            "text/plain": [
              "<Figure size 576x396 with 1 Axes>"
            ]
          },
          "metadata": {
            "tags": []
          }
        }
      ]
    },
    {
      "metadata": {
        "id": "ku3hixsNkZrz",
        "colab_type": "text"
      },
      "cell_type": "markdown",
      "source": [
        "A correlation analysis is not even needed to tell that the GAC is most highly correlated to the AAC. This makes sense to think about, as both are roughly the same calculation (both involve taking a mean across the observation period, so both should result in numbers that are somewhere near eachother, dependant on the underlying variance of the model). Both are not as susceptible to the value of the stock at time T being a strong outlier.\n",
        "\n",
        "I am not sure what the question about improving the OMC computation is asking, and will come back to that later."
      ]
    },
    {
      "metadata": {
        "id": "0g2td-yCkynO",
        "colab_type": "code",
        "colab": {}
      },
      "cell_type": "code",
      "source": [
        ""
      ],
      "execution_count": 0,
      "outputs": []
    }
  ]
}