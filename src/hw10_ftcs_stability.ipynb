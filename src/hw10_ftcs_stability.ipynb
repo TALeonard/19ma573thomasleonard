{
  "nbformat": 4,
  "nbformat_minor": 0,
  "metadata": {
    "colab": {
      "name": "hw10_ftcs_stability.ipynb",
      "version": "0.3.2",
      "provenance": [],
      "include_colab_link": true
    },
    "kernelspec": {
      "name": "python3",
      "display_name": "Python 3"
    }
  },
  "cells": [
    {
      "cell_type": "markdown",
      "metadata": {
        "id": "view-in-github",
        "colab_type": "text"
      },
      "source": [
        "<a href=\"https://colab.research.google.com/github/TALeonard/19ma573thomasleonard/blob/master/src/hw10_ftcs_stability.ipynb\" target=\"_parent\"><img src=\"https://colab.research.google.com/assets/colab-badge.svg\" alt=\"Open In Colab\"/></a>"
      ]
    },
    {
      "metadata": {
        "id": "mHuDeZt4ND3y",
        "colab_type": "text"
      },
      "cell_type": "markdown",
      "source": [
        "Our $\\phi(x)$ here is\n",
        "\n",
        "$$\\phi(x) = \\cos(\\pi x)I_{(-1/2, +1/2)}(x)$$ \n",
        "\n",
        "First, graph this. It is simply $\\cos(\\pi x)$ on the interval (-1/2, 1/2). Import numpy and pyplot."
      ]
    },
    {
      "metadata": {
        "id": "h-0xd4SxMwbw",
        "colab_type": "code",
        "colab": {}
      },
      "cell_type": "code",
      "source": [
        "import numpy as np\n",
        "import matplotlib.pyplot as plt"
      ],
      "execution_count": 0,
      "outputs": []
    },
    {
      "metadata": {
        "id": "PtCXe4DqNKac",
        "colab_type": "code",
        "outputId": "d74abd81-03d6-4a00-e7b5-f77e15960023",
        "colab": {
          "base_uri": "https://localhost:8080/",
          "height": 364
        }
      },
      "cell_type": "code",
      "source": [
        "x_range = np.arange(-0.5, 0.55, 0.05)\n",
        "y_range = np.cos(np.pi * x_range)\n",
        "\n",
        "plt.plot(x_range,y_range)"
      ],
      "execution_count": 0,
      "outputs": [
        {
          "output_type": "execute_result",
          "data": {
            "text/plain": [
              "[<matplotlib.lines.Line2D at 0x7fc1a4a45080>]"
            ]
          },
          "metadata": {
            "tags": []
          },
          "execution_count": 2
        },
        {
          "output_type": "display_data",
          "data": {
            "image/png": "[encoded data removed]",
            "text/plain": [
              "<Figure size 576x396 with 1 Axes>"
            ]
          },
          "metadata": {
            "tags": []
          }
        }
      ]
    },
    {
      "metadata": {
        "id": "lK_A42ezNNJY",
        "colab_type": "text"
      },
      "cell_type": "markdown",
      "source": [
        "#Performing FTCS\n",
        "\n",
        "Now, perform FTCS with $\\Delta x = 0.5, \\Delta t = 0.25, n = 1, 2, 3$.\n",
        "\n",
        "$$u_{0}^{0} = \\phi(0) = \\cos(0) = 1$$\n",
        "\n",
        "Our $s$ here is \n",
        "\n",
        "$$s = \\frac{\\theta}{h^{2}} = \\frac{dt}{dx^{2}} = \\frac{.25}{.5^{2}} = \\frac{.25}{.25} = 1$$\n",
        "\n",
        "Thus, build outwards. Each $\\Delta x$ means we consider 3 starting values of $x$: $x = -0.5, 0, 0.5$. Note that for $x = -0.5, 0.5$, the function $\\phi(x)$ is 0 because the indicator function is zero at these values (the set is open, not closed). Thus, our first layer of the stencil is\n",
        "\n",
        "`0 1 0`\n",
        "\n",
        "For the n = 0 layer. Now, consider the n = 1 layer. \n",
        "\n",
        "$$u_{0}^{1} = 1u_{-0.5}^{0} - u_{0}^{0} + u_{0.5}^{0} = 0 - 1 + 0 = -1$$\n",
        "\n",
        "$$u_{-0.5}^{1} = u_{0.5}^{1} = u_{0}^{0} = 1$$\n",
        "\n",
        "This second set of equations are 1 because they both have 1 as the coefficient on $u_{0}^{0}$. Thus, the n = 1 layer is\n",
        "\n",
        "`0 1 -1 1 0`\n",
        "\n",
        "Now, consider n = 2:\n",
        "\n",
        "$$u_{0}^{2} = u_{-0.5}^{1} - u_{0}^{1} + u_{0.5}^{1} = 1 - (-1) + 1 = 3$$\n",
        "\n",
        "$$u_{-0.5}^{2} = -u_{-0.5}^{1} + u_{0}^{1} = -1 + (-1) = -2$$\n",
        "\n",
        "$$u_{0.5}^{2} = u_{0}^{1} - u_{0.5}^{1} = -1 - 1 = -2$$\n",
        "\n",
        "$$u_{-1}^{2} = u_{1}^{2} = 1$$\n",
        "\n",
        "As before, for the same resons. Observe that the layers being formed are symmetric across the central $j = 0$ column. Thus, the n = 2 layer is\n",
        "\n",
        "`0 1 -2 3 -2 1 0`\n",
        "\n",
        "Now, consider n = 3:\n",
        "\n",
        "$$u_{0}^{3} = u_{-0.5}^{2} - u_{0}^{2} + u_{0.5}^{2} = -2 - 3 + (-2) = -7$$\n",
        "\n",
        "$$u_{-0.5}^{3} = u_{0.5}^{3} = u_{-1}^{2} - u_{-0.5}^{2} + u_{0}^{2} = 1 - (-2) + 3 = 1 + 2 + 3 = 6$$\n",
        "\n",
        "$$u_{-1}^{3} = u_{1}^{3} = -u_{-1}^{2} + u_{-0.5}^{2} = -1 + (-2) = 3$$\n",
        "\n",
        "$$u_{-1.5}^{3} = u_{1.5}^{3} = u_{-1}^{2} = 1$$\n",
        "\n",
        "Thus, this layer is\n",
        "\n",
        "`0 1 -3 6 -7 6 -3 1 0`\n",
        "\n",
        "So as a whole our layers appear as follows:\n",
        "\n",
        "`0  1  -3   6  -7   6  -3  1  0`\n",
        "\n",
        "`   0   1  -2   3  -2   1  0   `\n",
        "\n",
        "`       0   1  -1   1   0      `\n",
        "\n",
        "`           0   1   0          `\n",
        "\n",
        "\n",
        "(It's formatting weird in post but it's meant to be a triangle like the one from the lecture notes)\n",
        "\n",
        "From this, we can clearly see the FTCS is instable. The max value in each layer will always occur at $j = 0$, and will increase in size as $n \\rightarrow \\infty$. Thus, the FTCS is instable."
      ]
    },
    {
      "metadata": {
        "id": "eGVbN0K5Nygb",
        "colab_type": "text"
      },
      "cell_type": "markdown",
      "source": [
        "#Stability with Small $\\Delta t$\n",
        "\n",
        "Now, show that for $\\Delta t < 1/8$, the FTCS is stable.\n",
        "\n",
        "Suppose $\\Delta t < 1/8$. Observe that here, the layers should be mirrored once more. This new value for $\\Delta t$ yields $s = \\frac{dt}{dx^{2}} \\leq \\frac{0.125}{.25} = \\frac{1}{2}$ Thus, $s < 1/2$ and $1 - 2s > 0$, so $u_{j}^{n+1} = su_{j-dx}^{n} + (1-2s)u_{j}^{n} + su_{j+dx}^{n}$ which leads to\n",
        "\n",
        "$$u_{0}^{0} = 1$$\n",
        "\n",
        "$$u_{-0.5}^{0} = u_{0.5}^{0} = 0$$\n",
        "\n",
        "n = 0 layer is the same as in the above scenario, `0 1 0`. Now consider n = 1:\n",
        "\n",
        "$$u_{0}^{1} = su_{-0.5}^{0} + su_{0.5}^{0} + (1-2s)u_{0}^{0}= 1-2s \\in (0, 1)$$\n",
        "\n",
        "$$u_{-0.5}^{1} = u_{0.5}^{1} = su_{0}^{0} = s < \\frac{1}{2}$$\n",
        "\n",
        "So the `n = 1` layer is \n",
        "\n",
        "`0 s (1-2s) s 0`. \n",
        "\n",
        "Where every term in this layer is now < 1 (thus making the current max of the system occur at $u_{0}^{0} = 1$). Now consider n = 2:\n",
        "\n",
        "$$u_{0}^{2} = su_{-0.5}^{1} + (1-2s)u_{0}^{1} + su_{0.5}^{1} = s^{2} + (1-2s)^{2} + s^{2} = 2s^{2} + (1 - 4s + 4s^{2}) = 6s^{2} - 4s + 1 = 2s(3s - 2) + 1$$\n",
        "\n",
        "Consider the derivative of this function, $f'(s) = 12s - 4$. The only extreme value occurs at $s = \\frac{1}{3}$. At 0, $f(s) = 1$. At 0.5, $f(s) = 0.5$. At $\\frac{1}{3}$, $f(s) = \\frac{1}{3}$ so the max of this term is 1, but only when $s = 0$. As this $s$ only occurs if $\\Delta t = 0$, we can safely assume that for valid values of $s$, $6s^{2} - 4s + 1 < 1$. Now, consider the other terms on this layer.\n",
        "\n",
        "$$u_{-0.5}^{2} = u_{0.5}^{2} = su_{-1}^{1} + (1-2s)u_{-0.5}^{1} + su_{0}^{1} = (1-2s)s + s(1-2s) = 2s(1-2s) = 2s - 4s^{2}$$\n",
        "\n",
        "The derivative of this function is $g'(s) = 2 - 8s$ which has its extreme value at $s = \\frac{1}{4}$.\n",
        "\n",
        "$$g(0) = 0$$\n",
        "\n",
        "$$g(0.5) = 0$$\n",
        "\n",
        "$$g(\\frac{1}{4}) = \\frac{1}{4}$$\n",
        "\n",
        "So for these 2 terms, we can say that $2s(1-2s) < \\frac{1}{4}$.\n",
        "\n",
        "$$u_{-1}^{2} = u_{1}^{2} = su_{-0.5}^{2} = s^{2}$$\n",
        "\n",
        "As $s < \\frac{1}{2}$, $s^{2} < \\frac{1}{4}$.\n",
        "\n",
        "Thus, layer n = 2 is `0 s^{2} 2s(1-2s) 2s^{2} + (1-2s)^{2} 2s(1-2s) s^{2} 0` Where all of these terms are smaller than 1, for any valid value of $s$. We can observe that as we expand through the layers, we will continue to manipulate these terms in similar fashions and produce further layers which are all smaller than 1. Thus, this FTCS is stable when $\\Delta t < \\frac{1}{8}.$"
      ]
    }
  ]
}