{
  "nbformat": 4,
  "nbformat_minor": 0,
  "metadata": {
    "colab": {
      "name": "hw8_derivation_of_characteristic_function_v01.ipynb",
      "version": "0.3.2",
      "provenance": [],
      "include_colab_link": true
    },
    "kernelspec": {
      "name": "python3",
      "display_name": "Python 3"
    }
  },
  "cells": [
    {
      "cell_type": "markdown",
      "metadata": {
        "id": "view-in-github",
        "colab_type": "text"
      },
      "source": [
        "<a href=\"https://colab.research.google.com/github/TALeonard/19ma573thomasleonard/blob/master/src/hw8_derivation_of_characteristic_function_v01.ipynb\" target=\"_parent\"><img src=\"https://colab.research.google.com/assets/colab-badge.svg\" alt=\"Open In Colab\"/></a>"
      ]
    },
    {
      "metadata": {
        "id": "uJVuqPikjpK1",
        "colab_type": "text"
      },
      "cell_type": "markdown",
      "source": [
        "Let \n",
        "\n",
        "$$Y \\sim N(\\mu, \\sigma^{2})$$\n",
        "\n",
        "be a random variable. Prove that its characteristic function\n",
        "\n",
        "$$\\phi(u) = E[e^{iuY}]$$\n",
        "\n",
        "is\n",
        "\n",
        "$$\\phi(u) = e^{iu\\mu - \\frac{1}{2}u^{2}\\sigma^{2}}.$$\n",
        "\n",
        "**Proof**\n",
        "\n",
        "First, we make an observation. The moment generating function of a random variable $X$ is defined as\n",
        "\n",
        "$$M_{X}(t) = E[e^{tx}]$$\n",
        "\n",
        "For some input argument $t$. Thus, we can identify logically that the characterisitc function $\\phi(u)$ of a random variable $X$ is simply $M_{X}(iu)$, if the moment generating function for the random variable exists.\n",
        "\n",
        "Thus, we simply need to demonstrate that the moment generating function of a $N(\\mu,\\sigma^{2})$ random variable is $M_{X}(t) = e^{t\\mu - \\frac{1}{2}t^{2}\\sigma^{2}}$.\n",
        "\n",
        "$$M_{Y}(t) = E[e^{ty}] = \\int_{-\\infty}^{\\infty} e^{ty} \\frac{1}{\\sqrt{2\\pi\\sigma^{2}}} e^{-\\frac{(y-\\mu)^{2}}{2\\sigma^{2}}}dy$$\n",
        "\n",
        "$$ = \\int_{-\\infty}^{\\infty} \\frac{1}{\\sqrt{2\\pi\\sigma^{2}}} e^{ty -\\frac{(y-\\mu)^{2}}{2\\sigma^{2}} } dy$$\n",
        "\n",
        "$$ = \\int_{-\\infty}^{\\infty} \\frac{1}{\\sqrt{2\\pi\\sigma^{2}}} e^{\\frac{2\\sigma^{2}ty - (y-\\mu)^{2}}{2\\sigma^{2}}} dy$$\n",
        "\n",
        "$$ = \\int_{-\\infty}^{\\infty} \\frac{1}{\\sqrt{2\\pi\\sigma^{2}}} e^{\\frac{- y^{2} + 2\\sigma^{2}ty  + 2y\\mu - \\mu^{2}}{2\\sigma^{2}}} dy$$\n",
        "\n",
        "$$ = \\int_{-\\infty}^{\\infty} \\frac{1}{\\sqrt{2\\pi\\sigma^{2}}} e^{\\frac{- (y - 2\\sigma^{2}t - mu)^{2}}{2\\sigma^{2}}} e^{\\frac{2t\\mu\\sigma^{2} + t^{2}\\sigma^{4}}{2\\sigma^{2}}} dy$$\n",
        "\n",
        "$$ = e^{\\frac{2t\\mu\\sigma^{2} + t^{2}\\sigma^{4}}{2\\sigma^{2}}} \\int_{-\\infty}^{\\infty} \\frac{1}{\\sqrt{2\\pi\\sigma^{2}}} e^{\\frac{- (y - 2\\sigma^{2}t - mu)^{2}}{2\\sigma^{2}}} dy$$\n",
        "\n",
        "The integral is the PDF of a $N(\\mu+2\\sigma^{2}t,\\sigma^{2})$ random variable over its entire domain, so the integral is 1.\n",
        "\n",
        "$$ = e^{\\frac{2t\\mu\\sigma^{2} + t^{2}\\sigma^{4}}{2\\sigma^{2}}} $$\n",
        "\n",
        "$$ = e^{\\frac{2t\\mu\\sigma^{2}}{2\\sigma^{2}} + \\frac{t^{2}\\sigma^{4}}{2\\sigma^{2}}} $$\n",
        "\n",
        "$$ = e^{t\\mu + \\frac{1}{2}t^{2}\\sigma^{2}} $$\n",
        "\n",
        "So we have that the moment generating function of a $N(\\mu, \\sigma^{2})$ random variable is\n",
        "\n",
        "$$M_Y{t} = e^{t\\mu + \\frac{1}{2}t^{2}\\sigma^{2}} $$\n",
        "\n",
        "Now as I mentioned at the start, the moment generating function evaluated at $iu$ is equivalent to the characteristic function, when it exists. Thus,\n",
        "\n",
        "$$\\phi(u) = e^{iu\\mu + \\frac{1}{2}(iu)^{2}\\sigma^{2}}$$\n",
        "\n",
        "$$ = e^{iu\\mu + \\frac{1}{2}i^{2}u^{2}\\sigma^{2}}$$\n",
        "\n",
        "$$ = e^{iu\\mu + \\frac{1}{2}(-1)u^{2}\\sigma^{2}}$$\n",
        "\n",
        "Thus, we have $\\phi(u) = e^{iu\\mu - \\frac{1}{2}u^{2}\\sigma^{2}}$. For a $N(\\mu,\\sigma^{2})$ random variable. $\\square$\n",
        "\n"
      ]
    }
  ]
}