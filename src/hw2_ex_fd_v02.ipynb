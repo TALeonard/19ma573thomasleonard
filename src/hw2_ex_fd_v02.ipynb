{
  "nbformat": 4,
  "nbformat_minor": 0,
  "metadata": {
    "colab": {
      "name": "hw2_ex_fd_v01.ipynb",
      "version": "0.3.2",
      "provenance": [],
      "include_colab_link": true
    },
    "kernelspec": {
      "name": "python3",
      "display_name": "Python 3"
    }
  },
  "cells": [
    {
      "cell_type": "markdown",
      "metadata": {
        "id": "view-in-github",
        "colab_type": "text"
      },
      "source": [
        "<a href=\"https://colab.research.google.com/github/TALeonard/19ma573thomasleonard/blob/master/src/hw2_ex_fd_v02.ipynb\" target=\"_parent\"><img src=\"https://colab.research.google.com/assets/colab-badge.svg\" alt=\"Open In Colab\"/></a>"
      ]
    },
    {
      "metadata": {
        "id": "It7Ue9Ot4Pvh",
        "colab_type": "text"
      },
      "cell_type": "markdown",
      "source": [
        "# Ex.\n",
        "\n",
        "Suppose that we wish to approximate the first derivative $u'(x)$ of a very smooth function with an error of only $O(h)^4$, where $h$ is the step size. Which difference approximation could we use?"
      ]
    },
    {
      "metadata": {
        "id": "JzCZ2xhY4RO3",
        "colab_type": "text"
      },
      "cell_type": "markdown",
      "source": [
        "Based on research, we can consider this central difference:\n",
        "\n",
        "$$\\frac{f(x-2h)-8f(x-h)+8f(x+h)-f(x+2h)}{12h} \\simeq f'(x)$$\n",
        "\n",
        "__Prop__\n",
        "\n",
        "The central finite difference for the second order has convergence order $4$.\n",
        "\n",
        "__Proof__ \n",
        "\n",
        "First, we will consider the Taylor Series expansions for each of these 4 terms: $f(x-2h)$, $f(x-h)$, $f(x+h)$, and $f(x+2h)$. Each will be truncated at $O(h^{5})$.\n",
        "\n",
        "$$f(x+h) = f(x)+f'(x)h+\\frac{f''(x)(h^{2})}{2}+\\frac{f'''(x)(h^{3})}{3!}+\\frac{f^{(4)}(x)(h^{4})}{4!}+O(h^{5})$$\n",
        "\n",
        "$$f(x-h) = f(x)+f'(x)(-h)+\\frac{f''(x)(h^{2})}{2}+\\frac{f'''(x)(-h^{3})}{3!}+\\frac{f^{(4)}(x)(h^{4})}{4!}+O(h^{5})$$\n",
        "\n",
        "$$f(x)+2h) = f(x)+f'(x)(2h)+\\frac{f''(x)(4h^{2})}{2}+\\frac{f'''(x)(8h^{3})}{3!}+\\frac{f^{(4)}(x)(16h^{4})}{4!}+O(h^{5})$$\n",
        "\n",
        "$$f(x-2h) = f(x)+f'(x)(-2h)+\\frac{f''(x)(4h^{2})}{2}+\\frac{f'''(x)(-8h^{3})}{3!}+\\frac{f^{(4)}(x)(16h^{4})}{4!}+O(h^{5})$$\n",
        "\n",
        "Now, consider combining these 4 expansions in the combination depicted in the numerator of the approximation, i.e. $f(x-2h)-8f(x-h)+8f(x+h)-f(x+2h)$. :\n",
        "\n",
        "$$f(x-2h)-8f(x-h)+8f(x+h)-f(x+2h) = f(x)+f'(x)(-2h)+\\frac{f''(x)(4h^{2})}{2}+\\frac{f'''(x)(-8h^{3})}{3!}+\\frac{f^{(4)}(x)(16h^{4})}{4!}+O(h^{5})$$\n",
        "$$- 8*(f(x)+f'(x)(-h)+\\frac{f''(x)(h^{2})}{2}+\\frac{f'''(x)(-h^{3})}{3!}+\\frac{f^{(4)}(x)(h^{4})}{4!}+O(h^{5})$$\n",
        "$$+ 8*(f(x)+f'(x)h+\\frac{f''(x)(h^{2})}{2}+\\frac{f'''(x)(h^{3})}{3!}+\\frac{f^{(4)}(x)(h^{4})}{4!}+O(h^{5}))$$\n",
        "$$- (f(x)+f'(x)(2h)+\\frac{f''(x)(4h^{2})}{2}+\\frac{f'''(x)(8h^{3})}{3!}+\\frac{f^{(4)}(x)(16h^{4})}{4!}+O(h^{5}))$$\n",
        "\n",
        "Next, re-organize and combine:\n",
        "$$f(x-2h)-8f(x-h)+8f(x+h)-f(x+2h) = f(x) - 8f(x) + 8f(x) - f(x) $$\n",
        "$$-2hf'(x)+8hf'(x)+8hf'(x)-2hf'(x)$$\n",
        "$$+ 2h^{2}f''(x) - 4h^{2}f''(x)+4h^{2}f''(x)-2h^{2}f''(x)$$\n",
        "$$- \\frac{4h^{3}f^{(3)}(x)}{3}+\\frac{4h^{3}f^{(3)}(x)}{3}+\\frac{4h^{3}f^{(3)}(x)}{3}-\\frac{4h^{3}f^{(3)}(x)}{3}$$\n",
        "$$+\\frac{2h^{4}f^{(4)}(x)}{3}-\\frac{h^{4}f^{(4)}(x)}{3}+\\frac{h^{4}f^{(4)}(x)}{3}-\\frac{2h^{4}f^{(4)}(x)}{3}+O(h^{5})$$\n",
        "\n",
        "The $f(x)$, $f''(x)$, $f^{(3)}(x)$, and $f^{(4)}(x)$ terms all cancel each other out. Thus, we are left with\n",
        "$$f(x-2h)-8f(x-h)+8f(x+h)-f(x+2h) =12hf'(x)+O(h^{5})$$\n",
        "\n",
        "Now, we divide by 12h on both sides.\n",
        "$$\\frac{f(x-2h)-8f(x-h)+8f(x+h)-f(x+2h)}{12h} = f'(x) + \\frac{O(h^{5})}{12h}$$\n",
        "\n",
        "We can observe that $\\frac{O(h^{5})}{12h} = O(h^{4})$, thus this simplifies to\n",
        "$$\\frac{f(x-2h)-8f(x-h)+8f(x+h)-f(x+2h)}{12h} = f'(x) + O(h^{4})$$\n",
        "\n",
        "As the left-hand side is meant to approximate $f'(x)$ on the right-hand side, this means that the $O(h^{4})$ is our error. Thus, the convergence rate of this approximation is $4$. $\\square$"
      ]
    },
    {
      "metadata": {
        "id": "qMq3yn9JWp8k",
        "colab_type": "text"
      },
      "cell_type": "markdown",
      "source": [
        "Now, we shall verify that this works. Consider the function $sin(x)$ with $h = .5$ as in the other part of HW 2. The first derivative is $f'(x) = cos(x)$."
      ]
    },
    {
      "metadata": {
        "id": "ZBvC-xwQaNzT",
        "colab_type": "text"
      },
      "cell_type": "markdown",
      "source": [
        "# Code for Assignment"
      ]
    },
    {
      "metadata": {
        "id": "wRrEGmq0aObP",
        "colab_type": "code",
        "colab": {}
      },
      "cell_type": "code",
      "source": [
        "import numpy as np\n",
        "import pandas as pd\n",
        "import matplotlib.pyplot as plt"
      ],
      "execution_count": 0,
      "outputs": []
    },
    {
      "metadata": {
        "id": "HnBEn8WeaQg3",
        "colab_type": "code",
        "colab": {}
      },
      "cell_type": "code",
      "source": [
        "def new_cfd(f, x, h):\n",
        "    return (f(x-(2*h))-(8*f(x-h))+(8*f(x+h))-f(x+(2*h)))/(12*h)"
      ],
      "execution_count": 0,
      "outputs": []
    },
    {
      "metadata": {
        "id": "03G_3LeoaR6q",
        "colab_type": "code",
        "colab": {
          "base_uri": "https://localhost:8080/",
          "height": 347
        },
        "outputId": "989fd43e-5e79-4c84-a4bc-ab637a7ecdee"
      },
      "cell_type": "code",
      "source": [
        "h = .5 #step size\n",
        "\n",
        "x_co = np.linspace(0, 2*np.pi, 100)\n",
        "plt.plot(x_co, np.cos(x_co), label = '$cos(x)$');\n",
        "plt.plot(x_co, new_cfd(np.sin, x_co, h), label = 'new cfd');\n",
        "plt.legend();"
      ],
      "execution_count": 6,
      "outputs": [
        {
          "output_type": "display_data",
          "data": {
            "image/png": "[encoded data removed]",
            "text/plain": [
              "<Figure size 576x396 with 1 Axes>"
            ]
          },
          "metadata": {
            "tags": []
          }
        }
      ]
    },
    {
      "metadata": {
        "id": "z1s8CMJkaeDB",
        "colab_type": "text"
      },
      "cell_type": "markdown",
      "source": [
        "Now, plot the log-log chart."
      ]
    },
    {
      "metadata": {
        "id": "RSeBKfZJahDH",
        "colab_type": "code",
        "colab": {
          "base_uri": "https://localhost:8080/",
          "height": 364
        },
        "outputId": "79ce6fe9-89d9-4c07-c2c3-9d1829e44d37"
      },
      "cell_type": "code",
      "source": [
        "#Based on the previous notebook regarding finite difference convergence\n",
        "#Given no point to start from, opt to use the same value the previous notebook used.\n",
        "\n",
        "x_target = np.pi/3 #target point to be examined\n",
        "y_target = np.cos(x_target) #exact derivative value at the target point\n",
        "\n",
        "#No values of n are given either; use the same as the previous notebook.\n",
        "nn = np.arange(5, 10)\n",
        "hh = 1/np.power(2, nn) #step sizes to be taken\n",
        "\n",
        "err = new_cfd(np.sin, x_target, hh) - y_target #errors corresponding to each step size\n",
        "yy = np.log2(np.abs(err))\n",
        "plt.plot(nn, yy)"
      ],
      "execution_count": 9,
      "outputs": [
        {
          "output_type": "execute_result",
          "data": {
            "text/plain": [
              "[<matplotlib.lines.Line2D at 0x7fb2c049e978>]"
            ]
          },
          "metadata": {
            "tags": []
          },
          "execution_count": 9
        },
        {
          "output_type": "display_data",
          "data": {
            "image/png": "[encoded data removed]",
            "text/plain": [
              "<Figure size 576x396 with 1 Axes>"
            ]
          },
          "metadata": {
            "tags": []
          }
        }
      ]
    },
    {
      "metadata": {
        "id": "LwVtKXLmaiih",
        "colab_type": "text"
      },
      "cell_type": "markdown",
      "source": [
        "Now, regress to determine the slope of the log-log plot."
      ]
    },
    {
      "metadata": {
        "id": "peDiGCNFajXw",
        "colab_type": "code",
        "colab": {
          "base_uri": "https://localhost:8080/",
          "height": 34
        },
        "outputId": "3c348b3a-4fb5-4592-9ed6-ec595c2adf15"
      },
      "cell_type": "code",
      "source": [
        "import scipy.stats as ss\n",
        "out = ss.linregress(nn,yy)\n",
        "print('----->>>the convergence order is ' + str(-out[0]))"
      ],
      "execution_count": 10,
      "outputs": [
        {
          "output_type": "stream",
          "text": [
            "----->>>the convergence order is 3.9740851270963855\n"
          ],
          "name": "stdout"
        }
      ]
    },
    {
      "metadata": {
        "id": "8lmtZLK2boDT",
        "colab_type": "text"
      },
      "cell_type": "markdown",
      "source": [
        "The convergence order is roughly 4, which matches our expectations."
      ]
    }
  ]
}