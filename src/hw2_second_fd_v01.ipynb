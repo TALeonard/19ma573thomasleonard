{
  "nbformat": 4,
  "nbformat_minor": 0,
  "metadata": {
    "colab": {
      "name": "hw2_second_fd_v01.ipynb",
      "version": "0.3.2",
      "provenance": [],
      "include_colab_link": true
    },
    "kernelspec": {
      "name": "python3",
      "display_name": "Python 3"
    }
  },
  "cells": [
    {
      "cell_type": "markdown",
      "metadata": {
        "id": "view-in-github",
        "colab_type": "text"
      },
      "source": [
        "<a href=\"https://colab.research.google.com/github/TALeonard/19ma573thomasleonard/blob/master/src/hw2_second_fd_v01.ipynb\" target=\"_parent\"><img src=\"https://colab.research.google.com/assets/colab-badge.svg\" alt=\"Open In Colab\"/></a>"
      ]
    },
    {
      "metadata": {
        "id": "csjtiEs7xekk",
        "colab_type": "text"
      },
      "cell_type": "markdown",
      "source": [
        "#Homework assignment 2, part 1 (Second FD)"
      ]
    },
    {
      "metadata": {
        "id": "cUuga31dxhyf",
        "colab_type": "text"
      },
      "cell_type": "markdown",
      "source": [
        "# Problem \n",
        "\n",
        "Let $f(x) = \\sin x$. Plot $f''$ and $\\delta_{-h} \\delta_h f$ with $h = .5$"
      ]
    },
    {
      "metadata": {
        "id": "V4um_sB7xj2A",
        "colab_type": "text"
      },
      "cell_type": "markdown",
      "source": [
        "# Anal\n",
        "\n",
        "\n",
        "One of the commonly used FD for $f''$ is the following:\n",
        "$$f''(x) = \\frac{d}{dx} f'(x) \\simeq \\delta_h f'(x) \\simeq \\delta_h \\delta_{-h} f(x).$$\n",
        "If we write it explicitly, then\n",
        "$$f''(x) \\simeq \\frac{f(x+h) - 2 f(x) + f(x-h)}{h^2}.$$"
      ]
    },
    {
      "metadata": {
        "id": "03J1KnRKxj5T",
        "colab_type": "text"
      },
      "cell_type": "markdown",
      "source": [
        "__Prop__\n",
        "\n",
        "The central finite difference for the second order has convergence order $1$.\n",
        "\n",
        "__Proof__ \n",
        "\n",
        "First, recall the Taylor series expansion for $f(x_{0}+h)$: \n",
        "\n",
        "$$f(x_{0}+h) = f(x_{0})+f'(x_{0})h+\\frac{f''(x_{0})h^{2}}{2}+\\frac{f'''(x_{0})h^{3}}{3!}+...+\\frac{f^{n}(x_{0})h^{n}}{n!}+R_{n}(x)$$\n",
        "\n",
        "For this, we will opt to truncate at the third degree, denoting the remainder after the $f''(x_{0})$ term as $O(h^{4})$.\n",
        "\n",
        "Next, note that we can expand the Taylor series for $f(x_{0}-h)$ similarly:\n",
        "\n",
        "$$f(x_{0}-h) = f(x_{0})+f'(x_{0})(-h)+\\frac{f''(x_{0})h^{2}}{2}+\\frac{f'''(x_{0})(-h^{3})}{3!}+O(h^{4})$$\n",
        "\n",
        "Given what our end result will be, now let us consider $f(x+h) + f(x-h)$:\n",
        "\n",
        "$$f(x+h) + f(x-h) = f(x) + f'(x)h + \\frac{f''(x)h^{2}}{2} +\\frac{f'''(x)(h^{3})}{3!}+f(x)+f'(x)(-h)+\\frac{f''(x)h^{2}}{2}+\\frac{f'''(x)(-h^{3})}{3!}O(h^{4})$$\n",
        "\n",
        "Start combining like terms and simplify down. Note that the $f'(x)$ and $f'''(x)$ terms both cancel out here:\n",
        "$$f(x+h) + f(x-h) = 2f(x) + f'(x)h - f'(x)h+\\frac{2f''(x)h^{2}}{2}+\\frac{f'''(x)(h^{3})}{3!}-\\frac{f'''(x)(h^{3})}{3!}+O(h^{4})$$\n",
        "\n",
        "$$f(x+h) + f(x-h) = 2f(x) + f''(x)h^{2}+O(h^{4})$$\n",
        "\n",
        "\n",
        "Move the f(x) term to the left-hand side:\n",
        "$$f(x+h) + f(x-h) - 2f(x) = f''(x)h^{2}+O(h^{4})$$\n",
        "\n",
        "Now, divide by $h^{2}$:\n",
        "$$\\frac{f(x+h) + f(x-h) - 2f(x)}{h^{2}} = f''(x)+\\frac{O(h^{4})}{h^{2}}$$\n",
        "\n",
        "Note that the last term, $\\frac{O(h^{4})}{h^{2}}$, simplifies down to $O(h^{2})$. Thus, after rearranging the order of terms on the left side we have\n",
        "$$\\frac{f(x+h) - 2f(x) + f(x-h)}{h^{2}} = f''(x)+O(h^{2})$$\n",
        "\n",
        "In the proposition we have that $f''(x)$ is approximated by the left-hand side; here, we have that $f''(x)$ plus a $O(h^{2})$ term is exactly equal to the left-hand side. Thus, the approximation actually has convergence order $2$, not $1$. $\\square$"
      ]
    },
    {
      "metadata": {
        "id": "1xTIvaLPxsqy",
        "colab_type": "text"
      },
      "cell_type": "markdown",
      "source": [
        "# Code for Assignment"
      ]
    },
    {
      "metadata": {
        "id": "9_mp6QKcxuxm",
        "colab_type": "code",
        "colab": {}
      },
      "cell_type": "code",
      "source": [
        "import numpy as np\n",
        "import pandas as pd\n",
        "import matplotlib.pyplot as plt"
      ],
      "execution_count": 0,
      "outputs": []
    },
    {
      "metadata": {
        "id": "CNPmUcj4xwOf",
        "colab_type": "code",
        "colab": {}
      },
      "cell_type": "code",
      "source": [
        "def sfd(f, x, h):\n",
        "    return (f(x+h)-(2*f(x))+f(x-h))/(h**2)\n"
      ],
      "execution_count": 0,
      "outputs": []
    },
    {
      "metadata": {
        "id": "V4ByfTZPxyU7",
        "colab_type": "code",
        "colab": {
          "base_uri": "https://localhost:8080/",
          "height": 347
        },
        "outputId": "e232a12d-da8e-49b2-aa0b-145a56c26f73"
      },
      "cell_type": "code",
      "source": [
        "h = .5 #step size\n",
        "\n",
        "x_co = np.linspace(0, 2*np.pi, 100)\n",
        "plt.plot(x_co, - np.sin(x_co), label = '$-sin(x)$');\n",
        "plt.plot(x_co, sfd(np.sin, x_co, h), label = 'sfd');\n",
        "plt.legend();"
      ],
      "execution_count": 3,
      "outputs": [
        {
          "output_type": "display_data",
          "data": {
            "image/png": "[encoded data removed]",
            "text/plain": [
              "<Figure size 576x396 with 1 Axes>"
            ]
          },
          "metadata": {
            "tags": []
          }
        }
      ]
    },
    {
      "metadata": {
        "id": "ISKNmRFrxz9D",
        "colab_type": "text"
      },
      "cell_type": "markdown",
      "source": [
        "plot log-log chart for the demonstration of convergence rate, find convergence order using linear regression."
      ]
    },
    {
      "metadata": {
        "id": "jcuqr9ixx1WE",
        "colab_type": "code",
        "colab": {
          "base_uri": "https://localhost:8080/",
          "height": 364
        },
        "outputId": "08ea45ce-a75a-4940-e9bc-50ad4abb6629"
      },
      "cell_type": "code",
      "source": [
        "#Based on the previous notebook regarding finite difference convergence\n",
        "#Given no point to start from, opt to use the same value the previous notebook used.\n",
        "\n",
        "x_target = np.pi/3 #target point to be examined\n",
        "y_target = -np.sin(x_target) #exact derivative value at the target point\n",
        "\n",
        "#No values of n are given either; use the same as the previous notebook.\n",
        "nn = np.arange(5, 11)\n",
        "hh = 1/np.power(2, nn) #step sizes to be taken\n",
        "\n",
        "err = sfd(np.sin, x_target, hh) - y_target #errors corresponding to each step size\n",
        "yy = np.log2(np.abs(err))\n",
        "plt.plot(nn, yy)"
      ],
      "execution_count": 4,
      "outputs": [
        {
          "output_type": "execute_result",
          "data": {
            "text/plain": [
              "[<matplotlib.lines.Line2D at 0x7faa3379fa20>]"
            ]
          },
          "metadata": {
            "tags": []
          },
          "execution_count": 4
        },
        {
          "output_type": "display_data",
          "data": {
            "image/png": "[encoded data removed]",
            "text/plain": [
              "<Figure size 576x396 with 1 Axes>"
            ]
          },
          "metadata": {
            "tags": []
          }
        }
      ]
    },
    {
      "metadata": {
        "id": "LVdZWCrtx2yu",
        "colab_type": "code",
        "colab": {
          "base_uri": "https://localhost:8080/",
          "height": 34
        },
        "outputId": "0dc054d7-a91c-4f6a-aefe-55a4ca594b9c"
      },
      "cell_type": "code",
      "source": [
        "#Now, regress.\n",
        "import scipy.stats as ss\n",
        "out = ss.linregress(nn,yy)\n",
        "print('----->>>the convergence order is ' + str(-out[0]))"
      ],
      "execution_count": 5,
      "outputs": [
        {
          "output_type": "stream",
          "text": [
            "----->>>the convergence order is 2.0002350881818582\n"
          ],
          "name": "stdout"
        }
      ]
    }
  ]
}