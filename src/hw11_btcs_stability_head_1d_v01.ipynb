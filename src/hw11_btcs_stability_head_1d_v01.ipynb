{
  "nbformat": 4,
  "nbformat_minor": 0,
  "metadata": {
    "colab": {
      "name": "hw11_btcs_stability_head_1d_v01.ipynb",
      "version": "0.3.2",
      "provenance": [],
      "include_colab_link": true
    },
    "kernelspec": {
      "name": "python3",
      "display_name": "Python 3"
    }
  },
  "cells": [
    {
      "cell_type": "markdown",
      "metadata": {
        "id": "view-in-github",
        "colab_type": "text"
      },
      "source": [
        "<a href=\"https://colab.research.google.com/github/TALeonard/19ma573thomasleonard/blob/master/src/hw11_btcs_stability_head_1d_v01.ipynb\" target=\"_parent\"><img src=\"https://colab.research.google.com/assets/colab-badge.svg\" alt=\"Open In Colab\"/></a>"
      ]
    },
    {
      "metadata": {
        "id": "SBtDQ_IDjQ77",
        "colab_type": "text"
      },
      "cell_type": "markdown",
      "source": [
        "First, import modules and define parameters as supplied."
      ]
    },
    {
      "metadata": {
        "id": "hNvSTd8iiV7X",
        "colab_type": "code",
        "colab": {}
      },
      "cell_type": "code",
      "source": [
        "import numpy as np\n",
        "import matplotlib.pyplot as plt\n",
        "import scipy.linalg as sl"
      ],
      "execution_count": 0,
      "outputs": []
    },
    {
      "metadata": {
        "id": "X81JJe1uiq4V",
        "colab_type": "code",
        "colab": {}
      },
      "cell_type": "code",
      "source": [
        "'''=======\n",
        "parameters\n",
        "======='''\n",
        "\n",
        "al = 1\n",
        "dx = .2 #space mesh size\n",
        "rho = 1. #conditinal number, to be less than .5 for the stability\n",
        "dt = rho*(dx**2)/al #time step size\n",
        "\n",
        "a = 0\n",
        "b = 1\n",
        "f = lambda x: np.sin(np.pi * x)\n",
        "es = lambda x, t: np.exp(-1*(np.pi**2)*t) * np.sin(np.pi*x)\n",
        "N = (b - a) / dx #Should be 5, given parameters.\n"
      ],
      "execution_count": 0,
      "outputs": []
    },
    {
      "metadata": {
        "id": "wvB9i_MejU-q",
        "colab_type": "text"
      },
      "cell_type": "markdown",
      "source": [
        "Now, we need to use both FTCS and BTCS to solve this equation and find the supnorm of the error function.\n",
        "\n",
        "For FTCS, we can utilize the same FTCS() code we used last week; for BTCS, a new code must be developed."
      ]
    },
    {
      "metadata": {
        "id": "o94DnjVijeI5",
        "colab_type": "code",
        "colab": {}
      },
      "cell_type": "code",
      "source": [
        "def heat_ftcs_err(dx,rho,al,exact_sol,phi,a,b,n):\n",
        "  dt = rho*(dx**2)/al\n",
        "  \n",
        "  #Initialize with n = 0.\n",
        "  j_0_linspace = np.linspace((a-n),(b+n),(b+n)-(a-n)+1)\n",
        "  u_j_0 = np.zeros(len(j_0_linspace))\n",
        "  for i in range(len(j_0_linspace)):\n",
        "    u_j_0[i] = phi(j_0_linspace[i]*dx)\n",
        "  \n",
        "  #Initialize True Values Matrix.\n",
        "  true_val = np.zeros(len(j_0_linspace))\n",
        "  for j in range(len(j_0_linspace)):\n",
        "    true_val[j] = exact_sol(j_0_linspace[j]*dx,0)\n",
        "  \n",
        "  #Initialize error vector, apply max error value for n = 0.\n",
        "  max_error_vec = np.zeros(n+1)\n",
        "  err_j_0 = (u_j_0 - true_val)\n",
        "  max_error_vec[0] = max(abs(err_j_0))\n",
        "  \n",
        "  #Initialize approximation for n = 1, to use as first \"u_j_(k-1)\"\n",
        "  j_1_linspace = np.linspace((a-(n-1)),(b+(n-1)),(b+(n-1))-(a-(n-1))+1)\n",
        "  u_j_1 = np.zeros(len(j_1_linspace))\n",
        "  for i in range(len(u_j_1)):\n",
        "    j = i + 1\n",
        "    u_j_1[i] = rho*u_j_0[j-1] + (1-2*rho)*u_j_0[j] + rho*u_j_0[j+1]\n",
        "  \n",
        "  u_j_k_minus_1 = u_j_1\n",
        "  former_linspace = j_1_linspace\n",
        "  \n",
        "  #Find n = 1 max error for vector.\n",
        "  true_val = np.zeros(len(j_1_linspace))\n",
        "  for j in range(len(j_1_linspace)):\n",
        "    true_val[j] = exact_sol(j_1_linspace[j]*dx,dt)\n",
        "  err_j_1 = (u_j_1 - true_val)\n",
        "  max_error_vec[1] = max(abs(err_j_1))\n",
        "  \n",
        "  #Perform iterative loop for all n >= 2.\n",
        "  for k in range(2,n+1):\n",
        "    #Create new linspace for u_j_k.\n",
        "    new_linspace = np.linspace(a-(n-k),b+(n-k),(b+(n-k))-(a-(n-k))+1)\n",
        "    u_j_k = np.zeros(len(new_linspace))\n",
        "    \n",
        "    #Iterate and fill u_j_k.\n",
        "    for i in range(len(new_linspace)):\n",
        "      j = i + 1\n",
        "      u_j_k[i] = rho*u_j_k_minus_1[j-1] + (1 - 2*rho)*u_j_k_minus_1[j] + rho*u_j_k_minus_1[j+1]\n",
        "    \n",
        "    #Produce true values for comparison, and append to max vector.\n",
        "    true_val = np.zeros(len(new_linspace))\n",
        "    for i in range(len(new_linspace)):\n",
        "      true_val[i] = exact_sol(new_linspace[i]*dx,k*dt)\n",
        "    err_j_k = (u_j_k - true_val)\n",
        "    max_error_vec[k] = max(abs(err_j_k))\n",
        "    \n",
        "    #Identify new values for former_linspace and u_j_(k-1), which allows us to\n",
        "    #Continue the loop.\n",
        "    former_linspace = new_linspace\n",
        "    u_j_k_minus_1 = u_j_k\n",
        "  \n",
        "  true_err_max = max(max_error_vec)\n",
        "  for i in range(len(max_error_vec)):\n",
        "    if true_err_max == max_error_vec[i]:\n",
        "      err_n = i\n",
        "      \n",
        "  return true_err_max, err_n, max_error_vec"
      ],
      "execution_count": 0,
      "outputs": []
    },
    {
      "metadata": {
        "id": "TJjfeP9yjgbV",
        "colab_type": "code",
        "outputId": "feebd841-8d43-4397-f137-321ecfd8e942",
        "colab": {
          "base_uri": "https://localhost:8080/",
          "height": 34
        }
      },
      "cell_type": "code",
      "source": [
        "output_1 = heat_ftcs_err(dx, rho, al, es, f, a, b, 5)\n",
        "print(\"Supnorm of error for FTCS is \" + str(output_1[0]))"
      ],
      "execution_count": 17,
      "outputs": [
        {
          "output_type": "stream",
          "text": [
            "Supnorm of error for FTCS is 0.06854713922733136\n"
          ],
          "name": "stdout"
        }
      ]
    },
    {
      "metadata": {
        "id": "mKOG0fmbj01f",
        "colab_type": "code",
        "colab": {}
      },
      "cell_type": "code",
      "source": [
        "def heat_btcs_err(dx, rho, alpha, exact_sol, phi, a, b, n, m):\n",
        "  dt = rho*(dx**2)/al\n",
        "  \n",
        "  # Initialize with for u_{j}^{0}.\n",
        "  dx_linspace = np.linspace(a,b,int(b/dx)+1)\n",
        "\n",
        "  u_j_0 = np.zeros(len(dx_linspace))\n",
        "  for i in range(len(dx_linspace)):\n",
        "    u_j_0[i] = phi(dx_linspace[i])\n",
        "  \n",
        "  # Initialize True Values Matrix.\n",
        "  true_val = np.zeros(len(dx_linspace))\n",
        "  for j in range(len(dx_linspace)):\n",
        "    true_val[j] = exact_sol(dx_linspace[j],0)\n",
        "  \n",
        "  # Initialize error vector, apply max error value for n = 0.\n",
        "  max_error_vec = np.zeros(m+1)\n",
        "  err_j_0 = (u_j_0 - true_val)\n",
        "  max_error_vec[0] = max(abs(err_j_0))\n",
        "  \n",
        "  # Initialize rho matrix, for use in solving.\n",
        "  rho_matrix = np.zeros((len(dx_linspace),len(dx_linspace)))\n",
        "  for i in range(len(dx_linspace)-1):\n",
        "    if i == 0:\n",
        "      pass\n",
        "    else:\n",
        "      rho_matrix[i,i-1] = -1*rho\n",
        "      rho_matrix[i,i] = 1 + 2*rho\n",
        "      rho_matrix[i,i+1] = -1*rho\n",
        "  rho_matrix[0,0] = 1 + 2*rho\n",
        "  rho_matrix[0,1] = -1*rho\n",
        "  rho_matrix[len(dx_linspace)-1,len(dx_linspace)-2] = -1*rho\n",
        "  rho_matrix[len(dx_linspace)-1,len(dx_linspace)-1] = 1 + 2*rho\n",
        "  \n",
        "  # \"Solve\" for u_j_1 using scipy.linalg.solve\n",
        "  u_j_1 = sl.solve(rho_matrix,u_j_0)\n",
        "  \n",
        "  # Define u_j_1 as the first u_j_k_minus_1 for the for loop.\n",
        "  u_j_k_minus_1 = u_j_1\n",
        "  \n",
        "  # Find n = 1 max error for vector.\n",
        "  true_val = np.zeros(len(dx_linspace))\n",
        "  for j in range(len(dx_linspace)):\n",
        "    true_val[j] = exact_sol(dx_linspace[j],dt)\n",
        "  err_j_1 = (u_j_1 - true_val)\n",
        "  max_error_vec[1] = max(abs(err_j_1))\n",
        "  \n",
        "  # Perform iterative loop for all m >= 2.\n",
        "  for k in range(2,m+1):\n",
        "    # Fill u_j_k by scipy.linalg.solve().\n",
        "    u_j_k = sl.solve(rho_matrix,u_j_k_minus_1)\n",
        "    \n",
        "    # Produce true values for comparison, and append to max vector.\n",
        "    true_val = np.zeros(len(dx_linspace))\n",
        "    for i in range(len(dx_linspace)):\n",
        "      true_val[i] = exact_sol(dx_linspace[i],k*dt)\n",
        "    err_j_k = (u_j_k - true_val)\n",
        "    max_error_vec[k] = max(abs(err_j_k))\n",
        "    \n",
        "    # Identify new values for u_j_(k-1), which allows us to continue the loop.\n",
        "    u_j_k_minus_1 = u_j_k\n",
        "  \n",
        "  true_err_max = max(max_error_vec)\n",
        "  for i in range(len(max_error_vec)):\n",
        "    if true_err_max == max_error_vec[i]:\n",
        "      err_n = i\n",
        "      \n",
        "  return true_err_max, err_n, max_error_vec, err_j_k"
      ],
      "execution_count": 0,
      "outputs": []
    },
    {
      "metadata": {
        "id": "T9-LAIY2tktt",
        "colab_type": "code",
        "colab": {
          "base_uri": "https://localhost:8080/",
          "height": 34
        },
        "outputId": "40ea51ae-089b-41f4-ec07-d706239fc337"
      },
      "cell_type": "code",
      "source": [
        "x = np.linspace(0,1,int((1/dx))+1)\n",
        "print(x)"
      ],
      "execution_count": 90,
      "outputs": [
        {
          "output_type": "stream",
          "text": [
            "[0.  0.2 0.4 0.6 0.8 1. ]\n"
          ],
          "name": "stdout"
        }
      ]
    },
    {
      "metadata": {
        "id": "_byrYv1Or7_7",
        "colab_type": "text"
      },
      "cell_type": "markdown",
      "source": [
        "Consider going to time T = 1, which means that $0.04 = \\frac{1}{m} \\rightarrow m = 25$.\n",
        "\n",
        "Also try $50, 75,$ and $100$ for comparison."
      ]
    },
    {
      "metadata": {
        "id": "BTHPKKcDmMkx",
        "colab_type": "code",
        "outputId": "55dde34a-ba1b-40ad-e285-3d53add2e7fe",
        "colab": {
          "base_uri": "https://localhost:8080/",
          "height": 84
        }
      },
      "cell_type": "code",
      "source": [
        "output_2 = heat_btcs_err(dx,rho,al,es,f,a,b,5,25)\n",
        "print(\"Supnorm of error for BTCS to time 1 is \" + str(output_2[0]))\n",
        "\n",
        "output_3 = heat_btcs_err(dx,rho,al,es,f,a,b,5,50)\n",
        "print(\"Supnorm of error for BTCS to time 2 is \" + str(output_3[0]))\n",
        "\n",
        "output_4 = heat_btcs_err(dx,rho,al,es,f,a,b,5,75)\n",
        "print(\"Supnorm of error for BTCS to time 3 is \" + str(output_4[0]))\n",
        "\n",
        "output_5 = heat_btcs_err(dx,rho,al,es,f,a,b,5,100)\n",
        "print(\"Supnorm of error for BTCS to time 4 is \" + str(output_5[0]))"
      ],
      "execution_count": 94,
      "outputs": [
        {
          "output_type": "stream",
          "text": [
            "Supnorm of error for BTCS to time 1 is 0.19387399477467304\n",
            "Supnorm of error for BTCS to time 2 is 0.19387399477467304\n",
            "Supnorm of error for BTCS to time 3 is 0.19387399477467304\n",
            "Supnorm of error for BTCS to time 4 is 0.19387399477467304\n"
          ],
          "name": "stdout"
        }
      ]
    },
    {
      "metadata": {
        "id": "WVSWiukusTtu",
        "colab_type": "text"
      },
      "cell_type": "markdown",
      "source": [
        "The error seems to peak. Interesting; this rho would have completely broken the FTCS. Either I've done something wrong, or BTCS doesn't have the same stability risk."
      ]
    },
    {
      "metadata": {
        "id": "k0C8es9ckM9S",
        "colab_type": "text"
      },
      "cell_type": "markdown",
      "source": [
        "Now, we want error curves for $t = 1.94, 1.96, 1.98$. In order to get to these values, we need $k\\Delta t = 1.94, 1.96, 1.98$. As $\\Delta t = \\frac{\\rho(\\Delta x)^{2}}{\\alpha} = \\frac{0.2^{2}}{1} = 0.04$, this becomes $k = \\frac{1.94}{0.04}, \\frac{1.96}{0.04}, \\frac{1.98}{0.04} = 48.5, 49, 49.5$. Opt to use $n = 48, 49, 50$ as the \"true\" values, much like in Heat FTCS approximation.\n",
        "\n",
        "Here, we don't need to worry about a decreasing bucket size as n increases (in the FTCS code, we were developing a pyramid that decreased in \"width\" as n increased so we had to go past the N we wanted in order to develop an approximation with a satisfactory set of numbers). The output here is essentially a vertical box, whose size never changes as N goes up or down. Thus, we can simply use these values of $n$ in the argument."
      ]
    },
    {
      "metadata": {
        "id": "XeqVLR1jq6NZ",
        "colab_type": "code",
        "colab": {}
      },
      "cell_type": "code",
      "source": [
        "output_194 = heat_btcs_err(dx,rho,al,es,f,a,b,5,48)\n",
        "output_196 = heat_btcs_err(dx,rho,al,es,f,a,b,5,49)\n",
        "output_198 = heat_btcs_err(dx,rho,al,es,f,a,b,5,50)"
      ],
      "execution_count": 0,
      "outputs": []
    },
    {
      "metadata": {
        "id": "6zlw8vS-rF7H",
        "colab_type": "code",
        "colab": {
          "base_uri": "https://localhost:8080/",
          "height": 312
        },
        "outputId": "d5446da9-3c11-4d15-d883-b0bd3672353e"
      },
      "cell_type": "code",
      "source": [
        "n_vec_1 = output_194[3]\n",
        "x_lin = np.linspace(a,b,int(b/dx)+1)\n",
        "\n",
        "n_vec_2 = output_196[3]\n",
        "\n",
        "n_vec_3 = output_198[3]\n",
        "\n",
        "plt.plot(x_lin,n_vec_1,'g',x_lin,n_vec_2,'b',x_lin,n_vec_3,'r')\n",
        "plt.legend([\"N = 48\", \"N = 49\", \"N = 50\"])\n",
        "plt.title(\"Error curves of BTCS\")\n",
        "plt.ylabel(\"Error\")\n",
        "plt.xlabel(\"x\")"
      ],
      "execution_count": 97,
      "outputs": [
        {
          "output_type": "execute_result",
          "data": {
            "text/plain": [
              "Text(0.5, 0, 'x')"
            ]
          },
          "metadata": {
            "tags": []
          },
          "execution_count": 97
        },
        {
          "output_type": "display_data",
          "data": {
            "image/png": "[encoded data removed]",
            "text/plain": [
              "<Figure size 432x288 with 1 Axes>"
            ]
          },
          "metadata": {
            "tags": []
          }
        }
      ]
    },
    {
      "metadata": {
        "id": "6e10RwV9viHA",
        "colab_type": "text"
      },
      "cell_type": "markdown",
      "source": [
        "I don't really have any other analysis here but I will say that I find it interesting that the error is still decreasing here, despite how it'd be breaking massively in FTCS as of this point."
      ]
    }
  ]
}