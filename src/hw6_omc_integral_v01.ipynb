{
  "nbformat": 4,
  "nbformat_minor": 0,
  "metadata": {
    "colab": {
      "name": "hw6_omc_integral_v01.ipynb",
      "version": "0.3.2",
      "provenance": [],
      "include_colab_link": true
    },
    "kernelspec": {
      "name": "python3",
      "display_name": "Python 3"
    }
  },
  "cells": [
    {
      "cell_type": "markdown",
      "metadata": {
        "id": "view-in-github",
        "colab_type": "text"
      },
      "source": [
        "<a href=\"https://colab.research.google.com/github/TALeonard/19ma573thomasleonard/blob/master/src/hw6_omc_integral_v01.ipynb\" target=\"_parent\"><img src=\"https://colab.research.google.com/assets/colab-badge.svg\" alt=\"Open In Colab\"/></a>"
      ]
    },
    {
      "metadata": {
        "id": "SpSMxUIyy5dh",
        "colab_type": "text"
      },
      "cell_type": "markdown",
      "source": [
        "We want to attempt to develop code for omc_integral to approximate the integral\n",
        "\n",
        "$$\\int_{0}^{1}h(x)dx$$\n",
        "\n",
        "where\n",
        "\n",
        "$$h(x) = 100*I_{(0,\\frac{1}{100}]}(x)+1*I_{(\\frac{1}{100},1)}(x)$$\n",
        "\n",
        "First, import modules. We will need scipy.stats for the convergence rate down the line, and numpy for the random generation."
      ]
    },
    {
      "metadata": {
        "id": "EM0UEJoAy3GG",
        "colab_type": "code",
        "colab": {}
      },
      "cell_type": "code",
      "source": [
        "import numpy as np\n",
        "import scipy.stats as ss\n",
        "import matplotlib.pyplot as plt"
      ],
      "execution_count": 0,
      "outputs": []
    },
    {
      "metadata": {
        "id": "lJ8YzSSszByB",
        "colab_type": "code",
        "colab": {}
      },
      "cell_type": "code",
      "source": [
        "def omc_integral(n):\n",
        "    array = np.zeros((n,1))\n",
        "    for i in range(n):\n",
        "        y = np.random.uniform()\n",
        "        if y <= 0.01:\n",
        "            x = 100\n",
        "        else:\n",
        "            x = 1\n",
        "        array[i] = x\n",
        "    average = np.mean(array)\n",
        "    return average"
      ],
      "execution_count": 0,
      "outputs": []
    },
    {
      "metadata": {
        "id": "w5gTeP3szFqf",
        "colab_type": "text"
      },
      "cell_type": "markdown",
      "source": [
        "Now, create code to demonstrate convergence rate."
      ]
    },
    {
      "metadata": {
        "id": "pN1hcLhvzG-Z",
        "colab_type": "code",
        "colab": {
          "base_uri": "https://localhost:8080/",
          "height": 378
        },
        "outputId": "c944003f-ce8e-4b48-8ed3-5682e38f8cd3"
      },
      "cell_type": "code",
      "source": [
        "# m is batch number, i_lower and i_upper set bounds of range.\n",
        "m = 100\n",
        "\n",
        "# Create main array to store all outputs in.\n",
        "master_array = np.zeros((m,6))\n",
        "\n",
        "# Populate array with outputs of omc_integral\n",
        "for i in range(5,11): #Use 11 as upper bound so range goes to 10\n",
        "    for j in range(m):\n",
        "        master_array[j,i-5] = omc_integral(2**i)\n",
        "        \n",
        "# With array populated, find standard deviation for each value of i.\n",
        "stdev_array = np.zeros((6,1))\n",
        "\n",
        "for i in range(6):\n",
        "    stdev_array[i,0] = np.std(master_array[:,i])\n",
        "    \n",
        "# Now, plot and find the slop for data.\n",
        "x_var = np.arange(5,11)\n",
        "y_var = np.zeros(len(x_var))\n",
        "\n",
        "for i in range(len(stdev_array)):\n",
        "    y_var[i] = -1*(np.log2(stdev_array[i,0]))\n",
        "    \n",
        "plt.plot(x_var,y_var)\n",
        "plt.xlabel('i')\n",
        "plt.ylabel('-log_2 (sigma_i)')\n",
        "\n",
        "out = ss.linregress(x_var,y_var)\n",
        "print('----->>>the convergence order is ' + str(-out[0]))"
      ],
      "execution_count": 63,
      "outputs": [
        {
          "output_type": "stream",
          "text": [
            "----->>>the convergence order is -0.5139868125446612\n"
          ],
          "name": "stdout"
        },
        {
          "output_type": "display_data",
          "data": {
            "image/png": "[encoded data removed]",
            "text/plain": [
              "<Figure size 576x396 with 1 Axes>"
            ]
          },
          "metadata": {
            "tags": []
          }
        }
      ]
    },
    {
      "metadata": {
        "id": "gH5lgdMQzIv0",
        "colab_type": "text"
      },
      "cell_type": "markdown",
      "source": [
        "From here, simply need to perform the \"standard\" convergence rate computation using RMSE.\n",
        "\n",
        "Finding the RMSE involves taking our approximations and comparing them against the true value. Here, the true value is going to be $1.99$ (while the problem says 1.98, this is incorrect as the professor acknowledged in class). I will re-use the RMSE code from the last assignment here."
      ]
    },
    {
      "metadata": {
        "id": "0EVBfVDp7ue7",
        "colab_type": "code",
        "colab": {}
      },
      "cell_type": "code",
      "source": [
        "def rmse_of_vector(predictions, act_vals):\n",
        "  # Default check: make sure both vectors are same length.\n",
        "  if len(predictions) == len(act_vals):\n",
        "    pass\n",
        "  else:\n",
        "    return(\"Inputs are not the same length.\")\n",
        "  # Produce difference between estimates and target values (actual value)\n",
        "  diff_vector = [predictions[i]-act_vals[i] for i in range(len(predictions))]\n",
        "  \n",
        "  # Take square of above values\n",
        "  diff_square = [diff_vector[i]**2 for i in range(len(diff_vector))]\n",
        "  \n",
        "  # Convert to array, find mean.\n",
        "  diff_array = np.asarray(diff_square)\n",
        "  diff_mean = diff_array.mean()\n",
        "  \n",
        "  # RMSE is square root of above mean value.\n",
        "  rmse = np.sqrt(diff_mean)\n",
        "  return rmse"
      ],
      "execution_count": 0,
      "outputs": []
    },
    {
      "metadata": {
        "id": "XVpspiUf7xKK",
        "colab_type": "code",
        "colab": {
          "base_uri": "https://localhost:8080/",
          "height": 378
        },
        "outputId": "8471135b-b3ac-4322-b7eb-da050ea6c3a0"
      },
      "cell_type": "code",
      "source": [
        "target_vector = []\n",
        "for i in range(100):\n",
        "  target_vector.append(1.99)\n",
        "\n",
        "N_vector = [2**5, 2**6, 2**7, 2**8, 2**9, 2**10]\n",
        "RMSE_vector = [rmse_of_vector(master_array[:,0],target_vector),\n",
        "              rmse_of_vector(master_array[:,1],target_vector),\n",
        "              rmse_of_vector(master_array[:,2],target_vector),\n",
        "              rmse_of_vector(master_array[:,3],target_vector),\n",
        "              rmse_of_vector(master_array[:,4],target_vector),\n",
        "              rmse_of_vector(master_array[:,5],target_vector)]\n",
        "\n",
        "plt.plot(N_vector,RMSE_vector,label=\"RMSE of Integral Approximation\")\n",
        "plt.xlabel(\"N\")\n",
        "plt.ylabel(\"RMSE\")\n",
        "plt.legend()"
      ],
      "execution_count": 67,
      "outputs": [
        {
          "output_type": "execute_result",
          "data": {
            "text/plain": [
              "<matplotlib.legend.Legend at 0x7f154a9ec9b0>"
            ]
          },
          "metadata": {
            "tags": []
          },
          "execution_count": 67
        },
        {
          "output_type": "display_data",
          "data": {
            "image/png": "[encoded data removed]",
            "text/plain": [
              "<Figure size 576x396 with 1 Axes>"
            ]
          },
          "metadata": {
            "tags": []
          }
        }
      ]
    },
    {
      "metadata": {
        "id": "HiJxfkqX-AF4",
        "colab_type": "text"
      },
      "cell_type": "markdown",
      "source": [
        "As before, use a log-log plot to find the \"exact\" result from the RMSE."
      ]
    },
    {
      "metadata": {
        "id": "dAT7FwMU7zEM",
        "colab_type": "code",
        "colab": {
          "base_uri": "https://localhost:8080/",
          "height": 378
        },
        "outputId": "1385d1ce-513b-4f70-8476-4f8305c37ab4"
      },
      "cell_type": "code",
      "source": [
        "nn = np.log2(N_vector)\n",
        "yy = np.log2(np.abs(RMSE_vector))\n",
        "\n",
        "plt.plot(nn,yy,label=\"Log-log plot of RMSE\")\n",
        "plt.xlabel(\"Log(N)\")\n",
        "plt.ylabel(\"Log(|RMSE|)\")\n",
        "plt.legend()"
      ],
      "execution_count": 68,
      "outputs": [
        {
          "output_type": "execute_result",
          "data": {
            "text/plain": [
              "<matplotlib.legend.Legend at 0x7f154aa10ef0>"
            ]
          },
          "metadata": {
            "tags": []
          },
          "execution_count": 68
        },
        {
          "output_type": "display_data",
          "data": {
            "image/png": "[encoded data removed]",
            "text/plain": [
              "<Figure size 576x396 with 1 Axes>"
            ]
          },
          "metadata": {
            "tags": []
          }
        }
      ]
    },
    {
      "metadata": {
        "id": "aFjqSj5W-HQV",
        "colab_type": "code",
        "colab": {
          "base_uri": "https://localhost:8080/",
          "height": 34
        },
        "outputId": "3dd694af-9db9-4e9e-c8cf-583b0bf53488"
      },
      "cell_type": "code",
      "source": [
        "out_2 = ss.linregress(nn,yy)\n",
        "print('----->>>the convergence order is ' + str(-out_2[0]))"
      ],
      "execution_count": 69,
      "outputs": [
        {
          "output_type": "stream",
          "text": [
            "----->>>the convergence order is 0.5136757312935791\n"
          ],
          "name": "stdout"
        }
      ]
    },
    {
      "metadata": {
        "id": "BbJcwSnR_Awt",
        "colab_type": "text"
      },
      "cell_type": "markdown",
      "source": [
        "We can see that this matches the numerically computed convergence order we found above."
      ]
    }
  ]
}