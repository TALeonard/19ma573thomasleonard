{
  "nbformat": 4,
  "nbformat_minor": 0,
  "metadata": {
    "colab": {
      "name": "hw10_2d_ito.ipynb",
      "version": "0.3.2",
      "provenance": [],
      "include_colab_link": true
    },
    "kernelspec": {
      "name": "python3",
      "display_name": "Python 3"
    }
  },
  "cells": [
    {
      "cell_type": "markdown",
      "metadata": {
        "id": "view-in-github",
        "colab_type": "text"
      },
      "source": [
        "<a href=\"https://colab.research.google.com/github/TALeonard/19ma573thomasleonard/blob/master/src/hw10_2d_ito.ipynb\" target=\"_parent\"><img src=\"https://colab.research.google.com/assets/colab-badge.svg\" alt=\"Open In Colab\"/></a>"
      ]
    },
    {
      "metadata": {
        "id": "Ax7nXC4Url9K",
        "colab_type": "text"
      },
      "cell_type": "markdown",
      "source": [
        "Given an arbitrary random process $(X_{1,t}, X_{2,t})$ satisfying\n",
        "\n",
        "$$dX_{1.t} = b_{1}dt + \\sigma_{11}dW_{1,t} + \\sigma_{12}dW_{2,t}$$\n",
        "\n",
        "$$dX_{2.t} = b_{2}dt + \\sigma_{21}dW_{1,t} + \\sigma_{22}dW_{2,t}$$\n",
        "\n",
        "where $(W_{1}, W_{2})$ is a 2-d BM. Complete the ito formula for a smooth function f.\n",
        "\n",
        "# Result\n",
        "\n",
        "First, I will write using the \"formal\" notation. After identifying the result in this notation, I will rewrite it as integrals.\n",
        "\n",
        "$$df = \\frac{\\partial f}{\\partial x_{1}}(X_{1,t},X_{2,t})dX_{1,t} + \\frac{\\partial f}{\\partial x_{2}}(X_{1,t},X_{2,t})dX_{2,t} + \\frac{1}{2}\\frac{\\partial^{2} f}{\\partial x_{1}^{2}}(X_{1,t},X_{2,t})dX_{1,t}dX_{1,t} + \\frac{1}{2}\\frac{\\partial^{2} f}{\\partial x_{2}^{2}}(X_{1,t},X_{2,t})dX_{2,t}dX_{2,t} + \\frac{\\partial^{2} f}{\\partial x_{1}x_{2}}(X_{1,t},X_{2,t})dX_{1,t}dX_{2,t}$$\n",
        "\n",
        "Now, expand the double $dX_{i,t}$ terms. Only terms which both have the same $dW_{i,t}$ will survive:\n",
        "\n",
        "$$dX_{1,t}dX_{1,t} = (\\sigma_{11}^{2} + \\sigma_{12}^{2})dt$$\n",
        "\n",
        "$$dX_{2,t}dX_{2,t} = (\\sigma_{21}^{2} + \\sigma_{22}^{2})dt$$\n",
        "\n",
        "$$dX_{1,t}dX_{2,t} = (\\sigma_{11}\\sigma_{21} + \\sigma_{12}\\sigma_{22})dt$$\n",
        "\n",
        "For brevity, denote the partials as $f_{1}$ and $f_{2}$ for the partial derivative with respect to $X_{1,t}$ and $X_{2.t}$ respectively.\n",
        "\n",
        "$$df = f_{1}(b_{1}dt + \\sigma_{11}dW_{1,t} + \\sigma_{12}dW_{2,t}) + f_{2}(b_{2}dt + \\sigma_{21}dW_{1,t} + \\sigma_{22}dW_{2,t}) + \\frac{1}{2}f_{11}(\\sigma_{11}^{2} + \\sigma_{12}^{2})dt + \\frac{1}{2}f_{22}(\\sigma_{21}^{2} + \\sigma_{22}^{2})dt + f_{12}(\\sigma_{11}\\sigma_{21} + \\sigma_{12}\\sigma_{22})dt$$\n",
        "\n",
        "$$= (f_{1}b_{1} + f_{2}b_{2} +  f_{12}(\\sigma_{11}\\sigma_{21} + \\sigma_{12}\\sigma_{22}) + \\frac{1}{2}(f_{11}(\\sigma_{11}^{2} + \\sigma_{12}^{2}) + f_{22}(\\sigma_{21}^{2} + \\sigma_{22}^{2})))dt + (f_{1}\\sigma_{11} + f_{2}\\sigma_{21})dW_{1,t} + (f_{1}\\sigma_{12} + f_{2}\\sigma_{22})dW_{2,t}$$\n",
        "\n",
        "Now, we can write as integrals.\n",
        "\n",
        "$$f(X_{1,t},X_{2,t}) = f(X_{1,0},X_{2,0}) + $$\n",
        "\n",
        "$$\\int_{0}^{t}f_{1}b_{1} + f_{2}b_{2} +  f_{12}(\\sigma_{11}\\sigma_{21} + \\sigma_{12}\\sigma_{22}) + \\frac{1}{2}(f_{11}(\\sigma_{11}^{2} + \\sigma_{12}^{2}) + f_{22}(\\sigma_{21}^{2} + \\sigma_{22}^{2}))ds $$\n",
        "\n",
        "$$+ \\int_{0}^{t}f_{1}\\sigma_{11} + f_{2}\\sigma_{21}dW_{1,s} + \\int_{0}^{t}f_{1}\\sigma_{12} + f_{2}\\sigma_{22}dW_{2,t}$$\n",
        "\n",
        "I have opted to move the integrals to lower lines so the entire integral was written on a single line."
      ]
    }
  ]
}