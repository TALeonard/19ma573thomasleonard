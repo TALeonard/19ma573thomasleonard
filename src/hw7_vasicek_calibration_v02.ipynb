{
  "nbformat": 4,
  "nbformat_minor": 0,
  "metadata": {
    "colab": {
      "name": "hw7_vasicek_calibration_v01.ipynb",
      "version": "0.3.2",
      "provenance": [],
      "include_colab_link": true
    },
    "kernelspec": {
      "name": "python3",
      "display_name": "Python 3"
    }
  },
  "cells": [
    {
      "cell_type": "markdown",
      "metadata": {
        "id": "view-in-github",
        "colab_type": "text"
      },
      "source": [
        "<a href=\"https://colab.research.google.com/github/TALeonard/19ma573thomasleonard/blob/master/src/hw7_vasicek_calibration_v02.ipynb\" target=\"_parent\"><img src=\"https://colab.research.google.com/assets/colab-badge.svg\" alt=\"Open In Colab\"/></a>"
      ]
    },
    {
      "metadata": {
        "id": "YgIiFIoXkbml",
        "colab_type": "text"
      },
      "cell_type": "markdown",
      "source": [
        "#Part 1: Verify the solution.\n",
        "\n",
        "Verify the explicit form of $r_{t}$ given by\n",
        "\n",
        "$$r_{t} = r_{0}e^{-\\kappa t} + \\mu(1 - e^{-\\kappa t}) + \\sigma e^{-\\kappa t}\\int_{0}^{t}e^{\\kappa s} dW_{s}$$\n",
        "\n",
        "is the solution to the original Vasicek model, that being\n",
        "\n",
        "$$dr_{t} = \\kappa(\\mu - r_{t})dt + \\sigma dW_{t},$$\n",
        "\n",
        "Given a Vasicek model with parameter $\\theta = (\\kappa, \\mu, \\sigma, r_{0})$."
      ]
    },
    {
      "metadata": {
        "id": "mHCZiKTI-AKK",
        "colab_type": "text"
      },
      "cell_type": "markdown",
      "source": [
        "Consider $dr_{t}$ as a differential equation. Isolate all $r_{t}$ terms on one side.\n",
        "\n",
        "$$dr_{t} + \\kappa r_{t} dt = \\kappa \\mu dt + \\sigma dW_{t}$$\n",
        "\n",
        "With respect to $dr_{t}$ this is now a standard integrating factor problem. Identify the integrating factor as \n",
        "\n",
        "$$e^{\\int \\kappa dt} = e^{\\kappa t}$$\n",
        "\n",
        "Multiply both sides by the integrating factor and condense left-hand side as is \"standard\" in this type of problem:\n",
        "\n",
        "$$\\rightarrow e^{\\kappa t} (dr_{t} + \\kappa r_{t} dt) = e^{\\kappa t} (\\kappa \\mu dt + \\sigma dW_{t})$$\n",
        "\n",
        "$$\\rightarrow d(e^{\\kappa t}r_{t}) =  e^{\\kappa t}\\kappa \\mu dt +  e^{\\kappa t} \\sigma dW_{t}$$\n",
        "\n",
        "Integrate both sides, swapping any and all instances of $t$ on the right hand side for a dummy variable $s$:\n",
        "\n",
        "$$\\rightarrow \\int_{0}^{t}d(e^{\\kappa t}r_{t}) =  \\int_{0}^{t}e^{\\kappa s}\\kappa \\mu ds +  \\int_{0}^{t}e^{\\kappa s} \\sigma dW_{s}$$\n",
        "\n",
        "For the left-hand side, note that\n",
        "\n",
        "$$\\int_{0}^{t}d(e^{\\kappa t}r_{t}) =  [e^{\\kappa t}r_{t}]_{0}^{t} = e^{\\kappa t}r_{t} - r_{0}$$\n",
        "\n",
        "So we have\n",
        "\n",
        "$$\\rightarrow e^{\\kappa t}r_{t} = r_{0} +  \\int_{0}^{t}e^{\\kappa s}\\kappa \\mu ds +  \\int_{0}^{t}e^{\\kappa s} \\sigma dW_{s}$$\n",
        "\n",
        "All that remains is to evaluate the first of the 2 remaining integrals and divide both sides by $e^{\\kappa t}$. First, consider the integral\n",
        "\n",
        "$$\\int_{0}^{t}e^{\\kappa s}\\kappa \\mu ds = \\kappa \\mu \\int_{0}^{t}e^{\\kappa s} = \\kappa \\mu [e^{\\kappa s}\\frac{1}{\\kappa}]_{0}^{t} =  \\kappa \\mu \\frac{1}{\\kappa}[e^{\\kappa t} - 1]$$\n",
        "\n",
        "$$=\\mu (e^{\\kappa t} - 1)$$\n",
        "\n",
        "Substitute this into the equation:\n",
        "\n",
        "$$\\rightarrow  e^{\\kappa t}r_{t} = r_{0} +  \\mu (e^{\\kappa t} - 1) +  \\int_{0}^{t}e^{\\kappa s} \\sigma dW_{s}$$\n",
        "\n",
        "Multiply both sides by $e^{-\\kappa t}$ and simplify to find our result:\n",
        "\n",
        "$$r_{t} = e^{-\\kappa t}r_{0} +  e^{-\\kappa t}\\mu (e^{\\kappa t} - 1) +  e^{-\\kappa t}\\int_{0}^{t}e^{\\kappa s} \\sigma dW_{s}$$\n",
        "\n",
        "$$=r_{0}e^{-\\kappa t} +  \\mu (1 - e^{-\\kappa t}) +  \\sigma e^{-\\kappa t}\\int_{0}^{t}e^{\\kappa s}  dW_{s}$$\n",
        "\n",
        "Which shows that the given equation of $r_{t}$ is a solution to the original Vasicek model. $\\square$"
      ]
    },
    {
      "metadata": {
        "id": "Ou0T5-Kl_Pqn",
        "colab_type": "text"
      },
      "cell_type": "markdown",
      "source": [
        "#Part 2: Design pricing engine of ZCB P(0,T) using the explicit formula. \n",
        "\n",
        "First, import modules."
      ]
    },
    {
      "metadata": {
        "id": "aFWK65Xj_U4F",
        "colab_type": "code",
        "colab": {}
      },
      "cell_type": "code",
      "source": [
        "import numpy as np\n",
        "import scipy.stats as ss"
      ],
      "execution_count": 0,
      "outputs": []
    },
    {
      "metadata": {
        "id": "ADdzQSng97JO",
        "colab_type": "code",
        "colab": {}
      },
      "cell_type": "code",
      "source": [
        "def zcb_price_explicit(T,kappa,mu,sigma,r0):\n",
        "  #Compute B(0,T).\n",
        "  B = (1 - np.exp(-1 * kappa * T))/kappa\n",
        "  \n",
        "  #Now, compute A(0,T).\n",
        "  A = ((mu - ((sigma**2)/(2*(kappa**2)))) * (B - T)) - (((sigma**2)/(4*kappa))*(B**2))\n",
        "  \n",
        "  #Given these, compute A - B*r0.\n",
        "  diff = A - (B * r0)\n",
        "  \n",
        "  #Price is the exp(diff).\n",
        "  return np.exp(diff)"
      ],
      "execution_count": 0,
      "outputs": []
    },
    {
      "metadata": {
        "id": "uix7RIfkAdL6",
        "colab_type": "text"
      },
      "cell_type": "markdown",
      "source": [
        "#Part 3: Design alternative engine to price ZCB P(0,T) using exact sampling.\n",
        "\n",
        "The integral inside the expectation follows a normal distribution with\n",
        "\n",
        "$$\\mu_{r} = \\mu T + (r_{0} - \\mu)\\frac{1-e^{-\\kappa T}}{\\kappa}$$\n",
        "\n",
        "$$\\sigma^{2}_{r} = \\frac{\\sigma^{2}}{2\\kappa^{3}}(2\\kappa T - 3 + 4e^{-\\kappa T} - e^{-2 \\kappa T})$$\n",
        "\n",
        "Use this information to produce random samples of a related normal RV and find the samples' average to approximate the expected value by."
      ]
    },
    {
      "metadata": {
        "id": "rxpOX2BUBLAc",
        "colab_type": "code",
        "colab": {}
      },
      "cell_type": "code",
      "source": [
        "def zcb_price_exact_sample(T,kappa,mu,sigma,r0,num_path):\n",
        "  #First, compute the mean and variance of the exponent.\n",
        "  mu_r = (mu*T) + ((r0 - mu)*(1-np.exp(-1*kappa*T))/kappa)\n",
        "  var_r = ((sigma**2)/(2*(kappa**3)))*((2*kappa*T) - 3 + (4*np.exp(-1*kappa*T)) - np.exp(-2*kappa*T))\n",
        "  \n",
        "  #With this, we can compute (num_path) many iterations of the integral.\n",
        "  #Generate random values for R, the random variable at hand.\n",
        "  r = np.random.normal(mu_r,var_r,num_path)\n",
        "  \n",
        "  #Create \"realized\" values for e^(-R(T))\n",
        "  r_output = np.exp(-1 * r)\n",
        "  \n",
        "  #Return the mean of the realized values.\n",
        "  return r_output.mean()"
      ],
      "execution_count": 0,
      "outputs": []
    },
    {
      "metadata": {
        "id": "QiaXMQqOC6XW",
        "colab_type": "text"
      },
      "cell_type": "markdown",
      "source": [
        "#Part 4: Compute ZCB P(0,1) and Libor L(0,1) using the parameters outlined in the assignment.\n",
        "\n",
        "Method is to be done through both engines. No number of paths is given, so I will use 1000."
      ]
    },
    {
      "metadata": {
        "id": "O01fuiGYDA0t",
        "colab_type": "code",
        "colab": {}
      },
      "cell_type": "code",
      "source": [
        "'''=======paras======='''\n",
        "theta = [.1, .05, .003, .03]\n",
        "kappa, mu, sigma, r0 = theta\n",
        "num_path = 1000"
      ],
      "execution_count": 0,
      "outputs": []
    },
    {
      "metadata": {
        "id": "iZUNte0aDKAS",
        "colab_type": "code",
        "outputId": "e5d3e4cd-dd40-48e0-de0b-421082933294",
        "colab": {
          "base_uri": "https://localhost:8080/",
          "height": 50
        }
      },
      "cell_type": "code",
      "source": [
        "formula_price = zcb_price_explicit(1,kappa,mu,sigma,r0)\n",
        "sample_price = zcb_price_exact_sample(1,kappa,mu,sigma,r0,num_path)\n",
        "\n",
        "print(\"ZCB P(0,1) price by formula is \" + str(formula_price))\n",
        "print(\"ZCB P(0,1) price by exact sampling is \" + str(sample_price))"
      ],
      "execution_count": 0,
      "outputs": [
        {
          "output_type": "stream",
          "text": [
            "ZCB P(0,1) price by formula is 0.9695084475425054\n",
            "ZCB P(0,1) price by exact sampling is 0.9695070862513501\n"
          ],
          "name": "stdout"
        }
      ]
    },
    {
      "metadata": {
        "id": "Btl4jYE3DtFX",
        "colab_type": "code",
        "outputId": "ccdc3c36-a722-45b5-a3fc-20254bf4d244",
        "colab": {
          "base_uri": "https://localhost:8080/",
          "height": 50
        }
      },
      "cell_type": "code",
      "source": [
        "# Use above values to compute LIBOR L(0,1) values.\n",
        "# L(t,T) = (100/(T-t)) * ((1/P(t,T)) - 1)\n",
        "\n",
        "def libor_price(T,P):\n",
        "  #WARNING: THIS ASSUMES STARTING TIME IS 0, I.E. L(0,T).\n",
        "  #P is price of relevant ZCB.\n",
        "  factor_1 = 100/(T)\n",
        "  factor_2 = (1/P) - 1\n",
        "  return factor_1 * factor_2\n",
        "\n",
        "print(\"LIBOR L(0,1) price using ZCB formula price is \" + str(libor_price(1,formula_price)))\n",
        "print(\"LIBOR L(0,1) price using ZCB sample price is \" + str(libor_price(1,sample_price)))"
      ],
      "execution_count": 0,
      "outputs": [
        {
          "output_type": "stream",
          "text": [
            "LIBOR L(0,1) price using ZCB formula price is 3.145052787810565\n",
            "LIBOR L(0,1) price using ZCB sample price is 3.145197614444717\n"
          ],
          "name": "stdout"
        }
      ]
    },
    {
      "metadata": {
        "id": "bKMRPf5mE0lZ",
        "colab_type": "text"
      },
      "cell_type": "markdown",
      "source": [
        "#Part 5: Price 10-term swap rates with term length 1/2 year.\n",
        "\n",
        "This translates to finding the price of $s(t = 0, T = 5, N = 10)$.\n",
        "\n",
        "This is just a simple computation. Define swap rate pricing engine, and produce results via both engines."
      ]
    },
    {
      "metadata": {
        "id": "pdKe-9RnFDwy",
        "colab_type": "code",
        "colab": {}
      },
      "cell_type": "code",
      "source": [
        "def swap_price(T,N,kappa,mu,sigma,r0,num_path):\n",
        "  #WARNING: THIS ASSUMES STARTING TIME IS 0, I.E. L(0,T).\n",
        "  #Define delta.\n",
        "  delta = T/N\n",
        "  \n",
        "  #Create array to store P(t,t+j*delta) terms. Compute using both engines.\n",
        "  price_explicit = np.zeros(N)\n",
        "  price_sample = np.zeros(N)\n",
        "  \n",
        "  #Iteratively fill price matrix.\n",
        "  for j in range(N):\n",
        "    price_explicit[j] = zcb_price_explicit((j+1)*delta,kappa,mu,sigma,r0)\n",
        "    price_sample[j] = zcb_price_exact_sample((j+1)*delta,kappa,mu,sigma,r0,num_path)\n",
        "  \n",
        "  #Produce numerators and denominators.\n",
        "  num_explicit = 1 - price_explicit[N-1]\n",
        "  denom_explicit = price_explicit.sum()\n",
        "  \n",
        "  num_sample = 1 - price_sample[N-1]\n",
        "  denom_sample = price_sample.sum()\n",
        "  \n",
        "  s_explicit = 100 * num_explicit / denom_explicit\n",
        "  \n",
        "  s_sample = 100 * num_sample / denom_sample\n",
        "  \n",
        "  print(\"10-term swap rate with term length 1/2 year using the formula is \" + str(s_explicit))\n",
        "  print(\"10-term swap rate with term length 1/2 year using exact sampling is \" + str(s_sample))"
      ],
      "execution_count": 0,
      "outputs": []
    },
    {
      "metadata": {
        "id": "6hL2Ft6JGchg",
        "colab_type": "code",
        "outputId": "dbf2104c-8cf2-4081-bd3f-0f4faecf476c",
        "colab": {
          "base_uri": "https://localhost:8080/",
          "height": 50
        }
      },
      "cell_type": "code",
      "source": [
        "#Now, compute.\n",
        "\n",
        "swap_price(5,10,kappa,mu,sigma,r0,num_path)"
      ],
      "execution_count": 0,
      "outputs": [
        {
          "output_type": "stream",
          "text": [
            "10-term swap rate with term length 1/2 year using the formula is 1.7209106981949385\n",
            "10-term swap rate with term length 1/2 year using exact sampling is 1.7222767596811837\n"
          ],
          "name": "stdout"
        }
      ]
    },
    {
      "metadata": {
        "id": "gr3-kstZizfw",
        "colab_type": "text"
      },
      "cell_type": "markdown",
      "source": [
        "# Part 6: LIBOR Calibration of Vasicek [NEED TO DO]\n",
        "\n",
        "Given the supplied data, we want to calibrate the Vasicek model. 5 Data points to find 4 unknowns: $\\kappa$, $\\mu$, $\\sigma$, and $r_{0}$. I will opt to use SSRE, as the assignment references.\n",
        "\n",
        "The idea broadly speaking will be this:\n",
        "\n",
        "1. Use the given LIBOR rates for one time period to find related ZCB P(0,T) rates.\n",
        "\n",
        "2. Given said rates, use code to calculate \"ideal\" combination of the 4 unknowns (found through SSRE)\n",
        "\n",
        "3. Given said combination, re-calculate the ZCB price for each time period and use this to find the respective LIBOR rate.\n",
        "\n",
        "4. Plot against the true values of the LIBOR rate."
      ]
    },
    {
      "metadata": {
        "id": "v390DcIvjmv-",
        "colab_type": "code",
        "colab": {}
      },
      "cell_type": "code",
      "source": [
        ""
      ],
      "execution_count": 0,
      "outputs": []
    },
    {
      "metadata": {
        "id": "2NjTd2JhjnBJ",
        "colab_type": "text"
      },
      "cell_type": "markdown",
      "source": [
        "# Part 7: Swap Calibration of Vasicek [NEED TO DO]\n",
        "\n",
        "Given the supplied data, we want to calibrate the Vasicek model. We again wish to find values for the 4 unknowns: $\\kappa$, $\\mu$, $\\sigma$, and $r_{0}$. I will again opt to use SSRE. The term length for these data points is $\\frac{1}{2}$ a year, i.e. for the 2-year swap we'd consider $s(t=0,T=2,N=4)$.\n",
        "\n",
        "The idea broadly speaking will be this:\n",
        "\n",
        "1. Use the given swap rates for one time period to find a set of \"ideal\" unknowns. This will be a touch more difficult since we now have multiple ZCB P(0,T) rates to work with (the first term alone will have 4 separate ZCB rates).\n",
        "\n",
        "2. Given said combination, re-calculate the ZCB price for each time period and use this to find the respective swap rates.\n",
        "\n",
        "3. Plot against the true values of the swap rates."
      ]
    }
  ]
}