{
  "nbformat": 4,
  "nbformat_minor": 0,
  "metadata": {
    "colab": {
      "name": "MA573_Project_Larger_Scale_IV_Calculation.ipynb",
      "version": "0.3.2",
      "provenance": [],
      "collapsed_sections": [],
      "include_colab_link": true
    },
    "kernelspec": {
      "name": "python3",
      "display_name": "Python 3"
    }
  },
  "cells": [
    {
      "cell_type": "markdown",
      "metadata": {
        "id": "view-in-github",
        "colab_type": "text"
      },
      "source": [
        "<a href=\"https://colab.research.google.com/github/TALeonard/19ma573thomasleonard/blob/master/src/MA573_Project_Larger_Scale_IV_Calculation.ipynb\" target=\"_parent\"><img src=\"https://colab.research.google.com/assets/colab-badge.svg\" alt=\"Open In Colab\"/></a>"
      ]
    },
    {
      "metadata": {
        "id": "dva6KmQYXwdu",
        "colab_type": "text"
      },
      "cell_type": "markdown",
      "source": [
        "We are going to attempt to compute implied volatilities for the system. Import numpy, scipy.stats and pyplot for the sake of use, and clone in the proper files from my directory."
      ]
    },
    {
      "metadata": {
        "id": "vwhrbJT8Y8Jt",
        "colab_type": "code",
        "colab": {
          "base_uri": "https://localhost:8080/",
          "height": 134
        },
        "outputId": "833dd713-a90c-40b4-cd6c-71f6a24e4371"
      },
      "cell_type": "code",
      "source": [
        "!git clone https://github.com/TALeonard/19ma573thomasleonard.git #Only run once!"
      ],
      "execution_count": 1,
      "outputs": [
        {
          "output_type": "stream",
          "text": [
            "Cloning into '19ma573thomasleonard'...\n",
            "remote: Enumerating objects: 120, done.\u001b[K\n",
            "remote: Counting objects: 100% (120/120), done.\u001b[K\n",
            "remote: Compressing objects: 100% (120/120), done.\u001b[K\n",
            "remote: Total 406 (delta 43), reused 0 (delta 0), pack-reused 286\u001b[K\n",
            "Receiving objects: 100% (406/406), 1.50 MiB | 21.92 MiB/s, done.\n",
            "Resolving deltas: 100% (145/145), done.\n"
          ],
          "name": "stdout"
        }
      ]
    },
    {
      "metadata": {
        "id": "-Rz30YYrY9yg",
        "colab_type": "code",
        "colab": {
          "base_uri": "https://localhost:8080/",
          "height": 34
        },
        "outputId": "cfc77680-bc7b-4e8f-f826-4e44ae88bb60"
      },
      "cell_type": "code",
      "source": [
        "cd /content/19ma573thomasleonard/src/"
      ],
      "execution_count": 2,
      "outputs": [
        {
          "output_type": "stream",
          "text": [
            "/content/19ma573thomasleonard/src\n"
          ],
          "name": "stdout"
        }
      ]
    },
    {
      "metadata": {
        "id": "3qAZx8CnXwIG",
        "colab_type": "code",
        "colab": {}
      },
      "cell_type": "code",
      "source": [
        "import numpy as np\n",
        "import scipy.optimize as so\n",
        "import matplotlib.pyplot as plt\n",
        "import csv\n",
        "from european_options_class import VanillaOption\n",
        "from gbm_1d_class_v02 import Gbm"
      ],
      "execution_count": 0,
      "outputs": []
    },
    {
      "metadata": {
        "id": "-wl4LBoDdMF1",
        "colab_type": "text"
      },
      "cell_type": "markdown",
      "source": [
        "Define the \"default\" parameters which are true for every asset. These include:\n",
        "\n",
        "* Otype - this is 1 for all values (I am only looking at calls for parsimony)\n",
        "* Maturity - dependant on which fileset I am using. For the 4/18/2019 set, this maturty is 21 days out (I acquired this data on 3-27-2019). This doesn't count the day itself, and I will only count business days, so this is  actually 16 days (or 16/252, to convert to years).\n",
        "* Interest rate - again, dependent on fileset. For 4/18/2019, r = 2.45%.\n",
        "\n",
        "For the other data, we have the remaining information - Spot price, strike price, and (for implied volatility computation) the Option Price."
      ]
    },
    {
      "metadata": {
        "id": "YND0qsIWeF_F",
        "colab_type": "code",
        "colab": {}
      },
      "cell_type": "code",
      "source": [
        "r = 0.0245\n",
        "otype = 1\n",
        "maturity = 16/252"
      ],
      "execution_count": 0,
      "outputs": []
    },
    {
      "metadata": {
        "id": "AvzIMjKJa_mU",
        "colab_type": "text"
      },
      "cell_type": "markdown",
      "source": [
        "Import the data. Each dataset is separated by maturity date."
      ]
    },
    {
      "metadata": {
        "id": "nE-ujkgFbBx4",
        "colab_type": "code",
        "colab": {}
      },
      "cell_type": "code",
      "source": [
        "data_4_18 = np.loadtxt(open('calls_4_18_2019.csv',\"rb\"),\n",
        "                       delimiter=\",\",skiprows=1,usecols=(2,3,4,5))"
      ],
      "execution_count": 0,
      "outputs": []
    },
    {
      "metadata": {
        "id": "kegyxfzVeS5Y",
        "colab_type": "text"
      },
      "cell_type": "markdown",
      "source": [
        "In this set, we have that\n",
        "\n",
        "* `data_4_18[:,0]` is the spot price\n",
        "* `data_4_18[:,1]` is the strike price\n",
        "* `data_4_18[:,2]` is the option price (calculated from Bloomberg info)\n",
        "* `data_4_18[:,3]` is the implied volatility (also sourced from Bloomberg)."
      ]
    },
    {
      "metadata": {
        "id": "LXwxoBzteK06",
        "colab_type": "code",
        "colab": {}
      },
      "cell_type": "code",
      "source": [
        "num_row = data_4_18.shape[0]\n",
        "gbm_list = []\n",
        "option_list = []\n",
        "\n",
        "for i in range(num_row):\n",
        "  option1 = VanillaOption(otype = otype, strike = data_4_18[i,1],\n",
        "                         maturity = maturity, market_price = data_4_18[:,2])\n",
        "  \n",
        "  option_list.append(option1)\n",
        "  if data_4_18[i,0] != data_4_18[i-1,0]:\n",
        "    gbm1 = Gbm(init_state = data_4_18[i,0],\n",
        "            drift_ratio = r,\n",
        "            vol_ratio = .1 #Initial Guess\n",
        "            ) \n",
        "    gbm_list.append(gbm1)\n",
        "  else:\n",
        "    continue\n",
        "  "
      ],
      "execution_count": 0,
      "outputs": []
    },
    {
      "metadata": {
        "id": "43SaDSVAiUHz",
        "colab_type": "code",
        "colab": {}
      },
      "cell_type": "code",
      "source": [
        "#Expand a column for identifier of underlying stock.\n",
        "np_data_4_18 = np.append(data_4_18, np.zeros([num_row,1]), axis = 1)\n",
        "\n",
        "for i in range(num_row):\n",
        "  np_data_4_18[i,4] = np.floor(i/5) + 1"
      ],
      "execution_count": 0,
      "outputs": []
    }
  ]
}