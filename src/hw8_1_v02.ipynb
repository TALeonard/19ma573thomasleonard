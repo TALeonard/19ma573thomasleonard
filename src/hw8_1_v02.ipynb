{
  "nbformat": 4,
  "nbformat_minor": 0,
  "metadata": {
    "colab": {
      "name": "hw8_1_v02.ipynb",
      "version": "0.3.2",
      "provenance": [],
      "include_colab_link": true
    },
    "kernelspec": {
      "name": "python3",
      "display_name": "Python 3"
    }
  },
  "cells": [
    {
      "cell_type": "markdown",
      "metadata": {
        "id": "view-in-github",
        "colab_type": "text"
      },
      "source": [
        "<a href=\"https://colab.research.google.com/github/TALeonard/19ma573thomasleonard/blob/master/src/hw8_1_v02.ipynb\" target=\"_parent\"><img src=\"https://colab.research.google.com/assets/colab-badge.svg\" alt=\"Open In Colab\"/></a>"
      ]
    },
    {
      "metadata": {
        "id": "78_XgOaCQaUn",
        "colab_type": "text"
      },
      "cell_type": "markdown",
      "source": [
        "#Part 1: Finding the Characteristic Function of a Brownian Motion\n",
        "\n",
        "Find the characteristic function of $W_{t}$ by deriving\n",
        "\n",
        "$$\\phi_{t}(u) = E[e^{iuW_{t}}]$$\n",
        "\n",
        "First, observe that as $W_{t}$ is a Brownian motion, it follows $W_{t} \\sim N(0,t)$. Denote $W_{t} = X$ for simplicity. Thus:\n",
        "\n",
        "$$E[e^{iuX}] = \\int_{-\\infty}^{\\infty} e^{iux} \\frac{1}{\\sqrt{2\\pi t^{2}}} e^{-\\frac{x^{2}}{2t^{2}}}dx$$\n",
        "\n",
        "$$ = \\int_{0}^{\\infty} e^{iux} \\frac{1}{\\sqrt{2\\pi t^{2}}} e^{-\\frac{x^{2}}{2t^{2}}}dx + \\int_{-\\infty}^{0} e^{iux} \\frac{1}{\\sqrt{2\\pi t^{2}}} e^{-\\frac{x^{2}}{2t^{2}}}dx$$$$\n",
        "\n",
        "For the second term, observe that we can multiply the integral by -1 to flip the order of the bounds.\n",
        "\n",
        "$$ = \\int_{0}^{\\infty} e^{iux} \\frac{1}{\\sqrt{2\\pi t^{2}}} e^{-\\frac{x^{2}}{2t^{2}}}dx - \\int_{0}^{-\\infty} e^{iux} \\frac{1}{\\sqrt{2\\pi t^{2}}} e^{-\\frac{x^{2}}{2t^{2}}}dx$$\n",
        "\n",
        "Now, in the second integral we can perform a u-substitution where $y = -x$ and $dy = -dx$. When $x = -\\infty$, $y = \\infty$:\n",
        "\n",
        "$$ = \\int_{0}^{\\infty} e^{iux} \\frac{1}{\\sqrt{2\\pi t^{2}}} e^{-\\frac{x^{2}}{2t^{2}}}dx + \\int_{0}^{\\infty} e^{iu(-y)} \\frac{1}{\\sqrt{2\\pi t^{2}}} e^{-\\frac{(-y)^{2}}{2t^{2}}}dx$$\n",
        "\n",
        "$$ = \\int_{0}^{\\infty} e^{iux} \\frac{1}{\\sqrt{2\\pi t^{2}}} e^{-\\frac{x^{2}}{2t^{2}}}dx + \\int_{0}^{\\infty} e^{-iuy} \\frac{1}{\\sqrt{2\\pi t^{2}}} e^{-\\frac{y^{2}}{2t^{2}}}dx$$\n",
        "\n",
        "Now, recall Euler's formula: $e^{ix} = \\cos(x) + i\\sin(x)$. Here, apply that with $x_{1} = ux$ (for the first integral) and $x_{2} = -ux$ (for the second). Note that we only need to observe the real part of the result (since the remainder will always be imaginary, since the $i$ coefficient can come outside the integral and won't be undone by any of the remaining calculus):\n",
        "\n",
        "$$ = \\int_{0}^{\\infty} \\cos(ux) \\frac{1}{\\sqrt{2\\pi t^{2}}} e^{-\\frac{x^{2}}{2t^{2}}}dx + \\int_{0}^{\\infty} \\cos(-uy) \\frac{1}{\\sqrt{2\\pi t^{2}}} e^{-\\frac{y^{2}}{2t^{2}}}dx$$\n",
        "\n",
        "Recall from the properties of the trig functions that $\\cos(x) = \\cos(-x)$, so the two functions will be equal (except for one technically being $x$ and the other being $y$). Thus, we can combine them into one integral:\n",
        "\n",
        "$$ = 2\\int_{0}^{\\infty} \\cos(ux) \\frac{1}{\\sqrt{2\\pi t^{2}}} e^{-\\frac{x^{2}}{2t^{2}}}dx$$\n",
        "\n",
        "Now, let us take the derivative $\\phi'_{t}(u)$.\n",
        "\n",
        "$$\\phi'_{t}(u) = -\\frac{2}{t\\sqrt{2\\pi}} \\int_{0}^{\\infty} x\\sin(ux) e^{-\\frac{x^{2}}{2t^{2}}}dx$$\n",
        "\n",
        "Observe that\n",
        "\n",
        "$$\\frac{d}{dx} e^{-\\frac{x^{2}}{2t^{2}}} = \\frac{-2x}{2t^{2}} e^{-\\frac{x^{2}}{2t^{2}}} = \\frac{-x}{t^{2}}e^{-\\frac{x^{2}}{2t^{2}}} $$\n",
        "\n",
        "If we multiply the outside coefficient by $\\frac{t}{t}$ we can pull the necessary components into the integral:\n",
        "\n",
        "$$ \\rightarrow  -\\frac{2t}{t^{2}\\sqrt{2\\pi}} \\int_{0}^{\\infty} x\\sin(ux) e^{-\\frac{x^{2}}{2t^{2}}}dx$$\n",
        "\n",
        "$$ = \\frac{2t}{\\sqrt{2\\pi}} \\int_{0}^{\\infty} \\sin(ux) (\\frac{-x}{t^{2}})e^{-\\frac{x^{2}}{2t^{2}}}dx$$\n",
        "\n",
        "This is now an integration by parts problem, with $f(x) = \\sin(ux)$ and $g'(x) = (\\frac{-x}{t^{2}})e^{-\\frac{x^{2}}{2t^{2}}}$.\n",
        "\n",
        "Thus, we can compute and identify $f'(x) = u\\cos(ux)$ and $g(x) = e^{-\\frac{x^{2}}{2t^{2}}}$. Thus, by integration by parts:\n",
        "\n",
        "$$ = \\frac{2t}{\\sqrt{2\\pi}} e^{-\\frac{x^{2}}{2t^{2}}} \\sin(ux)\\bigg\\rvert_{0}^{\\infty} - \\frac{2t}{\\sqrt{2\\pi}} \\int_{0}^{\\infty}  e^{-\\frac{x^{2}}{2t^{2}}} u\\cos(ux) dx$$\n",
        "\n",
        "First, we consider the first term. At $x = 0$, $\\sin(ux) = sin(0) = 0$. At $x = \\infty$, while we do not know the exact value of $\\sin(ux)$, we know it is bounded between $-1$ and $1$. However, $e^{-\\frac{x^{2}}{2t^{2}}} = e^{-\\frac{\\infty}{2t^{2}}} = e^{-\\infty} \\approx 0$. Thus, the first term goes away entirely. Therefore,\n",
        "\n",
        "$$\\phi'_{t}(u) = - \\frac{2t}{\\sqrt{2\\pi}} \\int_{0}^{\\infty}  e^{-\\frac{x^{2}}{2t^{2}}} u\\cos(ux) dx$$\n",
        "\n",
        "$$ = -tu  \\int_{0}^{\\infty} \\frac{2}{\\sqrt{2\\pi}} e^{-\\frac{x^{2}}{2t^{2}}} \\cos(ux) dx$$\n",
        "\n",
        "$$ = -ut^{2}  \\int_{0}^{\\infty} \\frac{2}{t\\sqrt{2\\pi}} e^{-\\frac{x^{2}}{2t^{2}}} \\cos(ux) dx$$\n",
        "\n",
        "$$ = -2ut^{2}  \\int_{0}^{\\infty}\\cos(ux) \\frac{1}{\\sqrt{2\\pi t^{2}}} e^{-\\frac{x^{2}}{2t^{2}}}  dx$$\n",
        "\n",
        "$$ = -ut^{2} * \\phi_{t}(u)$$\n",
        "\n",
        "Thus, we now have an ODE with $\\phi'_{t}(u) = -ut^{2} * \\phi_{t}(u)$. So we need to solve this ODE for $\\phi_{t}(u)$. This is a rudimentary ODE, whose solution is $ce^{-\\frac{u^{2}t^{2}}{2}}$ for some constant $c$. Thus we need some initial condition. Note that $\\phi_{t}(0) = 1$, as when $u = 0$, we are simply left with an integral of the pdf of a Normal random variable, which should integrate to one. Thus:\n",
        "\n",
        "$$\\phi_{t}(0) = 1 = ce^{-\\frac{0^{2}t^{2}}{2}} = ce^{0} = c$$\n",
        "\n",
        "So, $c = 1$ and we have that $\\phi_{t}(u) = e^{-\\frac{u^{2}t^{2}}{2}}$. This also matches what we would expect a $N(0,t)$ random variable to have as its characteristic function. $\\square$"
      ]
    },
    {
      "metadata": {
        "id": "dOqsE8PnXuE2",
        "colab_type": "text"
      },
      "cell_type": "markdown",
      "source": [
        "#Part 2: Computations of BSM Call Price\n",
        "\n",
        "First, need to use the explicit forula to find BSM price. Import modules and define paramters."
      ]
    },
    {
      "metadata": {
        "id": "asmLPxRmXtir",
        "colab_type": "code",
        "outputId": "296aae24-00ae-473d-e743-8e5cbc453cb9",
        "colab": {
          "base_uri": "https://localhost:8080/",
          "height": 134
        }
      },
      "cell_type": "code",
      "source": [
        "#!git clone https://github.com/TALeonard/19ma573thomasleonard.git #Only run once!"
      ],
      "execution_count": 0,
      "outputs": [
        {
          "output_type": "stream",
          "text": [
            "Cloning into '19ma573thomasleonard'...\n",
            "remote: Enumerating objects: 94, done.\u001b[K\n",
            "remote: Counting objects:   1% (1/94)   \u001b[K\rremote: Counting objects:   2% (2/94)   \u001b[K\rremote: Counting objects:   3% (3/94)   \u001b[K\rremote: Counting objects:   4% (4/94)   \u001b[K\rremote: Counting objects:   5% (5/94)   \u001b[K\rremote: Counting objects:   6% (6/94)   \u001b[K\rremote: Counting objects:   7% (7/94)   \u001b[K\rremote: Counting objects:   8% (8/94)   \u001b[K\rremote: Counting objects:   9% (9/94)   \u001b[K\rremote: Counting objects:  10% (10/94)   \u001b[K\rremote: Counting objects:  11% (11/94)   \u001b[K\rremote: Counting objects:  12% (12/94)   \u001b[K\rremote: Counting objects:  13% (13/94)   \u001b[K\rremote: Counting objects:  14% (14/94)   \u001b[K\rremote: Counting objects:  15% (15/94)   \u001b[K\rremote: Counting objects:  17% (16/94)   \u001b[K\rremote: Counting objects:  18% (17/94)   \u001b[K\rremote: Counting objects:  19% (18/94)   \u001b[K\rremote: Counting objects:  20% (19/94)   \u001b[K\rremote: Counting objects:  21% (20/94)   \u001b[K\rremote: Counting objects:  22% (21/94)   \u001b[K\rremote: Counting objects:  23% (22/94)   \u001b[K\rremote: Counting objects:  24% (23/94)   \u001b[K\rremote: Counting objects:  25% (24/94)   \u001b[K\rremote: Counting objects:  26% (25/94)   \u001b[K\rremote: Counting objects:  27% (26/94)   \u001b[K\rremote: Counting objects:  28% (27/94)   \u001b[K\rremote: Counting objects:  29% (28/94)   \u001b[K\rremote: Counting objects:  30% (29/94)   \u001b[K\rremote: Counting objects:  31% (30/94)   \u001b[K\rremote: Counting objects:  32% (31/94)   \u001b[K\rremote: Counting objects:  34% (32/94)   \u001b[K\rremote: Counting objects:  35% (33/94)   \u001b[K\rremote: Counting objects:  36% (34/94)   \u001b[K\rremote: Counting objects:  37% (35/94)   \u001b[K\rremote: Counting objects:  38% (36/94)   \u001b[K\rremote: Counting objects:  39% (37/94)   \u001b[K\rremote: Counting objects:  40% (38/94)   \u001b[K\rremote: Counting objects:  41% (39/94)   \u001b[K\rremote: Counting objects:  42% (40/94)   \u001b[K\rremote: Counting objects:  43% (41/94)   \u001b[K\rremote: Counting objects:  44% (42/94)   \u001b[K\rremote: Counting objects:  45% (43/94)   \u001b[K\rremote: Counting objects:  46% (44/94)   \u001b[K\rremote: Counting objects:  47% (45/94)   \u001b[K\rremote: Counting objects:  48% (46/94)   \u001b[K\rremote: Counting objects:  50% (47/94)   \u001b[K\rremote: Counting objects:  51% (48/94)   \u001b[K\rremote: Counting objects:  52% (49/94)   \u001b[K\rremote: Counting objects:  53% (50/94)   \u001b[K\rremote: Counting objects:  54% (51/94)   \u001b[K\rremote: Counting objects:  55% (52/94)   \u001b[K\rremote: Counting objects:  56% (53/94)   \u001b[K\rremote: Counting objects:  57% (54/94)   \u001b[K\rremote: Counting objects:  58% (55/94)   \u001b[K\rremote: Counting objects:  59% (56/94)   \u001b[K\rremote: Counting objects:  60% (57/94)   \u001b[K\rremote: Counting objects:  61% (58/94)   \u001b[K\rremote: Counting objects:  62% (59/94)   \u001b[K\rremote: Counting objects:  63% (60/94)   \u001b[K\rremote: Counting objects:  64% (61/94)   \u001b[K\rremote: Counting objects:  65% (62/94)   \u001b[K\rremote: Counting objects:  67% (63/94)   \u001b[K\rremote: Counting objects:  68% (64/94)   \u001b[K\rremote: Counting objects:  69% (65/94)   \u001b[K\rremote: Counting objects:  70% (66/94)   \u001b[K\rremote: Counting objects:  71% (67/94)   \u001b[K\rremote: Counting objects:  72% (68/94)   \u001b[K\rremote: Counting objects:  73% (69/94)   \u001b[K\rremote: Counting objects:  74% (70/94)   \u001b[K\rremote: Counting objects:  75% (71/94)   \u001b[K\rremote: Counting objects:  76% (72/94)   \u001b[K\rremote: Counting objects:  77% (73/94)   \u001b[K\rremote: Counting objects:  78% (74/94)   \u001b[K\rremote: Counting objects:  79% (75/94)   \u001b[K\rremote: Counting objects:  80% (76/94)   \u001b[K\rremote: Counting objects:  81% (77/94)   \u001b[K\rremote: Counting objects:  82% (78/94)   \u001b[K\rremote: Counting objects:  84% (79/94)   \u001b[K\rremote: Counting objects:  85% (80/94)   \u001b[K\rremote: Counting objects:  86% (81/94)   \u001b[K\rremote: Counting objects:  87% (82/94)   \u001b[K\rremote: Counting objects:  88% (83/94)   \u001b[K\rremote: Counting objects:  89% (84/94)   \u001b[K\rremote: Counting objects:  90% (85/94)   \u001b[K\rremote: Counting objects:  91% (86/94)   \u001b[K\rremote: Counting objects:  92% (87/94)   \u001b[K\rremote: Counting objects:  93% (88/94)   \u001b[K\rremote: Counting objects:  94% (89/94)   \u001b[K\rremote: Counting objects:  95% (90/94)   \u001b[K\rremote: Counting objects:  96% (91/94)   \u001b[K\rremote: Counting objects:  97% (92/94)   \u001b[K\rremote: Counting objects:  98% (93/94)   \u001b[K\rremote: Counting objects: 100% (94/94)   \u001b[K\rremote: Counting objects: 100% (94/94), done.\u001b[K\n",
            "remote: Compressing objects:   1% (1/94)   \u001b[K\rremote: Compressing objects:   2% (2/94)   \u001b[K\rremote: Compressing objects:   3% (3/94)   \u001b[K\rremote: Compressing objects:   4% (4/94)   \u001b[K\rremote: Compressing objects:   5% (5/94)   \u001b[K\rremote: Compressing objects:   6% (6/94)   \u001b[K\rremote: Compressing objects:   7% (7/94)   \u001b[K\rremote: Compressing objects:   8% (8/94)   \u001b[K\rremote: Compressing objects:   9% (9/94)   \u001b[K\rremote: Compressing objects:  10% (10/94)   \u001b[K\rremote: Compressing objects:  11% (11/94)   \u001b[K\rremote: Compressing objects:  12% (12/94)   \u001b[K\rremote: Compressing objects:  13% (13/94)   \u001b[K\rremote: Compressing objects:  14% (14/94)   \u001b[K\rremote: Compressing objects:  15% (15/94)   \u001b[K\rremote: Compressing objects:  17% (16/94)   \u001b[K\rremote: Compressing objects:  18% (17/94)   \u001b[K\rremote: Compressing objects:  19% (18/94)   \u001b[K\rremote: Compressing objects:  20% (19/94)   \u001b[K\rremote: Compressing objects:  21% (20/94)   \u001b[K\rremote: Compressing objects:  22% (21/94)   \u001b[K\rremote: Compressing objects:  23% (22/94)   \u001b[K\rremote: Compressing objects:  24% (23/94)   \u001b[K\rremote: Compressing objects:  25% (24/94)   \u001b[K\rremote: Compressing objects:  26% (25/94)   \u001b[K\rremote: Compressing objects:  27% (26/94)   \u001b[K\rremote: Compressing objects:  28% (27/94)   \u001b[K\rremote: Compressing objects:  29% (28/94)   \u001b[K\rremote: Compressing objects:  30% (29/94)   \u001b[K\rremote: Compressing objects:  31% (30/94)   \u001b[K\rremote: Compressing objects:  32% (31/94)   \u001b[K\rremote: Compressing objects:  34% (32/94)   \u001b[K\rremote: Compressing objects:  35% (33/94)   \u001b[K\rremote: Compressing objects:  36% (34/94)   \u001b[K\rremote: Compressing objects:  37% (35/94)   \u001b[K\rremote: Compressing objects:  38% (36/94)   \u001b[K\rremote: Compressing objects:  39% (37/94)   \u001b[K\rremote: Compressing objects:  40% (38/94)   \u001b[K\rremote: Compressing objects:  41% (39/94)   \u001b[K\rremote: Compressing objects:  42% (40/94)   \u001b[K\rremote: Compressing objects:  43% (41/94)   \u001b[K\rremote: Compressing objects:  44% (42/94)   \u001b[K\rremote: Compressing objects:  45% (43/94)   \u001b[K\rremote: Compressing objects:  46% (44/94)   \u001b[K\rremote: Compressing objects:  47% (45/94)   \u001b[K\rremote: Compressing objects:  48% (46/94)   \u001b[K\rremote: Compressing objects:  50% (47/94)   \u001b[K\rremote: Compressing objects:  51% (48/94)   \u001b[K\rremote: Compressing objects:  52% (49/94)   \u001b[K\rremote: Compressing objects:  53% (50/94)   \u001b[K\rremote: Compressing objects:  54% (51/94)   \u001b[K\rremote: Compressing objects:  55% (52/94)   \u001b[K\rremote: Compressing objects:  56% (53/94)   \u001b[K\rremote: Compressing objects:  57% (54/94)   \u001b[K\rremote: Compressing objects:  58% (55/94)   \u001b[K\rremote: Compressing objects:  59% (56/94)   \u001b[K\rremote: Compressing objects:  60% (57/94)   \u001b[K\rremote: Compressing objects:  61% (58/94)   \u001b[K\rremote: Compressing objects:  62% (59/94)   \u001b[K\rremote: Compressing objects:  63% (60/94)   \u001b[K\rremote: Compressing objects:  64% (61/94)   \u001b[K\rremote: Compressing objects:  65% (62/94)   \u001b[K\rremote: Compressing objects:  67% (63/94)   \u001b[K\rremote: Compressing objects:  68% (64/94)   \u001b[K\rremote: Compressing objects:  69% (65/94)   \u001b[K\rremote: Compressing objects:  70% (66/94)   \u001b[K\rremote: Compressing objects:  71% (67/94)   \u001b[K\rremote: Compressing objects:  72% (68/94)   \u001b[K\rremote: Compressing objects:  73% (69/94)   \u001b[K\rremote: Compressing objects:  74% (70/94)   \u001b[K\rremote: Compressing objects:  75% (71/94)   \u001b[K\rremote: Compressing objects:  76% (72/94)   \u001b[K\rremote: Compressing objects:  77% (73/94)   \u001b[K\rremote: Compressing objects:  78% (74/94)   \u001b[K\rremote: Compressing objects:  79% (75/94)   \u001b[K\rremote: Compressing objects:  80% (76/94)   \u001b[K\rremote: Compressing objects:  81% (77/94)   \u001b[K\rremote: Compressing objects:  82% (78/94)   \u001b[K\rremote: Compressing objects:  84% (79/94)   \u001b[K\rremote: Compressing objects:  85% (80/94)   \u001b[K\rremote: Compressing objects:  86% (81/94)   \u001b[K\rremote: Compressing objects:  87% (82/94)   \u001b[K\rremote: Compressing objects:  88% (83/94)   \u001b[K\rremote: Compressing objects:  89% (84/94)   \u001b[K\rremote: Compressing objects:  90% (85/94)   \u001b[K\rremote: Compressing objects:  91% (86/94)   \u001b[K\rremote: Compressing objects:  92% (87/94)   \u001b[K\rremote: Compressing objects:  93% (88/94)   \u001b[K\rremote: Compressing objects:  94% (89/94)   \u001b[K\rremote: Compressing objects:  95% (90/94)   \u001b[K\rremote: Compressing objects:  96% (91/94)   \u001b[K\rremote: Compressing objects:  97% (92/94)   \u001b[K\rremote: Compressing objects:  98% (93/94)   \u001b[K\rremote: Compressing objects: 100% (94/94)   \u001b[K\rremote: Compressing objects: 100% (94/94), done.\u001b[K\n",
            "Receiving objects:   0% (1/220)   \rReceiving objects:   1% (3/220)   \rReceiving objects:   2% (5/220)   \rReceiving objects:   3% (7/220)   \rReceiving objects:   4% (9/220)   \rReceiving objects:   5% (11/220)   \rReceiving objects:   6% (14/220)   \rReceiving objects:   7% (16/220)   \rReceiving objects:   8% (18/220)   \rReceiving objects:   9% (20/220)   \rReceiving objects:  10% (22/220)   \rReceiving objects:  11% (25/220)   \rReceiving objects:  12% (27/220)   \rReceiving objects:  13% (29/220)   \rReceiving objects:  14% (31/220)   \rReceiving objects:  15% (33/220)   \rReceiving objects:  16% (36/220)   \rReceiving objects:  17% (38/220)   \rReceiving objects:  18% (40/220)   \rReceiving objects:  19% (42/220)   \rReceiving objects:  20% (44/220)   \rReceiving objects:  21% (47/220)   \rReceiving objects:  22% (49/220)   \rReceiving objects:  23% (51/220)   \rReceiving objects:  24% (53/220)   \rReceiving objects:  25% (55/220)   \rReceiving objects:  26% (58/220)   \rReceiving objects:  27% (60/220)   \rReceiving objects:  28% (62/220)   \rReceiving objects:  29% (64/220)   \rReceiving objects:  30% (66/220)   \rReceiving objects:  31% (69/220)   \rReceiving objects:  32% (71/220)   \rReceiving objects:  33% (73/220)   \rReceiving objects:  34% (75/220)   \rReceiving objects:  35% (77/220)   \rReceiving objects:  36% (80/220)   \rReceiving objects:  37% (82/220)   \rReceiving objects:  38% (84/220)   \rReceiving objects:  39% (86/220)   \rReceiving objects:  40% (88/220)   \rReceiving objects:  41% (91/220)   \rReceiving objects:  42% (93/220)   \rReceiving objects:  43% (95/220)   \rReceiving objects:  44% (97/220)   \rReceiving objects:  45% (99/220)   \rReceiving objects:  46% (102/220)   \rReceiving objects:  47% (104/220)   \rReceiving objects:  48% (106/220)   \rReceiving objects:  49% (108/220)   \rReceiving objects:  50% (110/220)   \rReceiving objects:  51% (113/220)   \rReceiving objects:  52% (115/220)   \rReceiving objects:  53% (117/220)   \rReceiving objects:  54% (119/220)   \rReceiving objects:  55% (121/220)   \rReceiving objects:  56% (124/220)   \rReceiving objects:  57% (126/220)   \rReceiving objects:  58% (128/220)   \rReceiving objects:  59% (130/220)   \rReceiving objects:  60% (132/220)   \rReceiving objects:  61% (135/220)   \rReceiving objects:  62% (137/220)   \rReceiving objects:  63% (139/220)   \rReceiving objects:  64% (141/220)   \rReceiving objects:  65% (143/220)   \rReceiving objects:  66% (146/220)   \rReceiving objects:  67% (148/220)   \rReceiving objects:  68% (150/220)   \rReceiving objects:  69% (152/220)   \rReceiving objects:  70% (154/220)   \rReceiving objects:  71% (157/220)   \rReceiving objects:  72% (159/220)   \rReceiving objects:  73% (161/220)   \rReceiving objects:  74% (163/220)   \rReceiving objects:  75% (165/220)   \rReceiving objects:  76% (168/220)   \rReceiving objects:  77% (170/220)   \rReceiving objects:  78% (172/220)   \rReceiving objects:  79% (174/220)   \rReceiving objects:  80% (176/220)   \rremote: Total 220 (delta 30), reused 0 (delta 0), pack-reused 126\u001b[K\n",
            "Receiving objects:  81% (179/220)   \rReceiving objects:  82% (181/220)   \rReceiving objects:  83% (183/220)   \rReceiving objects:  84% (185/220)   \rReceiving objects:  85% (187/220)   \rReceiving objects:  86% (190/220)   \rReceiving objects:  87% (192/220)   \rReceiving objects:  88% (194/220)   \rReceiving objects:  89% (196/220)   \rReceiving objects:  90% (198/220)   \rReceiving objects:  91% (201/220)   \rReceiving objects:  92% (203/220)   \rReceiving objects:  93% (205/220)   \rReceiving objects:  94% (207/220)   \rReceiving objects:  95% (209/220)   \rReceiving objects:  96% (212/220)   \rReceiving objects:  97% (214/220)   \rReceiving objects:  98% (216/220)   \rReceiving objects:  99% (218/220)   \rReceiving objects: 100% (220/220)   \rReceiving objects: 100% (220/220), 758.97 KiB | 16.15 MiB/s, done.\n",
            "Resolving deltas:   0% (0/71)   \rResolving deltas:   1% (1/71)   \rResolving deltas:   2% (2/71)   \rResolving deltas:   4% (3/71)   \rResolving deltas:  22% (16/71)   \rResolving deltas:  43% (31/71)   \rResolving deltas:  45% (32/71)   \rResolving deltas:  46% (33/71)   \rResolving deltas:  47% (34/71)   \rResolving deltas:  49% (35/71)   \rResolving deltas:  52% (37/71)   \rResolving deltas:  53% (38/71)   \rResolving deltas:  54% (39/71)   \rResolving deltas:  56% (40/71)   \rResolving deltas:  64% (46/71)   \rResolving deltas:  70% (50/71)   \rResolving deltas:  91% (65/71)   \rResolving deltas:  94% (67/71)   \rResolving deltas: 100% (71/71)   \rResolving deltas: 100% (71/71), done.\n"
          ],
          "name": "stdout"
        }
      ]
    },
    {
      "metadata": {
        "id": "jOvdWYOIXzuT",
        "colab_type": "code",
        "outputId": "2ac41c4d-1920-43c9-f382-71e3b600f4b1",
        "colab": {
          "base_uri": "https://localhost:8080/",
          "height": 34
        }
      },
      "cell_type": "code",
      "source": [
        "cd /content/19ma573thomasleonard/src/"
      ],
      "execution_count": 0,
      "outputs": [
        {
          "output_type": "stream",
          "text": [
            "/content/19ma573thomasleonard/src\n"
          ],
          "name": "stdout"
        }
      ]
    },
    {
      "metadata": {
        "id": "lgqcpw9nYNwH",
        "colab_type": "code",
        "colab": {}
      },
      "cell_type": "code",
      "source": [
        "import numpy as np\n",
        "import scipy as sp\n",
        "from european_options_class import VanillaOption\n",
        "from sde_1d_v02 import Sde_1d, Gbm_1d"
      ],
      "execution_count": 0,
      "outputs": []
    },
    {
      "metadata": {
        "id": "KNRvEfyxYb2W",
        "colab_type": "code",
        "colab": {}
      },
      "cell_type": "code",
      "source": [
        "'''==========\n",
        "paras\n",
        "=========='''\n",
        "s0 = 100\n",
        "r = 0.0475\n",
        "sigma = 0.2\n",
        "otype = 1\n",
        "K = 110\n",
        "T = 1"
      ],
      "execution_count": 0,
      "outputs": []
    },
    {
      "metadata": {
        "id": "XcZQbROJYqqR",
        "colab_type": "code",
        "outputId": "e62c7450-f658-4269-c91d-40da1bf8f43e",
        "colab": {
          "base_uri": "https://localhost:8080/",
          "height": 34
        }
      },
      "cell_type": "code",
      "source": [
        "gbm_8_1 = Gbm_1d(init_state=s0,drift_ratio=r,vol_ratio=sigma)\n",
        "van_op = VanillaOption(otype=otype,strike=K,maturity=T,market_price=10)\n",
        "\n",
        "exp_price = gbm_8_1.bsm_price(van_op)\n",
        "\n",
        "print(\"Explicit Formula computation of BSM price is \"+str(exp_price))"
      ],
      "execution_count": 0,
      "outputs": [
        {
          "output_type": "stream",
          "text": [
            "Explicit Formula computation of BSM price is 5.943273183452838\n"
          ],
          "name": "stdout"
        }
      ]
    },
    {
      "metadata": {
        "id": "0xbXQW59ZdqV",
        "colab_type": "text"
      },
      "cell_type": "markdown",
      "source": [
        "Now, we want to use the Fourier Transform to find this price. From the lecture, we know that the price C can be computed as\n",
        "\n",
        "$$C = S_{0}I_{1} - Ke^{-rT}I_{2}$$\n",
        "\n",
        "where\n",
        "\n",
        "$$I_{1}(\\phi,\\ln(K)) = \\frac{1}{2} + \\frac{1}{\\pi}\\int_{0}^{\\infty}Re(\\frac{e^{-iu\\ln(K)}\\phi(u-i)}{iu\\phi(-i)})du$$\n",
        "\n",
        "and\n",
        "$$I_{2}(\\phi,\\ln(K)) = \\frac{1}{2} + \\frac{1}{\\pi}\\int_{0}^{\\infty}Re(\\frac{e^{-iu\\ln(K)}\\phi(u)}{iu})du.$$\n",
        "\n",
        "With $\\phi$ as the characteristic function of $\\ln(S_{T})$, and $Re(\\cdot)$ the real portion of whatever its argument is.\n",
        "\n",
        "Based on the reference PDF by Chiu, we know that \n",
        "\n",
        "$$\\ln(\\frac{S_{T}}{S_{0}}) = (r-\\frac{\\sigma^{2}}{2})T + \\sigma W_{T} \\sim N((r-\\frac{\\sigma^{2}}{2})T,\\sigma^{2}T)$$\n",
        "\n",
        "And a normal random variable with mean $\\mu$ and variance $\\sigma^{2}$ has characteristic function\n",
        "\n",
        "$$\\phi(u) = e^{iu\\mu - \\frac{1}{2}u^{2}\\sigma^{2}}$$\n",
        "\n",
        "Thus, the above log would have characteristic function\n",
        "\n",
        "$$\\phi_{T}(u) = e^{i(r-\\frac{\\sigma^{2}}{2})Tu - \\frac{\\sigma^{2}T}{2}u^{2}}$$\n",
        "\n",
        "From here, we could work through the problem as Chiu has but since he has done all the derivations for us, we can skip directly to the results: based on his work, we can define\n",
        "\n",
        "$$I_{2} = \\frac{1}{2} + \\frac{1}{\\pi} \\int_{0}^{\\infty}\\frac{\\sin (d_{2}t)}{t}e^{-\\frac{t^{2}}{2}}dt$$\n",
        "\n",
        "where\n",
        "\n",
        "$$d_{2} = \\frac{\\ln(\\frac{S_0}{K})+(r-\\frac{\\sigma^{2}}{2})T}{\\sigma \\sqrt{T}}$$\n",
        "\n",
        "This can now be calculated directly. Similarly, we can define $I_{1}$ as\n",
        "\n",
        "$$I_{1} = \\frac{1}{2} + \\frac{1}{\\pi} \\int_{0}^{\\infty} \\frac{\\sin(d_{1}t)}{t}e^{-\\frac{t^{2}}{2}}dt$$\n",
        "\n",
        "where\n",
        "\n",
        "$$d_{1} = \\frac{\\ln(\\frac{S_{0}}{K}) + (r + \\frac{\\sigma^{2}}{2})T}{\\sigma\\sqrt{T}}$$\n",
        "\n",
        "Note that while Chiu's work is not based on $\\ln(S_{T})$ as ours is, the result is the same - in other words, we do not need to worry about making special accomodations for the denominator $S_{0}$ term. Thus,use these equations to compute the Fourier Transform computation."
      ]
    },
    {
      "metadata": {
        "id": "fyGN3OzGIc9q",
        "colab_type": "code",
        "outputId": "59da9621-635a-4de6-94bf-b30f5ad49dc1",
        "colab": {
          "base_uri": "https://localhost:8080/",
          "height": 34
        }
      },
      "cell_type": "code",
      "source": [
        "d1 = (np.log((s0)/K) + ((r + ((sigma**2)/2))*T))/(sigma*np.sqrt(T))\n",
        "d2 = (np.log((s0)/K) + ((r - ((sigma**2)/2))*T))/(sigma*np.sqrt(T))\n",
        "\n",
        "f1 = lambda t: ((np.sin(d1 * t))/t)*np.exp(-1 * (t**2) / 2)\n",
        "f2 = lambda t: ((np.sin(d2 * t))/t)*np.exp(-1 * (t**2) / 2)\n",
        "\n",
        "int_1 = sp.integrate.quad(f1,0,np.inf)\n",
        "int_2 = sp.integrate.quad(f2,0,np.inf)\n",
        "\n",
        "I1 = 0.5 + (1/np.pi) * int_1[0]\n",
        "I2 = 0.5 + (1/np.pi) * int_2[0]\n",
        "\n",
        "C = (s0 * I1) - (K*(np.exp(-1*r*T))*I2)\n",
        "\n",
        "print(\"Fourier Transform computation of BSM price is \"+str(C))"
      ],
      "execution_count": 0,
      "outputs": [
        {
          "output_type": "stream",
          "text": [
            "Fourier Transform computation of BSM price is 5.943273183452845\n"
          ],
          "name": "stdout"
        }
      ]
    },
    {
      "metadata": {
        "id": "P0MWj0CeQMhp",
        "colab_type": "text"
      },
      "cell_type": "markdown",
      "source": [
        "We can observe that both computations yield the same result, as we would expect."
      ]
    }
  ]
}