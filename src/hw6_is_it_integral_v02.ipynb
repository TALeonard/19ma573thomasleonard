{
  "nbformat": 4,
  "nbformat_minor": 0,
  "metadata": {
    "colab": {
      "name": "hw6_is_it_integral_v02.ipynb",
      "version": "0.3.2",
      "provenance": [],
      "collapsed_sections": [],
      "include_colab_link": true
    },
    "kernelspec": {
      "name": "python3",
      "display_name": "Python 3"
    }
  },
  "cells": [
    {
      "cell_type": "markdown",
      "metadata": {
        "id": "view-in-github",
        "colab_type": "text"
      },
      "source": [
        "<a href=\"https://colab.research.google.com/github/TALeonard/19ma573thomasleonard/blob/master/src/hw6_is_it_integral_v02.ipynb\" target=\"_parent\"><img src=\"https://colab.research.google.com/assets/colab-badge.svg\" alt=\"Open In Colab\"/></a>"
      ]
    },
    {
      "metadata": {
        "id": "puXhoUkFwTU4",
        "colab_type": "text"
      },
      "cell_type": "markdown",
      "source": [
        "First, we begin by finding the CDF of $p_{1}$ where $p_{1}$ is defined as\n",
        "\n",
        "$$p_{1} = \\frac{1}{C}(2\\cdot I_{(0,1/100]}(x)+1\\cdot I_{(1/100,1)}(x))$$\n",
        "\n",
        "Where $C = \\frac{101}{100}$.\n",
        "\n",
        "The CDF $F$ of a pdf $p(x)$ is defined as\n",
        "\n",
        "$$F(x) = \\int_{-\\infty}^{x}p(x)dx$$\n",
        "\n",
        "For our pdf, the integral is $0$ for $x \\leq 0$. Thus, we can rewrite this as\n",
        "\n",
        "$$F_{1}(x) = \\int_{0}^{x}p_{1}(x)dx$$\n",
        "\n",
        "The $\\frac{1}{C}=\\frac{100}{101}$ term is constant and can come outside:\n",
        "\n",
        "$$= \\frac{1}{C}\\int_{0}^{x}2\\cdot I_{(0,1/100]}(x)+1\\cdot I_{(1/100,1)}(x)dx$$\n",
        "\n",
        "If $x \\leq \\frac{1}{100}$, then the second indicator is $0$:\n",
        "\n",
        "$$= \\frac{1}{C} \\int_{0}^{x(\\leq0.01)} 2\\cdot I_{(0,1/100]}(x)dx = 2x\\frac{1}{C}|^{x}_{0}$$\n",
        "\n",
        "$$=\\frac{200}{101}x, x\\leq \\frac{1}{100}$$\n",
        "\n",
        "If $x \\geq \\frac{1}{100}$, then the first indicator will evaluate to $2 \\cdot \\frac{100}{101} \\cdot \\frac{1}{100}=\\frac{2}{101}$\n",
        "\n",
        "The second indicator in the integral then evaluates as\n",
        "\n",
        "$$\\frac{1}{C}\\int_{\\frac{1}{100}}^{x}1\\cdot I_{(1/100,1)}(x)dx$$\n",
        "\n",
        "$$ = \\frac{1}{C} \\cdot x\\mid^{x}_{\\frac{1}{100}} = \\frac{1}{C} \\cdot [x - \\frac {1}{100}]$$\n",
        "\n",
        "$$ = x \\cdot \\frac{100}{101}  - \\frac{100}{101} \\cdot \\frac{1}{100} = \\frac{100}{101}x - \\frac{1}{101} = \\frac{100x - 1}{101}$$\n",
        "\n",
        "For $x \\geq \\frac{1}{100}$ we then have to add $\\frac{2}{101}$ to the above  since that is also contained therein:\n",
        "\n",
        "$$\\rightarrow \\frac{100x-1}{101} + \\frac{2}{101} = \\frac{100x+1}{101}, x\\geq \\frac{1}{100}$$\n",
        "\n",
        "\n",
        "\n",
        "Thus our CDF is $F_{1}(x) = $\n",
        "\n",
        "$$F_{1}(x) = 0, x \\leq 0$$\n",
        "\n",
        "$$F_{1}(x) = \\frac{200x}{101}, 0\\leq x\\leq \\frac{1}{100}$$\n",
        "\n",
        "$$F_{1}(x) = \\frac{100x + 1}{101}, \\frac{1}{100}\\leq x \\leq 1 $$\n",
        "\n",
        "$$F_{1}(x) = 1, x > 1$$\n",
        "\n",
        "\n",
        "We can verify that this is $0$ for $x = 0$ and $1$ for $x = 1$.\n",
        "\n",
        "Now we need to find the inverse, $F_{1}^{-1}(x)$. To do this for the two non-constant values of $F$, we simply swap the location of $y = F(x)$ and $x$ and solve the new equation in terms of $y$. Thus for $0\\leq x\\leq \\frac{1}{100}$ we have\n",
        "\n",
        "$$ x = \\frac{200}{101}y \\rightarrow y = \\frac{101}{200}x$$\n",
        "\n",
        "$$\\rightarrow F_{1}^{-1}(x) = \\frac{101}{200}x, 0 \\leq x \\leq \\frac{2}{101}$$\n",
        "\n",
        "Note that the interval on which this x is valid is different, because now we are considering the range of $F(x)$ instead of $x$ itself. For the other segment, we have\n",
        "\n",
        "$$x = \\frac{100y}{101} + \\frac{1}{101} \\rightarrow x - \\frac{1}{101} = \\frac{100}{101}y$$\n",
        "\n",
        "$$\\rightarrow y = \\frac{101}{100}(x - \\frac{1}{101}) = \\frac{101}{100}x - \\frac{1}{100} = \\frac{101x - 1}{100}$$\n",
        "\n",
        "$$\\rightarrow F_{1}^{-1}(x) = \\frac{101x - 1}{100}, \\frac{2}{101} < x \\leq 1$$\n",
        "\n",
        "Therefore, our inverse $F_{1}^{-1}(x)$ is\n",
        "\n",
        "$$F_{1}^{-1}(x) =\\frac{101}{200}x, 0\\leq x\\leq \\frac{2}{101}$$\n",
        "\n",
        "$$F_{1}^{-1}(x) = \\frac{101x - 1}{100}, \\frac{2}{101} \\leq x \\leq 1$$\n",
        "\n",
        "Now, begin running actual code. Import modules as standard."
      ]
    },
    {
      "metadata": {
        "id": "LX5fzpnPwNlQ",
        "colab_type": "code",
        "colab": {}
      },
      "cell_type": "code",
      "source": [
        "import numpy as np\n",
        "import scipy.stats as ss\n",
        "import matplotlib.pyplot as plt"
      ],
      "execution_count": 0,
      "outputs": []
    },
    {
      "metadata": {
        "id": "vxyQEEiN-_ah",
        "colab_type": "text"
      },
      "cell_type": "markdown",
      "source": [
        "Define the inverse transform code."
      ]
    },
    {
      "metadata": {
        "id": "Q1umMF8O--gn",
        "colab_type": "code",
        "colab": {}
      },
      "cell_type": "code",
      "source": [
        "def inverse_transform_sampling(Finv,n):\n",
        "  # Create a vector to store f-inverse outputs.\n",
        "  x = np.zeros((n,1))\n",
        "  \n",
        "  for i in range(n):\n",
        "    # Generate i.i.d. U(0,1) random variables.\n",
        "    y = np.random.uniform()\n",
        "    # For each y, compute the F-inverse.\n",
        "    x[i,0] = Finv(y)\n",
        "  \n",
        "  return x"
      ],
      "execution_count": 0,
      "outputs": []
    },
    {
      "metadata": {
        "id": "d1QcBeCLAF0k",
        "colab_type": "text"
      },
      "cell_type": "markdown",
      "source": [
        "Define the F-inverse function we will use."
      ]
    },
    {
      "metadata": {
        "id": "sVLP829AF52_",
        "colab_type": "code",
        "colab": {}
      },
      "cell_type": "code",
      "source": [
        "def finv_hw6_2(x):\n",
        "  if x <= 2/101:\n",
        "    return x * 101/200\n",
        "  else:\n",
        "    return (101/100)*x - 0.01"
      ],
      "execution_count": 0,
      "outputs": []
    },
    {
      "metadata": {
        "id": "x3e_HxnwAHyA",
        "colab_type": "code",
        "colab": {}
      },
      "cell_type": "code",
      "source": [
        "def importance_sampling_integral(n):\n",
        "  # Generate iid p_1 samples, denoted by X_i.\n",
        "  x = inverse_transform_sampling(finv_hw6_2,n)\n",
        "  \n",
        "  # Generate values for h(X) and p_1(x).\n",
        "  h = np.zeros((n,1))\n",
        "  p_1 = np.zeros((n,1))\n",
        "  \n",
        "  for i in range(n):\n",
        "    if x[i,0] <= 0.01:\n",
        "      h[i,0] = 100\n",
        "      p_1[i,0] = 2*100/101\n",
        "    else:\n",
        "      h[i,0] = 1\n",
        "      p_1[i,0] = 1*100/101\n",
        "      \n",
        "  # Compute the average of the integrand h adjusted by likelyhood ratio.\n",
        "\n",
        "  # Here, p(X_i) = 1 for all X as noted in lecture.\n",
        "  # Thus, the summation will simplify down somewhat to just be the sum of h(X_i) / p_1(X_i).\n",
        "  \n",
        "  alpha_bar = np.zeros((n,1))\n",
        "  for i in range(n):\n",
        "    alpha_bar[i,0] = h[i,0] / p_1[i,0]\n",
        "  \n",
        "  return sum(alpha_bar)/n"
      ],
      "execution_count": 0,
      "outputs": []
    },
    {
      "metadata": {
        "id": "QBOmL_YrDDgv",
        "colab_type": "text"
      },
      "cell_type": "markdown",
      "source": [
        "Now, demonstrate convergence. As no convergence is proposed, opt to use RMSE."
      ]
    },
    {
      "metadata": {
        "id": "KokmQKgeC5RC",
        "colab_type": "code",
        "colab": {}
      },
      "cell_type": "code",
      "source": [
        "def rmse_of_vector(predictions, act_vals):\n",
        "  # Default check: make sure both vectors are same length.\n",
        "  if len(predictions) == len(act_vals):\n",
        "    pass\n",
        "  else:\n",
        "    return(\"Inputs are not the same length.\")\n",
        "  # Produce difference between estimates and target values (actual value)\n",
        "  diff_vector = [predictions[i]-act_vals[i] for i in range(len(predictions))]\n",
        "  \n",
        "  # Take square of above values\n",
        "  diff_square = [diff_vector[i]**2 for i in range(len(diff_vector))]\n",
        "  \n",
        "  # Convert to array, find mean.\n",
        "  diff_array = np.asarray(diff_square)\n",
        "  diff_mean = diff_array.mean()\n",
        "  \n",
        "  # RMSE is square root of above mean value.\n",
        "  rmse = np.sqrt(diff_mean)\n",
        "  return rmse"
      ],
      "execution_count": 0,
      "outputs": []
    },
    {
      "metadata": {
        "id": "bySA2t3xZ22u",
        "colab_type": "code",
        "colab": {}
      },
      "cell_type": "code",
      "source": [
        "# m is batch number, i_lower and i_upper set bounds of range.\n",
        "m = 100\n",
        "\n",
        "# Create main array to store all outputs in.\n",
        "master_array = np.zeros((m,6))\n",
        "\n",
        "# Populate array with outputs of omc_integral\n",
        "for i in range(5,11): #Use 11 as upper bound so range goes to 10\n",
        "    for j in range(m):\n",
        "        master_array[j,i-5] = importance_sampling_integral(2**i)"
      ],
      "execution_count": 0,
      "outputs": []
    },
    {
      "metadata": {
        "id": "NE6s4Sh_aCh6",
        "colab_type": "code",
        "outputId": "772afeaa-3ecb-4620-8ee6-dad7db05ebbd",
        "colab": {
          "base_uri": "https://localhost:8080/",
          "height": 378
        }
      },
      "cell_type": "code",
      "source": [
        "target_vector = []\n",
        "for i in range(100):\n",
        "  target_vector.append(1.99)\n",
        "\n",
        "N_vector = [2**5, 2**6, 2**7, 2**8, 2**9, 2**10]\n",
        "RMSE_vector = [rmse_of_vector(master_array[:,0],target_vector),\n",
        "              rmse_of_vector(master_array[:,1],target_vector),\n",
        "              rmse_of_vector(master_array[:,2],target_vector),\n",
        "              rmse_of_vector(master_array[:,3],target_vector),\n",
        "              rmse_of_vector(master_array[:,4],target_vector),\n",
        "              rmse_of_vector(master_array[:,5],target_vector)]\n",
        "\n",
        "plt.plot(N_vector,RMSE_vector,label=\"RMSE of Integral Approximation\")\n",
        "plt.xlabel(\"N\")\n",
        "plt.ylabel(\"RMSE\")\n",
        "plt.legend()"
      ],
      "execution_count": 0,
      "outputs": [
        {
          "output_type": "execute_result",
          "data": {
            "text/plain": [
              "<matplotlib.legend.Legend at 0x7f6ed40f2da0>"
            ]
          },
          "metadata": {
            "tags": []
          },
          "execution_count": 26
        },
        {
          "output_type": "display_data",
          "data": {
            "image/png": "[encoded data removed]",
            "text/plain": [
              "<Figure size 576x396 with 1 Axes>"
            ]
          },
          "metadata": {
            "tags": []
          }
        }
      ]
    },
    {
      "metadata": {
        "id": "PpanG4U3aHb-",
        "colab_type": "code",
        "outputId": "dfd2b521-97ed-4c4e-e2e7-63bd4d07a03d",
        "colab": {
          "base_uri": "https://localhost:8080/",
          "height": 378
        }
      },
      "cell_type": "code",
      "source": [
        "nn = np.log2(N_vector)\n",
        "yy = np.log2(np.abs(RMSE_vector))\n",
        "\n",
        "plt.plot(nn,yy,label=\"Log-log plot of RMSE\")\n",
        "plt.xlabel(\"Log(N)\")\n",
        "plt.ylabel(\"Log(|RMSE|)\")\n",
        "plt.legend()"
      ],
      "execution_count": 0,
      "outputs": [
        {
          "output_type": "execute_result",
          "data": {
            "text/plain": [
              "<matplotlib.legend.Legend at 0x7f6ed41745c0>"
            ]
          },
          "metadata": {
            "tags": []
          },
          "execution_count": 27
        },
        {
          "output_type": "display_data",
          "data": {
            "image/png": "[encoded data removed]",
            "text/plain": [
              "<Figure size 576x396 with 1 Axes>"
            ]
          },
          "metadata": {
            "tags": []
          }
        }
      ]
    },
    {
      "metadata": {
        "id": "DvhEOTMKaKhH",
        "colab_type": "code",
        "outputId": "77a3e8a0-e51a-44fb-f003-f8ae7a5323a2",
        "colab": {
          "base_uri": "https://localhost:8080/",
          "height": 34
        }
      },
      "cell_type": "code",
      "source": [
        "out_2 = ss.linregress(nn,yy)\n",
        "print('----->>>the convergence order is ' + str(-out_2[0]))"
      ],
      "execution_count": 0,
      "outputs": [
        {
          "output_type": "stream",
          "text": [
            "----->>>the convergence order is 0.5534277381740489\n"
          ],
          "name": "stdout"
        }
      ]
    },
    {
      "metadata": {
        "id": "t83880Y5Ddgf",
        "colab_type": "text"
      },
      "cell_type": "markdown",
      "source": [
        "Display the output of the various importance sampling integral calls to verify."
      ]
    },
    {
      "metadata": {
        "id": "SnkcSpHzC6mF",
        "colab_type": "code",
        "outputId": "df54dcfb-b3b1-4ff1-bb9f-10c2a97c528e",
        "colab": {
          "base_uri": "https://localhost:8080/",
          "height": 34
        }
      },
      "cell_type": "code",
      "source": [
        "m = 500\n",
        "vector = np.zeros((m,1))\n",
        "for i in range(m):\n",
        "  vector[i,0] = importance_sampling_integral(2**10)\n",
        "\n",
        "np.mean(vector)"
      ],
      "execution_count": 0,
      "outputs": [
        {
          "output_type": "execute_result",
          "data": {
            "text/plain": [
              "1.9902306445312503"
            ]
          },
          "metadata": {
            "tags": []
          },
          "execution_count": 18
        }
      ]
    },
    {
      "metadata": {
        "id": "fvqTtVu5RzKt",
        "colab_type": "text"
      },
      "cell_type": "markdown",
      "source": [
        "This output is close to 1.99, which is what we wanted to see."
      ]
    },
    {
      "metadata": {
        "id": "Jg5aOS9WR5rS",
        "colab_type": "text"
      },
      "cell_type": "markdown",
      "source": [
        "#Suggesting a New PDF\n",
        "\n",
        "As we mentioned in lecture, a higher weight on the first indicator will yield better results. To be exact, we found that having the $p_{1}(x)$ function be such that\n",
        "\n",
        "$$p_{1} = \\frac{1}{C}(100\\cdot I_{(0,1/100]}(x)+1\\cdot I_{(1/100,1)}(x))$$\n",
        "\n",
        "Yields the best results, as it minimizes the MSE. The relevant $C$ here is $C=\\frac{199}{100}$, so $\\frac{1}{C}=\\frac{100}{199}$. Compute $F_{2}^{-1}$ to be able to code.\n",
        "\n",
        "For $x \\leq 0.01$:\n",
        "\n",
        "$$F_{2}(x) = 100*x*\\frac{1}{C}\\mid_{0}^{x} = \\frac{10,000}{199}x$$\n",
        "\n",
        "For $x > 0.01$, the second integral would yield (by math from first section):\n",
        "\n",
        "$$F_{2}(x) = \\frac{1}{C} * [x-\\frac{1}{100}] = \\frac{100}{199} * x - \\frac{100}{199}*\\frac{1}{100} = \\frac{100}{199}x - \\frac{1}{199}$$\n",
        "\n",
        "To this, we must add $100 * \\frac{100}{199} * \\frac{1}{100} = \\frac{100}{199}$:\n",
        "\n",
        "$$\\rightarrow F_{2}(x) = \\frac{100x-1}{199}x + \\frac{100}{199} = \\frac{100x + 99}{199}$$\n",
        "\n",
        "Thus we have $F_{2}(x) = $\n",
        "\n",
        "$$F_{2}(x) = 0, x \\leq 0 $$\n",
        "\n",
        "$$F_{2}(x) = \\frac{10,000x}{199},  0\\leq x\\leq \\frac{1}{100}$$\n",
        "\n",
        "$$F_{2}(x) = \\frac{100x + 99}{199}, \\frac{1}{100}\\leq x \\leq 1$$\n",
        "\n",
        "$$F_{2}(x) = 1, x > 1 $$\n",
        "\n",
        "Thus, find the inverse.\n",
        "\n",
        "For $x \\leq 0.01$:\n",
        "\n",
        "$$x = \\frac{10,000}{199}y \\rightarrow y = \\frac{199}{10,000}x, 0 \\leq x \\leq \\frac{100}{199}$$\n",
        "\n",
        "For $x > 0.01$:\n",
        "\n",
        "$$x = \\frac{100y + 99}{199} \\rightarrow x - \\frac{99}{199} = \\frac{100}{199}y \\rightarrow y = \\frac{199}{100} * (x-\\frac{99}{199})$$\n",
        "\n",
        "$$\\rightarrow y = \\frac{199}{100}x - \\frac{99}{100} = \\frac{199x-99}{100}, \\frac{100}{199} < x \\leq 1$$\n",
        "\n",
        "Thus, $F_{2}^{-1}(x) = $\n",
        "\n",
        "$$F_{2}^{-1}(x) = \\frac{199}{10,000}x, 0\\leq x\\leq \\frac{100}{199} $$\n",
        "\n",
        "$$F_{2}^{-1}(x) = \\frac{199x-99}{100},  \\frac{100}{199} \\leq x \\leq 1$$\n",
        "\n",
        "Now, create new finv(x) function and repeat process."
      ]
    },
    {
      "metadata": {
        "id": "_iyo0oPsZERv",
        "colab_type": "code",
        "colab": {}
      },
      "cell_type": "code",
      "source": [
        "def new_finv_hw6_2(x):\n",
        "  if x <= 100/199:\n",
        "    return x * 199/10000\n",
        "  else:\n",
        "    return (199/100)*x - 0.99"
      ],
      "execution_count": 0,
      "outputs": []
    },
    {
      "metadata": {
        "id": "yje-d4JbZXw7",
        "colab_type": "code",
        "colab": {}
      },
      "cell_type": "code",
      "source": [
        "def optimal_importance_sampling_integral(n):\n",
        "  # Generate iid p_1 samples, denoted by X_i.\n",
        "  x = inverse_transform_sampling(new_finv_hw6_2,n)\n",
        "  \n",
        "  # Generate values for h(X) and p_1(x).\n",
        "  h = np.zeros((n,1))\n",
        "  p_1 = np.zeros((n,1))\n",
        "  \n",
        "  for i in range(n):\n",
        "    if x[i,0] <= 0.01:\n",
        "      h[i,0] = 100\n",
        "      p_1[i,0] = 100*100/199\n",
        "    else:\n",
        "      h[i,0] = 1\n",
        "      p_1[i,0] = 1*100/199\n",
        "      \n",
        "  # Compute the average of the integrand h adjusted by likelyhood ratio.\n",
        "\n",
        "  # Here, p(X_i) = 1 for all X as noted in lecture.\n",
        "  # Thus, the summation will simplify down somewhat to just be the sum of h(X_i) / p_1(X_i).\n",
        "  \n",
        "  alpha_bar = np.zeros((n,1))\n",
        "  for i in range(n):\n",
        "    alpha_bar[i,0] = h[i,0] / p_1[i,0]\n",
        "  \n",
        "  return sum(alpha_bar)/n"
      ],
      "execution_count": 0,
      "outputs": []
    },
    {
      "metadata": {
        "id": "3SL75hbiZjbR",
        "colab_type": "code",
        "colab": {}
      },
      "cell_type": "code",
      "source": [
        "# m is batch number, i_lower and i_upper set bounds of range.\n",
        "m = 100\n",
        "\n",
        "# Create main array to store all outputs in.\n",
        "new_master_array = np.zeros((m,6))\n",
        "\n",
        "# Populate array with outputs of omc_integral\n",
        "for i in range(5,11): #Use 11 as upper bound so range goes to 10\n",
        "    for j in range(m):\n",
        "        new_master_array[j,i-5] = optimal_importance_sampling_integral(2**i)"
      ],
      "execution_count": 0,
      "outputs": []
    },
    {
      "metadata": {
        "id": "KlWiGNkDaZFb",
        "colab_type": "code",
        "outputId": "2c720951-f0e2-47e0-9910-96186eaeb27f",
        "colab": {
          "base_uri": "https://localhost:8080/",
          "height": 389
        }
      },
      "cell_type": "code",
      "source": [
        "N_vector = [2**5, 2**6, 2**7, 2**8, 2**9, 2**10]\n",
        "New_RMSE_vector = [rmse_of_vector(new_master_array[:,0],target_vector),\n",
        "              rmse_of_vector(new_master_array[:,1],target_vector),\n",
        "              rmse_of_vector(new_master_array[:,2],target_vector),\n",
        "              rmse_of_vector(new_master_array[:,3],target_vector),\n",
        "              rmse_of_vector(new_master_array[:,4],target_vector),\n",
        "              rmse_of_vector(new_master_array[:,5],target_vector)]\n",
        "\n",
        "plt.plot(N_vector,New_RMSE_vector,label=\"RMSE of Optimal Integral Approximation\")\n",
        "plt.xlabel(\"N\")\n",
        "plt.ylabel(\"RMSE\")\n",
        "plt.legend()"
      ],
      "execution_count": 0,
      "outputs": [
        {
          "output_type": "execute_result",
          "data": {
            "text/plain": [
              "<matplotlib.legend.Legend at 0x7f6ed6212f98>"
            ]
          },
          "metadata": {
            "tags": []
          },
          "execution_count": 30
        },
        {
          "output_type": "display_data",
          "data": {
            "image/png": "[encoded data removed]",
            "text/plain": [
              "<Figure size 576x396 with 1 Axes>"
            ]
          },
          "metadata": {
            "tags": []
          }
        }
      ]
    },
    {
      "metadata": {
        "id": "s4oXTYc-avze",
        "colab_type": "code",
        "outputId": "3e9c2677-eb42-4644-a69c-981e76269366",
        "colab": {
          "base_uri": "https://localhost:8080/",
          "height": 378
        }
      },
      "cell_type": "code",
      "source": [
        "nn = np.log2(N_vector)\n",
        "yy = np.log2(np.abs(New_RMSE_vector))\n",
        "\n",
        "plt.plot(nn,yy,label=\"Log-log plot of RMSE\")\n",
        "plt.xlabel(\"Log(N)\")\n",
        "plt.ylabel(\"Log(|RMSE|)\")\n",
        "plt.legend()"
      ],
      "execution_count": 0,
      "outputs": [
        {
          "output_type": "execute_result",
          "data": {
            "text/plain": [
              "<matplotlib.legend.Legend at 0x7f6ed40b8940>"
            ]
          },
          "metadata": {
            "tags": []
          },
          "execution_count": 32
        },
        {
          "output_type": "display_data",
          "data": {
            "image/png": "[encoded data removed]",
            "text/plain": [
              "<Figure size 576x396 with 1 Axes>"
            ]
          },
          "metadata": {
            "tags": []
          }
        }
      ]
    },
    {
      "metadata": {
        "id": "goYVRkWqa14E",
        "colab_type": "code",
        "outputId": "2c2f9a3e-70ec-44be-9f34-0666f07e88b8",
        "colab": {
          "base_uri": "https://localhost:8080/",
          "height": 34
        }
      },
      "cell_type": "code",
      "source": [
        "out_2 = ss.linregress(nn,yy)\n",
        "print('----->>>the convergence order is ' + str(-out_2[0]))"
      ],
      "execution_count": 0,
      "outputs": [
        {
          "output_type": "stream",
          "text": [
            "----->>>the convergence order is -0.6286128225191874\n"
          ],
          "name": "stdout"
        }
      ]
    },
    {
      "metadata": {
        "id": "4Og5L4KgZnbW",
        "colab_type": "code",
        "outputId": "b281dfec-b5bd-4c30-a35a-11aaf1194f33",
        "colab": {
          "base_uri": "https://localhost:8080/",
          "height": 34
        }
      },
      "cell_type": "code",
      "source": [
        "m = 500\n",
        "vector = np.zeros((m,1))\n",
        "for i in range(m):\n",
        "  vector[i,0] = optimal_importance_sampling_integral(2**10)\n",
        "\n",
        "np.mean(vector)"
      ],
      "execution_count": 0,
      "outputs": [
        {
          "output_type": "execute_result",
          "data": {
            "text/plain": [
              "1.9900000000000087"
            ]
          },
          "metadata": {
            "tags": []
          },
          "execution_count": 34
        }
      ]
    },
    {
      "metadata": {
        "id": "WX3nkIf_bMJ0",
        "colab_type": "text"
      },
      "cell_type": "markdown",
      "source": [
        "The results all work out but I'm not sure why the RMSE is increasing as Log(N) goes up, nor am I sure why the convergence order is negative. My best guess would probably be, given how close to 1.99 the mean of the above set of tests is, that I'm running up against the machine limit of the system and thus machine approximation error is overcrowding my results."
      ]
    }
  ]
}