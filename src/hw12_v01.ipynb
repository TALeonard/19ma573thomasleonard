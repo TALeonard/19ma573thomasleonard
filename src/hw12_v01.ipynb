{
  "nbformat": 4,
  "nbformat_minor": 0,
  "metadata": {
    "colab": {
      "name": "hw12_v01.ipynb",
      "version": "0.3.2",
      "provenance": [],
      "collapsed_sections": [],
      "include_colab_link": true
    },
    "kernelspec": {
      "name": "python3",
      "display_name": "Python 3"
    }
  },
  "cells": [
    {
      "cell_type": "markdown",
      "metadata": {
        "id": "view-in-github",
        "colab_type": "text"
      },
      "source": [
        "<a href=\"https://colab.research.google.com/github/TALeonard/19ma573thomasleonard/blob/master/src/hw12_v01.ipynb\" target=\"_parent\"><img src=\"https://colab.research.google.com/assets/colab-badge.svg\" alt=\"Open In Colab\"/></a>"
      ]
    },
    {
      "metadata": {
        "id": "4Yx20m7itHX_",
        "colab_type": "text"
      },
      "cell_type": "markdown",
      "source": [
        "We want to find $E[\\hat V_{10}^{2}]$ via OMC. So, we do that. Import numpy module."
      ]
    },
    {
      "metadata": {
        "id": "D4Fm-n4btG_C",
        "colab_type": "code",
        "colab": {}
      },
      "cell_type": "code",
      "source": [
        "import numpy as np\n",
        "import scipy.optimize as so\n",
        "import scipy.integrate as si\n",
        "import matplotlib.pyplot as plt"
      ],
      "execution_count": 0,
      "outputs": []
    },
    {
      "metadata": {
        "id": "60oDswPftdpw",
        "colab_type": "code",
        "colab": {}
      },
      "cell_type": "code",
      "source": [
        "def omc_v10_sq(n):\n",
        "  v_vec = np.zeros(n) # n entries\n",
        "  for j in range(n):\n",
        "    indic_sum = 0 #Initialize summation of the indicator\n",
        "    for i in range(10):\n",
        "      z = np.random.normal(0,1) #Generate Z_i\n",
        "      if z < -2:\n",
        "        indic_sum = indic_sum + 1 #Increment the indicator, if criteria met\n",
        "    v10 = indic_sum/10 #After incrementing sum, compute v-hat-10\n",
        "    v_vec[j] = v10**2 #We want expected value fo v-hat-10 squared, so the entry\n",
        "                      #In the vector is v10**2.\n",
        "  return v_vec.mean()"
      ],
      "execution_count": 0,
      "outputs": []
    },
    {
      "metadata": {
        "id": "VgbjHTB1vBiX",
        "colab_type": "code",
        "outputId": "186c6d63-c936-48d9-97ed-add598937656",
        "colab": {
          "base_uri": "https://localhost:8080/",
          "height": 67
        }
      },
      "cell_type": "code",
      "source": [
        "out_1 = omc_v10_sq(1000)\n",
        "out_2 = omc_v10_sq(2000)\n",
        "out_3 = omc_v10_sq(100000)\n",
        "print(\"OMC approximation for 1000 trials is: \" + str(out_1))\n",
        "print(\"OMC approximation for 2000 trials is: \" + str(out_2))\n",
        "print(\"OMC approximation for 100000 trials is: \" + str(out_3))"
      ],
      "execution_count": 26,
      "outputs": [
        {
          "output_type": "stream",
          "text": [
            "OMC approximation for 1000 trials is: 0.0028900000000000006\n",
            "OMC approximation for 2000 trials is: 0.0026600000000000005\n",
            "OMC approximation for 100000 trials is: 0.002748600000000001\n"
          ],
          "name": "stdout"
        }
      ]
    },
    {
      "metadata": {
        "id": "FEus_AV7vfB6",
        "colab_type": "text"
      },
      "cell_type": "markdown",
      "source": [
        "From this, the OMC approximation of $E[\\hat V_{10} ^{2}]$ is roughly $0.0026$. Now, run Importance Sampling method."
      ]
    },
    {
      "metadata": {
        "id": "S6EEGGIwwNHw",
        "colab_type": "code",
        "colab": {}
      },
      "cell_type": "code",
      "source": [
        "def v10_is(n,b):\n",
        "  # First, take N samples from N(-b, 1) where N() represents the Normal distribution.\n",
        "  indic_sum = 0 # Empty sum to populate\n",
        "  for i in range(n):\n",
        "    x = np.random.normal(-b,1) #Generate a sample from N(-b, 1)\n",
        "    if x < -2: # Increment sum if x_i < -2 (if not, summation term is 0)\n",
        "      indic_sum = indic_sum + np.exp(x * b)\n",
        "  v10 = np.exp(0.5 * (b**2)) * (1/10) * indic_sum\n",
        "  return v10  "
      ],
      "execution_count": 0,
      "outputs": []
    },
    {
      "metadata": {
        "id": "rwxWaIZ2yZNB",
        "colab_type": "text"
      },
      "cell_type": "markdown",
      "source": [
        "Given this importance sampling, compute $E[\\hat V_{10}^{2}]$ as the average of a large number of trials."
      ]
    },
    {
      "metadata": {
        "id": "NyIpkycaygUs",
        "colab_type": "code",
        "colab": {}
      },
      "cell_type": "code",
      "source": [
        "def is_average(m,n,b):\n",
        "  v10_is_vec = np.zeros(m)\n",
        "  for i in range(m):\n",
        "    v10_out = v10_is(n,b)\n",
        "    v10_is_vec[i] = v10_out**2\n",
        "  return v10_is_vec.mean()"
      ],
      "execution_count": 0,
      "outputs": []
    },
    {
      "metadata": {
        "id": "9o7KD57R0uKd",
        "colab_type": "code",
        "outputId": "224b5ba9-0730-44f0-e8a2-95044a1374d1",
        "colab": {
          "base_uri": "https://localhost:8080/",
          "height": 67
        }
      },
      "cell_type": "code",
      "source": [
        "is_out_1 = is_average(1000,10,2)\n",
        "is_out_2 = is_average(2000,10,2)\n",
        "is_out_3 = is_average(10000,10,2)\n",
        "\n",
        "print(\"Importance Sampling output for m = 1000 is \" + str(is_out_1))\n",
        "print(\"Importance Sampling output for m = 2000 is \" + str(is_out_2))\n",
        "print(\"Importance Sampling output for m = 10000 is \" + str(is_out_3))"
      ],
      "execution_count": 29,
      "outputs": [
        {
          "output_type": "stream",
          "text": [
            "Importance Sampling output for m = 1000 is 0.0006427882023040748\n",
            "Importance Sampling output for m = 2000 is 0.0006453679021828602\n",
            "Importance Sampling output for m = 10000 is 0.0006394703622656391\n"
          ],
          "name": "stdout"
        }
      ]
    },
    {
      "metadata": {
        "id": "wTBqX6vC2t82",
        "colab_type": "text"
      },
      "cell_type": "markdown",
      "source": [
        "According to these, the IS output is very close to 0.0006. It's much smaller than the OMC value, but this could be due to the fact that OMC was using N(0, 1) for the underlying value rather than N(-b, 1)."
      ]
    },
    {
      "metadata": {
        "id": "mIWDNVjr4FJM",
        "colab_type": "text"
      },
      "cell_type": "markdown",
      "source": [
        "#Optimizing Efficiency of Importance Sampling\n",
        "\n",
        "We want to optimize the efficiency of the importance sampling, which means finding $b$ such that the MSE is minimized. First, observe that what we want to minimize is\n",
        "\n",
        "$$E[(\\hat\\alpha - \\alpha)^{2}]$$\n",
        "\n",
        "Where $\\alpha = $V which is what we wanted to find, and is about 0.02275 and $\\hat \\alpha$ is our estimator, $\\hat V_{10}$. We can observe that for the importance sampling, $E[\\hat V_{10}] = V$, so the function has no bias.\n",
        "\n",
        "Thus, what we want to estimate is simply the variance of $\\hat V_{10}$, or $E[\\hat V_{10}^{2}] - E[\\hat V_{10}]^{2}$ So we can consider that function:\n",
        "\n",
        "$$E[\\hat V_{10}^{2}] - E[\\hat V_{10}]^{2} = E[(e^{\\frac{1}{2}b^{2}}\\frac{1}{10}\\sum_{i=1}^{10}e^{x_{i}b}I[X_{i} < -2])^{2}] - 0.02275^{2}$$\n",
        "\n",
        "$$ = e^{b^{2}}\\frac{1}{100}E[(\\sum_{i=1}^{10}e^{x_{i}b}I[X_{i} < -2])^{2}] - 0.02275^{2}$$\n",
        "\n",
        "$$ = e^{b^{2}}\\frac{1}{100}E[\\sum_{i=1}^{10}\\sum_{j=1}^{10}e^{x_{i}b + x_{j}b}I[X_{i} < -2]I[X_{j} < -2]] - 0.02275^{2}$$\n",
        "\n",
        "Observe that there are 2 cases for the expectation of this summation: the case where $i = j$ and the case where $i \\neq j$. Of the 100 elements in the summation, 10 of them are the former case and 90 are the latter. Thus,\n",
        "\n",
        "$$E[\\sum_{i=1}^{10}\\sum_{j=1}^{10}e^{x_{i}b + x_{j}b}I(X_{i} < -2)I(X_{j} < -2)] = E[\\sum_{i=1}^{10}e^{2x_{i}b}I(X_{i} < -2)] + E[\\sum_{i=1}^{10}\\sum_{j=1, j\\neq i}^{10}e^{x_{i}b + x_{j}b}I(X_{i} < -2)I(X_{j} < -2)]$$\n",
        "\n",
        "Consider each term separately. For the second summation, we know that $x_{i}$ and $x_{j}$ are independent and identically distributed as $N(-b, 1)$, that x_i and x_j are not dependent on $i$ and $j$, and that collectively there are 90 terms present.\n",
        "\n",
        "$$E[\\sum_{i=1}^{10}\\sum_{j=1, j\\neq i}^{10}e^{x_{i}b + x_{j}b}I(X_{i} < -2)I(X_{j} < -2)] = E[\\sum_{i = 1}^{10}e^{x_{i}b}I(X_{i} < -2)]E[\\sum_{j = 1, j \\neq i}^{10}e^{x_{j}b}I(X_{j} < -2)] = 90(\\int_{-\\infty}^{-2}e^{xb}\\frac{1}{\\sqrt{2\\pi}}e^{-\\frac{(x+b)^{2}}{2}})^2 dx$$\n",
        "\n",
        "Now, simplify the integral:\n",
        "\n",
        "$$\\int_{-\\infty}^{-2}e^{xb}\\frac{1}{\\sqrt{2\\pi}}e^{-\\frac{(x+b)^{2}}{2}})^2 dx = \\int_{-\\infty}^{-2}e^{xb}\\frac{1}{\\sqrt{2\\pi}}e^{-\\frac{(x^{2} + 2xb + b^{2})}{2}})^2 dx$$\n",
        "\n",
        "$$ = \\int_{-\\infty}^{-2}\\frac{1}{\\sqrt{2\\pi}}e^{-\\frac{(x^{2} + b^{2})}{2} + xb - \\frac{2xb}{2}} dx = \\int_{-\\infty}^{-2}\\frac{1}{\\sqrt{2\\pi}}e^{-\\frac{(x^{2} + b^{2})}{2}} dx$$\n",
        "\n",
        "$$ = e^{\\frac{-b^{2}}{2}}\\int_{-\\infty}^{-2}\\frac{1}{\\sqrt{2\\pi}}e^{\\frac{-x^{2}}{2}} dx$$\n",
        "\n",
        "Thus, we have that\n",
        "\n",
        "$$ (\\int_{-\\infty}^{-2}e^{xb}\\frac{1}{\\sqrt{2\\pi}}e^{-\\frac{(x+b)^{2}}{2}})^2 dx = e^{-b^{2}}(\\int_{-\\infty}^{-2}\\frac{1}{\\sqrt{2\\pi}}e^{\\frac{-x^{2}}{2}} dx)^{2}$$\n",
        "\n",
        "As we are looking to minimize the MSE as a function of $b$, we do not need to simplify this further. The function we will be looking to minimize is\n",
        "\n",
        "$$f(b) = e^{b^{2}}\\frac{1}{100}E[\\sum_{i=1}^{10}\\sum_{j=1}^{10}e^{x_{i}b + x_{j}b}I[X_{i} < -2]I[X_{j} < -2]] - 0.02275^{2}$$\n",
        "\n",
        "The expectation, as we have shown, expands into 2 separate terms. The above result, $e^{-b^{2}}(\\int_{-\\infty}^{-2}\\frac{1}{\\sqrt{2\\pi}}e^{\\frac{-x^{2}}{2}} dx)^{2}$, will be the simplification of one of the terms. The $e^{-b^{2}}$ term present will cancel with the leading coefficient of $e^{b^{2}}$, so this term in the function will be a constant with respect to $b$. Thus, the first derivative with respect to $b$ will be 0 for this term. Therefore, we do not need to simplify the square of the integral further.\n",
        "\n",
        "Now, consider the other term of the summation, where $i = j$. Here, we will have 10 entries.\n",
        "\n",
        "$$E[\\sum_{i=1}^{10}e^{2x_{i}b}I(X_{i} < -2)] = 10\\int_{-\\infty}^{-2}e^{2xb}\\frac{1}{\\sqrt{2\\pi}}e^{-\\frac{(x+b)^{2}}{2}} = 10\\int_{-\\infty}^{-2}\\frac{1}{\\sqrt{2\\pi}}e^{-\\frac{(x^{2} + b^{2})}{2} + 2xb - \\frac{2xb}{2}}dx$$\n",
        "\n",
        "$$ = 10\\int_{-\\infty}^{-2}\\frac{1}{\\sqrt{2\\pi}}e^{\\frac{-x^{2}}{2} + xb - \\frac{b^{2}}{2}}dx$$\n",
        "\n",
        "We cannot really simplify this further, but this is sufficient. Given this, we can compute the derivative of $f$ with respect to $b$. Thus,\n",
        "\n",
        "$$f(b) = e^{b^{2}}\\frac{1}{100}[10\\int_{-\\infty}^{-2}\\frac{1}{\\sqrt{2\\pi}}e^{\\frac{-x^{2}}{2} + xb - \\frac{b^{2}}{2}}dx + 90e^{-b^{2}}(\\int_{-\\infty}^{-2}\\frac{1}{\\sqrt{2\\pi}}e^{\\frac{-x^{2}}{2}} dx)^{2}] - 0.02275^{2}$$\n",
        "\n",
        "$$ = e^{b^{2}}\\frac{1}{10}[\\int_{-\\infty}^{-2}\\frac{1}{\\sqrt{2\\pi}}e^{\\frac{-x^{2}}{2} + xb - \\frac{b^{2}}{2}}dx] + \\frac{9}{10}(\\int_{-\\infty}^{-2}\\frac{1}{\\sqrt{2\\pi}}e^{\\frac{-x^{2}}{2}} dx)^{2} - 0.02275^{2}$$\n",
        "\n",
        "Now, take the derivative with respect to $b$.\n",
        "\n",
        "$$f'(b) = \\frac{2}{10}be^{b^{2}}\\int_{-\\infty}^{-2}\\frac{1}{\\sqrt{2\\pi}}e^{\\frac{-x^{2}}{2} + xb - \\frac{b^{2}}{2}}dx + \\frac{1}{10}e^{b^{2}}\\int_{-\\infty}^{-2}\\frac{\\partial f}{\\partial b}(\\frac{1}{\\sqrt{2\\pi}}e^{\\frac{-x^{2}}{2} + xb - \\frac{b^{2}}{2}})dx$$\n",
        "\n",
        "$$ = \\frac{2}{10}be^{b^{2}}\\int_{-\\infty}^{-2}\\frac{1}{\\sqrt{2\\pi}}e^{\\frac{-x^{2}}{2} + xb - \\frac{b^{2}}{2}}dx + \\frac{1}{10}e^{b^{2}}\\int_{-\\infty}^{-2}(\\frac{1}{\\sqrt{2\\pi}}e^{\\frac{-x^{2}}{2} + xb - \\frac{b^{2}}{2}}(x - b))dx$$\n",
        "\n",
        "We want to evaluate this to solve for 0, but this isn't an easily solvable function. Use python to solve it."
      ]
    },
    {
      "metadata": {
        "id": "Piacwgu-Kkui",
        "colab_type": "code",
        "colab": {}
      },
      "cell_type": "code",
      "source": [
        "def fprime(b):\n",
        "  coef_1 = 0.2 * b * np.exp(b**2)\n",
        "  intarg_1 = lambda x: 1/np.sqrt(2*np.pi) * np.exp((-1*(x**2)/2) + (x*b) - ((b**2)/2))\n",
        "  \n",
        "  integral_1 = si.quad(intarg_1,-np.inf, -2)\n",
        "  \n",
        "  coef_2 = 0.1 * np.exp(b**2)\n",
        "  intarg_2 = lambda x: (1/np.sqrt(2*np.pi) * np.exp((-1*(x**2)/2) + (x*b) - ((b**2)/2)))*(x-b)\n",
        "  \n",
        "  integral_2 = si.quad(intarg_2, -np.inf, -2)\n",
        "  \n",
        "  term_1 = coef_1 * integral_1[0]\n",
        "  term_2 = coef_2 * integral_2[0]\n",
        "  \n",
        "  return term_1 + term_2"
      ],
      "execution_count": 0,
      "outputs": []
    },
    {
      "metadata": {
        "id": "qoFXNoFVM6aP",
        "colab_type": "code",
        "colab": {
          "base_uri": "https://localhost:8080/",
          "height": 34
        },
        "outputId": "4a9b822b-59d3-4615-84d6-2a185d916a0c"
      },
      "cell_type": "code",
      "source": [
        "so.fsolve(fprime, 2)"
      ],
      "execution_count": 68,
      "outputs": [
        {
          "output_type": "execute_result",
          "data": {
            "text/plain": [
              "array([2.21592996])"
            ]
          },
          "metadata": {
            "tags": []
          },
          "execution_count": 68
        }
      ]
    },
    {
      "metadata": {
        "id": "d0j43y3DPTsW",
        "colab_type": "text"
      },
      "cell_type": "markdown",
      "source": [
        "This suggests that the zero value is roughly 2.216=. Let's attempt to graph $f'(b)$ from 0 to 3 to see if this matches."
      ]
    },
    {
      "metadata": {
        "id": "cmT2Z4BTPZmH",
        "colab_type": "code",
        "colab": {
          "base_uri": "https://localhost:8080/",
          "height": 300
        },
        "outputId": "5a836069-0ff1-4f9b-9078-6686620a0f1a"
      },
      "cell_type": "code",
      "source": [
        "b_range = np.linspace(0, 3, 500)\n",
        "f_vals = np.zeros(len(b_range))\n",
        "zer_vals = np.zeros(len(b_range))\n",
        "for i in range(len(b_range)):\n",
        "  f_vals[i] = fprime(b_range[i])\n",
        "\n",
        "plt.plot(b_range, f_vals,'b',b_range, zer_vals, 'g')\n",
        "plt.xlabel(\"b\")\n",
        "plt.ylabel(\"f'(b)\")\n",
        "plt.legend([\"f'(b)\", \"Zero Line (referenece)\"])"
      ],
      "execution_count": 58,
      "outputs": [
        {
          "output_type": "execute_result",
          "data": {
            "text/plain": [
              "<matplotlib.legend.Legend at 0x7f88188e71d0>"
            ]
          },
          "metadata": {
            "tags": []
          },
          "execution_count": 58
        },
        {
          "output_type": "display_data",
          "data": {
            "image/png": "[encoded data removed]",
            "text/plain": [
              "<Figure size 432x288 with 1 Axes>"
            ]
          },
          "metadata": {
            "tags": []
          }
        }
      ]
    },
    {
      "metadata": {
        "id": "jaPPDZjwWgBt",
        "colab_type": "text"
      },
      "cell_type": "markdown",
      "source": [
        "This matches up. Define a function for $f$ and graph it on the interval $[0, 3]$ to see if it has a minimum around this value."
      ]
    },
    {
      "metadata": {
        "id": "T3Bt-LjUWnzC",
        "colab_type": "code",
        "colab": {}
      },
      "cell_type": "code",
      "source": [
        "def f(b):\n",
        "  coef_1 = 0.1 * np.exp(b**2)\n",
        "  intarg_1 = lambda x: (1/np.sqrt(2*np.pi))*np.exp(((-1*(x**2))/2) + (x*b) - ((b**2)/2))\n",
        "  \n",
        "  integral_1 = si.quad(intarg_1, -np.inf, -2)\n",
        "  \n",
        "  coef_2 = 0.9\n",
        "  intarg_2 = lambda x: (1/np.sqrt(2*np.pi))*np.exp(-1 * ((x**2)/2))\n",
        "  integral_2 = si.quad(intarg_2, -np.inf, -2)\n",
        "  \n",
        "  term_1 = coef_1 * integral_1[0]\n",
        "  term_2 = coef_2 * (integral_2[0] ** 2)\n",
        "  term_3 = 0.02275**2\n",
        "  \n",
        "  return term_1 + term_2 - term_3"
      ],
      "execution_count": 0,
      "outputs": []
    },
    {
      "metadata": {
        "id": "GZLXqZjaWGrq",
        "colab_type": "code",
        "colab": {
          "base_uri": "https://localhost:8080/",
          "height": 300
        },
        "outputId": "deb19cb1-cfe5-4673-c745-25aa9e1032e1"
      },
      "cell_type": "code",
      "source": [
        "b_range = np.linspace(0, 3, 500)\n",
        "f_vals = np.zeros(len(b_range))\n",
        "\n",
        "for i in range(len(b_range)):\n",
        "  f_vals[i] = f(b_range[i])\n",
        "\n",
        "plt.plot(b_range, f_vals,'b')\n",
        "plt.xlabel(\"b\")\n",
        "plt.ylabel(\"f(b)\")"
      ],
      "execution_count": 70,
      "outputs": [
        {
          "output_type": "execute_result",
          "data": {
            "text/plain": [
              "Text(0, 0.5, 'f(b)')"
            ]
          },
          "metadata": {
            "tags": []
          },
          "execution_count": 70
        },
        {
          "output_type": "display_data",
          "data": {
            "image/png": "[encoded data removed]",
            "text/plain": [
              "<Figure size 432x288 with 1 Axes>"
            ]
          },
          "metadata": {
            "tags": []
          }
        }
      ]
    },
    {
      "metadata": {
        "id": "WheZeXSlWsZw",
        "colab_type": "text"
      },
      "cell_type": "markdown",
      "source": [
        "Graph again on $[2, 2.5]$ to see the minimum better."
      ]
    },
    {
      "metadata": {
        "id": "5oQ-XyXYWrrS",
        "colab_type": "code",
        "colab": {
          "base_uri": "https://localhost:8080/",
          "height": 300
        },
        "outputId": "f86784c7-ef06-401e-bf35-1e6a4d468906"
      },
      "cell_type": "code",
      "source": [
        "b_range = np.linspace(2, 2.5, 500)\n",
        "f_vals = np.zeros(len(b_range))\n",
        "\n",
        "for i in range(len(b_range)):\n",
        "  f_vals[i] = f(b_range[i])\n",
        "\n",
        "plt.plot(b_range, f_vals,'b')\n",
        "plt.xlabel(\"b\")\n",
        "plt.ylabel(\"f(b)\")"
      ],
      "execution_count": 74,
      "outputs": [
        {
          "output_type": "execute_result",
          "data": {
            "text/plain": [
              "Text(0, 0.5, 'f(b)')"
            ]
          },
          "metadata": {
            "tags": []
          },
          "execution_count": 74
        },
        {
          "output_type": "display_data",
          "data": {
            "image/png": "[encoded data removed]",
            "text/plain": [
              "<Figure size 432x288 with 1 Axes>"
            ]
          },
          "metadata": {
            "tags": []
          }
        }
      ]
    },
    {
      "metadata": {
        "id": "OUxZ7sxaXIdx",
        "colab_type": "text"
      },
      "cell_type": "markdown",
      "source": [
        "This matches up to what Python's solution is, so I am satisfied."
      ]
    }
  ]
}