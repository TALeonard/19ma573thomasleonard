{
  "nbformat": 4,
  "nbformat_minor": 0,
  "metadata": {
    "colab": {
      "name": "hw12_v01.ipynb",
      "version": "0.3.2",
      "provenance": [],
      "include_colab_link": true
    },
    "kernelspec": {
      "name": "python3",
      "display_name": "Python 3"
    }
  },
  "cells": [
    {
      "cell_type": "markdown",
      "metadata": {
        "id": "view-in-github",
        "colab_type": "text"
      },
      "source": [
        "<a href=\"https://colab.research.google.com/github/TALeonard/19ma573thomasleonard/blob/master/src/hw12_v01.ipynb\" target=\"_parent\"><img src=\"https://colab.research.google.com/assets/colab-badge.svg\" alt=\"Open In Colab\"/></a>"
      ]
    },
    {
      "metadata": {
        "id": "4Yx20m7itHX_",
        "colab_type": "text"
      },
      "cell_type": "markdown",
      "source": [
        "We want to find $E[\\hat V_{10}^{2}]$ via OMC. So, we do that. Import numpy module."
      ]
    },
    {
      "metadata": {
        "id": "D4Fm-n4btG_C",
        "colab_type": "code",
        "colab": {}
      },
      "cell_type": "code",
      "source": [
        "import numpy as np"
      ],
      "execution_count": 0,
      "outputs": []
    },
    {
      "metadata": {
        "id": "60oDswPftdpw",
        "colab_type": "code",
        "colab": {}
      },
      "cell_type": "code",
      "source": [
        "def omc_v10_sq(n):\n",
        "  v_vec = np.zeros(n) # n entries\n",
        "  for j in range(n):\n",
        "    indic_sum = 0 #Initialize summation of the indicator\n",
        "    for i in range(10):\n",
        "      z = np.random.normal(0,1) #Generate Z_i\n",
        "      if z < -2:\n",
        "        indic_sum = indic_sum + 1 #Increment the indicator, if criteria met\n",
        "    v10 = indic_sum/10 #After incrementing sum, compute v-hat-10\n",
        "    v_vec[j] = v10**2 #We want expected value fo v-hat-10 squared, so the entry\n",
        "                      #In the vector is v10**2.\n",
        "  return v_vec.mean()"
      ],
      "execution_count": 0,
      "outputs": []
    },
    {
      "metadata": {
        "id": "VgbjHTB1vBiX",
        "colab_type": "code",
        "colab": {
          "base_uri": "https://localhost:8080/",
          "height": 67
        },
        "outputId": "8929e643-c498-45ca-d8d9-5bced1940bf8"
      },
      "cell_type": "code",
      "source": [
        "out_1 = omc_v10_sq(1000)\n",
        "out_2 = omc_v10_sq(2000)\n",
        "out_3 = omc_v10_sq(100000)\n",
        "print(\"OMC approximation for 1000 trials is: \" + str(out_1))\n",
        "print(\"OMC approximation for 2000 trials is: \" + str(out_2))\n",
        "print(\"OMC approximation for 100000 trials is: \" + str(out_3))"
      ],
      "execution_count": 11,
      "outputs": [
        {
          "output_type": "stream",
          "text": [
            "OMC approximation for 1000 trials is: 0.0028200000000000005\n",
            "OMC approximation for 2000 trials is: 0.0026550000000000007\n",
            "OMC approximation for 100000 trials is: 0.0027788000000000005\n"
          ],
          "name": "stdout"
        }
      ]
    },
    {
      "metadata": {
        "id": "FEus_AV7vfB6",
        "colab_type": "text"
      },
      "cell_type": "markdown",
      "source": [
        "From this, the OMC approximation of $E[\\hat V_{10} ^{2}]$ is roughly $0.0026$. Now, run Importance Sampling method."
      ]
    },
    {
      "metadata": {
        "id": "S6EEGGIwwNHw",
        "colab_type": "code",
        "colab": {}
      },
      "cell_type": "code",
      "source": [
        "def v10_is(n,b):\n",
        "  # First, take N samples from N(-b, 1) where N() represents the Normal distribution.\n",
        "  indic_sum = 0 # Empty sum to populate\n",
        "  for i in range(n):\n",
        "    x = np.random.normal(-b,1) #Generate a sample from N(-b, 1)\n",
        "    if x < -2: # Increment sum if x_i < -2 (if not, summation term is 0)\n",
        "      indic_sum = indic_sum + np.exp(10 * x * b)\n",
        "  v10 = np.exp(0.5 * (b**2)) * (1/10) * indic_sum\n",
        "  return v10  "
      ],
      "execution_count": 0,
      "outputs": []
    },
    {
      "metadata": {
        "id": "rwxWaIZ2yZNB",
        "colab_type": "text"
      },
      "cell_type": "markdown",
      "source": [
        "Given this importance sampling, compute $E[\\hat V_{10}^{2}]$ as the average of a large number of trials."
      ]
    },
    {
      "metadata": {
        "id": "NyIpkycaygUs",
        "colab_type": "code",
        "colab": {}
      },
      "cell_type": "code",
      "source": [
        "def is_average(m,n,b):\n",
        "  v10_is_vec = np.zeros(m)\n",
        "  for i in range(m):\n",
        "    v10_out = v10_is(n,b)\n",
        "    v10_is_vec[i] = v10_out**2\n",
        "  return v10_is_vec.mean()"
      ],
      "execution_count": 0,
      "outputs": []
    },
    {
      "metadata": {
        "id": "9o7KD57R0uKd",
        "colab_type": "code",
        "colab": {
          "base_uri": "https://localhost:8080/",
          "height": 67
        },
        "outputId": "a1fd417b-88b2-460b-e8c5-7aae1d925927"
      },
      "cell_type": "code",
      "source": [
        "is_out_1 = is_average(1000,10,2)\n",
        "is_out_2 = is_average(2000,10,2)\n",
        "is_out_3 = is_average(10000,10,2)\n",
        "\n",
        "print(\"Importance Sampling output for m = 1000 is \" + str(is_out_1))\n",
        "print(\"Importance Sampling output for m = 2000 is \" + str(is_out_2))\n",
        "print(\"Importance Sampling output for m = 10000 is \" + str(is_out_3))"
      ],
      "execution_count": 12,
      "outputs": [
        {
          "output_type": "stream",
          "text": [
            "Importance Sampling output for m = 1000 is 1.2369776244356614e-36\n",
            "Importance Sampling output for m = 2000 is 1.4662160938366953e-36\n",
            "Importance Sampling output for m = 10000 is 1.3201695680616566e-36\n"
          ],
          "name": "stdout"
        }
      ]
    },
    {
      "metadata": {
        "id": "wTBqX6vC2t82",
        "colab_type": "text"
      },
      "cell_type": "markdown",
      "source": [
        "According to these, the IS output is very close to 0. We saw something similar in the OMC testing (albeit to only about 3 decimal places). This makes sense to consider given the underlying algorithm.\n",
        "\n",
        "The sum of the indicator function is only nonzero if at least one $x_{i} < -2$. For all such $x_{i}$, the relevant terms in the summation are all at most $e^{10bx_{i}} = e^{20x_{i}}$. As $e^{x}$ is an increasing function, the largest value this will take without making the indicator 0 is roughly $e^{-40} \\approx 4.24 * 10^{-18}$. Thus, even if it took this value 10 times the preceding $\\frac{1}{10}$ term in the definition used for $\\hat V_{10}$ would \"cancel\" it out (by way of $10*e^{-40} * \\frac{1}{10}$), leaving us with $e^{\\frac{1}{2}b^{2}}e^{-40} = e^{2}e^{-40} = e^{-38} \\approx 3.14 * 10^{-17}$. Thus, logically this result makes sense (as much as it shows the OMC is massively off, or my assumptions somewhere are horridly wrong)."
      ]
    },
    {
      "metadata": {
        "id": "mIWDNVjr4FJM",
        "colab_type": "text"
      },
      "cell_type": "markdown",
      "source": [
        "As for making the Importance Sampling most efficient... I'm not entirely sure."
      ]
    }
  ]
}