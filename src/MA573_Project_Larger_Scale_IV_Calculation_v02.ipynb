{
  "nbformat": 4,
  "nbformat_minor": 0,
  "metadata": {
    "colab": {
      "name": "MA573_Project_Larger_Scale_IV_Calculation.ipynb",
      "version": "0.3.2",
      "provenance": [],
      "collapsed_sections": [],
      "include_colab_link": true
    },
    "kernelspec": {
      "name": "python3",
      "display_name": "Python 3"
    }
  },
  "cells": [
    {
      "cell_type": "markdown",
      "metadata": {
        "id": "view-in-github",
        "colab_type": "text"
      },
      "source": [
        "<a href=\"https://colab.research.google.com/github/TALeonard/19ma573thomasleonard/blob/master/src/MA573_Project_Larger_Scale_IV_Calculation_v02.ipynb\" target=\"_parent\"><img src=\"https://colab.research.google.com/assets/colab-badge.svg\" alt=\"Open In Colab\"/></a>"
      ]
    },
    {
      "metadata": {
        "id": "dva6KmQYXwdu",
        "colab_type": "text"
      },
      "cell_type": "markdown",
      "source": [
        "We are going to attempt to compute implied volatilities for the system. Import numpy, scipy.stats and pyplot for the sake of use, and clone in the proper files from my directory."
      ]
    },
    {
      "metadata": {
        "id": "vwhrbJT8Y8Jt",
        "colab_type": "code",
        "outputId": "60ee7e82-4553-464d-b634-9c9b5afdbdf6",
        "colab": {
          "base_uri": "https://localhost:8080/",
          "height": 134
        }
      },
      "cell_type": "code",
      "source": [
        "#!git clone https://github.com/TALeonard/19ma573thomasleonard.git #Only run once!"
      ],
      "execution_count": 2,
      "outputs": [
        {
          "output_type": "stream",
          "text": [
            "Cloning into '19ma573thomasleonard'...\n",
            "remote: Enumerating objects: 127, done.\u001b[K\n",
            "remote: Counting objects: 100% (127/127), done.\u001b[K\n",
            "remote: Compressing objects: 100% (127/127), done.\u001b[K\n",
            "remote: Total 413 (delta 45), reused 0 (delta 0), pack-reused 286\u001b[K\n",
            "Receiving objects: 100% (413/413), 1.50 MiB | 20.23 MiB/s, done.\n",
            "Resolving deltas: 100% (147/147), done.\n"
          ],
          "name": "stdout"
        }
      ]
    },
    {
      "metadata": {
        "id": "-Rz30YYrY9yg",
        "colab_type": "code",
        "outputId": "120bffc1-16be-41fc-96ac-8e1de8c99b04",
        "colab": {
          "base_uri": "https://localhost:8080/",
          "height": 34
        }
      },
      "cell_type": "code",
      "source": [
        "cd /content/19ma573thomasleonard/src/"
      ],
      "execution_count": 1,
      "outputs": [
        {
          "output_type": "stream",
          "text": [
            "/content/19ma573thomasleonard/src\n"
          ],
          "name": "stdout"
        }
      ]
    },
    {
      "metadata": {
        "id": "3qAZx8CnXwIG",
        "colab_type": "code",
        "colab": {}
      },
      "cell_type": "code",
      "source": [
        "import numpy as np\n",
        "import scipy.optimize as so\n",
        "import matplotlib.pyplot as plt\n",
        "import pandas as pd\n",
        "from european_options_class import VanillaOption\n",
        "from gbm_1d_class_v02 import Gbm"
      ],
      "execution_count": 0,
      "outputs": []
    },
    {
      "metadata": {
        "id": "-wl4LBoDdMF1",
        "colab_type": "text"
      },
      "cell_type": "markdown",
      "source": [
        "Define the \"default\" parameters which are true for every asset. These include:\n",
        "\n",
        "* Otype - this is 1 for all values (I am only looking at calls for parsimony)\n",
        "* Maturity - dependant on which fileset I am using. For the 4/18/2019 set, this maturty is 21 days out (I acquired this data on 3-27-2019). This doesn't count the day itself, and I will only count business days, so this is  actually 16 days (or 16/252, to convert to years).\n",
        "* Interest rate - again, dependent on fileset. For 4/18/2019, r = 2.45%.\n",
        "\n",
        "For the other data, we have the remaining information - Spot price, strike price, and (for implied volatility computation) the Option Price."
      ]
    },
    {
      "metadata": {
        "id": "YND0qsIWeF_F",
        "colab_type": "code",
        "colab": {}
      },
      "cell_type": "code",
      "source": [
        "r = 0.0245\n",
        "otype = 1\n",
        "maturity = 16/252"
      ],
      "execution_count": 0,
      "outputs": []
    },
    {
      "metadata": {
        "id": "AvzIMjKJa_mU",
        "colab_type": "text"
      },
      "cell_type": "markdown",
      "source": [
        "Import the data. Each dataset is separated by maturity date."
      ]
    },
    {
      "metadata": {
        "id": "nE-ujkgFbBx4",
        "colab_type": "code",
        "colab": {}
      },
      "cell_type": "code",
      "source": [
        "df = pd.read_csv('calls_4_18_2019.csv')\n",
        "\n",
        "stock_names = df.Stock\n",
        "spot_prices = df['Stock Price']\n",
        "strikes = df.Strike\n",
        "true_prices = df['Option Price']\n",
        "true_iv = df.IV"
      ],
      "execution_count": 0,
      "outputs": []
    },
    {
      "metadata": {
        "id": "N6e4rbAEmgsm",
        "colab_type": "code",
        "colab": {
          "base_uri": "https://localhost:8080/",
          "height": 34
        },
        "outputId": "0562a319-faf8-44a9-f6ed-cf825598a327"
      },
      "cell_type": "code",
      "source": [
        "stock_names[89]"
      ],
      "execution_count": 6,
      "outputs": [
        {
          "output_type": "execute_result",
          "data": {
            "text/plain": [
              "'VZ'"
            ]
          },
          "metadata": {
            "tags": []
          },
          "execution_count": 6
        }
      ]
    },
    {
      "metadata": {
        "id": "kegyxfzVeS5Y",
        "colab_type": "text"
      },
      "cell_type": "markdown",
      "source": [
        "From this, we now have a set of variables which represent lists of each piece of worthwhile information from the array - the names of the underlying stocks (for reference), the spot prices used, the strikes, the observed options prices, and the related computed implied volatilities.\n",
        "\n",
        "Now, build the list of GBMs and the list of options for use."
      ]
    },
    {
      "metadata": {
        "id": "LXwxoBzteK06",
        "colab_type": "code",
        "colab": {}
      },
      "cell_type": "code",
      "source": [
        "num_row = stock_names.shape[0]\n",
        "gbm_list = []\n",
        "option_list = []\n",
        "num_data_per_stock = [] # A vector to track how many data points each GBM corresponds to\n",
        "first_line = True\n",
        "count = 1\n",
        "\n",
        "for i in range(num_row):\n",
        "  option1 = VanillaOption(otype = otype, strike = strikes[i],\n",
        "                         maturity = maturity, market_price = true_prices[i])\n",
        "  \n",
        "  option_list.append(option1)\n",
        "  if first_line == True:\n",
        "    gbm1 = Gbm(init_state = spot_prices[i],\n",
        "            drift_ratio = r,\n",
        "            vol_ratio = .1 #Initial Guess\n",
        "            ) \n",
        "    gbm_list.append(gbm1)\n",
        "    first_line = False\n",
        "  elif stock_names[i] != stock_names[i-1]:\n",
        "    gbm1 = Gbm(init_state = spot_prices[i],\n",
        "            drift_ratio = r,\n",
        "            vol_ratio = .1 #Initial Guess\n",
        "            ) \n",
        "    gbm_list.append(gbm1)\n",
        "    num_data_per_stock.append(count)\n",
        "    count = 1\n",
        "  else:\n",
        "    count = count + 1\n",
        "    continue\n",
        "\n",
        "# Append the count value for the final set in the data, which does not get added if the\n",
        "# last element in the set isn't uniqueas it does not trigger the elif condition \n",
        "# regardless of whether the last element is unique or part of a set. If unique, the\n",
        "# Last element in this array should be 1; otherwise, it is the most updated count.\n",
        "# In either case, this is the `count` variable.\n",
        "num_data_per_stock.append(count) \n",
        "  "
      ],
      "execution_count": 0,
      "outputs": []
    },
    {
      "metadata": {
        "id": "mXQDwqAOq2f8",
        "colab_type": "text"
      },
      "cell_type": "markdown",
      "source": [
        "At this point, we now have a set of GBMs which are indexed based on the underlying stock name. My goal is producing a code which can take in a mixed bag of option data (organized by underlying, but all in one \"group\" as it were) and output properly analyzed volatilties for each.\n",
        "\n",
        "For the purpose of having SOME form of insightful analysis in my final paper, I will opt to consider all 3 error functions defined in class, so that I can compare the outputs of each:\n",
        "\n",
        "* $H(x,y) = (\\sum_{i = 1}^{n} |x_{i} - y_{i}|^{2})^{1/2}$\n",
        "* $H(x, y) = (\\sum_{i =1}^{n} |\\frac{x_{i} - y_{i}}{y_{i}}|^{2})^{1/2}$ \n",
        "* $H(x,y) = (\\sum_{i=1}^{n}|\\ln(x_{i}) - \\ln(y_{i})|^{2})^{1/2}$\n",
        "\n",
        "Note: These had weight variables in lecture, which allowed for varying weights on each option, and varying exponents. I am opting to use $p = 2$ and $w_{i} = 1$ in all cases, for parity. In each case, I will be minimizing the error of the argument under the square root, as it will be positive (which means minimizing it will minimize my overall error regardless of root, since my root is positive)."
      ]
    },
    {
      "metadata": {
        "id": "43SaDSVAiUHz",
        "colab_type": "code",
        "colab": {}
      },
      "cell_type": "code",
      "source": [
        "'''==========\n",
        "Define the error function methods\n",
        "=========='''\n",
        "\n",
        "def error_function_abs(vol, gbm_list, option_list, num_data_per_set):\n",
        "  ndps = num_data_per_set\n",
        "  \n",
        "  #Initialize conditions that change in the loop.\n",
        "  ndps_step = 0\n",
        "  count = 1\n",
        "  temp_gbm = gbm_list[0]\n",
        "  temp_gbm.vol_ratio = vol\n",
        "  \n",
        "  err1 = 0\n",
        "  for i in range(len(option_list)):\n",
        "    err1 = err1 + ((option_list[i]).market_price - gbm.bsm_price(option_list[i]))**2\n",
        "    # Check if current element of option list is last for this GBM.\n",
        "    if count == ndps[ndps_step]:\n",
        "      ndps_step = ndps_step + 1\n",
        "      temp_gbm = gbm_list[ndps_step]\n",
        "      count = 1\n",
        "    if count != ndps[ndps_step]:\n",
        "      count = count + 1\n",
        "  return err1"
      ],
      "execution_count": 0,
      "outputs": []
    },
    {
      "metadata": {
        "id": "r7Kvaa74AucY",
        "colab_type": "code",
        "colab": {}
      },
      "cell_type": "code",
      "source": [
        "def error_function_ssre(vol, gbm_list, option_list, num_data_per_set):\n",
        "  ndps = num_data_per_set\n",
        "  \n",
        "  #Initialize conditions that change in the loop.\n",
        "  ndps_step = 0\n",
        "  count = 1\n",
        "  temp_gbm = gbm_list[0]\n",
        "  temp_gbm.vol_ratio = vol\n",
        "  \n",
        "  err1 = 0\n",
        "  for i in range(len(option_list)):\n",
        "    err1 = err1 + (((option_list[i]).market_price - gbm.bsm_price(option_list[i]))/gbm.bsm_price(option_list[i]))**2\n",
        "    # Check if current element of option list is last for this GBM.\n",
        "    if count == ndps[ndps_step]:\n",
        "      ndps_step = ndps_step + 1\n",
        "      temp_gbm = gbm_list[ndps_step]\n",
        "      count = 1\n",
        "    if count != ndps[ndps_step]:\n",
        "      count = count + 1\n",
        "  return err1"
      ],
      "execution_count": 0,
      "outputs": []
    },
    {
      "metadata": {
        "id": "4eiEmtZSAtAv",
        "colab_type": "code",
        "colab": {}
      },
      "cell_type": "code",
      "source": [
        "def error_function_ln(vol, gbm_list, option_list, num_data_per_set):\n",
        "  ndps = num_data_per_set\n",
        "  \n",
        "  #Initialize conditions that change in the loop.\n",
        "  ndps_step = 0\n",
        "  count = 1\n",
        "  temp_gbm = gbm_list[0]\n",
        "  temp_gbm.vol_ratio = vol\n",
        "  \n",
        "  err1 = 0\n",
        "  for i in range(len(option_list)):\n",
        "    err1 = err1 + (np.log((option_list[i]).market_price) - np.log(temp_gbm.bsm_price(option_list[i])))**2\n",
        "    # Check if current element of option list is last for this GBM.\n",
        "    if count == ndps[ndps_step]:\n",
        "      ndps_step = ndps_step + 1\n",
        "      temp_gbm = gbm_list[ndps_step]\n",
        "      count = 1\n",
        "    if count != ndps[ndps_step]:\n",
        "      count = count + 1\n",
        "  return err1"
      ],
      "execution_count": 0,
      "outputs": []
    },
    {
      "metadata": {
        "id": "owK97XJbA5Zk",
        "colab_type": "code",
        "colab": {}
      },
      "cell_type": "code",
      "source": [
        "'''===========\n",
        "Define the Calibrated Volatility Seeking methods\n",
        "==========='''\n",
        "\n",
        "def bsm_calibration_data_set_abs(gbm_list,option_list,num_stock_per_set):\n",
        "  nsps = num_stock_per_set #Simplify name within code body for easier typing.\n",
        "  init_vol = .1 #Initial Guess\n",
        "  return so.fmin(error_function_abs, init_vol, args = (gbm_list, option_list, nsps), disp = 0)[0]\n",
        "\n",
        "def bsm_calibration_data_set_ssre(gbm_list,option_list,num_stock_per_set):\n",
        "  nsps = num_stock_per_set #Simplify name within code body for easier typing.\n",
        "  init_vol = .1 #Initial Guess\n",
        "  return so.fmin(error_function_ssre, init_vol, args = (gbm_list, option_list, nsps), disp = 0)[0]\n",
        "\n",
        "def bsm_calibration_data_set_ln(gbm_list,option_list,num_stock_per_set):\n",
        "  nsps = num_stock_per_set #Simplify name within code body for easier typing.\n",
        "  init_vol = .1 #Initial Guess\n",
        "  return so.fmin(error_function_ln, init_vol, args = (gbm_list, option_list, nsps), disp = 0)[0]"
      ],
      "execution_count": 0,
      "outputs": []
    },
    {
      "metadata": {
        "id": "xCNtGpW9yFH7",
        "colab_type": "code",
        "colab": {}
      },
      "cell_type": "code",
      "source": [
        "'''=============\n",
        "This isn't used in the final result; it's just a way to compute multiple IVs from a subset of data.\n",
        "============='''\n",
        "\n",
        "def bsm_calibration_data_sub_set_abs(gbm_list,option_list,num_stock_per_set):\n",
        "  nsps = num_stock_per_set #Simplify name within code body for easier typing.\n",
        "  num_opts = len(option_list)\n",
        "  num_gbms = len(gbm_list)\n",
        "  init_vol = .1 #Initial Guess\n",
        "  \n",
        "  # Create empty matrices for IVs.\n",
        "  iv_abs = np.zeros(num_gbms)\n",
        "  \n",
        "  # Create empty matrix for temp storage of Options.\n",
        "  temp_opt_list = []\n",
        "  \n",
        "  nsps_step = 0\n",
        "  count = 1\n",
        "  \n",
        "  for i in range(num_opts):\n",
        "    temp_opt_list.append(option_list[i])\n",
        "    if count == nsps[nsps_step]:\n",
        "      iv_abs[nsps_step] = so.fmin(error_function_abs, init_vol,\n",
        "                                 args = (gbm_list[nsps_step], temp_opt_list),\n",
        "                                 disp = 0)[0]\n",
        "      temp_opt_list = []\n",
        "      nsps_step = nsps_step + 1\n",
        "      count = 1\n",
        "    if count != nsps[nsps_step]:\n",
        "      count = count + 1\n",
        "  return iv_abs"
      ],
      "execution_count": 0,
      "outputs": []
    },
    {
      "metadata": {
        "id": "1EDD_JNqAyc_",
        "colab_type": "text"
      },
      "cell_type": "markdown",
      "source": [
        "Now we have the code ready to calibrate to whatever set we want. We can take subsets of the original data (or manipulate the original Pandas dataframe) to do any analysis we want.\n",
        "\n",
        "Process from here:\n",
        "\n",
        "1. Take a given data set (start with set as a whole) and compute the calibrated volatility by the 3 methods.\n",
        "* Use the volatilities to price ALL options within the system.\n",
        "* Compare prices computed by calibration to true prices of each option with graphs. (Code will be iterative, like error computations, plotting multiple figures)\n",
        "* Identify subsets to work with (i.e. large asset/small asset, similar bloomberg IVs, etc.)\n",
        "* Repeat steps 1-3 for each subset.\n",
        "\n",
        "Additional possible work:\n",
        "\n",
        "* Sanitize data for other terms besides 21-day option, repeat 1-5.\n",
        "* Extract exotic options from Bloomberg, price using engine. Have I done a calibration on exotic options before?\n",
        "  * Seems that OVX and OVXT are the codes to use to get to the exotic engine.\n",
        "  * How many? Maybe 5? Decide tomorrow; will depend on effort required."
      ]
    },
    {
      "metadata": {
        "id": "ut-XoLbP6n0N",
        "colab_type": "code",
        "colab": {
          "base_uri": "https://localhost:8080/",
          "height": 552
        },
        "outputId": "a8fae0c4-6f1b-4fa2-fbd5-e6faf8cf9a33"
      },
      "cell_type": "code",
      "source": [
        "x = [1, 2, 3]\n",
        "y = [1, 2, 3]\n",
        "w = [2, 4, 6]\n",
        "z = [2, 4, 6]\n",
        "\n",
        "plt.figure()\n",
        "plt.plot(x, y)\n",
        "plt.xlabel(\"x\")\n",
        "plt.ylabel(\"y \" + str(y[2]))\n",
        "plt.figure()\n",
        "plt.plot(w, z)"
      ],
      "execution_count": 61,
      "outputs": [
        {
          "output_type": "execute_result",
          "data": {
            "text/plain": [
              "[<matplotlib.lines.Line2D at 0x7fe8836e20b8>]"
            ]
          },
          "metadata": {
            "tags": []
          },
          "execution_count": 61
        },
        {
          "output_type": "display_data",
          "data": {
            "image/png": "[encoded data removed]",
            "text/plain": [
              "<Figure size 432x288 with 1 Axes>"
            ]
          },
          "metadata": {
            "tags": []
          }
        },
        {
          "output_type": "display_data",
          "data": {
            "image/png": "[encoded data removed]",
            "text/plain": [
              "<Figure size 432x288 with 1 Axes>"
            ]
          },
          "metadata": {
            "tags": []
          }
        }
      ]
    }
  ]
}