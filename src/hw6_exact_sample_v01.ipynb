{
  "nbformat": 4,
  "nbformat_minor": 0,
  "metadata": {
    "colab": {
      "name": "hw6_exact_sample_v01.ipynb",
      "version": "0.3.2",
      "provenance": [],
      "include_colab_link": true
    },
    "kernelspec": {
      "name": "python3",
      "display_name": "Python 3"
    }
  },
  "cells": [
    {
      "cell_type": "markdown",
      "metadata": {
        "id": "view-in-github",
        "colab_type": "text"
      },
      "source": [
        "<a href=\"https://colab.research.google.com/github/TALeonard/19ma573thomasleonard/blob/master/src/hw6_exact_sample_v01.ipynb\" target=\"_parent\"><img src=\"https://colab.research.google.com/assets/colab-badge.svg\" alt=\"Open In Colab\"/></a>"
      ]
    },
    {
      "metadata": {
        "id": "pvYdY_6akjHh",
        "colab_type": "text"
      },
      "cell_type": "markdown",
      "source": [
        "First, we will import modules."
      ]
    },
    {
      "metadata": {
        "id": "syrHj2Vqkgnm",
        "colab_type": "code",
        "outputId": "eb3cf9d6-85de-4db3-b807-b044a5056e15",
        "colab": {
          "base_uri": "https://localhost:8080/",
          "height": 101
        }
      },
      "cell_type": "code",
      "source": [
        "#!git clone https://github.com/TALeonard/18ma573pub.git #Only run once!"
      ],
      "execution_count": 1,
      "outputs": [
        {
          "output_type": "stream",
          "text": [
            "Cloning into '18ma573pub'...\n",
            "remote: Enumerating objects: 763, done.\u001b[K\n",
            "remote: Total 763 (delta 0), reused 0 (delta 0), pack-reused 763\u001b[K\n",
            "Receiving objects: 100% (763/763), 2.47 MiB | 25.57 MiB/s, done.\n",
            "Resolving deltas: 100% (449/449), done.\n"
          ],
          "name": "stdout"
        }
      ]
    },
    {
      "metadata": {
        "id": "DsF14eFmku1_",
        "colab_type": "code",
        "outputId": "ff964cc0-211b-473d-fc4e-81fd9a18cf86",
        "colab": {
          "base_uri": "https://localhost:8080/",
          "height": 34
        }
      },
      "cell_type": "code",
      "source": [
        "cd /content/18ma573pub/src/"
      ],
      "execution_count": 2,
      "outputs": [
        {
          "output_type": "stream",
          "text": [
            "/content/18ma573pub/src\n"
          ],
          "name": "stdout"
        }
      ]
    },
    {
      "metadata": {
        "id": "ZcpiHHIfkxbs",
        "colab_type": "code",
        "colab": {}
      },
      "cell_type": "code",
      "source": [
        "import numpy as np\n",
        "import matplotlib.pyplot as plt\n",
        "from contract_v01 import VanillaOption\n",
        "from sde_1d_v01 import Sde_1d, Gbm_1d"
      ],
      "execution_count": 0,
      "outputs": []
    },
    {
      "metadata": {
        "id": "fGbAWOmRk1ev",
        "colab_type": "text"
      },
      "cell_type": "markdown",
      "source": [
        "As I am only using it this one time (for the moment, at least), I will simply re-run my Asian Option code from HW4. I acknowledge that I should probably make an updated form of either sde_1d_v01 or contract_v01 at some point but I do not need to do so quite yet."
      ]
    },
    {
      "metadata": {
        "id": "auZkFqKZlzZP",
        "colab_type": "code",
        "colab": {}
      },
      "cell_type": "code",
      "source": [
        "'''==============\n",
        "output: BSM geometric asian option price\n",
        "==============='''\n",
        "\n",
        "def bsm_geometric_asian_price(self,\n",
        "                             otype = 1,\n",
        "                             strike = 110,\n",
        "                             maturity = 1,\n",
        "                             num_step = 4 #partition number\n",
        "                             ):\n",
        "  s0 = self.init_state\n",
        "  sigma = self.vol_ratio\n",
        "  r = self.drift_ratio\n",
        "  n = num_step\n",
        "  \n",
        "  #NOTE: This price assumes a uniform partition time steps, for ease of coding.\n",
        "  \n",
        "  #Want to compute r-hat and sigma-hat for the price itself.\n",
        "  #r-hat = mu-hat + 1/2(sigma-hat^2)\n",
        "  #Thus for r-hat we need mu-hat, and sigma-hat\n",
        "  \n",
        "  #Compute mu-hat\n",
        "  #mu-hat = mu/2 (we are assuming uniform partition as stated above)\n",
        "  mu = r - 0.5*(sigma**2)\n",
        "  mu_hat = (mu/2)\n",
        "  \n",
        "  #Compute sigma-hat\n",
        "  #Sigma-hat^2 = (sigma^2 * (2m + 1))/(6*(m+1)) where m is the number of steps.\n",
        "  #Recall that the vol_ratio is sigma, not sigma^2. Thus we need both.\n",
        "  sigma_hat_squared = ((sigma**2)*((2*n) + 1))/(6*(n+1))\n",
        "  sigma_hat = sigma_hat_squared ** 0.5\n",
        "  \n",
        "  #With mu-hat and sigma-hat calculated, we can find r-hat.\n",
        "  r_hat = mu_hat + (0.5 * sigma_hat_squared)\n",
        "  \n",
        "  #Create a separate GBM variable to store the new sigma and r, for the sake of\n",
        "  #computing the price.\n",
        "  \n",
        "  gao_internal_gbm = Gbm_1d(init_state=s0,drift_ratio = r_hat,vol_ratio = sigma_hat)\n",
        "  \n",
        "  return np.exp((r_hat - r)*maturity) * gao_internal_gbm.bsm_price(VanillaOption(otype,strike,maturity))\n",
        "\n",
        "Gbm_1d.bsm_geometric_asian_price = bsm_geometric_asian_price"
      ],
      "execution_count": 0,
      "outputs": []
    },
    {
      "metadata": {
        "id": "TsOTSqXzl3yw",
        "colab_type": "code",
        "colab": {}
      },
      "cell_type": "code",
      "source": [
        "'''=================\n",
        "paras are given here\n",
        "================='''\n",
        "\n",
        "s0 = 100.0\n",
        "sigma = 0.20\n",
        "r = 0.0475\n",
        "\n",
        "K = 110.0\n",
        "T = 1.\n",
        "otype = 1\n",
        "num_step = 5"
      ],
      "execution_count": 0,
      "outputs": []
    },
    {
      "metadata": {
        "id": "Wqd1HhCKmI6N",
        "colab_type": "text"
      },
      "cell_type": "markdown",
      "source": [
        "Now, create arithmetic asian exact sample code. First, make code to produce our BM paths."
      ]
    },
    {
      "metadata": {
        "id": "zU6F_Ax6neBS",
        "colab_type": "code",
        "colab": {}
      },
      "cell_type": "code",
      "source": [
        "def BM_gen(T1, T2, n): #para: start time, end time, mesh numbr\n",
        "  t = np.linspace(T1, T2, num = n+1)\n",
        "  W = np.zeros(n+1)\n",
        "  #Run (3.2)\n",
        "  for i in range(n):\n",
        "    W[i+1] = W[i] + 1./np.sqrt(n) * np.random.normal()\n",
        "    \n",
        "  return t, W"
      ],
      "execution_count": 0,
      "outputs": []
    },
    {
      "metadata": {
        "id": "XvlIMgKFmLQS",
        "colab_type": "code",
        "colab": {}
      },
      "cell_type": "code",
      "source": [
        "def bsm_arithmetic_asian_exact_sample(self,\n",
        "                                     otype = 1,\n",
        "                                     strike = 110,\n",
        "                                     maturity = 1,\n",
        "                                     num_step = 5,\n",
        "                                     num_path = 100):\n",
        "  s0 = self.init_state\n",
        "  sigma = self.vol_ratio\n",
        "  r = self.drift_ratio\n",
        "  n = num_step\n",
        "  m = num_path\n",
        "  \n",
        "  Stock_history = np.zeros((num_path,n+1))\n",
        "  Stock_history[:,0] = s0;\n",
        "  \n",
        "  A = np.zeros(num_path)\n",
        "  C_sample = np.zeros(num_path)\n",
        "  \n",
        "  \n",
        "  ### UNCERTAINTY: HOW TO SET UP TIME STEP SYSTEM\n",
        "  \n",
        "  # Generate (num_path) many GBM paths by exact sampling.\n",
        "  \n",
        "  for i in range(m):\n",
        "    [t,W] = BM_gen(0,maturity,n)\n",
        "    for j in range(n):\n",
        "      Stock_history[i,j+1] = s0 * np.exp((r-(0.5*(sigma**2)))*t[j+1] + sigma*W[j+1])\n",
        "    # Compute discounted payoff for each path.\n",
        "    A[i] = np.mean(Stock_history[i,:])\n",
        "    if A[i] - strike > 0:\n",
        "      C_sample[i] = np.exp(-1*r*maturity) * (A[i]-strike)\n",
        "    else:\n",
        "      C_sample[i] = 0\n",
        "\n",
        "  # Take average to find option price.\n",
        "  return np.mean(C_sample)\n",
        "\n",
        "Gbm_1d.bsm_arithmetic_asian_exact_sample = bsm_arithmetic_asian_exact_sample"
      ],
      "execution_count": 0,
      "outputs": []
    },
    {
      "metadata": {
        "id": "TWpl9F6N1iqF",
        "colab_type": "text"
      },
      "cell_type": "markdown",
      "source": [
        "Now, run to find the price of the three calls for comparison. Given inherent randomness in price of the Arithmetic, have 2 versions run (to show that the outputs will differ despite having the exact same inputs)."
      ]
    },
    {
      "metadata": {
        "id": "0EQrMV1ewnl2",
        "colab_type": "code",
        "outputId": "e76a9b42-ca7c-4211-d898-ff4199bb6025",
        "colab": {
          "base_uri": "https://localhost:8080/",
          "height": 84
        }
      },
      "cell_type": "code",
      "source": [
        "gbm1 = Gbm_1d(init_state = s0, drift_ratio = r, vol_ratio = sigma)\n",
        "\n",
        "eur_call1 = gbm1.bsm_price(VanillaOption(otype = otype,\n",
        "                                     strike = K,\n",
        "                                     maturity = T,\n",
        "                                     market_price = s0\n",
        "                                       ))\n",
        "\n",
        "gao1 = gbm1.bsm_geometric_asian_price(\n",
        "                          otype = otype,\n",
        "                          strike = K,\n",
        "                          maturity = T,\n",
        "                          num_step = num_step\n",
        "                          )\n",
        "aac1 = gbm1.bsm_arithmetic_asian_exact_sample(\n",
        "                                        otype=otype,\n",
        "                                        strike=K,\n",
        "                                        maturity=T,\n",
        "                                        num_step=num_step,\n",
        "                                        num_path=500\n",
        "                                        )\n",
        "aac2 = gbm1.bsm_arithmetic_asian_exact_sample(\n",
        "                                        otype=otype,\n",
        "                                        strike=K,\n",
        "                                        maturity=T,\n",
        "                                        num_step=num_step,\n",
        "                                        num_path=500\n",
        "                                        )\n",
        "\n",
        "print('European Call Option Price is ' + str(eur_call1))\n",
        "print('Geometric Asian Call Option Price is ' + str(gao1))\n",
        "print('First Arithmetic Asian Call Option Price is ' + str(aac1))\n",
        "print('Second Arithmetic Asian Call Option Price is ' + str(aac2))"
      ],
      "execution_count": 8,
      "outputs": [
        {
          "output_type": "stream",
          "text": [
            "European Call Option Price is 5.943273183452838\n",
            "Geometric Asian Call Option Price is 1.6421227433993888\n",
            "First Arithmetic Asian Call Option Price is 2.1514044384703666\n",
            "Second Arithmetic Asian Call Option Price is 2.0216902763622078\n"
          ],
          "name": "stdout"
        }
      ]
    },
    {
      "metadata": {
        "id": "Vwi4HTeX8nh-",
        "colab_type": "text"
      },
      "cell_type": "markdown",
      "source": [
        "We can see that the prices of both \"runs\" of the Arithmetic option are larger than the Geometric option here. If we keep running, we can occasionally see that one or both of these will dip below the Geometric option. The frequency with which this occurs goes down if we increase the number of paths.\n",
        "\n",
        "Despite this, I believe that we can make the following comparison overall, with respect to options pricing:\n",
        "\n",
        "Geometric Asian Call $\\leq$ Arithmetic Asian Call $\\leq$ European Call\n",
        "\n",
        "This is a combination of the following arguments:\n",
        "\n",
        "* The European Call's price is relatively much larger than the other 2 options prices, which are roughly equal to each other. Thus, we can identify it as the largest of the three.\n",
        "\n",
        "* The Geometric option's price here is fixed at $\\$1.64$, whereas the Arithmetic option's price can go above (or below) that. Since the Arithmetic can be more expensive, I believe it makes the most sense to say the Arithmetic is the more expensive of the two. This is backed up by the fact that generally speaking, the Geometric Mean of a set will always be less than or equal to its Arithmetic Mean. This is a basic property of the [Pythagorean Means](https://en.wikipedia.org/wiki/Pythagorean_means), of which Arithmetic and Geometric are 2 of the 3 (the third being the Harmonic mean).\n",
        "\n",
        "For completeness, let us attempt to identify the \"average\" of these averaged prices (using the arithmetic mean), to verify this."
      ]
    },
    {
      "metadata": {
        "id": "ZSLZ1o30yPmu",
        "colab_type": "code",
        "outputId": "65692f0e-83a3-4d42-c27f-5b92a0c5145e",
        "colab": {
          "base_uri": "https://localhost:8080/",
          "height": 34
        }
      },
      "cell_type": "code",
      "source": [
        "sum_price = 0\n",
        "n = 100\n",
        "\n",
        "for i in range(n):\n",
        "  aac_out = gbm1.bsm_arithmetic_asian_exact_sample(\n",
        "                                        otype=otype,\n",
        "                                        strike=K,\n",
        "                                        maturity=T,\n",
        "                                        num_step=num_step,\n",
        "                                        num_path=500\n",
        "                                        )\n",
        "  sum_price += aac_out\n",
        "\n",
        "mean_price = sum_price/n\n",
        "print(\"Average of 'average' Arithmetic Asian Call Prices is \" + str(mean_price))"
      ],
      "execution_count": 11,
      "outputs": [
        {
          "output_type": "stream",
          "text": [
            "Average of 'average' Arithmetic Asian Call Prices is 1.8600676411637982\n"
          ],
          "name": "stdout"
        }
      ]
    },
    {
      "metadata": {
        "id": "ZHDkwc-d_O8j",
        "colab_type": "text"
      },
      "cell_type": "markdown",
      "source": [
        "We can see that the \"average\" asian call prices are averaging out to something between $\\$1.80$ and $\\$1.90$. We could increase the num_path variable or the number of samples $n$ used in the above code to get a more precise result, at the cost of a higher time spent computing (more paths to simulate and average will increase the time the code takes to run).\n",
        "\n",
        "Based on this, therefore, I am confident in my original remark that the Arithmetic Asian Call's price is larger than the Geometric Asian Call's price."
      ]
    }
  ]
}