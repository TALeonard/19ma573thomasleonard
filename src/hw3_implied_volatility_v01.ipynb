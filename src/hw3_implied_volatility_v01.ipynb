{
  "nbformat": 4,
  "nbformat_minor": 0,
  "metadata": {
    "colab": {
      "name": "hw3_implied_volatility_v01.ipynb",
      "version": "0.3.2",
      "provenance": [],
      "toc_visible": true,
      "include_colab_link": true
    },
    "kernelspec": {
      "name": "python3",
      "display_name": "Python 3"
    }
  },
  "cells": [
    {
      "cell_type": "markdown",
      "metadata": {
        "id": "view-in-github",
        "colab_type": "text"
      },
      "source": [
        "<a href=\"https://colab.research.google.com/github/TALeonard/19ma573thomasleonard/blob/master/src/hw3_implied_volatility_v01.ipynb\" target=\"_parent\"><img src=\"https://colab.research.google.com/assets/colab-badge.svg\" alt=\"Open In Colab\"/></a>"
      ]
    },
    {
      "metadata": {
        "id": "oZteoWt_Fw-D",
        "colab_type": "text"
      },
      "cell_type": "markdown",
      "source": [
        "#HW 3, Part 2: Implied Volatility\n",
        "\n",
        "First, we prove as the assignment outlined.\n",
        "\n",
        "Prove the following facts: Suppose $f$ is a function satisfying\n",
        "* $f$: $[0, \\infty) \\mapsto (f_{min}, f_{max})$\n",
        "* $f$ is continuous\n",
        "* $f$ is strictly increasing\n",
        "\n",
        "Then, for any $p \\in (f_{min},f_{max})$ there exists a unique $\\hat \\sigma$, s.t. $f(\\hat \\sigma) = p$.\n",
        "\n",
        "Further, $$\\hat \\sigma = argmin_{\\sigma \\in (0, \\infty)}|f(\\sigma)-p|.$$\n",
        "\n",
        "__Proof of Statement 1__\n",
        "\n",
        "First, we prove the \"initial statement\" about uniqueness. Therefore we need to show that given a value $p \\in (f_{min},f_{max})$, there exists at least one $f(\\sigma)$ such that $f(\\sigma)=p$. \n",
        "\n",
        "Given the function is strictly increasing, we have that $f(b) > f(a)$ for all $b > a$ where $b, a \\in [0, \\infty)$.\n",
        "\n",
        "Note that while the function does not map to $f_{min}$ or $f_{max}$ directly, it maps to values inside that range, i.e. it goes from $(f_{min}+\\epsilon)$ to $(f_{max}-\\epsilon)$ for $\\epsilon > 0$. Choose $\\epsilon$ such that for a given value of $p$, $p$ is in the interval $[(f_{min}+\\epsilon), (f_{max}-\\epsilon)]$. We know that the function will achieve the value $(f_{min}+\\epsilon)$ and that it is both increasing and continuous, which means that it will achieve every value between $(f_{min}+\\epsilon)$ and $(f_{max}-\\epsilon)$, which will therefore include $p$. Thus, there exists some value $c$ such that $f(c) = p$. Thus, our hypothetical $f(\\hat \\sigma)$ can exist.\n",
        "\n",
        "Now, we need to show that this $f(\\hat \\sigma)$ is unique. Let us suppose it isn't, i.e. that there exist 2 $sigma$ values, denoted $\\sigma_{1}$ and $\\sigma_{2}$, such that $f(\\sigma_{1}) = f(\\sigma_{2}) = p$ and $\\sigma_{1} \\neq \\sigma_{2}$. If $\\sigma_{1} \\neq \\sigma_{2}$, then this means either that $\\sigma_{1} > \\sigma_{2}$ or that $\\sigma_{1} < \\sigma_{2}$. In either case, this produces a contradiction as the function f is strictly increasing, which means that $f(b) > f(a)$ when $b > a$ for valid values of $b$ and $a$. As we know that $\\sigma_{1} \\neq \\sigma_{2}$, they need to satisfy this relation in some regard, no matter which direction (as in, $\\sigma_{1} > \\sigma_{2}$ or $\\sigma_{1} < \\sigma_{2}$) is the truth. Thus, no matter what for any 2 values of $\\sigma$ in the interval, $f(\\sigma_{1}) \\neq f(\\sigma_{2})$. Thus, the $\\hat \\sigma$ satisfying $f(\\hat \\sigma) = p$  is unique. $\\square$\n",
        "\n",
        "__Proof of Statement 2__\n",
        "\n",
        "Now, we need to prove the second definition for $\\hat \\sigma$. Given that we know $f(\\hat \\sigma) = p$, this tells us that $f(\\hat \\sigma) - p = 0$. In order for the expression $|f(\\sigma) - p|$ to reach a minimum, it needs to either be zero or be as close to zero as possible. AS we know that there exists a $\\sigma$ such that $f(\\sigma) = p$, this is the value that will minimize the function. By the above proof, we also know that for a given $p \\in (f_{min},f_{max})$ there is only __one__ value $f(\\sigma)$ which will achieve this zero. Thus, the value that minimizes the argument $|f(\\sigma) - p|$ is the value of $\\sigma$ such that $f(\\sigma) = p$. By the above definitions, this value of $\\sigma$ is $\\hat \\sigma$, thus we conclude that $$\\hat \\sigma = argmin_{\\sigma \\in [0, \\infty)}|f(\\sigma)-p|. \\square$$"
      ]
    },
    {
      "metadata": {
        "id": "eEY9sbSnLrfO",
        "colab_type": "text"
      },
      "cell_type": "markdown",
      "source": [
        "With the proofs done, we now work on the rest of the assignment. First, we must import the BSM classes and necessary modules:"
      ]
    },
    {
      "metadata": {
        "id": "4Mn-s74_O-uo",
        "colab_type": "code",
        "colab": {
          "base_uri": "https://localhost:8080/",
          "height": 118
        },
        "outputId": "fb641a87-8562-436b-9eee-91b0fb10d3a1"
      },
      "cell_type": "code",
      "source": [
        "#!git clone https://github.com/TALeonard/19ma573thomasleonard.git #Only run once!"
      ],
      "execution_count": 2,
      "outputs": [
        {
          "output_type": "stream",
          "text": [
            "Cloning into '19ma573thomasleonard'...\n",
            "remote: Enumerating objects: 82, done.\u001b[K\n",
            "remote: Counting objects: 100% (82/82), done.\u001b[K\n",
            "remote: Compressing objects: 100% (80/80), done.\u001b[K\n",
            "remote: Total 82 (delta 25), reused 0 (delta 0), pack-reused 0\u001b[K\n",
            "Unpacking objects: 100% (82/82), done.\n"
          ],
          "name": "stdout"
        }
      ]
    },
    {
      "metadata": {
        "id": "lbT9XuJVPXX8",
        "colab_type": "code",
        "colab": {
          "base_uri": "https://localhost:8080/",
          "height": 34
        },
        "outputId": "f4c6902a-5144-4098-bec4-e21489da3c30"
      },
      "cell_type": "code",
      "source": [
        "cd /content/19ma573thomasleonard/src/"
      ],
      "execution_count": 3,
      "outputs": [
        {
          "output_type": "stream",
          "text": [
            "/content/19ma573thomasleonard/src\n"
          ],
          "name": "stdout"
        }
      ]
    },
    {
      "metadata": {
        "id": "sKUVMY4yPa12",
        "colab_type": "code",
        "colab": {}
      },
      "cell_type": "code",
      "source": [
        "import numpy as np\n",
        "import scipy.stats as ss\n",
        "import matplotlib.pyplot as plt\n",
        "import scipy.optimize as so\n",
        "from european_options_class import VanillaOption\n",
        "from gbm_1d_class_v02 import Gbm"
      ],
      "execution_count": 0,
      "outputs": []
    },
    {
      "metadata": {
        "id": "2DhqQSP2Q477",
        "colab_type": "text"
      },
      "cell_type": "markdown",
      "source": [
        "Now, supply the given's information: Spot Price is 100, Drift ratio is 0.045, the option's strike price is 110, the maturity is 1, and the option is a put (Otype = -1). I will use a volatility ratio of 0.20 initially to be able to define the rest of the values in the GBM class."
      ]
    },
    {
      "metadata": {
        "id": "afn_7CwwQPhb",
        "colab_type": "code",
        "colab": {}
      },
      "cell_type": "code",
      "source": [
        "option1 = VanillaOption(otype = -1, strike = 110, maturity = 1)\n",
        "gbm1 = Gbm(init_state = 100, drift_ratio = 0.0475, vol_ratio = 0.2)"
      ],
      "execution_count": 0,
      "outputs": []
    },
    {
      "metadata": {
        "id": "YvL2097JRwV5",
        "colab_type": "text"
      },
      "cell_type": "markdown",
      "source": [
        "Now, we define the error function and method for finding implied volatility as the lecture example does:"
      ]
    },
    {
      "metadata": {
        "id": "_EIuGgZYRz5c",
        "colab_type": "code",
        "colab": {}
      },
      "cell_type": "code",
      "source": [
        "'''================\n",
        "define an error function\n",
        "===================='''\n",
        "def error_function(vol, gbm, option):\n",
        "  gbm.vol_ratio = vol\n",
        "  return np.abs(option.market_price - gbm.bsm_price(option))\n",
        "\n",
        "'''==========\n",
        "define a method to seek for an implied volatility\n",
        "============'''\n",
        "\n",
        "def implied_volatility(gbm, option):\n",
        "  init_vol = .1 #initial guess\n",
        "  return so.fmin(error_function, init_vol, \n",
        "                 args = (gbm, option), disp = 0)[0]"
      ],
      "execution_count": 0,
      "outputs": []
    },
    {
      "metadata": {
        "id": "CWqjK7SAR4Kp",
        "colab_type": "text"
      },
      "cell_type": "markdown",
      "source": [
        "Given this, let us first find the implied volatility for a put with market price of 10 (the last of the 3 questions related to the BSM put price):"
      ]
    },
    {
      "metadata": {
        "id": "hoYNBvoVSA7N",
        "colab_type": "code",
        "colab": {
          "base_uri": "https://localhost:8080/",
          "height": 34
        },
        "outputId": "b88287b2-5a2b-4f0a-bd23-3d652021bcb5"
      },
      "cell_type": "code",
      "source": [
        "option1.market_price = 10\n",
        "\n",
        "print('>>>>>>>>implied volatility is ' + \n",
        "     str(implied_volatility(gbm1, option1)))"
      ],
      "execution_count": 12,
      "outputs": [
        {
          "output_type": "stream",
          "text": [
            ">>>>>>>>implied volatility is 0.17867187500000026\n"
          ],
          "name": "stdout"
        }
      ]
    },
    {
      "metadata": {
        "id": "a6nquBOySSTB",
        "colab_type": "text"
      },
      "cell_type": "markdown",
      "source": [
        "Thus, the __implied volatility regarding a market put with the assignment's defined conditions and a price of $\\$ 10$ is 17.867%.__\n",
        "\n",
        "Now, consider the others. We want to find $f_{min}$ and $f_{max}$. For this, consider making a linspace of potential $\\sigma$ values, ranging from $0$ to $0.50$."
      ]
    },
    {
      "metadata": {
        "id": "W5JJc8LVSxQ6",
        "colab_type": "code",
        "colab": {}
      },
      "cell_type": "code",
      "source": [
        "sigmarange = np.linspace(0.01,0.5,50)"
      ],
      "execution_count": 0,
      "outputs": []
    },
    {
      "metadata": {
        "id": "cgj7TyEqS9Xf",
        "colab_type": "text"
      },
      "cell_type": "markdown",
      "source": [
        "Given a value of sigma, we can compute a related price if all else remains constant."
      ]
    },
    {
      "metadata": {
        "id": "DrAfc-v5TL3T",
        "colab_type": "code",
        "colab": {}
      },
      "cell_type": "code",
      "source": [
        "gbm_interval = Gbm(init_state = 100, drift_ratio = 0.0475, vol_ratio = sigmarange)"
      ],
      "execution_count": 0,
      "outputs": []
    },
    {
      "metadata": {
        "id": "m-NB1pNuTnh8",
        "colab_type": "code",
        "colab": {
          "base_uri": "https://localhost:8080/",
          "height": 347
        },
        "outputId": "6dd56581-e49e-4114-93ab-f4023b2e87f1"
      },
      "cell_type": "code",
      "source": [
        "x_var = sigmarange\n",
        "y_var = gbm_interval.bsm_price(option1)\n",
        "plt.plot(x_var,y_var,label='Put Price');\n",
        "plt.legend();"
      ],
      "execution_count": 26,
      "outputs": [
        {
          "output_type": "display_data",
          "data": {
            "image/png": "[encoded data removed]",
            "text/plain": [
              "<Figure size 576x396 with 1 Axes>"
            ]
          },
          "metadata": {
            "tags": []
          }
        }
      ]
    },
    {
      "metadata": {
        "id": "3KXL9EdcVHjq",
        "colab_type": "text"
      },
      "cell_type": "markdown",
      "source": [
        "We can observe that, at least on this small interval, the function appears to be strictly increasing. Re-examine the first values to see whether or not it holds near 0:"
      ]
    },
    {
      "metadata": {
        "id": "7PDNhfyEVOlB",
        "colab_type": "code",
        "colab": {
          "base_uri": "https://localhost:8080/",
          "height": 185
        },
        "outputId": "4152f057-801d-4fb7-ece2-f55946397bcf"
      },
      "cell_type": "code",
      "source": [
        "gbm_interval.bsm_price(option1)"
      ],
      "execution_count": 27,
      "outputs": [
        {
          "output_type": "execute_result",
          "data": {
            "text/plain": [
              "array([ 4.89715222,  4.90288578,  4.96963104,  5.12920586,  5.36050605,\n",
              "        5.63977529,  5.95095306,  6.28392234,  6.63224815,  6.99171874,\n",
              "        7.35948883,  7.73357753,  8.11256754,  8.49541972,  8.88135538,\n",
              "        9.26977954,  9.66022956, 10.05233994, 10.44581778, 10.84042523,\n",
              "       11.23596676, 11.63227986, 12.02922801, 12.4266954 , 12.82458289,\n",
              "       13.22280484, 13.62128669, 14.01996301, 14.41877595, 14.81767397,\n",
              "       15.21661091, 15.61554509, 16.01443868, 16.41325714, 16.81196877,\n",
              "       17.21054429, 17.60895655, 18.00718024, 18.40519169, 18.80296861,\n",
              "       19.20049   , 19.59773595, 19.99468753, 20.39132669, 20.78763618,\n",
              "       21.18359944, 21.57920053, 21.97442411, 22.36925535, 22.76367987])"
            ]
          },
          "metadata": {
            "tags": []
          },
          "execution_count": 27
        }
      ]
    },
    {
      "metadata": {
        "id": "BNVVKHhCVVdH",
        "colab_type": "text"
      },
      "cell_type": "markdown",
      "source": [
        "Now consider a larger-scale version that goes from 0.5 to 20:"
      ]
    },
    {
      "metadata": {
        "id": "xLmWu4JaV-y5",
        "colab_type": "code",
        "colab": {}
      },
      "cell_type": "code",
      "source": [
        "sigma_range_2 = np.linspace(0.5,20,40)"
      ],
      "execution_count": 0,
      "outputs": []
    },
    {
      "metadata": {
        "id": "WtvPfhmfWMpP",
        "colab_type": "code",
        "colab": {}
      },
      "cell_type": "code",
      "source": [
        "gbm_interval_2 = Gbm(init_state = 100, drift_ratio = 0.0475, vol_ratio = sigma_range_2)"
      ],
      "execution_count": 0,
      "outputs": []
    },
    {
      "metadata": {
        "id": "8BbJoBHsWSV_",
        "colab_type": "code",
        "colab": {
          "base_uri": "https://localhost:8080/",
          "height": 347
        },
        "outputId": "b0375335-2851-4164-ff90-1b73efd0488c"
      },
      "cell_type": "code",
      "source": [
        "x_var_2 = sigma_range_2\n",
        "y_var_2 = gbm_interval_2.bsm_price(option1)\n",
        "plt.plot(x_var_2,y_var_2,label='Put Price, Higher Volatility');\n",
        "plt.legend();"
      ],
      "execution_count": 30,
      "outputs": [
        {
          "output_type": "display_data",
          "data": {
            "image/png": "[encoded data removed]",
            "text/plain": [
              "<Figure size 576x396 with 1 Axes>"
            ]
          },
          "metadata": {
            "tags": []
          }
        }
      ]
    },
    {
      "metadata": {
        "id": "3_3DZUccWbYS",
        "colab_type": "text"
      },
      "cell_type": "markdown",
      "source": [
        "We observe that it hits what appears to be some form of asymptote after about a volatility of 5. Once more, examine the values:"
      ]
    },
    {
      "metadata": {
        "id": "uec1RRInWgRJ",
        "colab_type": "code",
        "colab": {
          "base_uri": "https://localhost:8080/",
          "height": 185
        },
        "outputId": "3a0d0ac1-c652-4dbe-db6c-e311e1f3c5ad"
      },
      "cell_type": "code",
      "source": [
        "gbm_interval_2.bsm_price(option1)"
      ],
      "execution_count": 31,
      "outputs": [
        {
          "output_type": "execute_result",
          "data": {
            "text/plain": [
              "array([ 22.76367987,  41.71989443,  58.485352  ,  72.40330438,\n",
              "        83.2583665 ,  91.21360049,  96.69203048, 100.23729484,\n",
              "       102.39321807, 103.62521968, 104.28680059, 104.62064825,\n",
              "       104.7789578 , 104.8495016 , 104.8790411 , 104.89066466,\n",
              "       104.89496265, 104.89645608, 104.89694371, 104.89709333,\n",
              "       104.89713647, 104.89714815, 104.89715113, 104.89715184,\n",
              "       104.897152  , 104.89715204, 104.89715204, 104.89715204,\n",
              "       104.89715204, 104.89715204, 104.89715204, 104.89715204,\n",
              "       104.89715204, 104.89715204, 104.89715204, 104.89715204,\n",
              "       104.89715204, 104.89715204, 104.89715204, 104.89715204])"
            ]
          },
          "metadata": {
            "tags": []
          },
          "execution_count": 31
        }
      ]
    },
    {
      "metadata": {
        "id": "pwnOGuSOWkUW",
        "colab_type": "text"
      },
      "cell_type": "markdown",
      "source": [
        "After this point it would appear that if the values differ, they differ by a value too small for this display to see. Consider a single example:"
      ]
    },
    {
      "metadata": {
        "id": "aaQyiQPCXX75",
        "colab_type": "code",
        "colab": {
          "base_uri": "https://localhost:8080/",
          "height": 202
        },
        "outputId": "ca546d28-7921-4a32-e112-2d297b0141c3"
      },
      "cell_type": "code",
      "source": [
        "gbm_test_10 = Gbm(init_state=100,drift_ratio=0.0475,vol_ratio=10)\n",
        "gbm_test_11 = Gbm(init_state=100,drift_ratio=0.0475,vol_ratio=11)\n",
        "gbm_test_12 = Gbm(init_state=100,drift_ratio=0.0475,vol_ratio=12)\n",
        "gbm_test_13 = Gbm(init_state=100,drift_ratio=0.0475,vol_ratio=13)\n",
        "gbm_test_14 = Gbm(init_state=100,drift_ratio=0.0475,vol_ratio=14)\n",
        "gbm_test_15 = Gbm(init_state=100,drift_ratio=0.0475,vol_ratio=15)\n",
        "gbm_test_16 = Gbm(init_state=100,drift_ratio=0.0475,vol_ratio=16)\n",
        "gbm_test_17 = Gbm(init_state=100,drift_ratio=0.0475,vol_ratio=17)\n",
        "gbm_test_18 = Gbm(init_state=100,drift_ratio=0.0475,vol_ratio=18)\n",
        "gbm_test_19 = Gbm(init_state=100,drift_ratio=0.0475,vol_ratio=19)\n",
        "gbm_test_20 = Gbm(init_state=100,drift_ratio=0.0475,vol_ratio=20)\n",
        "\n",
        "print('Volatility ratio of 10 yields ' + str(gbm_test_10.bsm_price(option1)))\n",
        "print('Volatility ratio of 11 yields ' + str(gbm_test_11.bsm_price(option1)))\n",
        "print('Volatility ratio of 12 yields ' + str(gbm_test_12.bsm_price(option1)))\n",
        "print('Volatility ratio of 13 yields ' + str(gbm_test_13.bsm_price(option1)))\n",
        "print('Volatility ratio of 14 yields ' + str(gbm_test_14.bsm_price(option1)))\n",
        "print('Volatility ratio of 15 yields ' + str(gbm_test_15.bsm_price(option1)))\n",
        "print('Volatility ratio of 16 yields ' + str(gbm_test_16.bsm_price(option1)))\n",
        "print('Volatility ratio of 17 yields ' + str(gbm_test_17.bsm_price(option1)))\n",
        "print('Volatility ratio of 18 yields ' + str(gbm_test_18.bsm_price(option1)))\n",
        "print('Volatility ratio of 19 yields ' + str(gbm_test_19.bsm_price(option1)))\n",
        "print('Volatility ratio of 20 yields ' + str(gbm_test_20.bsm_price(option1)))"
      ],
      "execution_count": 46,
      "outputs": [
        {
          "output_type": "stream",
          "text": [
            "Volatility ratio of 10 yields 104.89709332790189\n",
            "Volatility ratio of 11 yields 104.89714815482775\n",
            "Volatility ratio of 12 yields 104.89715184249917\n",
            "Volatility ratio of 13 yields 104.89715203636264\n",
            "Volatility ratio of 14 yields 104.89715204432676\n",
            "Volatility ratio of 15 yields 104.89715204458237\n",
            "Volatility ratio of 16 yields 104.8971520445888\n",
            "Volatility ratio of 17 yields 104.8971520445889\n",
            "Volatility ratio of 18 yields 104.8971520445889\n",
            "Volatility ratio of 19 yields 104.8971520445889\n",
            "Volatility ratio of 20 yields 104.8971520445889\n"
          ],
          "name": "stdout"
        }
      ]
    },
    {
      "metadata": {
        "id": "omR8sAIFXu7m",
        "colab_type": "text"
      },
      "cell_type": "markdown",
      "source": [
        "We can thus see that the numbers are still increasing, but by amounts too small to properly register here I believe we can safely argue based on the results above that the asymptotic max, $f_{max}$ here is roughly $104.8971520445889$, or $104.90$ if we round to 2 decimal places (to represent it as a price). Next, we have to identify $f_{min}$. Consider a similar process:"
      ]
    },
    {
      "metadata": {
        "id": "MANn1yria_ns",
        "colab_type": "code",
        "colab": {
          "base_uri": "https://localhost:8080/",
          "height": 84
        },
        "outputId": "f9a4be92-9e27-466e-dbaa-04bcea9f2909"
      },
      "cell_type": "code",
      "source": [
        "gbm_test_01 = Gbm(init_state=100,drift_ratio=0.0475,vol_ratio=.01)\n",
        "gbm_test_001 = Gbm(init_state=100,drift_ratio=0.0475,vol_ratio=.001)\n",
        "gbm_test_0001 = Gbm(init_state=100,drift_ratio=0.0475,vol_ratio=.0001)\n",
        "gbm_test_00001 = Gbm(init_state=100,drift_ratio=0.0475,vol_ratio=.00001)\n",
        "\n",
        "print('Volatility ratio of 0.00001 yields ' + str(gbm_test_00001.bsm_price(option1)))\n",
        "print('Volatility ratio of 0.0001 yields ' + str(gbm_test_0001.bsm_price(option1)))\n",
        "print('Volatility ratio of 0.001 yields ' + str(gbm_test_001.bsm_price(option1)))\n",
        "print('Volatility ratio of 0.01 yields ' + str(gbm_test_01.bsm_price(option1)))"
      ],
      "execution_count": 48,
      "outputs": [
        {
          "output_type": "stream",
          "text": [
            "Volatility ratio of 0.00001 yields 4.897152044588907\n",
            "Volatility ratio of 0.0001 yields 4.897152044588907\n",
            "Volatility ratio of 0.001 yields 4.897152044588907\n",
            "Volatility ratio of 0.01 yields 4.897152217797142\n"
          ],
          "name": "stdout"
        }
      ]
    },
    {
      "metadata": {
        "id": "8FdeOHPmbl65",
        "colab_type": "text"
      },
      "cell_type": "markdown",
      "source": [
        "Here, we can see a similar phenomenon. As we approach 0, we see a lower bound asymptote of $f_{min} = 4.897152044588907$, which rounds (as before) to $\\$4.90$.\n",
        "\n",
        "__Conclusions__\n",
        "\n",
        "* $f_{min} \\approx 4.90$, $f_{max} \\approx 104.90$\n",
        "* I believe that $f$ is strictly increasing on $(0, \\infty)$ as we can see that where it is observable, the value of $f$ goes up as $\\sigma$ goes up, all other factors constant. Where it does not go up, it appears to be reaching an asymptotic upper limit, which it is continuing to approach without decreasing.\n",
        "* If the market put price is $10$, the implied volatility is $17.867\\%$."
      ]
    }
  ]
}