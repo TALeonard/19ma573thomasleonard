{
  "nbformat": 4,
  "nbformat_minor": 0,
  "metadata": {
    "colab": {
      "name": "hw8_3_derivation_of_characteristic_function_v01.ipynb",
      "version": "0.3.2",
      "provenance": [],
      "include_colab_link": true
    },
    "kernelspec": {
      "name": "python3",
      "display_name": "Python 3"
    }
  },
  "cells": [
    {
      "cell_type": "markdown",
      "metadata": {
        "id": "view-in-github",
        "colab_type": "text"
      },
      "source": [
        "<a href=\"https://colab.research.google.com/github/TALeonard/19ma573thomasleonard/blob/master/src/hw8_3_derivation_of_characteristic_function_v02.ipynb\" target=\"_parent\"><img src=\"https://colab.research.google.com/assets/colab-badge.svg\" alt=\"Open In Colab\"/></a>"
      ]
    },
    {
      "metadata": {
        "id": "uJVuqPikjpK1",
        "colab_type": "text"
      },
      "cell_type": "markdown",
      "source": [
        "#Part 2: Derivation of the Characteristic Function of a Normal Random Variable\n",
        "\n",
        "*Note: I am doing these backwards because part 2 begets part 1.*\n",
        "\n",
        "Let \n",
        "\n",
        "$$Y \\sim N(\\mu, \\sigma^{2})$$\n",
        "\n",
        "be a random variable. Prove that its characteristic function\n",
        "\n",
        "$$\\phi(u) = E[e^{iuY}]$$\n",
        "\n",
        "is\n",
        "\n",
        "$$\\phi(u) = e^{iu\\mu - \\frac{1}{2}u^{2}\\sigma^{2}}.$$\n",
        "\n",
        "**Proof**\n",
        "\n",
        "For a Normal random variable with mean $\\mu$ and variance $\\sigma^{2}$, we can write it as\n",
        "\n",
        "$$Y = \\mu + \\sigma Z$$\n",
        "\n",
        "Where $Z \\sim N(0,1)$. Thus:\n",
        "\n",
        "$$\\phi_{Y}(u) = E[e^{iuY}] = E[e^{iu(\\mu + \\sigma Z)}] = e^{iu\\mu}E[e^{iu\\sigma Z}] = e^{iu\\mu}\\phi_{Z}(\\sigma u)$$\n",
        "\n",
        "Thus, let us instead find the characteristic function for a $N(0,1)$ variable. We can observe that\n",
        "\n",
        "$$E[e^{iu Z}] = E[e^{iuW_{1}}]$$\n",
        "\n",
        "where $W_{1}$ represents a Brownian Motion. Consider the function $f(W_{t}) = e^{iuW_{t}}$. Given this, define $v(t) = E[f(W_{t})]$. Thus, if we can find this function $v$, then $\\phi_{Z}(u) = v(1)$.\n",
        "\n",
        "Observe that $f$ is a function with a single variable, $W_{t}$. Observe that\n",
        "\n",
        "$$f'(x) = iue^{iu\\sigma x} = iu f(x)$$\n",
        "\n",
        "$$f''(x) = i^{2}u^{2}f(x) = -u^{2}f(x)$$\n",
        "\n",
        "Given this, we can use Ito's Formula to identify\n",
        "\n",
        "$$df(W_{t}) = f'(W_{t}) + \\frac{1}{2}f''(W_{t})dt$$\n",
        "\n",
        "$$ = iuf(W_{t})dW_{t} - \\frac{1}{2}u^{2}f(W_{t})dt$$\n",
        "\n",
        "Now, integrate both sides.\n",
        "\n",
        "$$f(W_{t}) = f(0) + \\int_{0}^{t}\\frac{-1}{2}u^{2}f(W_{s})ds + \\int_{0}^{t}iuf(W_{s})dW_{s}$$\n",
        "\n",
        "Observe that $f(0) = 1$, and take the expectation on both sides. Observe that the second integral's expectation will be 0, since it will be the expectation of a martingale:\n",
        "\n",
        "$$E[f(W_{t})] = 1 +  \\int_{0}^{t}\\frac{-1}{2}u^{2}E[f(W_{s})]ds$$\n",
        "\n",
        "Substitute $v(t) = E[f(W_{t})]$:\n",
        "\n",
        "$$v(t) = 1 +  \\int_{0}^{t}\\frac{-1}{2}u^{2}v(s)ds$$\n",
        "\n",
        "If we take the derivative of this with respect to $t$, this becomes a differential equation\n",
        "\n",
        "$$v'(t) = \\frac{-1}{2}u^{2}v(t)$$\n",
        "\n",
        "with initial condition$$v(0) = 1$$\n",
        "\n",
        "Thus, the solution to this ODE is $v(t) = ce^{\\frac{-1}{2}u^{2}t}$. Substituting in the initial condition $v(0) = 1$ yields $1 = ce^{0} \\rightarrow c = 1$, so we have that \n",
        "\n",
        "$$v(t) = E[f(W_{t})] = e^{\\frac{-1}{2}u^{2}t}$$\n",
        "\n",
        "For $t = 1$ we get that $E[e^{iuZ}] = e^{\\frac{-1}{2}u^{2}} = \\phi_{Z}(u)$.\n",
        "\n",
        "Thus, to get the characteristic function of $Y$ we therefore find\n",
        "\n",
        "$$\\phi_{Y}(u) = e^{iu\\mu}\\phi_{Z}(\\sigma u) = e^{iu\\mu}e^{\\frac{-1}{2}(u\\sigma)^{2}} = e^{iu\\mu - \\frac{1}{2}u^{2}\\sigma^{2}}$$\n",
        "\n",
        "So we have proven that $\\phi_{Y}(u) = e^{iu\\mu - \\frac{1}{2}u^{2}\\sigma^{2}}$. $\\square$"
      ]
    },
    {
      "metadata": {
        "id": "rMxsa-ox1SOV",
        "colab_type": "text"
      },
      "cell_type": "markdown",
      "source": [
        "#Part 1: Derivation of Characteristic Function for Arbitrary Brownian Motion\n",
        "\n",
        "Let $X_{t} = e^{iuW_{t}}$ for a Brownian Motion $W$. Find\n",
        "\n",
        "$$\\phi(t) = E[X_{t}]$$\n",
        "\n",
        "Observe that $X_{t} = f(W_{t})$ from the previous proof, so $\\phi(t) = v(t) = e^{-\\frac{1}{2}u^{2}t}$. See the previous proof for the derivation of this. $\\square$"
      ]
    }
  ]
}