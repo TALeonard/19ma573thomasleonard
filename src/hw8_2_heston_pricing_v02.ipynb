{
  "nbformat": 4,
  "nbformat_minor": 0,
  "metadata": {
    "colab": {
      "name": "hw8_2_heston_pricing_v02.ipynb",
      "version": "0.3.2",
      "provenance": [],
      "include_colab_link": true
    },
    "kernelspec": {
      "name": "python3",
      "display_name": "Python 3"
    }
  },
  "cells": [
    {
      "cell_type": "markdown",
      "metadata": {
        "id": "view-in-github",
        "colab_type": "text"
      },
      "source": [
        "<a href=\"https://colab.research.google.com/github/TALeonard/19ma573thomasleonard/blob/master/src/hw8_2_heston_pricing_v02.ipynb\" target=\"_parent\"><img src=\"https://colab.research.google.com/assets/colab-badge.svg\" alt=\"Open In Colab\"/></a>"
      ]
    },
    {
      "metadata": {
        "id": "maR6usLQHEbp",
        "colab_type": "text"
      },
      "cell_type": "markdown",
      "source": [
        "For this assignment, we are tasked with finding the price of a call given the following parameters:\n",
        "\n",
        "Heston Parameters:\n",
        "\n",
        "* inititial state = [$S_{0} = 100., v_{0} = .04$], $r$ = 0.05, $\\kappa$ = 1.2, $\\theta$ = 0.04, $\\xi$ = 0.3, $\\rho$ = 0.5\n",
        "\n",
        "Call information:\n",
        "\n",
        "* otype = 1, K = 100., maturity = 1., market_price = 15\n",
        "\n",
        "Given the Heston model, we know the relevant characteristic function. Heston model assumes the asset price $S_{t}$ follows a sotchastic process described by\n",
        "\n",
        "$$dS_{t} = rS_{t}dt + \\sqrt{v_{t}}S_{t}dW_{1,t}$$\n",
        "\n",
        "$$dv_{t} = \\kappa (\\theta - v_{t})dt + \\xi \\sqrt{v_{t}} (\\rho dW_{1,t} + \\bar \\rho dW_{2,t})$$\n",
        "\n",
        "Given this process, if we know the characteristic function of $\\ln(S_{t})$ then we can use that with the Fourier transform to find the solution, under which we know that\n",
        "\n",
        "$$C = S_{0}I_{1} - Ke^{-rT}I_{2}$$\n",
        "\n",
        "where\n",
        "\n",
        "$$I_{1}(\\phi,\\ln(K)) = \\frac{1}{2} + \\frac{1}{\\pi}\\int_{0}^{\\infty}Re(\\frac{e^{-iu\\ln(K)}\\phi(u-i)}{iu\\phi(-i)})du$$\n",
        "\n",
        "and\n",
        "$$I_{2}(\\phi,\\ln(K)) = \\frac{1}{2} + \\frac{1}{\\pi}\\int_{0}^{\\infty}Re(\\frac{e^{-iu\\ln(K)}\\phi(u)}{iu})du$$\n",
        "\n",
        "with $\\phi$ as the characteristic function of $\\ln(S_{T})$, and $Re(\\cdot)$ the real portion of whatever its argument is.\n",
        "\n",
        "Based on this, we need to identify the characteristic function of $\\ln(S_{T})$ under the Heston model. Ali Hirsa's book *Computational Methods in Finance* outlines this result for us. Specifically, it states that\n",
        "\n",
        "$$\\phi(u) = \\frac{e^{iu\\ln(S_{0}) + iurt + \\frac{\\kappa \\theta t (\\kappa - i\\rho\\xi u)}{\\xi^{2}}}} {(\\cosh(\\frac{\\gamma t}{2})+ \\frac{\\kappa - i\\rho\\xi u}{\\gamma}\\sinh(\\frac{\\gamma t}{2}))^{\\frac{2\\kappa\\theta}{\\xi^{2}}}} * e^{\\frac{-(u^{2}+iu)v_{0}} {\\gamma coth(\\frac{\\gamma t}{2})+\\kappa - i\\rho\\xi u}}$$\n",
        "\n",
        "Where $\\gamma = \\sqrt{\\xi^{2}(u^{2}+iu) + (\\kappa - i\\rho\\xi u)^{2}}$.\n",
        "\n",
        "This would be very much a pain in the neck to compute by hand. However, we can make use of the fact that Python can work with complex numbers and have it take the real portion of a given function for us. Start by importing modules, as normal."
      ]
    },
    {
      "metadata": {
        "id": "Gz67UXE4G_jP",
        "colab_type": "code",
        "colab": {}
      },
      "cell_type": "code",
      "source": [
        "import numpy as np\n",
        "import scipy as sp"
      ],
      "execution_count": 0,
      "outputs": []
    },
    {
      "metadata": {
        "id": "KC34F2ELnei3",
        "colab_type": "text"
      },
      "cell_type": "markdown",
      "source": [
        "Now, define parameters.\n",
        "\n",
        "* init_state = [$S_{0} = 100., v_{0} = .04$], $r$ = 0.05, $\\kappa$ = 1.2, $\\theta$ = 0.04, $\\xi$ = 0.3, $\\rho$ = 0.5\n",
        "\n",
        "Call information:\n",
        "\n",
        "* otype = 1, K = 100., maturity = 1., market_price = 15\n",
        "\n",
        "First, define the phi function."
      ]
    },
    {
      "metadata": {
        "id": "ynuo1wLKqh-P",
        "colab_type": "code",
        "colab": {}
      },
      "cell_type": "code",
      "source": [
        "'''===\n",
        "params\n",
        "==='''\n",
        "\n",
        "s0 = 100.\n",
        "v0 = 0.04\n",
        "r = 0.05\n",
        "kappa = 1.2\n",
        "theta = 0.04\n",
        "xi = 0.3\n",
        "rho = 0.5\n",
        "K = 100\n",
        "T = 1"
      ],
      "execution_count": 0,
      "outputs": []
    },
    {
      "metadata": {
        "id": "1ygtuaOFnhht",
        "colab_type": "code",
        "colab": {}
      },
      "cell_type": "code",
      "source": [
        "def phi_heston(u, s0, v0, T, r, kappa, theta, xi, rho):\n",
        "  #First, define the gamma function.\n",
        "  gamma = np.sqrt(((xi**2) * (u**2 + 1j*u)) + ((kappa - 1j*rho*xi*u)**2))\n",
        "    \n",
        "  factor1 = np.exp((1j*u*np.log(s0)) + (1j*u*r*T) + ((kappa*theta*T*(kappa - (1j*rho*xi*u)))/ (xi**2)))\n",
        "  \n",
        "  factor2 = (np.cosh(gamma*T/2) + ((kappa-1j*rho*xi*u)/gamma)*np.sinh(gamma*T/2))**(2*kappa*theta/(xi**2))\n",
        "  \n",
        "  # Note: numpy does not contain a coth() function command. \n",
        "  # Thus, use formula coth(x) = cosh(x) / sinh(x).\n",
        "  coth = np.cosh(gamma*T/2) / np.sinh(gamma*T/2)\n",
        "  \n",
        "  factor3 = np.exp(-1*(u**2 + 1j*u)*v0/(gamma*coth + kappa - 1j*rho*xi*u))\n",
        "  \n",
        "  return factor1 * factor3 / factor2"
      ],
      "execution_count": 0,
      "outputs": []
    },
    {
      "metadata": {
        "id": "kmnfHm_NphGG",
        "colab_type": "text"
      },
      "cell_type": "markdown",
      "source": [
        "Now, define the function performing the actual integration."
      ]
    },
    {
      "metadata": {
        "id": "bqwQ0QvEpjcv",
        "colab_type": "code",
        "colab": {}
      },
      "cell_type": "code",
      "source": [
        "def integral(s0, v0, K, T, r, kappa, theta, xi, rho):\n",
        "  f1 = lambda u: (np.exp(-1j * u * np.log(K)) * phi_heston(u-1j, s0, v0, T, r, kappa, theta, xi, rho) / (1j*u*phi_heston(-1j, s0, v0, T, r, kappa, theta, xi, rho))).real\n",
        "  f2 = lambda u: (np.exp(-1j * u * np.log(K)) * phi_heston(u, s0, v0, T, r, kappa, theta, xi, rho) / (1j*u)).real\n",
        "  \n",
        "  int_1 = sp.integrate.quad(f1,0,np.inf)\n",
        "  int_2 = sp.integrate.quad(f2,0,np.inf)\n",
        "  \n",
        "  I1 = 0.5 + (1/np.pi) * int_1[0]\n",
        "  I2 = 0.5 + (1/np.pi) * int_2[0]\n",
        "  \n",
        "  C = (s0 * I1) - (K*(np.exp(-1*r*T))*I2)\n",
        "  \n",
        "  print(\"Fourier Transform computation of price under Heston model is \"+str(C))"
      ],
      "execution_count": 0,
      "outputs": []
    },
    {
      "metadata": {
        "id": "7NGWHpHHq_9T",
        "colab_type": "text"
      },
      "cell_type": "markdown",
      "source": [
        "Now compute the integral for the given parameters."
      ]
    },
    {
      "metadata": {
        "id": "tS9D1fz7qaYu",
        "colab_type": "code",
        "outputId": "cae8da7f-39dc-41ae-91c8-fea3e9d37320",
        "colab": {
          "base_uri": "https://localhost:8080/",
          "height": 302
        }
      },
      "cell_type": "code",
      "source": [
        "integral(s0, v0, K, T, r, kappa, theta, xi, rho)"
      ],
      "execution_count": 0,
      "outputs": [
        {
          "output_type": "stream",
          "text": [
            "Fourier Transform computation of price under Heston model is nan\n"
          ],
          "name": "stdout"
        },
        {
          "output_type": "stream",
          "text": [
            "/usr/local/lib/python3.6/dist-packages/ipykernel_launcher.py:7: RuntimeWarning: overflow encountered in cosh\n",
            "  import sys\n",
            "/usr/local/lib/python3.6/dist-packages/ipykernel_launcher.py:7: RuntimeWarning: overflow encountered in sinh\n",
            "  import sys\n",
            "/usr/local/lib/python3.6/dist-packages/ipykernel_launcher.py:7: RuntimeWarning: invalid value encountered in cdouble_scalars\n",
            "  import sys\n",
            "/usr/local/lib/python3.6/dist-packages/ipykernel_launcher.py:11: RuntimeWarning: overflow encountered in cosh\n",
            "  # This is added back by InteractiveShellApp.init_path()\n",
            "/usr/local/lib/python3.6/dist-packages/ipykernel_launcher.py:11: RuntimeWarning: overflow encountered in sinh\n",
            "  # This is added back by InteractiveShellApp.init_path()\n",
            "/usr/local/lib/python3.6/dist-packages/ipykernel_launcher.py:11: RuntimeWarning: invalid value encountered in cdouble_scalars\n",
            "  # This is added back by InteractiveShellApp.init_path()\n",
            "/usr/local/lib/python3.6/dist-packages/scipy/integrate/quadpack.py:385: IntegrationWarning: The occurrence of roundoff error is detected, which prevents \n",
            "  the requested tolerance from being achieved.  The error may be \n",
            "  underestimated.\n",
            "  warnings.warn(msg, IntegrationWarning)\n"
          ],
          "name": "stderr"
        }
      ]
    },
    {
      "metadata": {
        "id": "coFU4TAuqbWL",
        "colab_type": "text"
      },
      "cell_type": "markdown",
      "source": [
        "If I try to use infinity, we get an error. It's citing an overflow in the hyperbolic functions.\n",
        "\n",
        "Idea: Use a bound smaller than infinity. Create a modified version of the above code that lets me do just that."
      ]
    },
    {
      "metadata": {
        "id": "Xah3j4AVv8ye",
        "colab_type": "code",
        "colab": {}
      },
      "cell_type": "code",
      "source": [
        "def integral_bounded(s0, v0, K, T, r, kappa, theta, xi, rho, bound):\n",
        "  f1 = lambda u: (np.exp(-1j * u * np.log(K)) * phi_heston(u-1j, s0, v0, T, r, kappa, theta, xi, rho) / (1j*u*phi_heston(-1j, s0, v0, T, r, kappa, theta, xi, rho))).real\n",
        "  f2 = lambda u: (np.exp(-1j * u * np.log(K)) * phi_heston(u, s0, v0, T, r, kappa, theta, xi, rho) / (1j*u)).real\n",
        "  \n",
        "  int_1 = sp.integrate.quad(f1,0,bound)\n",
        "  int_2 = sp.integrate.quad(f2,0,bound)\n",
        "  \n",
        "  I1 = 0.5 + (1/np.pi) * int_1[0]\n",
        "  I2 = 0.5 + (1/np.pi) * int_2[0]\n",
        "  \n",
        "  C = (s0 * I1) - (K*(np.exp(-1*r*T))*I2)\n",
        "  \n",
        "  print(\"Fourier Transform computation of price under Heston model from 0 to \" + str(bound) + \" is \"+str(C))"
      ],
      "execution_count": 0,
      "outputs": []
    },
    {
      "metadata": {
        "id": "pmMQEn5QwHYZ",
        "colab_type": "code",
        "outputId": "5d0679d7-632c-4697-d5cd-1c1c2056ff0f",
        "colab": {
          "base_uri": "https://localhost:8080/",
          "height": 34
        }
      },
      "cell_type": "code",
      "source": [
        "integral_bounded(s0, v0, K, T, r, kappa, theta, xi, rho, 1000)"
      ],
      "execution_count": 0,
      "outputs": [
        {
          "output_type": "stream",
          "text": [
            "Fourier Transform computation of price under Heston model from 0 to 1000 is 9.998984543896434\n"
          ],
          "name": "stdout"
        }
      ]
    },
    {
      "metadata": {
        "id": "aGqbJFOswLit",
        "colab_type": "text"
      },
      "cell_type": "markdown",
      "source": [
        "Using 1,000 as a bound gives a number that *seems* like it'd be a standard option price. What happens if we push higher? \n",
        "\n",
        "To spare you from having to read a bunch of these outputs where I ran this by hand to find the highest feasible value, I'll jump to the conclusion: The highest integer value I used that didn't spit a NaN error back at me was $5,135$."
      ]
    },
    {
      "metadata": {
        "id": "_kmM637Hwik3",
        "colab_type": "code",
        "outputId": "96f4a7b1-934d-434f-c9c2-db431a4ee3eb",
        "colab": {
          "base_uri": "https://localhost:8080/",
          "height": 101
        }
      },
      "cell_type": "code",
      "source": [
        "integral_bounded(s0, v0, K, T, r, kappa, theta, xi, rho, 5135)\n",
        "integral_bounded(s0, v0, K, T, r, kappa, theta, xi, rho, 1000)\n",
        "integral_bounded(s0, v0, K, T, r, kappa, theta, xi, rho, 100)"
      ],
      "execution_count": 0,
      "outputs": [
        {
          "output_type": "stream",
          "text": [
            "Fourier Transform computation of price under Heston model from 0 to 5135 is 9.998984543896427\n",
            "Fourier Transform computation of price under Heston model from 0 to 1000 is 9.998984543896434\n",
            "Fourier Transform computation of price under Heston model from 0 to 100 is 9.998984543904704\n"
          ],
          "name": "stdout"
        },
        {
          "output_type": "stream",
          "text": [
            "/usr/local/lib/python3.6/dist-packages/ipykernel_launcher.py:7: RuntimeWarning: overflow encountered in cdouble_scalars\n",
            "  import sys\n"
          ],
          "name": "stderr"
        }
      ]
    },
    {
      "metadata": {
        "id": "jXh24WmcxsgF",
        "colab_type": "text"
      },
      "cell_type": "markdown",
      "source": [
        "We can see that even on a much shorter timespan, the result is the same to 7 decimal places. Thus, I am satisfied with this result and will conclude that the price of the call under the Heston Model with the given parameters is about $\\$9.99$."
      ]
    }
  ]
}