{
  "nbformat": 4,
  "nbformat_minor": 0,
  "metadata": {
    "colab": {
      "name": "hw7_vasicek_calibration_v02.ipynb",
      "version": "0.3.2",
      "provenance": [],
      "include_colab_link": true
    },
    "kernelspec": {
      "name": "python3",
      "display_name": "Python 3"
    }
  },
  "cells": [
    {
      "cell_type": "markdown",
      "metadata": {
        "id": "view-in-github",
        "colab_type": "text"
      },
      "source": [
        "<a href=\"https://colab.research.google.com/github/TALeonard/19ma573thomasleonard/blob/master/src/hw7_vasicek_calibration_v04.ipynb\" target=\"_parent\"><img src=\"https://colab.research.google.com/assets/colab-badge.svg\" alt=\"Open In Colab\"/></a>"
      ]
    },
    {
      "metadata": {
        "id": "YgIiFIoXkbml",
        "colab_type": "text"
      },
      "cell_type": "markdown",
      "source": [
        "#Part 1: Verify the solution.\n",
        "\n",
        "Verify the explicit form of $r_{t}$ given by\n",
        "\n",
        "$$r_{t} = r_{0}e^{-\\kappa t} + \\mu(1 - e^{-\\kappa t}) + \\sigma e^{-\\kappa t}\\int_{0}^{t}e^{\\kappa s} dW_{s}$$\n",
        "\n",
        "is the solution to the original Vasicek model, that being\n",
        "\n",
        "$$dr_{t} = \\kappa(\\mu - r_{t})dt + \\sigma dW_{t},$$\n",
        "\n",
        "Given a Vasicek model with parameter $\\theta = (\\kappa, \\mu, \\sigma, r_{0})$."
      ]
    },
    {
      "metadata": {
        "id": "mHCZiKTI-AKK",
        "colab_type": "text"
      },
      "cell_type": "markdown",
      "source": [
        "Consider $dr_{t}$ as a differential equation. Isolate all $r_{t}$ terms on one side.\n",
        "\n",
        "$$dr_{t} + \\kappa r_{t} dt = \\kappa \\mu dt + \\sigma dW_{t}$$\n",
        "\n",
        "With respect to $dr_{t}$ this is now a standard integrating factor problem. Identify the integrating factor as \n",
        "\n",
        "$$e^{\\int \\kappa dt} = e^{\\kappa t}$$\n",
        "\n",
        "Multiply both sides by the integrating factor and condense left-hand side as is \"standard\" in this type of problem:\n",
        "\n",
        "$$\\rightarrow e^{\\kappa t} (dr_{t} + \\kappa r_{t} dt) = e^{\\kappa t} (\\kappa \\mu dt + \\sigma dW_{t})$$\n",
        "\n",
        "$$\\rightarrow d(e^{\\kappa t}r_{t}) =  e^{\\kappa t}\\kappa \\mu dt +  e^{\\kappa t} \\sigma dW_{t}$$\n",
        "\n",
        "Integrate both sides, swapping any and all instances of $t$ on the right hand side for a dummy variable $s$:\n",
        "\n",
        "$$\\rightarrow \\int_{0}^{t}d(e^{\\kappa t}r_{t}) =  \\int_{0}^{t}e^{\\kappa s}\\kappa \\mu ds +  \\int_{0}^{t}e^{\\kappa s} \\sigma dW_{s}$$\n",
        "\n",
        "For the left-hand side, note that\n",
        "\n",
        "$$\\int_{0}^{t}d(e^{\\kappa t}r_{t}) =  [e^{\\kappa t}r_{t}]_{0}^{t} = e^{\\kappa t}r_{t} - r_{0}$$\n",
        "\n",
        "So we have\n",
        "\n",
        "$$\\rightarrow e^{\\kappa t}r_{t} = r_{0} +  \\int_{0}^{t}e^{\\kappa s}\\kappa \\mu ds +  \\int_{0}^{t}e^{\\kappa s} \\sigma dW_{s}$$\n",
        "\n",
        "All that remains is to evaluate the first of the 2 remaining integrals and divide both sides by $e^{\\kappa t}$. First, consider the integral\n",
        "\n",
        "$$\\int_{0}^{t}e^{\\kappa s}\\kappa \\mu ds = \\kappa \\mu \\int_{0}^{t}e^{\\kappa s} = \\kappa \\mu [e^{\\kappa s}\\frac{1}{\\kappa}]_{0}^{t} =  \\kappa \\mu \\frac{1}{\\kappa}[e^{\\kappa t} - 1]$$\n",
        "\n",
        "$$=\\mu (e^{\\kappa t} - 1)$$\n",
        "\n",
        "Substitute this into the equation:\n",
        "\n",
        "$$\\rightarrow  e^{\\kappa t}r_{t} = r_{0} +  \\mu (e^{\\kappa t} - 1) +  \\int_{0}^{t}e^{\\kappa s} \\sigma dW_{s}$$\n",
        "\n",
        "Multiply both sides by $e^{-\\kappa t}$ and simplify to find our result:\n",
        "\n",
        "$$r_{t} = e^{-\\kappa t}r_{0} +  e^{-\\kappa t}\\mu (e^{\\kappa t} - 1) +  e^{-\\kappa t}\\int_{0}^{t}e^{\\kappa s} \\sigma dW_{s}$$\n",
        "\n",
        "$$=r_{0}e^{-\\kappa t} +  \\mu (1 - e^{-\\kappa t}) +  \\sigma e^{-\\kappa t}\\int_{0}^{t}e^{\\kappa s}  dW_{s}$$\n",
        "\n",
        "Which shows that the given equation of $r_{t}$ is a solution to the original Vasicek model. $\\square$"
      ]
    },
    {
      "metadata": {
        "id": "Ou0T5-Kl_Pqn",
        "colab_type": "text"
      },
      "cell_type": "markdown",
      "source": [
        "#Part 2: Design pricing engine of ZCB P(0,T) using the explicit formula. \n",
        "\n",
        "First, import modules."
      ]
    },
    {
      "metadata": {
        "id": "aFWK65Xj_U4F",
        "colab_type": "code",
        "colab": {}
      },
      "cell_type": "code",
      "source": [
        "import numpy as np\n",
        "import scipy.stats as ss\n",
        "import scipy.optimize as so\n",
        "import pandas as pd\n",
        "import matplotlib.pyplot as plt"
      ],
      "execution_count": 0,
      "outputs": []
    },
    {
      "metadata": {
        "id": "ADdzQSng97JO",
        "colab_type": "code",
        "colab": {}
      },
      "cell_type": "code",
      "source": [
        "def zcb_price_explicit(T,kappa,mu,sigma,r0):\n",
        "  #Compute B(0,T).\n",
        "  B = (1 - np.exp(-1 * kappa * T))/kappa\n",
        "  \n",
        "  #Now, compute A(0,T).\n",
        "  A = ((mu - ((sigma**2)/(2*(kappa**2)))) * (B - T)) - (((sigma**2)/(4*kappa))*(B**2))\n",
        "  \n",
        "  #Given these, compute A - B*r0.\n",
        "  diff = A - (B * r0)\n",
        "  \n",
        "  #Price is the exp(diff).\n",
        "  return np.exp(diff)"
      ],
      "execution_count": 0,
      "outputs": []
    },
    {
      "metadata": {
        "id": "OzAP-6VApWHM",
        "colab_type": "code",
        "colab": {}
      },
      "cell_type": "code",
      "source": [
        "theta = [0.1, 0.05, 0.003, 0.03]\n",
        "kappa, mu, sigma, r0 = theta"
      ],
      "execution_count": 0,
      "outputs": []
    },
    {
      "metadata": {
        "id": "uix7RIfkAdL6",
        "colab_type": "text"
      },
      "cell_type": "markdown",
      "source": [
        "#Part 3: Design alternative engine to price ZCB P(0,T) using exact sampling.\n",
        "\n",
        "The integral inside the expectation follows a normal distribution with\n",
        "\n",
        "$$\\mu_{r} = \\mu T + (r_{0} - \\mu)\\frac{1-e^{-\\kappa T}}{\\kappa}$$\n",
        "\n",
        "$$\\sigma^{2}_{r} = \\frac{\\sigma^{2}}{2\\kappa^{3}}(2\\kappa T - 3 + 4e^{-\\kappa T} - e^{-2 \\kappa T})$$\n",
        "\n",
        "Use this information to produce random samples of a related normal RV and find the samples' average to approximate the expected value by."
      ]
    },
    {
      "metadata": {
        "id": "rxpOX2BUBLAc",
        "colab_type": "code",
        "colab": {}
      },
      "cell_type": "code",
      "source": [
        "def zcb_price_exact_sample(T,kappa,mu,sigma,r0,num_path):\n",
        "  #First, compute the mean and variance of the exponent.\n",
        "  mu_r = (mu*T) + ((r0 - mu)*(1-np.exp(-1*kappa*T))/kappa)\n",
        "  var_r = ((sigma**2)/(2*(kappa**3)))*((2*kappa*T) - 3 + (4*np.exp(-1*kappa*T)) - np.exp(-2*kappa*T))\n",
        "  \n",
        "  #With this, we can compute (num_path) many iterations of the integral.\n",
        "  #Generate random values for R, the random variable at hand.\n",
        "  r = np.random.normal(mu_r,var_r,num_path)\n",
        "  \n",
        "  #Create \"realized\" values for e^(-R(T))\n",
        "  r_output = np.exp(-1 * r)\n",
        "  \n",
        "  #Return the mean of the realized values.\n",
        "  return r_output.mean()"
      ],
      "execution_count": 0,
      "outputs": []
    },
    {
      "metadata": {
        "id": "QiaXMQqOC6XW",
        "colab_type": "text"
      },
      "cell_type": "markdown",
      "source": [
        "#Part 4: Compute ZCB P(0,1) and Libor L(0,1) using the parameters outlined in the assignment.\n",
        "\n",
        "Method is to be done through both engines. No number of paths is given, so I will use 1000."
      ]
    },
    {
      "metadata": {
        "id": "O01fuiGYDA0t",
        "colab_type": "code",
        "colab": {}
      },
      "cell_type": "code",
      "source": [
        "'''=======paras======='''\n",
        "theta = [.1, .05, .003, .03]\n",
        "kappa, mu, sigma, r0 = theta\n",
        "num_path = 1000"
      ],
      "execution_count": 0,
      "outputs": []
    },
    {
      "metadata": {
        "id": "iZUNte0aDKAS",
        "colab_type": "code",
        "outputId": "5dfe7811-a82f-4268-b0fe-cca60218370d",
        "colab": {
          "base_uri": "https://localhost:8080/",
          "height": 50
        }
      },
      "cell_type": "code",
      "source": [
        "formula_price = zcb_price_explicit(1,kappa,mu,sigma,r0)\n",
        "sample_price = zcb_price_exact_sample(1,kappa,mu,sigma,r0,num_path)\n",
        "\n",
        "print(\"ZCB P(0,1) price by formula is \" + str(formula_price))\n",
        "print(\"ZCB P(0,1) price by exact sampling is \" + str(sample_price))"
      ],
      "execution_count": 6,
      "outputs": [
        {
          "output_type": "stream",
          "text": [
            "ZCB P(0,1) price by formula is 0.9695084475425054\n",
            "ZCB P(0,1) price by exact sampling is 0.9695071729548792\n"
          ],
          "name": "stdout"
        }
      ]
    },
    {
      "metadata": {
        "id": "Btl4jYE3DtFX",
        "colab_type": "code",
        "outputId": "de46b4a9-6a7b-4e43-d21d-62a978a26dc2",
        "colab": {
          "base_uri": "https://localhost:8080/",
          "height": 50
        }
      },
      "cell_type": "code",
      "source": [
        "# Use above values to compute LIBOR L(0,1) values.\n",
        "# L(t,T) = (100/(T-t)) * ((1/P(t,T)) - 1)\n",
        "\n",
        "def libor_price(T,P):\n",
        "  #WARNING: THIS ASSUMES STARTING TIME IS 0, I.E. L(0,T).\n",
        "  #P is price of relevant ZCB.\n",
        "  factor_1 = 100/(T)\n",
        "  factor_2 = (1/P) - 1\n",
        "  return factor_1 * factor_2\n",
        "\n",
        "print(\"LIBOR L(0,1) price using ZCB formula price is \" + str(libor_price(1,formula_price)))\n",
        "print(\"LIBOR L(0,1) price using ZCB sample price is \" + str(libor_price(1,sample_price)))"
      ],
      "execution_count": 7,
      "outputs": [
        {
          "output_type": "stream",
          "text": [
            "LIBOR L(0,1) price using ZCB formula price is 3.145052787810565\n",
            "LIBOR L(0,1) price using ZCB sample price is 3.145188390116216\n"
          ],
          "name": "stdout"
        }
      ]
    },
    {
      "metadata": {
        "id": "bKMRPf5mE0lZ",
        "colab_type": "text"
      },
      "cell_type": "markdown",
      "source": [
        "#Part 5: Price 10-term swap rates with term length 1/2 year.\n",
        "\n",
        "This translates to finding the price of $s(t = 0, T = 5, N = 10)$.\n",
        "\n",
        "This is just a simple computation. Define swap rate pricing engine, and produce results via both engines."
      ]
    },
    {
      "metadata": {
        "id": "pdKe-9RnFDwy",
        "colab_type": "code",
        "colab": {}
      },
      "cell_type": "code",
      "source": [
        "def swap_price_explicit(T,N,kappa,mu,sigma,r0):\n",
        "  #WARNING: THIS ASSUMES STARTING TIME IS 0, I.E. L(0,T).\n",
        "  #Define delta.\n",
        "  delta = T/N\n",
        "  \n",
        "  #Create array to store P(t,t+j*delta) terms.\n",
        "  price_explicit = np.zeros(N)\n",
        "  \n",
        "  #Iteratively fill price matrix.\n",
        "  for j in range(N):\n",
        "    price_explicit[j] = zcb_price_explicit((j+1)*delta,kappa,mu,sigma,r0)\n",
        "  \n",
        "  #Produce numerator and denominator.\n",
        "  num_explicit = 1 - price_explicit[N-1]\n",
        "  denom_explicit = price_explicit.sum()\n",
        "  \n",
        "  s_explicit = 100 * num_explicit / denom_explicit\n",
        "  \n",
        "  return s_explicit\n",
        "  \n",
        "  \n",
        "def swap_price_sample(T,N,kappa,mu,sigma,r0,num_path):\n",
        "  #WARNING: THIS ASSUMES STARTING TIME IS 0, I.E. L(0,T).\n",
        "  #Define delta.\n",
        "  delta = T/N\n",
        "  \n",
        "  #Create array to store P(t,t+j*delta) terms.\n",
        "  price_sample = np.zeros(N)\n",
        "  \n",
        "  #Iteratively fill price matrix.\n",
        "  for j in range(N):\n",
        "    price_sample[j] = zcb_price_exact_sample((j+1)*delta,kappa,mu,sigma,r0,num_path)\n",
        "  \n",
        "  #Produce numerator and denominator.\n",
        "  num_sample = 1 - price_sample[N-1]\n",
        "  denom_sample = price_sample.sum()\n",
        "  \n",
        "  s_sample = 100 * num_sample / denom_sample\n",
        "\n",
        "  return s_sample"
      ],
      "execution_count": 0,
      "outputs": []
    },
    {
      "metadata": {
        "id": "6hL2Ft6JGchg",
        "colab_type": "code",
        "outputId": "a16faec2-9210-4ad1-adc9-2b8baac16f0b",
        "colab": {
          "base_uri": "https://localhost:8080/",
          "height": 50
        }
      },
      "cell_type": "code",
      "source": [
        "#Now, compute.\n",
        "\n",
        "s_explicit = swap_price_explicit(5,10,kappa,mu,sigma,r0)\n",
        "s_sample = swap_price_sample(5,10,kappa,mu,sigma,r0,num_path)\n",
        "\n",
        "print(\"10-term swap rate with term length 1/2 year using the formula is \" + str(s_explicit))\n",
        "print(\"10-term swap rate with term length 1/2 year using exact sampling is \" + str(s_sample))"
      ],
      "execution_count": 9,
      "outputs": [
        {
          "output_type": "stream",
          "text": [
            "10-term swap rate with term length 1/2 year using the formula is 1.7209106981949385\n",
            "10-term swap rate with term length 1/2 year using exact sampling is 1.7221350311780066\n"
          ],
          "name": "stdout"
        }
      ]
    },
    {
      "metadata": {
        "id": "gr3-kstZizfw",
        "colab_type": "text"
      },
      "cell_type": "markdown",
      "source": [
        "# Part 6: LIBOR Calibration of Vasicek\n",
        "\n",
        "Given the supplied data, we want to calibrate the Vasicek model. 5 Data points to find 4 unknowns: $\\kappa$, $\\mu$, $\\sigma$, and $r_{0}$. I will opt to use SSRE, as the assignment references.\n",
        "\n",
        "The idea broadly speaking will be this:\n",
        "\n",
        "1. Use the given LIBOR rates for one time period to find related ZCB P(0,T) rates.\n",
        "\n",
        "2. Given said rates, use code to calculate \"ideal\" combination of the 4 unknowns (found through SSRE)\n",
        "\n",
        "3. Given said combination, re-calculate the ZCB price for each time period and use this to find the respective LIBOR rate.\n",
        "\n",
        "4. Plot against the true values of the LIBOR rate.\n",
        "\n",
        "First, import data. Will use the dataset the professor provided."
      ]
    },
    {
      "metadata": {
        "id": "v390DcIvjmv-",
        "colab_type": "code",
        "colab": {}
      },
      "cell_type": "code",
      "source": [
        "dfLiborRate = pd.DataFrame({'maturity (months)': [1, 2, 3, 6, 12],\n",
        "                           '20081029 rate(%)': [3.1175, 3.2738, 3.4200, 3.4275, 3.4213],\n",
        "                           '20110214 rate(%)': [0.2647, 0.2890, 0.3140, 0.4657, 0.7975]\n",
        "                           })\n",
        "\n",
        "libor_2008_10_29 = [3.1175, 3.2738, 3.4200, 3.4275, 3.4213];\n",
        "libor_2011_02_14 = [0.2647, 0.2890, 0.3140, 0.4657, 0.7975];\n",
        "libor_maturities = [1/12, 2/12, 3/12, 6/12, 12/12]"
      ],
      "execution_count": 0,
      "outputs": []
    },
    {
      "metadata": {
        "id": "kliuyMWbmJ7l",
        "colab_type": "text"
      },
      "cell_type": "markdown",
      "source": [
        "Now, define an error function to use. I will use the SSRE function from the BSM Calibration segment of the lucture, i.e. the distance funciton\n",
        "\n",
        "$$H(x,y) = (\\sum_{i = 1}^{n}w_{i}|\\frac{x_{i}-y_{i}}{y_{i}}|^{p})^{1/p}$$\n",
        "\n",
        "With $w_{i} = 1$ and $p = 2$.\n",
        "\n",
        "Define the error function above and the LIBOR calibration."
      ]
    },
    {
      "metadata": {
        "id": "fCN4zSdIoNvt",
        "colab_type": "code",
        "colab": {}
      },
      "cell_type": "code",
      "source": [
        "def vasicek_libor_error_function(theta, market_rates, maturities):\n",
        "  err1 = 0\n",
        "  kappa, mu, sigma, r0 = theta\n",
        "  \n",
        "  for i in np.arange(len(market_rates)):\n",
        "    # Use Theta input to compute ZCB price for maturity i.\n",
        "    P = zcb_price_explicit(maturities[i],kappa,mu,sigma,r0)\n",
        "    \n",
        "    # Use calculated ZCB price to compute LIBOR rate.\n",
        "    calc_libor = libor_price(maturities[i],P)\n",
        "    \n",
        "    # Increment error based on estimated LIBOR.\n",
        "    err1 = err1 + ((calc_libor - market_rates[i])/market_rates[i])**2\n",
        "  return err1\n",
        "\n",
        "def libor_calibration(libor_rates,maturities):\n",
        "  # Supply initial guess. Use theta array from assignment as baseline.\n",
        "  init_theta = np.array([0.1, 0.05, 0.003, 0.03])\n",
        "  init_kappa, init_mu, init_sigma, init_r0 = init_theta\n",
        "  return so.fmin(vasicek_libor_error_function, init_theta, args = (libor_rates, maturities), disp = 0)"
      ],
      "execution_count": 0,
      "outputs": []
    },
    {
      "metadata": {
        "id": "pn6a3wVUu_PD",
        "colab_type": "text"
      },
      "cell_type": "markdown",
      "source": [
        "Now, run this calibration using the above LIBOR rates."
      ]
    },
    {
      "metadata": {
        "id": "kYStpgdTvHHE",
        "colab_type": "code",
        "outputId": "8fb00f36-9d72-47d6-f077-c345bb28c583",
        "colab": {
          "base_uri": "https://localhost:8080/",
          "height": 84
        }
      },
      "cell_type": "code",
      "source": [
        "calibrated_theta = libor_calibration(libor_2008_10_29,libor_maturities)\n",
        "\n",
        "print(\">>>Calibrated kappa is \" + str(calibrated_theta[0]))\n",
        "print(\">>>Calibrated mu is \" + str(calibrated_theta[1]))\n",
        "print(\">>>Calibrated sigma is \" + str(calibrated_theta[2]))\n",
        "print(\">>>Calibrated r_0 is \" + str(calibrated_theta[3]))"
      ],
      "execution_count": 12,
      "outputs": [
        {
          "output_type": "stream",
          "text": [
            ">>>Calibrated kappa is 561.3428170454375\n",
            ">>>Calibrated mu is 0.03450520336111293\n",
            ">>>Calibrated sigma is -8.180249459633814\n",
            ">>>Calibrated r_0 is -0.11360832553532021\n"
          ],
          "name": "stdout"
        }
      ]
    },
    {
      "metadata": {
        "id": "4nlIGqFl0TSd",
        "colab_type": "text"
      },
      "cell_type": "markdown",
      "source": [
        "I don't know what the constraints on the elements in the vasicek model usually are, but something tells me this isn't right. Check the price of a bond with T = 1."
      ]
    },
    {
      "metadata": {
        "id": "VulzCwww0aZf",
        "colab_type": "code",
        "outputId": "b00fe709-dc95-45b5-8a79-bb75b9dd8a51",
        "colab": {
          "base_uri": "https://localhost:8080/",
          "height": 34
        }
      },
      "cell_type": "code",
      "source": [
        "c_kappa = calibrated_theta[0]\n",
        "c_mu = calibrated_theta[1]\n",
        "c_sigma = calibrated_theta[2]\n",
        "c_r0 = calibrated_theta[3]\n",
        "\n",
        "bond = zcb_price_explicit(1,c_kappa,c_mu,c_sigma,c_r0)\n",
        "\n",
        "print('>>>Bond Price is ' + str(bond))"
      ],
      "execution_count": 13,
      "outputs": [
        {
          "output_type": "stream",
          "text": [
            ">>>Bond Price is 0.9664405910470621\n"
          ],
          "name": "stdout"
        }
      ]
    },
    {
      "metadata": {
        "id": "eS7S6I220rev",
        "colab_type": "text"
      },
      "cell_type": "markdown",
      "source": [
        "The bond price seems reasonable enough at least. I'm still concerned about my choice of calibration and will likely need to use a different scipy.optimize algorithm which has constraints (i.e. forcing my arguments to be positive). Until then, plot calibration LIBOR rates against true LIBOR rates:"
      ]
    },
    {
      "metadata": {
        "id": "JVRPOS9259_z",
        "colab_type": "code",
        "outputId": "1284599c-d0be-4ed0-b2fe-5afb71b3b231",
        "colab": {
          "base_uri": "https://localhost:8080/",
          "height": 393
        }
      },
      "cell_type": "code",
      "source": [
        "c_libor_rate = np.zeros(len(libor_2008_10_29))\n",
        "error_libor = np.zeros(len(libor_2008_10_29))\n",
        "\n",
        "for i in range(len(libor_2008_10_29)):\n",
        "  c_bond_price = zcb_price_explicit(libor_maturities[i],c_kappa,c_mu,c_sigma,c_r0)\n",
        "  c_libor_rate[i] = libor_price(libor_maturities[i],c_bond_price)\n",
        "  error_libor[i] = abs(c_libor_rate[i] - libor_2008_10_29[i])\n",
        "  \n",
        "libor_maturities_months = [1, 2, 3, 6, 12]\n",
        "plt.plot(libor_maturities_months,libor_2008_10_29,'ro',libor_maturities_months,c_libor_rate,'bo')\n",
        "plt.xlabel('LIBOR Maturity (Months)')\n",
        "plt.ylabel('LIBOR Rate')\n",
        "plt.title('True LIBOR Rate and Calibrated LIBOR Rate')\n",
        "plt.legend(('True LIBOR','Calibrated LIBOR'))"
      ],
      "execution_count": 18,
      "outputs": [
        {
          "output_type": "execute_result",
          "data": {
            "text/plain": [
              "<matplotlib.legend.Legend at 0x7fe4e93b5f98>"
            ]
          },
          "metadata": {
            "tags": []
          },
          "execution_count": 18
        },
        {
          "output_type": "display_data",
          "data": {
            "image/png": "[encoded data removed]",
            "text/plain": [
              "<Figure size 576x396 with 1 Axes>"
            ]
          },
          "metadata": {
            "tags": []
          }
        }
      ]
    },
    {
      "metadata": {
        "id": "NqTyFqiT7IGb",
        "colab_type": "text"
      },
      "cell_type": "markdown",
      "source": [
        "Some of the plots seem close, others do not. Plot Absolute and Relative Errors."
      ]
    },
    {
      "metadata": {
        "id": "wBjLc-aBRRjO",
        "colab_type": "code",
        "outputId": "a94d9bde-3e14-467f-c49d-917bdbe1f1d3",
        "colab": {
          "base_uri": "https://localhost:8080/",
          "height": 393
        }
      },
      "cell_type": "code",
      "source": [
        "plt.plot(libor_maturities_months,error_libor,'o')\n",
        "plt.xlabel('LIBOR Maturities (Months)')\n",
        "plt.ylabel('Error')\n",
        "plt.title('Calibration Absolute Error')"
      ],
      "execution_count": 19,
      "outputs": [
        {
          "output_type": "execute_result",
          "data": {
            "text/plain": [
              "Text(0.5, 1.0, 'Calibration Absolute Error')"
            ]
          },
          "metadata": {
            "tags": []
          },
          "execution_count": 19
        },
        {
          "output_type": "display_data",
          "data": {
            "image/png": "[encoded data removed]",
            "text/plain": [
              "<Figure size 576x396 with 1 Axes>"
            ]
          },
          "metadata": {
            "tags": []
          }
        }
      ]
    },
    {
      "metadata": {
        "id": "6UcT3yOtSaM9",
        "colab_type": "code",
        "outputId": "6d85a884-2115-43a9-e28e-ffed7ae9770c",
        "colab": {
          "base_uri": "https://localhost:8080/",
          "height": 393
        }
      },
      "cell_type": "code",
      "source": [
        "rel_error_libor = np.zeros(len(libor_2008_10_29))\n",
        "\n",
        "for i in range(len(libor_2008_10_29)):\n",
        "  rel_error_libor[i] = error_libor[i]/libor_2008_10_29[i]\n",
        "\n",
        "plt.plot(libor_maturities_months,rel_error_libor,'o')\n",
        "plt.xlabel(\"LIBOR Maturities (Months)\")\n",
        "plt.ylabel(\"Error\")\n",
        "plt.title('Calibration Relative Error')"
      ],
      "execution_count": 20,
      "outputs": [
        {
          "output_type": "execute_result",
          "data": {
            "text/plain": [
              "Text(0.5, 1.0, 'Calibration Relative Error')"
            ]
          },
          "metadata": {
            "tags": []
          },
          "execution_count": 20
        },
        {
          "output_type": "display_data",
          "data": {
            "image/png": "[encoded data removed]",
            "text/plain": [
              "<Figure size 576x396 with 1 Axes>"
            ]
          },
          "metadata": {
            "tags": []
          }
        }
      ]
    },
    {
      "metadata": {
        "id": "DOMNx5QfR6pp",
        "colab_type": "text"
      },
      "cell_type": "markdown",
      "source": [
        "These relative errors are very small, which I believe is satisfactory though I am still wary of accepting a model which suggests both $r_{0}$ and $\\sigma$ are negative (since I'm not sure if either of those should be possible).\n",
        "\n",
        "Consider also attempting this calibration on the second data set to see how it performs."
      ]
    },
    {
      "metadata": {
        "id": "u8vr3caTfwpD",
        "colab_type": "code",
        "outputId": "89517414-e797-4ffb-c3d9-d3c2f999f5b7",
        "colab": {
          "base_uri": "https://localhost:8080/",
          "height": 1195
        }
      },
      "cell_type": "code",
      "source": [
        "calibrated_theta_2 = libor_calibration(libor_2011_02_14,libor_maturities)\n",
        "\n",
        "print(\">>>Calibrated kappa is \" + str(calibrated_theta_2[0]))\n",
        "print(\">>>Calibrated mu is \" + str(calibrated_theta_2[1]))\n",
        "print(\">>>Calibrated sigma is \" + str(calibrated_theta_2[2]))\n",
        "print(\">>>Calibrated r_0 is \" + str(calibrated_theta_2[3]))\n",
        "\n",
        "# Check price of ZCB P(0,1)\n",
        "c_kappa_2 = calibrated_theta_2[0]\n",
        "c_mu_2 = calibrated_theta_2[1]\n",
        "c_sigma_2 = calibrated_theta_2[2]\n",
        "c_r0_2 = calibrated_theta_2[3]\n",
        "\n",
        "bond_2 = zcb_price_explicit(1,c_kappa_2,c_mu_2,c_sigma_2,c_r0_2)\n",
        "\n",
        "print('>>>Bond Price is ' + str(bond_2))\n",
        "\n",
        "## Graph True vs. Calibrated rates\n",
        "c_libor_rate_2 = np.zeros(len(libor_2011_02_14))\n",
        "error_libor_2 = np.zeros(len(libor_2011_02_14))\n",
        "\n",
        "for i in range(len(libor_2011_02_14)):\n",
        "  c_bond_price = zcb_price_explicit(libor_maturities[i],c_kappa_2,c_mu_2,c_sigma_2,c_r0_2)\n",
        "  c_libor_rate_2[i] = libor_price(libor_maturities[i],c_bond_price)\n",
        "  error_libor_2[i] = abs(c_libor_rate_2[i] - libor_2011_02_14[i])\n",
        "  \n",
        "\n",
        "plt.figure()\n",
        "plt.plot(libor_maturities_months,libor_2011_02_14,'ro',libor_maturities_months,c_libor_rate_2,'bo')\n",
        "plt.xlabel('LIBOR Maturity (Months)')\n",
        "plt.ylabel('LIBOR Rate')\n",
        "plt.title('True LIBOR Rate and Calibrated LIBOR Rate')\n",
        "plt.legend(('True LIBOR','Calibrated LIBOR'))\n",
        "\n",
        "## Graph Absolute Error\n",
        "plt.figure()\n",
        "plt.plot(libor_maturities_months,error_libor_2,'o')\n",
        "plt.xlabel('LIBOR Maturities (Months)')\n",
        "plt.ylabel('Error')\n",
        "plt.title('Calibration Absolute Error')\n",
        "\n",
        "## Graph Relative Error\n",
        "rel_error_libor_2 = np.zeros(len(libor_2011_02_14))\n",
        "\n",
        "for i in range(len(libor_2011_02_14)):\n",
        "  rel_error_libor_2[i] = error_libor_2[i]/libor_2011_02_14[i]\n",
        "  \n",
        "plt.figure()\n",
        "plt.plot(libor_maturities_months,rel_error_libor_2,'o')\n",
        "plt.xlabel(\"LIBOR Maturities (Months)\")\n",
        "plt.ylabel(\"Error\")\n",
        "plt.title('Calibration Relative Error')"
      ],
      "execution_count": 21,
      "outputs": [
        {
          "output_type": "stream",
          "text": [
            ">>>Calibrated kappa is 0.17984213648665412\n",
            ">>>Calibrated mu is 0.06633583016226667\n",
            ">>>Calibrated sigma is 0.004440205316987619\n",
            ">>>Calibrated r_0 is 0.0019703807069310466\n",
            ">>>Bond Price is 0.9926040814039643\n"
          ],
          "name": "stdout"
        },
        {
          "output_type": "execute_result",
          "data": {
            "text/plain": [
              "Text(0.5, 1.0, 'Calibration Relative Error')"
            ]
          },
          "metadata": {
            "tags": []
          },
          "execution_count": 21
        },
        {
          "output_type": "display_data",
          "data": {
            "image/png": "[encoded data removed]",
            "text/plain": [
              "<Figure size 576x396 with 1 Axes>"
            ]
          },
          "metadata": {
            "tags": []
          }
        },
        {
          "output_type": "display_data",
          "data": {
            "image/png": "[encoded data removed]",
            "text/plain": [
              "<Figure size 576x396 with 1 Axes>"
            ]
          },
          "metadata": {
            "tags": []
          }
        },
        {
          "output_type": "display_data",
          "data": {
            "image/png": "[encoded data removed]",
            "text/plain": [
              "<Figure size 576x396 with 1 Axes>"
            ]
          },
          "metadata": {
            "tags": []
          }
        }
      ]
    },
    {
      "metadata": {
        "id": "WDTdEtN4hMKN",
        "colab_type": "text"
      },
      "cell_type": "markdown",
      "source": [
        "The relative errors are higher, which makes sense as the underlying LIBOR rates are smaller so overall the same difference in absolute error represents a higher overall error."
      ]
    },
    {
      "metadata": {
        "id": "2NjTd2JhjnBJ",
        "colab_type": "text"
      },
      "cell_type": "markdown",
      "source": [
        "# Part 7: Swap Calibration of Vasicek\n",
        "\n",
        "Given the supplied data, we want to calibrate the Vasicek model. We again wish to find values for the 4 unknowns: $\\kappa$, $\\mu$, $\\sigma$, and $r_{0}$. I will again opt to use SSRE. The term length for these data points is $\\frac{1}{2}$ a year, i.e. for the 2-year swap we'd consider $s(t=0,T=2,N=4)$.\n",
        "\n",
        "The idea broadly speaking will be this:\n",
        "\n",
        "1. Use the given swap rates for one time period to find a set of \"ideal\" unknowns. This will be a touch more difficult since we now have multiple ZCB P(0,T) rates to work with (the first term alone will have 4 separate ZCB rates).\n",
        "\n",
        "2. Given said combination, re-calculate the ZCB price for each time period and use this to find the respective swap rates.\n",
        "1\n",
        "3. Plot against the true values of the swap rates."
      ]
    },
    {
      "metadata": {
        "id": "5FOh4tVb7P_8",
        "colab_type": "code",
        "colab": {}
      },
      "cell_type": "code",
      "source": [
        "dfSwapRate = pd.DataFrame({'term (year)': [2, 3, 5, 7, 10, 15, 30],\n",
        "                          '20081029 rate(%)': [2.6967, 3.1557, 3.8111, 4.1497, 4.3638, 4.3753, 4.2772],\n",
        "                          '20110214 rate(%)': [1.0481, 1.5577, 2.5569, 3.1850, 3.7225, 4.1683, 4.4407]\n",
        "                          })\n",
        "\n",
        "swap_2008_10_29 = [2.6967, 3.1557, 3.8111, 4.1497, 4.3638, 4.3753, 4.2772]\n",
        "swap_2011_02_14 = [1.0481, 1.5577, 2.5569, 3.1850, 3.7225, 4.1683, 4.4407]\n",
        "swap_maturities = [2, 3, 5, 7, 10, 15, 30]\n",
        "swap_terms = [4, 6, 10, 14, 20, 30, 60]"
      ],
      "execution_count": 0,
      "outputs": []
    },
    {
      "metadata": {
        "id": "czotLK7GqNAZ",
        "colab_type": "code",
        "colab": {}
      },
      "cell_type": "code",
      "source": [
        "def vasicek_swap_error_function(theta, market_rates, maturities, terms):\n",
        "  err1 = 0\n",
        "  kappa, mu, sigma, r0 = theta\n",
        "  \n",
        "  for i in np.arange(len(market_rates)):\n",
        "    # Use Theta input to compute ZCB price for maturity i.\n",
        "    P = zcb_price_explicit(maturities[i],kappa,mu,sigma,r0)\n",
        "    \n",
        "    # Use calculated ZCB price to compute swap rate.\n",
        "    calc_swap = swap_price_explicit(maturities[i],terms[i],kappa,mu,sigma,r0)\n",
        "    \n",
        "    # Increment error based on estimated LIBOR.\n",
        "    err1 = err1 + ((calc_swap - market_rates[i])/market_rates[i])**2\n",
        "  return err1\n",
        "\n",
        "def swap_calibration(swap_rates,maturities, terms):\n",
        "  # Supply initial guess. Use theta array from assignment as baseline.\n",
        "  init_theta = np.array([0.1, 0.05, 0.003, 0.03])\n",
        "  init_kappa, init_mu, init_sigma, init_r0 = init_theta\n",
        "  return so.fmin(vasicek_swap_error_function, init_theta, args = (swap_rates, maturities, terms), disp = 0)"
      ],
      "execution_count": 0,
      "outputs": []
    },
    {
      "metadata": {
        "id": "9fwPsjj37MyZ",
        "colab_type": "code",
        "outputId": "3efae4db-a543-40f3-c3b0-2af1c693305e",
        "colab": {
          "base_uri": "https://localhost:8080/",
          "height": 84
        }
      },
      "cell_type": "code",
      "source": [
        "calibrated_theta_swap = swap_calibration(swap_2008_10_29,swap_maturities,swap_terms)\n",
        "\n",
        "print(\">>>Calibrated kappa is \" + str(calibrated_theta_swap[0]))\n",
        "print(\">>>Calibrated mu is \" + str(calibrated_theta_swap[1]))\n",
        "print(\">>>Calibrated sigma is \" + str(calibrated_theta_swap[2]))\n",
        "print(\">>>Calibrated r_0 is \" + str(calibrated_theta_swap[3]))"
      ],
      "execution_count": 24,
      "outputs": [
        {
          "output_type": "stream",
          "text": [
            ">>>Calibrated kappa is 1.029183914769689\n",
            ">>>Calibrated mu is 0.096193344366966\n",
            ">>>Calibrated sigma is -0.010751385739121024\n",
            ">>>Calibrated r_0 is -0.00443601908721757\n"
          ],
          "name": "stdout"
        }
      ]
    },
    {
      "metadata": {
        "id": "PmAZHuDC9MWs",
        "colab_type": "text"
      },
      "cell_type": "markdown",
      "source": [
        "Our new results still include concerning values for sigma and r_0. Check the bond price of this set and the relevant swap price (using the first data point):"
      ]
    },
    {
      "metadata": {
        "id": "yUW4tFe29jWH",
        "colab_type": "code",
        "outputId": "47c79426-ba35-44f5-ba1f-1bdfceef6e90",
        "colab": {
          "base_uri": "https://localhost:8080/",
          "height": 50
        }
      },
      "cell_type": "code",
      "source": [
        "c_kappa_s = calibrated_theta_swap[0]\n",
        "c_mu_s = calibrated_theta_swap[1]\n",
        "c_sigma_s = calibrated_theta_swap[2]\n",
        "c_r0_s = calibrated_theta_swap[3]\n",
        "\n",
        "bond_s = zcb_price_explicit(2,c_kappa_s, c_mu_s, c_sigma_s, c_r0_s)\n",
        "\n",
        "swap_2_year_c = swap_price_explicit(swap_maturities[0], swap_terms[0], c_kappa_s, c_mu_s, c_sigma_s, c_r0_s)\n",
        "\n",
        "print(\">>>2 year ZCB price is \" + str(bond_s))\n",
        "print(\">>>2 year swap rate with 1/2 year terms is \" + str(swap_2_year_c))"
      ],
      "execution_count": 25,
      "outputs": [
        {
          "output_type": "stream",
          "text": [
            ">>>2 year ZCB price is 0.898480405506226\n",
            ">>>2 year swap rate with 1/2 year terms is 2.6773400703621713\n"
          ],
          "name": "stdout"
        }
      ]
    },
    {
      "metadata": {
        "id": "BkgmQ7vY-Pzc",
        "colab_type": "text"
      },
      "cell_type": "markdown",
      "source": [
        "The swap seems to match up fairly well. Plot all against swap rates against the calibration swaps."
      ]
    },
    {
      "metadata": {
        "id": "GEvdIA3j-U_M",
        "colab_type": "code",
        "outputId": "8677d0ac-d56f-4849-df7d-56b7896ca27c",
        "colab": {
          "base_uri": "https://localhost:8080/",
          "height": 378
        }
      },
      "cell_type": "code",
      "source": [
        "swap_2008_10_29 = [2.6967, 3.1557, 3.8111, 4.1497, 4.3638, 4.3753, 4.2772]\n",
        "swap_maturities = [2, 3, 5, 7, 10, 15, 30]\n",
        "swap_terms = [4, 6, 10, 14, 20, 30, 60]\n",
        "\n",
        "c_swap_rate = np.zeros(len(swap_2008_10_29))\n",
        "error_swap = np.zeros(len(swap_2008_10_29))\n",
        "\n",
        "for i in range(len(swap_2008_10_29)):\n",
        "  c_swap_rate[i] = swap_price_explicit(swap_maturities[i], swap_terms[i], c_kappa_s, c_mu_s, c_sigma_s, c_r0_s)\n",
        "  error_swap[i] = abs(c_swap_rate[i] - swap_2008_10_29[i])\n",
        "\n",
        "plt.plot(swap_maturities,swap_2008_10_29,'ro', swap_maturities, c_swap_rate,'bo')\n",
        "plt.xlabel('Swap Rate Maturity (Years)')\n",
        "plt.ylabel('Swap Rate')\n",
        "plt.legend(('True Swap Rate','Calibrated Swap Rate'),loc=7)"
      ],
      "execution_count": 26,
      "outputs": [
        {
          "output_type": "execute_result",
          "data": {
            "text/plain": [
              "<matplotlib.legend.Legend at 0x7fe4e9162ef0>"
            ]
          },
          "metadata": {
            "tags": []
          },
          "execution_count": 26
        },
        {
          "output_type": "display_data",
          "data": {
            "image/png": "[encoded data removed]",
            "text/plain": [
              "<Figure size 576x396 with 1 Axes>"
            ]
          },
          "metadata": {
            "tags": []
          }
        }
      ]
    },
    {
      "metadata": {
        "id": "6IH7CGGD_FpJ",
        "colab_type": "text"
      },
      "cell_type": "markdown",
      "source": [
        "Interestingly, my calibrated swap rates show a trend which runs counter to the true swap rate's trend at the higher end. Plot relative and absolute errors."
      ]
    },
    {
      "metadata": {
        "id": "0Q3HTLZRV_OE",
        "colab_type": "code",
        "outputId": "db71dcc6-2a88-4cb8-8ee5-552976e64724",
        "colab": {
          "base_uri": "https://localhost:8080/",
          "height": 382
        }
      },
      "cell_type": "code",
      "source": [
        "plt.plot(swap_maturities,error_swap,'o')\n",
        "plt.xlabel('Swap Rate Maturity (Years)')\n",
        "plt.ylabel('Absolute Error of Calibration')"
      ],
      "execution_count": 27,
      "outputs": [
        {
          "output_type": "execute_result",
          "data": {
            "text/plain": [
              "Text(0, 0.5, 'Absolute Error of Calibration')"
            ]
          },
          "metadata": {
            "tags": []
          },
          "execution_count": 27
        },
        {
          "output_type": "display_data",
          "data": {
            "image/png": "[encoded data removed]",
            "text/plain": [
              "<Figure size 576x396 with 1 Axes>"
            ]
          },
          "metadata": {
            "tags": []
          }
        }
      ]
    },
    {
      "metadata": {
        "id": "M5WwyshHWOky",
        "colab_type": "code",
        "outputId": "4e58e50a-a14a-4d42-da3c-c3f0a7e784ff",
        "colab": {
          "base_uri": "https://localhost:8080/",
          "height": 378
        }
      },
      "cell_type": "code",
      "source": [
        "rel_error_swap = np.zeros(len(swap_2008_10_29))\n",
        "\n",
        "for i in range(len(swap_2008_10_29)):\n",
        "  rel_error_swap[i] = error_swap[i]/swap_2008_10_29[i]\n",
        "\n",
        "plt.plot(swap_maturities,rel_error_swap,'o')\n",
        "plt.xlabel(\"Swap Rate Maturity (Years)\")\n",
        "plt.ylabel(\"Relative Error\")"
      ],
      "execution_count": 28,
      "outputs": [
        {
          "output_type": "execute_result",
          "data": {
            "text/plain": [
              "Text(0, 0.5, 'Relative Error')"
            ]
          },
          "metadata": {
            "tags": []
          },
          "execution_count": 28
        },
        {
          "output_type": "display_data",
          "data": {
            "image/png": "[encoded data removed]",
            "text/plain": [
              "<Figure size 576x396 with 1 Axes>"
            ]
          },
          "metadata": {
            "tags": []
          }
        }
      ]
    },
    {
      "metadata": {
        "id": "sbBNWzEjWfaW",
        "colab_type": "text"
      },
      "cell_type": "markdown",
      "source": [
        "All but one of the relative errors are under 4%, and 3 of the 7 points have relative errors under 1%. I am satisfied with this result. As before, perform the calibration against the second set of swap data as well."
      ]
    },
    {
      "metadata": {
        "id": "XyQTcF_thiB0",
        "colab_type": "code",
        "outputId": "638e53d7-eb2d-49fc-9c59-4fbf19e52908",
        "colab": {
          "base_uri": "https://localhost:8080/",
          "height": 1212
        }
      },
      "cell_type": "code",
      "source": [
        "calibrated_theta_swap_2 = swap_calibration(swap_2011_02_14,swap_maturities,swap_terms)\n",
        "\n",
        "print(\">>>Calibrated kappa is \" + str(calibrated_theta_swap_2[0]))\n",
        "print(\">>>Calibrated mu is \" + str(calibrated_theta_swap_2[1]))\n",
        "print(\">>>Calibrated sigma is \" + str(calibrated_theta_swap_2[2]))\n",
        "print(\">>>Calibrated r_0 is \" + str(calibrated_theta_swap_2[3]))\n",
        "\n",
        "c_kappa_s_2 = calibrated_theta_swap_2[0]\n",
        "c_mu_s_2 = calibrated_theta_swap_2[1]\n",
        "c_sigma_s_2 = calibrated_theta_swap_2[2]\n",
        "c_r0_s_2 = calibrated_theta_swap_2[3]\n",
        "\n",
        "## Price a ZCB P(0,2) and compare to a s(0,2,4).\n",
        "bond_s_2 = zcb_price_explicit(2,c_kappa_s_2, c_mu_s_2, c_sigma_s_2, c_r0_s_2)\n",
        "\n",
        "swap_2_year_c_2 = swap_price_explicit(swap_maturities[0], swap_terms[0], c_kappa_s_2, c_mu_s_2, c_sigma_s_2, c_r0_s_2)\n",
        "\n",
        "print(\">>>2 year ZCB price is \" + str(bond_s_2))\n",
        "print(\">>>2 year swap rate with 1/2 year terms is \" + str(swap_2_year_c_2))\n",
        "\n",
        "## Graph True and Calibrated Swap Rates.\n",
        "c_swap_rate_2 = np.zeros(len(swap_2011_02_14))\n",
        "error_swap_2 = np.zeros(len(swap_2011_02_14))\n",
        "\n",
        "for i in range(len(swap_2011_02_14)):\n",
        "  c_swap_rate_2[i] = swap_price_explicit(swap_maturities[i], swap_terms[i], c_kappa_s_2, c_mu_s_2, c_sigma_s_2, c_r0_s_2)\n",
        "  error_swap_2[i] = abs(c_swap_rate_2[i] - swap_2011_02_14[i])\n",
        "\n",
        "plt.figure()\n",
        "plt.plot(swap_maturities,swap_2011_02_14,'ro', swap_maturities, c_swap_rate_2,'bo')\n",
        "plt.xlabel('Swap Rate Maturity (Years)')\n",
        "plt.ylabel('Swap Rate')\n",
        "plt.legend(('True Swap Rate','Calibrated Swap Rate'),loc=7)\n",
        "plt.title('True Swap Rate and Calibrated Swap Rate')\n",
        "\n",
        "## Graph Absolute Error.\n",
        "plt.figure()\n",
        "plt.plot(swap_maturities,error_swap_2,'o')\n",
        "plt.xlabel('Swap Rate Maturity (Years)')\n",
        "plt.ylabel('Absolute Error of Calibration')\n",
        "plt.title('Calibration Absolute Error')\n",
        "\n",
        "## Graph Relative Error.\n",
        "rel_error_swap_2 = np.zeros(len(swap_2011_02_14))\n",
        "\n",
        "for i in range(len(swap_2011_02_14)):\n",
        "  rel_error_swap_2[i] = error_swap_2[i]/swap_2011_02_14[i]\n",
        "\n",
        "plt.figure()  \n",
        "plt.plot(swap_maturities,rel_error_swap_2,'o')\n",
        "plt.xlabel(\"Swap Rate Maturity (Years)\")\n",
        "plt.ylabel(\"Relative Error\")\n",
        "plt.title('Calibration Relative Error')\n"
      ],
      "execution_count": 29,
      "outputs": [
        {
          "output_type": "stream",
          "text": [
            ">>>Calibrated kappa is 0.2667731584987808\n",
            ">>>Calibrated mu is 0.1288165232371223\n",
            ">>>Calibrated sigma is -0.0008069976695081686\n",
            ">>>Calibrated r_0 is -0.01069864568339024\n",
            ">>>2 year ZCB price is 0.9594508064285999\n",
            ">>>2 year swap rate with 1/2 year terms is 1.0308766688736108\n"
          ],
          "name": "stdout"
        },
        {
          "output_type": "execute_result",
          "data": {
            "text/plain": [
              "Text(0.5, 1.0, 'Calibration Relative Error')"
            ]
          },
          "metadata": {
            "tags": []
          },
          "execution_count": 29
        },
        {
          "output_type": "display_data",
          "data": {
            "image/png": "[encoded data removed]",
            "text/plain": [
              "<Figure size 576x396 with 1 Axes>"
            ]
          },
          "metadata": {
            "tags": []
          }
        },
        {
          "output_type": "display_data",
          "data": {
            "image/png": "[encoded data removed]",
            "text/plain": [
              "<Figure size 576x396 with 1 Axes>"
            ]
          },
          "metadata": {
            "tags": []
          }
        },
        {
          "output_type": "display_data",
          "data": {
            "image/png": "[encoded data removed]",
            "text/plain": [
              "<Figure size 576x396 with 1 Axes>"
            ]
          },
          "metadata": {
            "tags": []
          }
        }
      ]
    },
    {
      "metadata": {
        "id": "tRd0hMrckNoc",
        "colab_type": "text"
      },
      "cell_type": "markdown",
      "source": [
        "The errors seem roughly the same as the first calibration set. This consistency is a good thing, as much as I continue to question the existence of a negative sigma value."
      ]
    }
  ]
}