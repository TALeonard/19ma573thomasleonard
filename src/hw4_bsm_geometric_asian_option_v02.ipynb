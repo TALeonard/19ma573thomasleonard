{
  "nbformat": 4,
  "nbformat_minor": 0,
  "metadata": {
    "colab": {
      "name": "hw4_bsm_geometric_asian_option_v02.ipynb",
      "version": "0.3.2",
      "provenance": [],
      "collapsed_sections": [],
      "include_colab_link": true
    },
    "kernelspec": {
      "name": "python3",
      "display_name": "Python 3"
    }
  },
  "cells": [
    {
      "cell_type": "markdown",
      "metadata": {
        "id": "view-in-github",
        "colab_type": "text"
      },
      "source": [
        "<a href=\"https://colab.research.google.com/github/TALeonard/19ma573thomasleonard/blob/master/src/hw4_bsm_geometric_asian_option_v02.ipynb\" target=\"_parent\"><img src=\"https://colab.research.google.com/assets/colab-badge.svg\" alt=\"Open In Colab\"/></a>"
      ]
    },
    {
      "metadata": {
        "id": "LCkyfdmP6Han",
        "colab_type": "text"
      },
      "cell_type": "markdown",
      "source": [
        "For this, I will use the specific versions of the files the assignment requests; i.e. using the contract_v01 and sde_1d_v01 files. Thus, I have made a fork of the public MA 573 repo, from which I can ! git clone."
      ]
    },
    {
      "metadata": {
        "id": "wtXGGrFN6HFb",
        "colab_type": "code",
        "outputId": "f2e8f967-331a-4178-c1a3-d7d8920f8f11",
        "colab": {
          "base_uri": "https://localhost:8080/",
          "height": 134
        }
      },
      "cell_type": "code",
      "source": [
        "#!git clone https://github.com/TALeonard/18ma573pub.git #Only run once!"
      ],
      "execution_count": 1,
      "outputs": [
        {
          "output_type": "stream",
          "text": [
            "Cloning into '18ma573pub'...\n",
            "remote: Enumerating objects: 148, done.\u001b[K\n",
            "remote: Counting objects: 100% (148/148), done.\u001b[K\n",
            "remote: Compressing objects: 100% (123/123), done.\u001b[K\n",
            "remote: Total 753 (delta 75), reused 74 (delta 25), pack-reused 605\u001b[K\n",
            "Receiving objects: 100% (753/753), 2.37 MiB | 24.97 MiB/s, done.\n",
            "Resolving deltas: 100% (438/438), done.\n"
          ],
          "name": "stdout"
        }
      ]
    },
    {
      "metadata": {
        "id": "IXtOV6o26aH0",
        "colab_type": "code",
        "outputId": "ec7ac490-8aea-4c7d-a259-19cf5e8682ab",
        "colab": {
          "base_uri": "https://localhost:8080/",
          "height": 34
        }
      },
      "cell_type": "code",
      "source": [
        "cd /content/18ma573pub/src/"
      ],
      "execution_count": 2,
      "outputs": [
        {
          "output_type": "stream",
          "text": [
            "/content/18ma573pub/src\n"
          ],
          "name": "stdout"
        }
      ]
    },
    {
      "metadata": {
        "id": "qLUwBm_B6im2",
        "colab_type": "code",
        "colab": {}
      },
      "cell_type": "code",
      "source": [
        "import numpy as np\n",
        "import matplotlib.pyplot as plt\n",
        "from contract_v01 import VanillaOption\n",
        "from sde_1d_v01 import Sde_1d, Gbm_1d"
      ],
      "execution_count": 0,
      "outputs": []
    },
    {
      "metadata": {
        "id": "0Lm-1SWb6xIg",
        "colab_type": "text"
      },
      "cell_type": "markdown",
      "source": [
        "Now, create the asian option price code."
      ]
    },
    {
      "metadata": {
        "id": "Dk2L8I6K6w1m",
        "colab_type": "code",
        "colab": {}
      },
      "cell_type": "code",
      "source": [
        "'''==============\n",
        "output: BSM geometric asian option price\n",
        "==============='''\n",
        "\n",
        "def bsm_geometric_asian_price(self,\n",
        "                             otype = 1,\n",
        "                             strike = 110,\n",
        "                             maturity = 1,\n",
        "                             num_step = 4 #partition number\n",
        "                             ):\n",
        "  s0 = self.init_state\n",
        "  sigma = self.vol_ratio\n",
        "  r = self.drift_ratio\n",
        "  n = num_step\n",
        "  \n",
        "  #NOTE: This price assumes a uniform partition time steps, for ease of coding.\n",
        "  \n",
        "  #Want to compute r-hat and sigma-hat for the price itself.\n",
        "  #r-hat = mu-hat + 1/2(sigma-hat^2)\n",
        "  #Thus for r-hat we need mu-hat, and sigma-hat\n",
        "  \n",
        "  #Compute mu-hat\n",
        "  #mu-hat = mu/2 (we are assuming uniform partition as stated above)\n",
        "  mu = r - 0.5*(sigma**2)\n",
        "  mu_hat = (mu/2)\n",
        "  \n",
        "  #Compute sigma-hat\n",
        "  #Sigma-hat^2 = (sigma^2 * (2m + 1))/(6*(m+1)) where m is the number of steps.\n",
        "  #Recall that the vol_ratio is sigma, not sigma^2. Thus we need both.\n",
        "  sigma_hat_squared = ((sigma**2)*((2*n) + 1))/(6*(n+1))\n",
        "  sigma_hat = sigma_hat_squared ** 0.5\n",
        "  \n",
        "  #With mu-hat and sigma-hat calculated, we can find r-hat.\n",
        "  r_hat = mu_hat + (0.5 * sigma_hat_squared)\n",
        "  \n",
        "  #Create a separate GBM variable to store the new sigma and r, for the sake of\n",
        "  #computing the price.\n",
        "  \n",
        "  gao_internal_gbm = Gbm_1d(init_state=s0,drift_ratio = r_hat,vol_ratio = sigma_hat)\n",
        "  \n",
        "  return np.exp((r_hat - r)*maturity) * gao_internal_gbm.bsm_price(VanillaOption(otype,strike,maturity))\n",
        "\n",
        "Gbm_1d.bsm_geometric_asian_price = bsm_geometric_asian_price"
      ],
      "execution_count": 0,
      "outputs": []
    },
    {
      "metadata": {
        "id": "xIUpLFgeCTTF",
        "colab_type": "text"
      },
      "cell_type": "markdown",
      "source": [
        "Now test to make sure the above matches the lecture information."
      ]
    },
    {
      "metadata": {
        "id": "LMbT38pvCOWN",
        "colab_type": "code",
        "outputId": "d15d249d-8631-419e-b565-8ead10b731f5",
        "colab": {
          "base_uri": "https://localhost:8080/",
          "height": 34
        }
      },
      "cell_type": "code",
      "source": [
        "gbm1 = Gbm_1d(init_state = 100, drift_ratio = 0.0475, vol_ratio = 0.2)\n",
        "gao1 = gbm1.bsm_geometric_asian_price(\n",
        "                          otype = 1,\n",
        "                          strike = 110,\n",
        "                          maturity = 1,\n",
        "                          num_step = 4\n",
        "                          )\n",
        "print('>>>>>> geometric call option value is ' + str(gao1))"
      ],
      "execution_count": 57,
      "outputs": [
        {
          "output_type": "stream",
          "text": [
            ">>>>>> geometric call option value is 1.607164727431734\n"
          ],
          "name": "stdout"
        }
      ]
    },
    {
      "metadata": {
        "id": "UZTjRXRqDshO",
        "colab_type": "text"
      },
      "cell_type": "markdown",
      "source": [
        "This matches the output in the Geometric Asian Option notes. Now, attempt calibration using given data."
      ]
    },
    {
      "metadata": {
        "id": "oe9C8fHPCh9m",
        "colab_type": "code",
        "colab": {}
      },
      "cell_type": "code",
      "source": [
        "'''==============\n",
        "market available data\n",
        "==============='''\n",
        "#paras for stock price\n",
        "spot = 100\n",
        "rate = 0.05\n",
        "\n",
        "#paras for geometric asian options\n",
        "otype = 1\n",
        "maturity = 2/12\n",
        "num_steps = 8\n",
        "strike_list = [97, 99, 101, 103]\n",
        "market_price_list = [\n",
        "    3.7925736094875964,\n",
        "    2.5429985313737244,\n",
        "    1.6026613800895042,\n",
        "    0.9366198675047346]"
      ],
      "execution_count": 0,
      "outputs": []
    },
    {
      "metadata": {
        "id": "1gCQkPItEqN8",
        "colab_type": "code",
        "colab": {}
      },
      "cell_type": "code",
      "source": [
        "'''==============\n",
        "calibrated volatility based on vanilla options\n",
        "==============='''\n",
        "calibrated_vol = 0.18109375000000028"
      ],
      "execution_count": 0,
      "outputs": []
    },
    {
      "metadata": {
        "id": "aaDW9ZBoE24f",
        "colab_type": "code",
        "colab": {}
      },
      "cell_type": "code",
      "source": [
        "'''==============\n",
        "My code below for the calibration\n",
        "==============='''\n",
        "#Update GBM variables\n",
        "gbm1.vol_ratio = calibrated_vol\n",
        "gbm1.drift_ratio = rate\n",
        "gbm1.init_state = spot\n",
        "\n",
        "#Populate list of options based on given strike, maturity, and market price\n",
        "cal_option_price_list = []\n",
        "for i in range(len(strike_list)):\n",
        "  option1 = gbm1.bsm_geometric_asian_price(\n",
        "    otype = otype,\n",
        "    strike = strike_list[i],\n",
        "    maturity = maturity,\n",
        "    num_step = num_steps\n",
        "  )\n",
        "  \n",
        "  cal_option_price_list.append(option1)"
      ],
      "execution_count": 0,
      "outputs": []
    },
    {
      "metadata": {
        "id": "oWt9hfdrH9TQ",
        "colab_type": "code",
        "outputId": "c00086f4-8284-4671-9c82-478d494f9f31",
        "colab": {
          "base_uri": "https://localhost:8080/",
          "height": 361
        }
      },
      "cell_type": "code",
      "source": [
        "#Now, graph the calibrated and actual prices to see how they compare.\n",
        "\n",
        "x_co = [strike_list[i] for i in range(len(strike_list))]\n",
        "y_co = [market_price_list[i] for i in range(len(market_price_list))]\n",
        "plt.plot(x_co, y_co, 'o', label='market price')\n",
        "\n",
        "y_co = [cal_option_price_list[i] for i in \n",
        "        range(len(cal_option_price_list))]\n",
        "plt.plot(x_co, y_co, label = 'calib price')\n",
        "\n",
        "plt.ylabel('option price')\n",
        "plt.xlabel('strike with fixed maturity')\n",
        "plt.legend();"
      ],
      "execution_count": 61,
      "outputs": [
        {
          "output_type": "display_data",
          "data": {
            "image/png": "[encoded data removed]",
            "text/plain": [
              "<Figure size 576x396 with 1 Axes>"
            ]
          },
          "metadata": {
            "tags": []
          }
        }
      ]
    },
    {
      "metadata": {
        "id": "fiJ3KhfqcT4t",
        "colab_type": "text"
      },
      "cell_type": "markdown",
      "source": [
        "Now, compare prices as before to see how well this calibration performed."
      ]
    },
    {
      "metadata": {
        "id": "Q1b4SezOMx7D",
        "colab_type": "code",
        "colab": {}
      },
      "cell_type": "code",
      "source": [
        "#create list of differences between real price and calibrated price.\n",
        "price_delta = [market_price_list[i] - cal_option_price_list[i] \n",
        "              for i in range(len(cal_option_price_list))]"
      ],
      "execution_count": 0,
      "outputs": []
    },
    {
      "metadata": {
        "id": "N2TkuqDhczPS",
        "colab_type": "code",
        "colab": {}
      },
      "cell_type": "code",
      "source": [
        "delta_list = [] #empty vector to store the price deltas in, for display purposes.\n",
        "for i in range(len(strike_list)):\n",
        "  delta = [strike_list[i], price_delta[i]]\n",
        "  delta_list.append(delta)"
      ],
      "execution_count": 0,
      "outputs": []
    },
    {
      "metadata": {
        "id": "PoaPSitWc77N",
        "colab_type": "code",
        "colab": {
          "base_uri": "https://localhost:8080/",
          "height": 84
        },
        "outputId": "e19d1bac-6a75-41a4-cbdc-93a170fc3b5b"
      },
      "cell_type": "code",
      "source": [
        "display_table = np.array(delta_list)\n",
        "print(display_table)"
      ],
      "execution_count": 66,
      "outputs": [
        {
          "output_type": "stream",
          "text": [
            "[[ 9.70000000e+01 -1.49979725e-02]\n",
            " [ 9.90000000e+01  1.40938504e-01]\n",
            " [ 1.01000000e+02  2.45476248e-01]\n",
            " [ 1.03000000e+02  2.58702379e-01]]\n"
          ],
          "name": "stdout"
        }
      ]
    },
    {
      "metadata": {
        "id": "9KD6Hc8MdCWv",
        "colab_type": "text"
      },
      "cell_type": "markdown",
      "source": [
        "In all 4 cases, the error of the calibrated price is less than 0.26. Consider relative error for a more accurate view."
      ]
    },
    {
      "metadata": {
        "id": "YL9jbztQgtfd",
        "colab_type": "code",
        "colab": {}
      },
      "cell_type": "code",
      "source": [
        "relative_delta_price = [price_delta[i]/market_price_list[i]\n",
        "           for i in range(len(market_price_list))]"
      ],
      "execution_count": 0,
      "outputs": []
    },
    {
      "metadata": {
        "id": "8uVcj3bNgvuv",
        "colab_type": "code",
        "colab": {
          "base_uri": "https://localhost:8080/",
          "height": 84
        },
        "outputId": "bbd99f27-1b13-46e0-f78b-4ab2b26a0c35"
      },
      "cell_type": "code",
      "source": [
        "relative_delta_list = []\n",
        "for i in range(len(strike_list)):\n",
        "  relative_delta = [strike_list[i], relative_delta_price[i]]\n",
        "  relative_delta_list.append(relative_delta)\n",
        "  \n",
        "relative_display_table = np.array(relative_delta_list)\n",
        "print(relative_display_table)"
      ],
      "execution_count": 69,
      "outputs": [
        {
          "output_type": "stream",
          "text": [
            "[[ 9.70000000e+01 -3.95456333e-03]\n",
            " [ 9.90000000e+01  5.54221729e-02]\n",
            " [ 1.01000000e+02  1.53167881e-01]\n",
            " [ 1.03000000e+02  2.76208511e-01]]\n"
          ],
          "name": "stdout"
        }
      ]
    },
    {
      "metadata": {
        "id": "eMKFQMaPhSbw",
        "colab_type": "code",
        "colab": {
          "base_uri": "https://localhost:8080/",
          "height": 54
        },
        "outputId": "f329c954-c217-4ed9-ca29-e5186fe73a69"
      },
      "cell_type": "code",
      "source": [
        "print(relative_delta_price)"
      ],
      "execution_count": 70,
      "outputs": [
        {
          "output_type": "stream",
          "text": [
            "[-0.003954563333570218, 0.055422172943970206, 0.15316788117124921, 0.2762085107364385]\n"
          ],
          "name": "stdout"
        }
      ]
    },
    {
      "metadata": {
        "id": "qE2x5XlghWRV",
        "colab_type": "text"
      },
      "cell_type": "markdown",
      "source": [
        "These predictions are not as accurate as they were during the calibration for the less exotic option. I believe this to be a result of 3 factors:\n",
        "\n",
        "1. We have fewer values to calibrate with than the example in 4-1. There, I used 8 prices, which meant I had 8 data points to work with.\n",
        "2. The asian option is not what the volatility was calibrated with, thus it may not be as reliable of a measure for it (as in, we're attempting to extend something outside its original intended scope which can cause approximation issues).\n",
        "3. The prices of the asian options are, on a whole, very small. Thus, small errors like 0.258 represent a much more significant percentage than they do in 4.1 (where the largest error was actually -0.75, but due to prices this was only a -3.7% error).\n",
        "\n",
        "Based on this, I am willing to accept my current calibration, though only tentatively."
      ]
    }
  ]
}