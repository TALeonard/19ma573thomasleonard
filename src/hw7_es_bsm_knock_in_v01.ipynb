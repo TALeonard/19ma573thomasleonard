{
  "nbformat": 4,
  "nbformat_minor": 0,
  "metadata": {
    "colab": {
      "name": "hw7_es_bsm_knock_in_v01.ipynb",
      "version": "0.3.2",
      "provenance": [],
      "collapsed_sections": [],
      "include_colab_link": true
    },
    "kernelspec": {
      "name": "python3",
      "display_name": "Python 3"
    }
  },
  "cells": [
    {
      "cell_type": "markdown",
      "metadata": {
        "id": "view-in-github",
        "colab_type": "text"
      },
      "source": [
        "<a href=\"https://colab.research.google.com/github/TALeonard/19ma573thomasleonard/blob/master/src/hw7_es_bsm_knock_in_v01.ipynb\" target=\"_parent\"><img src=\"https://colab.research.google.com/assets/colab-badge.svg\" alt=\"Open In Colab\"/></a>"
      ]
    },
    {
      "metadata": {
        "id": "sFieMuX1bwRf",
        "colab_type": "text"
      },
      "cell_type": "markdown",
      "source": [
        "First, import modules and supply parameters."
      ]
    },
    {
      "metadata": {
        "id": "gpRAS2ZYcPXc",
        "colab_type": "code",
        "colab": {}
      },
      "cell_type": "code",
      "source": [
        "import numpy as np\n",
        "import scipy.stats as ss"
      ],
      "execution_count": 0,
      "outputs": []
    },
    {
      "metadata": {
        "id": "ebXmWbqNbydN",
        "colab_type": "code",
        "colab": {}
      },
      "cell_type": "code",
      "source": [
        "'''=======\n",
        "Parameters\n",
        "======='''\n",
        "\n",
        "T = 0.25\n",
        "r = 0.05\n",
        "sigma = 0.15\n",
        "S0 = 95.0\n",
        "K = 96.0\n",
        "H = 85.0\n",
        "num_step = 50\n",
        "num_paths = 1000\n",
        "num_trials = 1000 #this is small k, to prevent me from accidentally mistyping."
      ],
      "execution_count": 0,
      "outputs": []
    },
    {
      "metadata": {
        "id": "ZPGDMdLwcgUX",
        "colab_type": "text"
      },
      "cell_type": "markdown",
      "source": [
        "Now, define the Brownian Motion. Use same code as before."
      ]
    },
    {
      "metadata": {
        "id": "E1SUwxoEcoTm",
        "colab_type": "code",
        "colab": {}
      },
      "cell_type": "code",
      "source": [
        "def BM_gen(T1, T2, n): #para: start time, end time, mesh numbr\n",
        "  t = np.linspace(T1, T2, num = n+1)\n",
        "  W = np.zeros(n+1)\n",
        "  #Run (3.2)\n",
        "  for i in range(n):\n",
        "    W[i+1] = W[i] + 1./np.sqrt(n) * np.random.normal()\n",
        "    \n",
        "  return t, W"
      ],
      "execution_count": 0,
      "outputs": []
    },
    {
      "metadata": {
        "id": "8a3lUEH7coa4",
        "colab_type": "text"
      },
      "cell_type": "markdown",
      "source": [
        "Now define the Monte Carlo simulation code."
      ]
    },
    {
      "metadata": {
        "id": "gKsNC874cpbK",
        "colab_type": "code",
        "colab": {}
      },
      "cell_type": "code",
      "source": [
        "def knock_in_gbm_exact_sample(num_step,num_paths,s0,strike,r,sigma,maturity,H):\n",
        "  \n",
        "  m = num_step;\n",
        "  n = num_paths;\n",
        "  \n",
        "  #Set up stock history array.\n",
        "  stock_history = np.zeros((n,m+1))\n",
        "  stock_history[:,0] = s0;\n",
        "  \n",
        "  #Set up array of payoffs.\n",
        "  payoff = np.zeros(n)\n",
        "  \n",
        "  #Set up Indicator Vector for barrier option.\n",
        "  min_indic = np.zeros(n)\n",
        "  \n",
        "  #Generate GBM paths and compute payoffs.\n",
        "  \n",
        "  for i in range(n):\n",
        "    [t,W] = BM_gen(0,maturity,m)\n",
        "    for j in range(m):\n",
        "      stock_history[i,j+1] = s0 * np.exp((r-(0.5*(sigma**2)))*t[j+1] + sigma*W[j+1])\n",
        "      if stock_history[i,j+1] < H:\n",
        "        min_indic[i] = 1\n",
        "      else:\n",
        "        pass;\n",
        "    if stock_history[i,m-1] - strike > 0:\n",
        "      payoff[i] = 1000 * min_indic[i] #This will be 1000 if barrier is reached, 0 otherwise\n",
        "    else:\n",
        "      payoff[i] = 0\n",
        "  \n",
        "  return payoff.mean() * np.exp(-1*r*maturity)"
      ],
      "execution_count": 0,
      "outputs": []
    },
    {
      "metadata": {
        "id": "kUHIoRT7cpim",
        "colab_type": "text"
      },
      "cell_type": "markdown",
      "source": [
        "Now, run k = 1000 trials (num_trials) and find the mean, MSE and CI."
      ]
    },
    {
      "metadata": {
        "id": "RevsH_13cyQY",
        "colab_type": "code",
        "colab": {
          "base_uri": "https://localhost:8080/",
          "height": 67
        },
        "outputId": "2cd98033-3295-4b06-abf6-2d9af0efbe37"
      },
      "cell_type": "code",
      "source": [
        "#Create array to store means in.\n",
        "payoff_means = np.zeros(num_trials)\n",
        "\n",
        "for i in range(num_trials):\n",
        "  payoff_means[i] = knock_in_gbm_exact_sample(num_step,num_paths,S0,K,r,sigma,T,H)\n",
        "\n",
        "overall_mean = payoff_means.mean()\n",
        "\n",
        "# Computing MSE: We require the \"true\" value of the price for this computation.\n",
        "# Consider either using the average of averages (under the Law of Large Numbers)\n",
        "# or computing the true price of such an option (the \"continuous\" price) directly.\n",
        "# NEED TO ASK PROFESSOR\n",
        "\n",
        "# Computing CI: Need the variance of the set. We can assume normality due to LLN.\n",
        "\n",
        "overall_variance = payoff_means.var()\n",
        "overall_sd = overall_variance ** 0.5\n",
        "\n",
        "# No confidence interval is supplied. Will ask professor, but will use 95% CI \n",
        "# Until an answer is received.\n",
        "# For 95% CI, the Z-score is 1.96\n",
        "\n",
        "z_score = 1.96\n",
        "interval_range = z_score * overall_sd / np.sqrt(num_trials)\n",
        "lower_interval = overall_mean - interval_range\n",
        "upper_interval = overall_mean + interval_range"
      ],
      "execution_count": 12,
      "outputs": [
        {
          "output_type": "stream",
          "text": [
            "Mean using 1000 MC outputs is 42.23178948251985\n",
            "MSE using1000 MC outputs is \n",
            "Confidence interval using 1000 MC outputs is (41.842002555239624, 42.62157640980008)\n"
          ],
          "name": "stdout"
        }
      ]
    },
    {
      "metadata": {
        "id": "DCz5lfl2nKoN",
        "colab_type": "code",
        "colab": {
          "base_uri": "https://localhost:8080/",
          "height": 67
        },
        "outputId": "7ef46e64-91d8-4b85-9452-4d5474f521f9"
      },
      "cell_type": "code",
      "source": [
        "# Printed outputs are in another code window so that it doesn't have to run the thousands of iterations the above requires in order to print properly.\n",
        "\n",
        "print(\"Mean using \" + str(num_trials) + \" MC outputs is \" + str(overall_mean))\n",
        "print(\"MSE using \" + str(num_trials) + \" MC outputs is \")\n",
        "print(\"Confidence interval using \" + str(num_trials) + \" MC outputs is (\" + str(lower_interval) + \", \" + str(upper_interval) + \")\")"
      ],
      "execution_count": 13,
      "outputs": [
        {
          "output_type": "stream",
          "text": [
            "Mean using 1000 MC outputs is 42.23178948251985\n",
            "MSE using 1000 MC outputs is \n",
            "Confidence interval using 1000 MC outputs is (41.842002555239624, 42.62157640980008)\n"
          ],
          "name": "stdout"
        }
      ]
    }
  ]
}