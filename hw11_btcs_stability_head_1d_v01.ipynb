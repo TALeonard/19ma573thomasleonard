{
  "nbformat": 4,
  "nbformat_minor": 0,
  "metadata": {
    "colab": {
      "name": "hw11_btcs_stability_head_1d_v01.ipynb",
      "version": "0.3.2",
      "provenance": [],
      "include_colab_link": true
    },
    "kernelspec": {
      "name": "python3",
      "display_name": "Python 3"
    }
  },
  "cells": [
    {
      "cell_type": "markdown",
      "metadata": {
        "id": "view-in-github",
        "colab_type": "text"
      },
      "source": [
        "<a href=\"https://colab.research.google.com/github/TALeonard/19ma573thomasleonard/blob/master/hw11_btcs_stability_head_1d_v01.ipynb\" target=\"_parent\"><img src=\"https://colab.research.google.com/assets/colab-badge.svg\" alt=\"Open In Colab\"/></a>"
      ]
    },
    {
      "metadata": {
        "id": "SBtDQ_IDjQ77",
        "colab_type": "text"
      },
      "cell_type": "markdown",
      "source": [
        "First, import modules and define parameters as supplied."
      ]
    },
    {
      "metadata": {
        "id": "hNvSTd8iiV7X",
        "colab_type": "code",
        "colab": {}
      },
      "cell_type": "code",
      "source": [
        "import numpy as np\n",
        "import matplotlib.pyplot as plt\n",
        "import scipy.linalg as sl"
      ],
      "execution_count": 0,
      "outputs": []
    },
    {
      "metadata": {
        "id": "X81JJe1uiq4V",
        "colab_type": "code",
        "colab": {}
      },
      "cell_type": "code",
      "source": [
        "'''=======\n",
        "parameters\n",
        "======='''\n",
        "\n",
        "al = 1\n",
        "dx = .2 #space mesh size\n",
        "rho = 1. #conditinal number, to be less than .5 for the stability\n",
        "dt = rho*(dx**2)/al #time step size\n",
        "\n",
        "a = 0\n",
        "b = 1\n",
        "f = lambda x: np.sin(np.pi * x)\n",
        "es = lambda x, t: np.exp(-1*(np.pi**2)*t) * np.sin(np.pi*x)\n",
        "N = (b - a) / dx #Should be 5, given parameters.\n"
      ],
      "execution_count": 0,
      "outputs": []
    },
    {
      "metadata": {
        "id": "wvB9i_MejU-q",
        "colab_type": "text"
      },
      "cell_type": "markdown",
      "source": [
        "Now, we need to use both FTCS and BTCS to solve this equation and find the supnorm of the error function.\n",
        "\n",
        "For FTCS, we can utilize the same FTCS() code we used last week; for BTCS, a new code must be developed."
      ]
    },
    {
      "metadata": {
        "id": "o94DnjVijeI5",
        "colab_type": "code",
        "colab": {}
      },
      "cell_type": "code",
      "source": [
        "def heat_ftcs_err(dx,rho,al,exact_sol,phi,a,b,n):\n",
        "  dt = rho*(dx**2)/al\n",
        "  \n",
        "  #Initialize with n = 0.\n",
        "  j_0_linspace = np.linspace((a-n),(b+n),(b+n)-(a-n)+1)\n",
        "  u_j_0 = np.zeros(len(j_0_linspace))\n",
        "  for i in range(len(j_0_linspace)):\n",
        "    u_j_0[i] = phi(j_0_linspace[i]*dx)\n",
        "  \n",
        "  #Initialize True Values Matrix.\n",
        "  true_val = np.zeros(len(j_0_linspace))\n",
        "  for j in range(len(j_0_linspace)):\n",
        "    true_val[j] = exact_sol(j_0_linspace[j]*dx,0)\n",
        "  \n",
        "  #Initialize error vector, apply max error value for n = 0.\n",
        "  max_error_vec = np.zeros(n+1)\n",
        "  err_j_0 = (u_j_0 - true_val)\n",
        "  max_error_vec[0] = max(abs(err_j_0))\n",
        "  \n",
        "  #Initialize approximation for n = 1, to use as first \"u_j_(k-1)\"\n",
        "  j_1_linspace = np.linspace((a-(n-1)),(b+(n-1)),(b+(n-1))-(a-(n-1))+1)\n",
        "  u_j_1 = np.zeros(len(j_1_linspace))\n",
        "  for i in range(len(u_j_1)):\n",
        "    j = i + 1\n",
        "    u_j_1[i] = rho*u_j_0[j-1] + (1-2*rho)*u_j_0[j] + rho*u_j_0[j+1]\n",
        "  \n",
        "  u_j_k_minus_1 = u_j_1\n",
        "  former_linspace = j_1_linspace\n",
        "  \n",
        "  #Find n = 1 max error for vector.\n",
        "  true_val = np.zeros(len(j_1_linspace))\n",
        "  for j in range(len(j_1_linspace)):\n",
        "    true_val[j] = exact_sol(j_1_linspace[j]*dx,dt)\n",
        "  err_j_1 = (u_j_1 - true_val)\n",
        "  max_error_vec[1] = max(abs(err_j_1))\n",
        "  \n",
        "  #Perform iterative loop for all n >= 2.\n",
        "  for k in range(2,n+1):\n",
        "    #Create new linspace for u_j_k.\n",
        "    new_linspace = np.linspace(a-(n-k),b+(n-k),(b+(n-k))-(a-(n-k))+1)\n",
        "    u_j_k = np.zeros(len(new_linspace))\n",
        "    \n",
        "    #Iterate and fill u_j_k.\n",
        "    for i in range(len(new_linspace)):\n",
        "      j = i + 1\n",
        "      u_j_k[i] = rho*u_j_k_minus_1[j-1] + (1 - 2*rho)*u_j_k_minus_1[j] + rho*u_j_k_minus_1[j+1]\n",
        "    \n",
        "    #Produce true values for comparison, and append to max vector.\n",
        "    true_val = np.zeros(len(new_linspace))\n",
        "    for i in range(len(new_linspace)):\n",
        "      true_val[i] = exact_sol(new_linspace[i]*dx,k*dt)\n",
        "    err_j_k = (u_j_k - true_val)\n",
        "    max_error_vec[k] = max(abs(err_j_k))\n",
        "    \n",
        "    #Identify new values for former_linspace and u_j_(k-1), which allows us to\n",
        "    #Continue the loop.\n",
        "    former_linspace = new_linspace\n",
        "    u_j_k_minus_1 = u_j_k\n",
        "  \n",
        "  true_err_max = max(max_error_vec)\n",
        "  for i in range(len(max_error_vec)):\n",
        "    if true_err_max == max_error_vec[i]:\n",
        "      err_n = i\n",
        "      \n",
        "  return true_err_max, err_n, max_error_vec"
      ],
      "execution_count": 0,
      "outputs": []
    },
    {
      "metadata": {
        "id": "TJjfeP9yjgbV",
        "colab_type": "code",
        "colab": {
          "base_uri": "https://localhost:8080/",
          "height": 34
        },
        "outputId": "9bed743d-eaf8-4896-f79b-bc03203ce3a5"
      },
      "cell_type": "code",
      "source": [
        "output_1 = heat_ftcs_err(dx, rho, al, es, f, a, b, 5)\n",
        "print(\"Supnorm of error for FTCS is \" + str(output_1[0]))"
      ],
      "execution_count": 5,
      "outputs": [
        {
          "output_type": "stream",
          "text": [
            "Supnorm of error for FTCS is 0.06854713922733136\n"
          ],
          "name": "stdout"
        }
      ]
    },
    {
      "metadata": {
        "id": "mKOG0fmbj01f",
        "colab_type": "code",
        "colab": {}
      },
      "cell_type": "code",
      "source": [
        "def heat_btcs_err(dx, rho, alpha, exact_sol, phi, a, b, n):\n",
        "  dt = rho*(dx**2)/al\n",
        "  rho_vec = [-1*rho, (1 + 2*rho), -1*rho]\n",
        "  \n",
        "  #Initialize with n = 0.\n",
        "  j_0_linspace = np.linspace((a-n),(b+n),(b+n)-(a-n)+1)\n",
        "  u_j_0 = np.zeros(len(j_0_linspace))\n",
        "  for i in range(len(j_0_linspace)):\n",
        "    u_j_0[i] = phi(j_0_linspace[i]*dx)\n",
        "  \n",
        "  #Initialize True Values Matrix.\n",
        "  true_val = np.zeros(len(j_0_linspace))\n",
        "  for j in range(len(j_0_linspace)):\n",
        "    true_val[j] = exact_sol(j_0_linspace[j]*dx,0)\n",
        "  \n",
        "  #Initialize error vector, apply max error value for n = 0.\n",
        "  max_error_vec = np.zeros(n+1)\n",
        "  err_j_0 = (u_j_0 - true_val)\n",
        "  max_error_vec[0] = max(abs(err_j_0))\n",
        "  \n",
        "  #Initialize approximation for n = 1, to use as first \"u_j_(k-1)\"\n",
        "  j_1_linspace = np.linspace((a-(n-1)),(b+(n-1)),(b+(n-1))-(a-(n-1))+1)\n",
        "  rho_matrix = np.zeros((len(j_1_linspace),len(j_1_linspace)))\n",
        "  for i in range(len(j_1_linspace)-2):\n",
        "    j = i + 1\n",
        "    rho_matrix[i,j-1] = -1*rho\n",
        "    rho_matrix[i,j] = 1 + 2*rho\n",
        "    rho_matrix[i,j+1] = 1*rho\n",
        "  rho_matrix[0,:] = 0\n",
        "  rho_matrix[len(j_1_linspace)-1,:] = 0\n",
        "  u_j_1 = sl.solve(rho_matrix,u_j_0)\n",
        "  #Ax = b where\n",
        "  #A := rho_matrix\n",
        "  #x := u_j_k\n",
        "  #b := u_j_k_minus_1\n",
        "  \n",
        "  u_j_k_minus_1 = u_j_1\n",
        "  former_linspace = j_1_linspace\n",
        "  \n",
        "  #Find n = 1 max error for vector.\n",
        "  true_val = np.zeros(len(j_1_linspace))\n",
        "  for j in range(len(j_1_linspace)):\n",
        "    true_val[j] = exact_sol(j_1_linspace[j]*dx,dt)\n",
        "  err_j_1 = (u_j_1 - true_val)\n",
        "  max_error_vec[1] = max(abs(err_j_1))\n",
        "  \n",
        "  #Perform iterative loop for all n >= 2.\n",
        "  for k in range(2,n+1):\n",
        "    #Create new linspace for u_j_k.\n",
        "    new_linspace = np.linspace(a-(n-k),b+(n-k),(b+(n-k))-(a-(n-k))+1)\n",
        "    \n",
        "    #Fill u_j_k by scipy.linalg.solve().\n",
        "    new_rho_matrix = np.zeros((len(new_linspace),len(new_linspace)))\n",
        "    for i in range(len(new_linspace)-2):\n",
        "      j = i + 1\n",
        "      new_rho_matrix[i+1,j-1] = -1*rho\n",
        "      new_rho_matrix[i+1,j] = 1 + 2*rho\n",
        "      new_rho_matrix[i+1,j+1] = 1*rho\n",
        "    new_rho_matrix[0,:] = 0\n",
        "    new_rho_matrix[len(new_linspace)-1,:] = 0\n",
        "    u_j_k = sl.solve(new_rho_matrix,u_j_k_minus_1)\n",
        "    \n",
        "    \n",
        "    #Produce true values for comparison, and append to max vector.\n",
        "    true_val = np.zeros(len(new_linspace))\n",
        "    for i in range(len(new_linspace)):\n",
        "      true_val[i] = exact_sol(new_linspace[i]*dx,k*dt)\n",
        "    err_j_k = (u_j_k - true_val)\n",
        "    max_error_vec[k] = max(abs(err_j_k))\n",
        "    \n",
        "    #Identify new values for former_linspace and u_j_(k-1), which allows us to\n",
        "    #Continue the loop.\n",
        "    former_linspace = new_linspace\n",
        "    u_j_k_minus_1 = u_j_k\n",
        "  \n",
        "  true_err_max = max(max_error_vec)\n",
        "  for i in range(len(max_error_vec)):\n",
        "    if true_err_max == max_error_vec[i]:\n",
        "      err_n = i\n",
        "      \n",
        "  return true_err_max, err_n, max_error_vec"
      ],
      "execution_count": 0,
      "outputs": []
    },
    {
      "metadata": {
        "id": "BTHPKKcDmMkx",
        "colab_type": "code",
        "colab": {
          "base_uri": "https://localhost:8080/",
          "height": 434
        },
        "outputId": "4be6c1fd-f172-45d1-c4d3-afa2e96a06b7"
      },
      "cell_type": "code",
      "source": [
        "output_2 = heat_btcs_err(dx,rho,al,es,f,a,b,5)\n",
        "print(\"Supnorm of error for BTCS is \" + str(output_2[0]))"
      ],
      "execution_count": 25,
      "outputs": [
        {
          "output_type": "error",
          "ename": "ValueError",
          "evalue": "ignored",
          "traceback": [
            "\u001b[0;31m---------------------------------------------------------------------------\u001b[0m",
            "\u001b[0;31mValueError\u001b[0m                                Traceback (most recent call last)",
            "\u001b[0;32m<ipython-input-25-bb52a75d1c1d>\u001b[0m in \u001b[0;36m<module>\u001b[0;34m()\u001b[0m\n\u001b[0;32m----> 1\u001b[0;31m \u001b[0moutput_2\u001b[0m \u001b[0;34m=\u001b[0m \u001b[0mheat_btcs_err\u001b[0m\u001b[0;34m(\u001b[0m\u001b[0mdx\u001b[0m\u001b[0;34m,\u001b[0m\u001b[0mrho\u001b[0m\u001b[0;34m,\u001b[0m\u001b[0mal\u001b[0m\u001b[0;34m,\u001b[0m\u001b[0mes\u001b[0m\u001b[0;34m,\u001b[0m\u001b[0mf\u001b[0m\u001b[0;34m,\u001b[0m\u001b[0ma\u001b[0m\u001b[0;34m,\u001b[0m\u001b[0mb\u001b[0m\u001b[0;34m,\u001b[0m\u001b[0;36m5\u001b[0m\u001b[0;34m)\u001b[0m\u001b[0;34m\u001b[0m\u001b[0;34m\u001b[0m\u001b[0m\n\u001b[0m\u001b[1;32m      2\u001b[0m \u001b[0mprint\u001b[0m\u001b[0;34m(\u001b[0m\u001b[0;34m\"Supnorm of error for BTCS is \"\u001b[0m \u001b[0;34m+\u001b[0m \u001b[0mstr\u001b[0m\u001b[0;34m(\u001b[0m\u001b[0moutput_2\u001b[0m\u001b[0;34m[\u001b[0m\u001b[0;36m0\u001b[0m\u001b[0;34m]\u001b[0m\u001b[0;34m)\u001b[0m\u001b[0;34m)\u001b[0m\u001b[0;34m\u001b[0m\u001b[0;34m\u001b[0m\u001b[0m\n",
            "\u001b[0;32m<ipython-input-24-9313a43ba8a5>\u001b[0m in \u001b[0;36mheat_btcs_err\u001b[0;34m(dx, rho, alpha, exact_sol, phi, a, b, n)\u001b[0m\n\u001b[1;32m     29\u001b[0m   \u001b[0mrho_matrix\u001b[0m\u001b[0;34m[\u001b[0m\u001b[0;36m0\u001b[0m\u001b[0;34m,\u001b[0m\u001b[0;34m:\u001b[0m\u001b[0;34m]\u001b[0m \u001b[0;34m=\u001b[0m \u001b[0;36m0\u001b[0m\u001b[0;34m\u001b[0m\u001b[0;34m\u001b[0m\u001b[0m\n\u001b[1;32m     30\u001b[0m   \u001b[0mrho_matrix\u001b[0m\u001b[0;34m[\u001b[0m\u001b[0mlen\u001b[0m\u001b[0;34m(\u001b[0m\u001b[0mj_1_linspace\u001b[0m\u001b[0;34m)\u001b[0m\u001b[0;34m-\u001b[0m\u001b[0;36m1\u001b[0m\u001b[0;34m,\u001b[0m\u001b[0;34m:\u001b[0m\u001b[0;34m]\u001b[0m \u001b[0;34m=\u001b[0m \u001b[0;36m0\u001b[0m\u001b[0;34m\u001b[0m\u001b[0;34m\u001b[0m\u001b[0m\n\u001b[0;32m---> 31\u001b[0;31m   \u001b[0mu_j_1\u001b[0m \u001b[0;34m=\u001b[0m \u001b[0msl\u001b[0m\u001b[0;34m.\u001b[0m\u001b[0msolve\u001b[0m\u001b[0;34m(\u001b[0m\u001b[0mrho_matrix\u001b[0m\u001b[0;34m,\u001b[0m\u001b[0mu_j_0\u001b[0m\u001b[0;34m)\u001b[0m\u001b[0;34m\u001b[0m\u001b[0;34m\u001b[0m\u001b[0m\n\u001b[0m\u001b[1;32m     32\u001b[0m   \u001b[0;31m#Ax = b where\u001b[0m\u001b[0;34m\u001b[0m\u001b[0;34m\u001b[0m\u001b[0;34m\u001b[0m\u001b[0m\n\u001b[1;32m     33\u001b[0m   \u001b[0;31m#A := rho_matrix\u001b[0m\u001b[0;34m\u001b[0m\u001b[0;34m\u001b[0m\u001b[0;34m\u001b[0m\u001b[0m\n",
            "\u001b[0;32m/usr/local/lib/python3.6/dist-packages/scipy/linalg/basic.py\u001b[0m in \u001b[0;36msolve\u001b[0;34m(a, b, sym_pos, lower, overwrite_a, overwrite_b, debug, check_finite, assume_a, transposed)\u001b[0m\n\u001b[1;32m    150\u001b[0m         \u001b[0;31m# Last chance to catch 1x1 scalar a and 1D b arrays\u001b[0m\u001b[0;34m\u001b[0m\u001b[0;34m\u001b[0m\u001b[0;34m\u001b[0m\u001b[0m\n\u001b[1;32m    151\u001b[0m         \u001b[0;32mif\u001b[0m \u001b[0;32mnot\u001b[0m \u001b[0;34m(\u001b[0m\u001b[0mn\u001b[0m \u001b[0;34m==\u001b[0m \u001b[0;36m1\u001b[0m \u001b[0;32mand\u001b[0m \u001b[0mb1\u001b[0m\u001b[0;34m.\u001b[0m\u001b[0msize\u001b[0m \u001b[0;34m!=\u001b[0m \u001b[0;36m0\u001b[0m\u001b[0;34m)\u001b[0m\u001b[0;34m:\u001b[0m\u001b[0;34m\u001b[0m\u001b[0;34m\u001b[0m\u001b[0m\n\u001b[0;32m--> 152\u001b[0;31m             raise ValueError('Input b has to have same number of rows as '\n\u001b[0m\u001b[1;32m    153\u001b[0m                              'input a')\n\u001b[1;32m    154\u001b[0m \u001b[0;34m\u001b[0m\u001b[0m\n",
            "\u001b[0;31mValueError\u001b[0m: Input b has to have same number of rows as input a"
          ]
        }
      ]
    },
    {
      "metadata": {
        "id": "XeqVLR1jq6NZ",
        "colab_type": "code",
        "colab": {
          "base_uri": "https://localhost:8080/",
          "height": 101
        },
        "outputId": "2b2c4ef2-b41e-4d80-dba6-f5f0b6b8c1e1"
      },
      "cell_type": "code",
      "source": [
        "x = np.ones((5,5))\n",
        "x[0,:] = 0\n",
        "print(x)"
      ],
      "execution_count": 17,
      "outputs": [
        {
          "output_type": "stream",
          "text": [
            "[[0. 0. 0. 0. 0.]\n",
            " [1. 1. 1. 1. 1.]\n",
            " [1. 1. 1. 1. 1.]\n",
            " [1. 1. 1. 1. 1.]\n",
            " [1. 1. 1. 1. 1.]]\n"
          ],
          "name": "stdout"
        }
      ]
    }
  ]
}