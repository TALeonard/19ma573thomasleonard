{
  "nbformat": 4,
  "nbformat_minor": 0,
  "metadata": {
    "colab": {
      "name": "hw11_crr_v0.ipynb",
      "version": "0.3.2",
      "provenance": [],
      "include_colab_link": true
    },
    "kernelspec": {
      "name": "python3",
      "display_name": "Python 3"
    }
  },
  "cells": [
    {
      "cell_type": "markdown",
      "metadata": {
        "id": "view-in-github",
        "colab_type": "text"
      },
      "source": [
        "<a href=\"https://colab.research.google.com/github/TALeonard/19ma573thomasleonard/blob/master/hw11_crr_v0.ipynb\" target=\"_parent\"><img src=\"https://colab.research.google.com/assets/colab-badge.svg\" alt=\"Open In Colab\"/></a>"
      ]
    },
    {
      "metadata": {
        "id": "h3kINAZSJj29",
        "colab_type": "text"
      },
      "cell_type": "markdown",
      "source": [
        "First, import modules and import our options class."
      ]
    },
    {
      "metadata": {
        "id": "uvwLYMPiJvfF",
        "colab_type": "code",
        "colab": {
          "base_uri": "https://localhost:8080/",
          "height": 101
        },
        "outputId": "c63971e6-59fc-4547-cc25-4a7727a0003f"
      },
      "cell_type": "code",
      "source": [
        "#!git clone https://github.com/TALeonard/18ma573pub.git #Only run once!"
      ],
      "execution_count": 1,
      "outputs": [
        {
          "output_type": "stream",
          "text": [
            "Cloning into '18ma573pub'...\n",
            "remote: Enumerating objects: 763, done.\u001b[K\n",
            "remote: Total 763 (delta 0), reused 0 (delta 0), pack-reused 763\u001b[K\n",
            "Receiving objects: 100% (763/763), 2.47 MiB | 19.33 MiB/s, done.\n",
            "Resolving deltas: 100% (449/449), done.\n"
          ],
          "name": "stdout"
        }
      ]
    },
    {
      "metadata": {
        "id": "Dtw6CjaYJv5H",
        "colab_type": "code",
        "colab": {
          "base_uri": "https://localhost:8080/",
          "height": 34
        },
        "outputId": "1bb3f78d-1c49-4f5e-f9d5-469471eca3d0"
      },
      "cell_type": "code",
      "source": [
        "cd /content/18ma573pub/src/"
      ],
      "execution_count": 2,
      "outputs": [
        {
          "output_type": "stream",
          "text": [
            "/content/18ma573pub/src\n"
          ],
          "name": "stdout"
        }
      ]
    },
    {
      "metadata": {
        "id": "_96u9tJCI2vR",
        "colab_type": "code",
        "colab": {}
      },
      "cell_type": "code",
      "source": [
        "import numpy as np\n",
        "import matplotlib.pyplot as plt\n",
        "from contract_v01 import VanillaOption\n",
        "from sde_1d_v01 import Sde_1d, Gbm_1d"
      ],
      "execution_count": 0,
      "outputs": []
    },
    {
      "metadata": {
        "id": "WqW5oBNYJwIX",
        "colab_type": "text"
      },
      "cell_type": "markdown",
      "source": [
        "We were given:\n",
        "\n",
        "* Call (Otype = 1)\n",
        "* Matuirty T = 1\n",
        "* Strike K = 100\n",
        "* Spot $S_{0}$ = 100\n",
        "* Volatility $\\sigma$ = 0.2\n",
        "* Interest rate r = 0.05\n",
        "\n",
        "First, directly compute the BSM call value."
      ]
    },
    {
      "metadata": {
        "id": "OHVpQpdwKTqY",
        "colab_type": "code",
        "colab": {
          "base_uri": "https://localhost:8080/",
          "height": 34
        },
        "outputId": "f2d23f70-69f2-4a6f-e4af-3c50f8ee48bb"
      },
      "cell_type": "code",
      "source": [
        "otype = 1\n",
        "T = 1\n",
        "K = 100\n",
        "s0 = 100\n",
        "sigma = 0.2\n",
        "r = 0.05\n",
        "\n",
        "gbm_true = Gbm_1d(init_state=s0, drift_ratio = r, vol_ratio = sigma)\n",
        "call_price = gbm_true.bsm_price(VanillaOption(otype,K,T))\n",
        "\n",
        "print(\"True BSM Call Value is \" + str(call_price))"
      ],
      "execution_count": 5,
      "outputs": [
        {
          "output_type": "stream",
          "text": [
            "True BSM Call Value is 10.450583572185565\n"
          ],
          "name": "stdout"
        }
      ]
    },
    {
      "metadata": {
        "id": "LD03qs8yK5le",
        "colab_type": "text"
      },
      "cell_type": "markdown",
      "source": [
        "The CRR(N) model is equal to FTCS with a grid\n",
        "\n",
        "$$\\Delta x = \\sigma \\sqrt{\\Delta t}, \\Delta t = T/N$$\n",
        "\n",
        "With $N$ steps on $[0, T]$. We want the value of CRR(N = 2000).\n",
        "\n",
        "We define, based on lecture notes, that\n",
        "\n",
        "$$u_{j}^{n-1} = pu_{j+1}^{n} + (1-p)u_{j-1}^{n}$$\n",
        "\n",
        "with\n",
        "\n",
        "$$p  =\\frac{1 + \\hat r \\sqrt{\\Delta t}}{2\\sigma}$$\n",
        "\n",
        "and\n",
        "\n",
        "$$\\hat r = r - \\frac{1}{2}\\sigma^{2}$$"
      ]
    },
    {
      "metadata": {
        "id": "B5EN6JCQL5kZ",
        "colab_type": "code",
        "colab": {}
      },
      "cell_type": "code",
      "source": [
        "def CRR(r,sigma,S,T,N):\n",
        "  #Define deltas.\n",
        "  dt = T / N\n",
        "  dx = sigma * np.sqrt(dt)\n",
        "  r_hat = r - 0.5*(sigma**2)\n",
        "  p=(1 + (r_hat*np.sqrt(dt)))/(2*sigma) - 2\n",
        "  print(p)\n",
        "  \n",
        "  u = np.exp(dx)\n",
        "  d = 1/(u)\n",
        "  \n",
        "  V_prev = np.zeros(N+1)\n",
        "  V_current = np.zeros(N+1)\n",
        "    \n",
        "  for j in range(0,N+1):\n",
        "      V_prev[j] = max(S*(u**j)*(d**(N-j))-K,0)\n",
        "    \n",
        "  i=N\n",
        "  while i>0:        \n",
        "      for j in range(0,i):\n",
        "          V_current[j] = np.exp(-r*dt)*((1-p)*V_prev[j]+p*V_prev[j+1])\n",
        "      i=i-1\n",
        "      V_prev = V_current\n",
        "        \n",
        "  return V_prev[0]"
      ],
      "execution_count": 0,
      "outputs": []
    },
    {
      "metadata": {
        "id": "IglNhYi9Pg-y",
        "colab_type": "code",
        "colab": {}
      },
      "cell_type": "code",
      "source": [
        "def CRR_Call(S,K,T,r,sigma,n):    \n",
        "    dt = float(T)/n #there are n+1 points\n",
        "    u = np.exp(sigma*np.sqrt(dt))\n",
        "    d = 1/float(u)\n",
        "    p=(np.exp(r*dt)-d)/(u-d)\n",
        "    print(p)\n",
        "    \n",
        "    V_prev = np.zeros(n+1)\n",
        "    V_current = np.zeros(n+1)\n",
        "    \n",
        "    for j in range(0,n+1):\n",
        "        V_prev[j] = max(S*(u**j)*(d**(n-j))-K,0)\n",
        "    \n",
        "    i=n\n",
        "    while i>0:        \n",
        "        for j in range(0,i):\n",
        "            V_current[j] = np.exp(-r*dt)*((1-p)*V_prev[j]+p*V_prev[j+1])\n",
        "        i=i-1\n",
        "        V_prev = V_current\n",
        "        \n",
        "    return V_prev[0]"
      ],
      "execution_count": 0,
      "outputs": []
    },
    {
      "metadata": {
        "id": "nUJBHrrJOJHG",
        "colab_type": "code",
        "colab": {
          "base_uri": "https://localhost:8080/",
          "height": 84
        },
        "outputId": "28d4cefc-3364-4044-efeb-e4a07f6afdc7"
      },
      "cell_type": "code",
      "source": [
        "o1 = CRR(r,sigma,s0,T,2000)\n",
        "o2 = CRR_Call(s0,K,T,r,sigma,2000)\n",
        "print(\"My CRR is \" + str(o1))\n",
        "print(\"Other CRR is \" + str(o2))"
      ],
      "execution_count": 31,
      "outputs": [
        {
          "output_type": "stream",
          "text": [
            "0.5016770509831248\n",
            "0.5016770784683229\n",
            "My CRR is 10.449552465887523\n",
            "Other CRR is 10.449583775457942\n"
          ],
          "name": "stdout"
        }
      ]
    },
    {
      "metadata": {
        "id": "zVr66Lc_UiCw",
        "colab_type": "text"
      },
      "cell_type": "markdown",
      "source": [
        "If this is right then I simply run a couple of for loops which populate based on CRR(10+20k) and CRR(10 + 25k) for $k \\in range(50)$. Ask professor tomorrow during his OH."
      ]
    }
  ]
}